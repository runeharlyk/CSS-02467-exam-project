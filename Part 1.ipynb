{
 "cells": [
  {
   "cell_type": "code",
   "execution_count": 214,
   "id": "8c0720ba",
   "metadata": {},
   "outputs": [
    {
     "name": "stderr",
     "output_type": "stream",
     "text": [
      "[nltk_data] Downloading package stopwords to\n",
      "[nltk_data]     C:\\Users\\aneas\\AppData\\Roaming\\nltk_data...\n",
      "[nltk_data]   Package stopwords is already up-to-date!\n"
     ]
    }
   ],
   "source": [
    "import polars as pl\n",
    "from itertools import combinations\n",
    "from collections import Counter, defaultdict\n",
    "import networkx as nx\n",
    "from tqdm import tqdm\n",
    "import numpy as np\n",
    "import matplotlib.pyplot as plt\n",
    "from community import community_louvain\n",
    "import seaborn as sns\n",
    "from nltk import bigrams as nltk_bigrams\n",
    "from nltk.stem import WordNetLemmatizer\n",
    "from nltk.tokenize import MWETokenizer\n",
    "import nltk\n",
    "from scipy.stats import chi2\n",
    "from nltk.corpus import stopwords\n",
    "from functools import lru_cache\n",
    "from wordcloud import WordCloud\n",
    "import random\n",
    "\n",
    "sns.set_style(\"darkgrid\")\n",
    "nltk.download('stopwords')\n",
    "nltk.download('wordnet')\n",
    "\n",
    "np.random.seed(42)\n",
    "random.seed(42)"
   ]
  },
  {
   "cell_type": "markdown",
   "id": "97b24ded",
   "metadata": {},
   "source": [
    "# Final project - Computational Social Science (02476)\n",
    "\n",
    "> Data is available [here](https://amazon-reviews-2023.github.io/)"
   ]
  },
  {
   "cell_type": "markdown",
   "id": "f2871a8c",
   "metadata": {},
   "source": [
    "## 0. Table of Contents  \n",
    "[1. Motivation](#1-motivation)  \n",
    "[2. Statistics](#2-statistics)  \n",
    " [2.1 Process meta data](#21-process-meta-data)  \n",
    " [2.2 Process review data](#22-process-review-data)  \n",
    " [2.3 Dataset statistics](#23-dataset-statistics)  \n",
    "[3. Analysis](#3-analysis)  \n",
    " [3.1 Network](#31-network)  \n",
    " [3.2 Graph](#32-graph)  \n",
    " [3.3 Community detection](#33-community-detection)  \n",
    " [3.4 Preparing text](#34-preparing-text)  \n",
    " [3.5 Tokens](#35-tokens)  \n",
    " [3.6 TF-IDF](#36-tf-idf)  \n",
    " [3.7 Word clouds](#37-word-clouds)  \n",
    "[4. Discussion](#4-discussion)"
   ]
  },
  {
   "cell_type": "markdown",
   "id": "71d0f359",
   "metadata": {},
   "source": [
    "## 1. Motivation"
   ]
  },
  {
   "cell_type": "markdown",
   "id": "76f27e13",
   "metadata": {},
   "source": [
    "This project uses an Amazon movie and TV review dataset. It is about 8.2GB for the main dataset and about 1.3GB for the meta dataset. It contains different types of physical media from Amazons web shop and digital streaming from Prime video. The media contains not only movies, documentaries and TV series but also a diverse range of video content, such as cookbooks and fitness programs. The main features for this projects will be:\n",
    "\n",
    "- \"title\", movie or TV title for product\n",
    "- \"asin\", unique internal Amazon product id\n",
    "- \"parent_asin\", internal Amazon product id that covers small product variations in product\n",
    "- \"user_id\", Amazon customers who have reviewed a product\n",
    "- \"text\", review of a product\n",
    "- \"verified_purchase\", Amazon has verified the review if the user has bought the product\n",
    "\n",
    "The dataset was choosen as it was a large comprehensive dataset of movies and other media with title, users and reviews. Grouping and defining movies and TV in an alternative way then standard genres was the goal of this project. By using graph theory it will discover if there is any structure in the way people consume media or if peoples taste are to diverse. This also creates an opportunity for consumers to draw inspiration for movies and TV from clusters similar to their own taste or perhaps discover new things to watch based on word clouds. "
   ]
  },
  {
   "cell_type": "markdown",
   "id": "3099dfb3",
   "metadata": {},
   "source": [
    "### Constants and function definitions"
   ]
  },
  {
   "cell_type": "code",
   "execution_count": 215,
   "id": "d4ec7f02",
   "metadata": {},
   "outputs": [],
   "source": [
    "REVIEW_DATA_FILE = 'dataset/Movies_and_TV.jsonl'\n",
    "META_DATA_FILE = \"dataset/meta_Movies_and_TV.jsonl\"\n",
    "EXTENDED_META_DATA_FILE = \"dataset/meta_Movies_and_TV_extended.jsonl\""
   ]
  },
  {
   "cell_type": "markdown",
   "id": "b40e90b8",
   "metadata": {},
   "source": [
    "## 2. Statistics"
   ]
  },
  {
   "cell_type": "markdown",
   "id": "e53516a6",
   "metadata": {},
   "source": [
    "Initial processing was removing putting together meta data with main dataset and making sure all parent asin and asin points all data points that was missing a title and everything in brackets was removed from the titles as that was from type of media or different edition. This was done as all media with the same title was then made to point to the same parent asin to remove duplicates from same series or different editions of same movies. The dataset consists of 748.236 movies and TV before filtering and 313.988 after removing duplicates. Reviews are only filtered by \"verified_purchase\" to only include actual purchases and avoid spam reviews. It results in 1.641.575 reviews. "
   ]
  },
  {
   "cell_type": "markdown",
   "id": "db51d1c7",
   "metadata": {},
   "source": [
    "### 2.1 Process meta data"
   ]
  },
  {
   "cell_type": "code",
   "execution_count": 216,
   "id": "77c50ec4",
   "metadata": {},
   "outputs": [
    {
     "name": "stdout",
     "output_type": "stream",
     "text": [
      "There are 748236 rows of metadata\n",
      "After filtering there are 313988 rows of metadata\n"
     ]
    },
    {
     "data": {
      "text/html": [
       "<div><style>\n",
       ".dataframe > thead > tr,\n",
       ".dataframe > tbody > tr {\n",
       "  text-align: right;\n",
       "  white-space: pre-wrap;\n",
       "}\n",
       "</style>\n",
       "<small>shape: (3, 9)</small><table border=\"1\" class=\"dataframe\"><thead><tr><th>title</th><th>average_rating</th><th>rating_number</th><th>description</th><th>price</th><th>categories</th><th>content_advisory</th><th>asin</th><th>desc_len</th></tr><tr><td>str</td><td>f64</td><td>i64</td><td>str</td><td>f64</td><td>list[str]</td><td>list[str]</td><td>str</td><td>u32</td></tr></thead><tbody><tr><td>&quot;Glee&quot;</td><td>4.7</td><td>2004</td><td>&quot;Entering its fourth season, th…</td><td>22.39</td><td>[&quot;Comedy&quot;, &quot;Drama&quot;, … &quot;Music Videos and Concerts&quot;]</td><td>[&quot;Violence&quot;, &quot;substance use&quot;, … &quot;sexual content&quot;]</td><td>&quot;B00ABWKL3I&quot;</td><td>396</td></tr><tr><td>&quot;One Perfect Wedding&quot;</td><td>3.0</td><td>6</td><td>&quot;With her book tour in two week…</td><td>-1.0</td><td>[&quot;Comedy&quot;, &quot;Drama&quot;, &quot;Romance&quot;]</td><td>[]</td><td>&quot;B09WDLJ4HP&quot;</td><td>219</td></tr><tr><td>&quot;How to Make Animatronic Charac…</td><td>5.0</td><td>7</td><td>&quot;Product Description&quot;</td><td>64.99</td><td>[&quot;Movies &amp; TV&quot;, &quot;Genre for Featured Categories&quot;, &quot;Special Interests&quot;]</td><td>[]</td><td>&quot;B00AHN851G&quot;</td><td>19</td></tr></tbody></table></div>"
      ],
      "text/plain": [
       "shape: (3, 9)\n",
       "┌───────────┬───────────┬───────────┬───────────┬───┬───────────┬───────────┬───────────┬──────────┐\n",
       "│ title     ┆ average_r ┆ rating_nu ┆ descripti ┆ … ┆ categorie ┆ content_a ┆ asin      ┆ desc_len │\n",
       "│ ---       ┆ ating     ┆ mber      ┆ on        ┆   ┆ s         ┆ dvisory   ┆ ---       ┆ ---      │\n",
       "│ str       ┆ ---       ┆ ---       ┆ ---       ┆   ┆ ---       ┆ ---       ┆ str       ┆ u32      │\n",
       "│           ┆ f64       ┆ i64       ┆ str       ┆   ┆ list[str] ┆ list[str] ┆           ┆          │\n",
       "╞═══════════╪═══════════╪═══════════╪═══════════╪═══╪═══════════╪═══════════╪═══════════╪══════════╡\n",
       "│ Glee      ┆ 4.7       ┆ 2004      ┆ Entering  ┆ … ┆ [\"Comedy\" ┆ [\"Violenc ┆ B00ABWKL3 ┆ 396      │\n",
       "│           ┆           ┆           ┆ its       ┆   ┆ ,         ┆ e\", \"subs ┆ I         ┆          │\n",
       "│           ┆           ┆           ┆ fourth    ┆   ┆ \"Drama\",  ┆ tance     ┆           ┆          │\n",
       "│           ┆           ┆           ┆ season,   ┆   ┆ … \"Music  ┆ use\", …   ┆           ┆          │\n",
       "│           ┆           ┆           ┆ th…       ┆   ┆ V…        ┆           ┆           ┆          │\n",
       "│ One       ┆ 3.0       ┆ 6         ┆ With her  ┆ … ┆ [\"Comedy\" ┆ []        ┆ B09WDLJ4H ┆ 219      │\n",
       "│ Perfect   ┆           ┆           ┆ book tour ┆   ┆ ,         ┆           ┆ P         ┆          │\n",
       "│ Wedding   ┆           ┆           ┆ in two    ┆   ┆ \"Drama\",  ┆           ┆           ┆          │\n",
       "│           ┆           ┆           ┆ week…     ┆   ┆ \"Romance\" ┆           ┆           ┆          │\n",
       "│           ┆           ┆           ┆           ┆   ┆ ]         ┆           ┆           ┆          │\n",
       "│ How to    ┆ 5.0       ┆ 7         ┆ Product   ┆ … ┆ [\"Movies  ┆ []        ┆ B00AHN851 ┆ 19       │\n",
       "│ Make Anim ┆           ┆           ┆ Descripti ┆   ┆ & TV\",    ┆           ┆ G         ┆          │\n",
       "│ atronic   ┆           ┆           ┆ on        ┆   ┆ \"Genre    ┆           ┆           ┆          │\n",
       "│ Charac…   ┆           ┆           ┆           ┆   ┆ for Fea…  ┆           ┆           ┆          │\n",
       "└───────────┴───────────┴───────────┴───────────┴───┴───────────┴───────────┴───────────┴──────────┘"
      ]
     },
     "execution_count": 216,
     "metadata": {},
     "output_type": "execute_result"
    }
   ],
   "source": [
    "schema = {\n",
    "    \"title\": pl.Utf8,\n",
    "    \"average_rating\": pl.Float64,\n",
    "    \"rating_number\": pl.Int64,\n",
    "    \"description\": pl.List(pl.Utf8),\n",
    "    \"price\": pl.Utf8,\n",
    "    \"categories\": pl.List(pl.Utf8),\n",
    "    \"details\": pl.Struct([\n",
    "        pl.Field(\"Content advisory\", pl.List(pl.Utf8)),\n",
    "    ]),\n",
    "    \"parent_asin\": pl.Utf8,\n",
    "}\n",
    "\n",
    "df_meta_1 = pl.read_ndjson(META_DATA_FILE, schema=schema).rename({\"parent_asin\": \"asin\"})\n",
    "df_meta_2 = pl.read_ndjson(EXTENDED_META_DATA_FILE, schema=schema).rename({\"parent_asin\": \"asin\"})\n",
    "\n",
    "df_meta = pl.concat([df_meta_1, df_meta_2])\n",
    "\n",
    "# Map prices\n",
    "df_meta = df_meta.with_columns(\n",
    "    pl.col(\"price\")\n",
    "    .str.extract(r\"([0-9]+(?:\\.[0-9]+)?)\", 1)\n",
    "    .cast(pl.Float64)\n",
    "    .fill_null(-1)\n",
    ")\n",
    "\n",
    "# Map title\n",
    "df_meta = df_meta.with_columns(\n",
    "    pl.col(\"title\")\n",
    "        .str.normalize(\"NFKC\")\n",
    "        .str.replace_all(r\"(?i)\\b3-?d\\b\", \"\", literal=False)\n",
    "        .str.replace_all(r\"\\[.*?\\]\", \"\", literal=False)\n",
    "        .str.replace_all(r\"\\(.*?\\)\", \"\", literal=False)\n",
    "        .str.replace_all(r\":\\s*Season\\s*\\d+\", \"\", literal=False) # Group all seasons\n",
    "        .str.strip_chars()\n",
    "        .alias(\"title\")\n",
    ")\n",
    "\n",
    "# Map description\n",
    "df_meta = df_meta.with_columns(\n",
    "    pl.when(\n",
    "        pl.col(\"description\").is_null() |\n",
    "        (pl.col(\"description\").list.eval(pl.element()).list.len() == 0)\n",
    "    )\n",
    "    .then(pl.lit([\"\"]).cast(pl.List(pl.Utf8)))\n",
    "    .otherwise(pl.col(\"description\"))\n",
    "    .alias(\"description\")\n",
    ")\n",
    "\n",
    "df_meta = df_meta.with_columns(\n",
    "    pl.col(\"description\").list.get(0).alias(\"description\") # TODO GET THE LONGEST DESCRIPTION\n",
    ")\n",
    "\n",
    "df_meta = df_meta.with_columns(\n",
    "    pl.col(\"description\").str.len_chars().alias(\"desc_len\")\n",
    ")\n",
    "\n",
    "# Map Content advisory\n",
    "df_meta = df_meta.with_columns(\n",
    "    pl.struct([\"details\"]).map_elements(\n",
    "        lambda s: s[\"details\"][\"Content advisory\"] if s[\"details\"] and \"Content advisory\" in s[\"details\"] else [],\n",
    "        return_dtype=pl.List(pl.Utf8)\n",
    "    ).alias(\"details\")\n",
    ").rename({\"details\": \"content_advisory\"})\n",
    "\n",
    "total_meta_rows = df_meta.height\n",
    "print(f\"There are {total_meta_rows} rows of metadata\")\n",
    "\n",
    "df_meta = df_meta.filter(~pl.col(\"title\").is_null())\n",
    "\n",
    "print(f\"After filtering there are {total_meta_rows - df_meta.height} rows of metadata\")\n",
    "\n",
    "df_meta.limit(3)"
   ]
  },
  {
   "cell_type": "code",
   "execution_count": 217,
   "id": "a624bf55",
   "metadata": {},
   "outputs": [
    {
     "name": "stdout",
     "output_type": "stream",
     "text": [
      "319288\n"
     ]
    },
    {
     "data": {
      "text/html": [
       "<div><style>\n",
       ".dataframe > thead > tr,\n",
       ".dataframe > tbody > tr {\n",
       "  text-align: right;\n",
       "  white-space: pre-wrap;\n",
       "}\n",
       "</style>\n",
       "<small>shape: (3, 10)</small><table border=\"1\" class=\"dataframe\"><thead><tr><th>title</th><th>asins</th><th>asin</th><th>average_rating</th><th>rating_number</th><th>description</th><th>price</th><th>categories</th><th>content_advisory</th><th>num_asins</th></tr><tr><td>str</td><td>list[str]</td><td>str</td><td>f64</td><td>i64</td><td>str</td><td>f64</td><td>list[str]</td><td>list[str]</td><td>u32</td></tr></thead><tbody><tr><td>&quot;Charlie Rose&quot;</td><td>[&quot;B000KC8NHA&quot;, &quot;B000HBL8BC&quot;, … &quot;B000GAKSNS&quot;]</td><td>&quot;B000IU34D2&quot;</td><td>5.0</td><td>1</td><td>&quot;First, Dame Joan Sutherland sp…</td><td>-1.0</td><td>[&quot;Movies &amp; TV&quot;, &quot;Charlie Rose Store&quot;, &quot;All Titles&quot;]</td><td>[]</td><td>65</td></tr><tr><td>&quot;The Walking Dead&quot;</td><td>[&quot;B00BKVK0MG&quot;, &quot;6303487696&quot;, … &quot;B005RUUUAI&quot;]</td><td>&quot;B005LAJ22Q&quot;</td><td>4.8</td><td>7916</td><td>&quot;When the world is ravaged by a…</td><td>18.98</td><td>[&quot;Movies &amp; TV&quot;, &quot;Boxed Sets&quot;, &quot;Television&quot;]</td><td>[]</td><td>59</td></tr><tr><td>&quot;Cinderella&quot;</td><td>[&quot;6301816080&quot;, &quot;B000247Y1C&quot;, … &quot;B0007Z9R7A&quot;]</td><td>&quot;B00V6C5Z0Q&quot;</td><td>4.7</td><td>1819</td><td>&quot;The story of “Cinderella” foll…</td><td>7.99</td><td>[&quot;Movies &amp; TV&quot;, &quot;Walt Disney Studios Home Entertainment&quot;, &quot;All Disney Titles&quot;]</td><td>[]</td><td>58</td></tr></tbody></table></div>"
      ],
      "text/plain": [
       "shape: (3, 10)\n",
       "┌────────────┬────────────┬────────────┬───────────┬───┬───────┬───────────┬───────────┬───────────┐\n",
       "│ title      ┆ asins      ┆ asin       ┆ average_r ┆ … ┆ price ┆ categorie ┆ content_a ┆ num_asins │\n",
       "│ ---        ┆ ---        ┆ ---        ┆ ating     ┆   ┆ ---   ┆ s         ┆ dvisory   ┆ ---       │\n",
       "│ str        ┆ list[str]  ┆ str        ┆ ---       ┆   ┆ f64   ┆ ---       ┆ ---       ┆ u32       │\n",
       "│            ┆            ┆            ┆ f64       ┆   ┆       ┆ list[str] ┆ list[str] ┆           │\n",
       "╞════════════╪════════════╪════════════╪═══════════╪═══╪═══════╪═══════════╪═══════════╪═══════════╡\n",
       "│ Charlie    ┆ [\"B000KC8N ┆ B000IU34D2 ┆ 5.0       ┆ … ┆ -1.0  ┆ [\"Movies  ┆ []        ┆ 65        │\n",
       "│ Rose       ┆ HA\", \"B000 ┆            ┆           ┆   ┆       ┆ & TV\",    ┆           ┆           │\n",
       "│            ┆ HBL8BC\",   ┆            ┆           ┆   ┆       ┆ \"Charlie  ┆           ┆           │\n",
       "│            ┆ ……         ┆            ┆           ┆   ┆       ┆ Rose …    ┆           ┆           │\n",
       "│ The        ┆ [\"B00BKVK0 ┆ B005LAJ22Q ┆ 4.8       ┆ … ┆ 18.98 ┆ [\"Movies  ┆ []        ┆ 59        │\n",
       "│ Walking    ┆ MG\", \"6303 ┆            ┆           ┆   ┆       ┆ & TV\",    ┆           ┆           │\n",
       "│ Dead       ┆ 487696\",   ┆            ┆           ┆   ┆       ┆ \"Boxed    ┆           ┆           │\n",
       "│            ┆ ……         ┆            ┆           ┆   ┆       ┆ Sets\", …  ┆           ┆           │\n",
       "│ Cinderella ┆ [\"63018160 ┆ B00V6C5Z0Q ┆ 4.7       ┆ … ┆ 7.99  ┆ [\"Movies  ┆ []        ┆ 58        │\n",
       "│            ┆ 80\", \"B000 ┆            ┆           ┆   ┆       ┆ & TV\",    ┆           ┆           │\n",
       "│            ┆ 247Y1C\",   ┆            ┆           ┆   ┆       ┆ \"Walt     ┆           ┆           │\n",
       "│            ┆ ……         ┆            ┆           ┆   ┆       ┆ Disney S… ┆           ┆           │\n",
       "└────────────┴────────────┴────────────┴───────────┴───┴───────┴───────────┴───────────┴───────────┘"
      ]
     },
     "execution_count": 217,
     "metadata": {},
     "output_type": "execute_result"
    }
   ],
   "source": [
    "best_per_title = (\n",
    "    df_meta.sort([\"desc_len\", \"rating_number\"], descending=[True, True])\n",
    "    .group_by(\"title\")\n",
    "    .agg([\n",
    "        pl.col(\"asin\").unique().alias(\"asins\"),\n",
    "        pl.first(\"asin\").alias(\"asin\"), \n",
    "        pl.first(\"average_rating\"),\n",
    "        pl.first(\"rating_number\"),\n",
    "        pl.first(\"description\"),\n",
    "        pl.first(\"price\"),\n",
    "        pl.first(\"categories\"),\n",
    "        pl.first(\"content_advisory\")\n",
    "    ])\n",
    "    .with_columns(\n",
    "        pl.col(\"asins\").list.len().alias(\"num_asins\")\n",
    "    )\n",
    ")\n",
    "print(best_per_title.height)\n",
    "best_per_title.sort(\"num_asins\", descending=True).limit(3)"
   ]
  },
  {
   "cell_type": "code",
   "execution_count": 218,
   "id": "a5fa5ae6",
   "metadata": {},
   "outputs": [
    {
     "data": {
      "text/html": [
       "<div><style>\n",
       ".dataframe > thead > tr,\n",
       ".dataframe > tbody > tr {\n",
       "  text-align: right;\n",
       "  white-space: pre-wrap;\n",
       "}\n",
       "</style>\n",
       "<small>shape: (3, 4)</small><table border=\"1\" class=\"dataframe\"><thead><tr><th>title</th><th>asin</th><th>average_rating</th><th>price</th></tr><tr><td>str</td><td>str</td><td>f64</td><td>f64</td></tr></thead><tbody><tr><td>&quot;Orny Adams: More Than Loud&quot;</td><td>&quot;B077SQM95L&quot;</td><td>4.9</td><td>-1.0</td></tr><tr><td>&quot;The Invisible Man&#x27;s Revenge VH…</td><td>&quot;6303129013&quot;</td><td>4.1</td><td>23.99</td></tr><tr><td>&quot;World War 1: The Killing Field…</td><td>&quot;B000HEWH2I&quot;</td><td>4.4</td><td>-1.0</td></tr></tbody></table></div>"
      ],
      "text/plain": [
       "shape: (3, 4)\n",
       "┌─────────────────────────────────┬────────────┬────────────────┬───────┐\n",
       "│ title                           ┆ asin       ┆ average_rating ┆ price │\n",
       "│ ---                             ┆ ---        ┆ ---            ┆ ---   │\n",
       "│ str                             ┆ str        ┆ f64            ┆ f64   │\n",
       "╞═════════════════════════════════╪════════════╪════════════════╪═══════╡\n",
       "│ Orny Adams: More Than Loud      ┆ B077SQM95L ┆ 4.9            ┆ -1.0  │\n",
       "│ The Invisible Man's Revenge VH… ┆ 6303129013 ┆ 4.1            ┆ 23.99 │\n",
       "│ World War 1: The Killing Field… ┆ B000HEWH2I ┆ 4.4            ┆ -1.0  │\n",
       "└─────────────────────────────────┴────────────┴────────────────┴───────┘"
      ]
     },
     "execution_count": 218,
     "metadata": {},
     "output_type": "execute_result"
    }
   ],
   "source": [
    "movie_attributes = (\n",
    "    best_per_title.select([\n",
    "        pl.col(\"title\"),\n",
    "        pl.col(\"asins\"),\n",
    "        pl.col(\"average_rating\"),\n",
    "        pl.col(\"price\")\n",
    "    ]).explode(\"asins\")\n",
    "    .rename({\"asins\": \"asin\"})\n",
    "    .sort(\"title\", nulls_last=True)\n",
    "    .unique(subset=[\"asin\"], keep=\"first\")\n",
    ")\n",
    "\n",
    "movie_attributes.limit(3)    "
   ]
  },
  {
   "cell_type": "code",
   "execution_count": 219,
   "id": "faea6dd4",
   "metadata": {},
   "outputs": [
    {
     "data": {
      "text/plain": [
       "434248"
      ]
     },
     "execution_count": 219,
     "metadata": {},
     "output_type": "execute_result"
    }
   ],
   "source": [
    "asin_map = (\n",
    "    best_per_title\n",
    "      .select([\"asin\", \"asins\"])\n",
    "      .explode(\"asins\")\n",
    "      .rename({\n",
    "        \"asin\": \"canon_asin\",\n",
    "        \"asins\": \"orig_asin\"\n",
    "      })\n",
    ")\n",
    "asin_map.height"
   ]
  },
  {
   "cell_type": "markdown",
   "id": "1401dd6e",
   "metadata": {},
   "source": [
    "### 2.2 Process review data"
   ]
  },
  {
   "cell_type": "code",
   "execution_count": null,
   "id": "99535484",
   "metadata": {},
   "outputs": [],
   "source": [
    "filtered_df = (pl.scan_ndjson(REVIEW_DATA_FILE)\n",
    "    .filter(pl.col('verified_purchase'))\n",
    "    .filter(pl.col('helpful_vote').gt(0))\n",
    "    .drop(['images', 'verified_purchase', 'asin', 'helpful_vote', 'title'])\n",
    "    .rename({'parent_asin': 'asin'})\n",
    "    .collect()\n",
    "    .join(asin_map, left_on=\"asin\", right_on=\"orig_asin\", how=\"inner\")\n",
    "    .drop([\"asin\"])\n",
    "    .rename({\"canon_asin\": \"asin\"})\n",
    ")\n",
    "print(f\"Number of ratings: {filtered_df.height}\")\n",
    "filtered_df.limit(1)"
   ]
  },
  {
   "cell_type": "markdown",
   "id": "c9fd9415",
   "metadata": {},
   "source": [
    "### 2.3 Dataset statistics"
   ]
  },
  {
   "cell_type": "code",
   "execution_count": null,
   "id": "ad0702f5",
   "metadata": {},
   "outputs": [
    {
     "data": {
      "text/html": [
       "<div><style>\n",
       ".dataframe > thead > tr,\n",
       ".dataframe > tbody > tr {\n",
       "  text-align: right;\n",
       "  white-space: pre-wrap;\n",
       "}\n",
       "</style>\n",
       "<small>shape: (3, 6)</small><table border=\"1\" class=\"dataframe\"><thead><tr><th>rating</th><th>text</th><th>user_id</th><th>timestamp</th><th>asin</th><th>community</th></tr><tr><td>f64</td><td>str</td><td>str</td><td>i64</td><td>str</td><td>i64</td></tr></thead><tbody><tr><td>5.0</td><td>&quot;This DVD was GREAT!&nbsp;&nbsp;I am a st…</td><td>&quot;AGXVBIUFLFGMVLATYXHJYL4A5Q7Q&quot;</td><td>1146713492000</td><td>&quot;B0009BXO3K&quot;</td><td>688</td></tr><tr><td>3.0</td><td>&quot;this item was canceled. . . .n…</td><td>&quot;AEFKF6R2GUSK2AWPSWRR4ZO36JVQ&quot;</td><td>1556496429981</td><td>&quot;B000PIU2A0&quot;</td><td>null</td></tr><tr><td>5.0</td><td>&quot;I grew up with this one. could…</td><td>&quot;AEFKF6R2GUSK2AWPSWRR4ZO36JVQ&quot;</td><td>1364088518000</td><td>&quot;B001JNNDRY&quot;</td><td>21</td></tr></tbody></table></div>"
      ],
      "text/plain": [
       "shape: (3, 6)\n",
       "┌────────┬────────────────────────┬───────────────────────┬───────────────┬────────────┬───────────┐\n",
       "│ rating ┆ text                   ┆ user_id               ┆ timestamp     ┆ asin       ┆ community │\n",
       "│ ---    ┆ ---                    ┆ ---                   ┆ ---           ┆ ---        ┆ ---       │\n",
       "│ f64    ┆ str                    ┆ str                   ┆ i64           ┆ str        ┆ i64       │\n",
       "╞════════╪════════════════════════╪═══════════════════════╪═══════════════╪════════════╪═══════════╡\n",
       "│ 5.0    ┆ This DVD was GREAT!  I ┆ AGXVBIUFLFGMVLATYXHJY ┆ 1146713492000 ┆ B0009BXO3K ┆ 688       │\n",
       "│        ┆ am a st…               ┆ L4A5Q7Q               ┆               ┆            ┆           │\n",
       "│ 3.0    ┆ this item was          ┆ AEFKF6R2GUSK2AWPSWRR4 ┆ 1556496429981 ┆ B000PIU2A0 ┆ null      │\n",
       "│        ┆ canceled. . . .n…      ┆ ZO36JVQ               ┆               ┆            ┆           │\n",
       "│ 5.0    ┆ I grew up with this    ┆ AEFKF6R2GUSK2AWPSWRR4 ┆ 1364088518000 ┆ B001JNNDRY ┆ 21        │\n",
       "│        ┆ one. could…            ┆ ZO36JVQ               ┆               ┆            ┆           │\n",
       "└────────┴────────────────────────┴───────────────────────┴───────────────┴────────────┴───────────┘"
      ]
     },
     "execution_count": 211,
     "metadata": {},
     "output_type": "execute_result"
    }
   ],
   "source": [
    "filtered_df.head(3)"
   ]
  },
  {
   "cell_type": "code",
   "execution_count": null,
   "id": "b79a6932",
   "metadata": {},
   "outputs": [
    {
     "name": "stdout",
     "output_type": "stream",
     "text": [
      "Number of unique products:  183024\n",
      "Number of reviews:  1641575\n",
      "Number of unique reviewers:  955476\n"
     ]
    }
   ],
   "source": [
    "print(\"Number of unique movies and TV: \", filtered_df.select(pl.col(\"asin\")).unique().height)\n",
    "print(\"Number of reviews: \", filtered_df.height)\n",
    "print(\"Number of unique reviewers: \", filtered_df.select(pl.col(\"user_id\")).unique().height)"
   ]
  },
  {
   "cell_type": "markdown",
   "id": "bb57d21a",
   "metadata": {},
   "source": [
    "## 3. Analysis"
   ]
  },
  {
   "cell_type": "markdown",
   "id": "8c80b2f1",
   "metadata": {},
   "source": [
    "NetworkX will be the main tool for graph theory after a weighted edge list has been created using Polars and a custom function. The network was found to have [MISSING!!!] nodes and [MISSING!!!] edges after only included edges with a weight of 3 or higher [WHY IS THIS THRESHOLD CHOSEN!!!]. This is a not fully connected network with a density of [MISSING!!!] but that is after removing low weighted edges. The network has a modularity of [MISSING!!!] which is very high and it should indicate that there are some distinct communites. [LOUVAIN CLUSTERING, THEORY AND SOME FORMULAS]\n",
    "\n",
    "NLTK will be the main tool for natural language processing. \"text\" which are the reviews is tokenized and stemmed. It is then cleaned of symbols, stop words with the addition of some commen and nondescriptive tokens, such as \"movi\", \"film\", \"episod\" and \"season\". The tokens will then be retokenized using bigrams to improve contextual understanding. TF-IDF is computed for the words in the each cluster to find the unique keywords that defines each cluster. They are then displayed in word clouds. "
   ]
  },
  {
   "cell_type": "markdown",
   "id": "72418263",
   "metadata": {},
   "source": [
    "### 3.1 Network"
   ]
  },
  {
   "cell_type": "code",
   "execution_count": null,
   "id": "0ecfcbd6",
   "metadata": {},
   "outputs": [],
   "source": [
    "def generate_edge_list():\n",
    "    grouped = (\n",
    "        filtered_df\n",
    "        .group_by(\"user_id\")\n",
    "        .agg(pl.col(\"asin\").unique().alias(\"asins\"))\n",
    "        .filter(pl.col(\"asins\").list.len() > 1)\n",
    "    )\n",
    "\n",
    "    counter = Counter()\n",
    "\n",
    "    for asins in tqdm(grouped[\"asins\"], desc=\"Reviewer\"):\n",
    "        counter.update(tuple(sorted(pair)) for pair in combinations(asins, 2))\n",
    "\n",
    "    return [(a, b, count) for (a, b), count in counter.items()]"
   ]
  },
  {
   "cell_type": "code",
   "execution_count": null,
   "id": "554a078d",
   "metadata": {},
   "outputs": [
    {
     "name": "stderr",
     "output_type": "stream",
     "text": [
      "Reviewer: 100%|██████████| 221614/221614 [00:16<00:00, 13722.20it/s]\n"
     ]
    },
    {
     "data": {
      "text/plain": [
       "8532787"
      ]
     },
     "execution_count": 193,
     "metadata": {},
     "output_type": "execute_result"
    }
   ],
   "source": [
    "movie_edgelist = generate_edge_list()\n",
    "len(movie_edgelist)"
   ]
  },
  {
   "cell_type": "code",
   "execution_count": null,
   "id": "5efbbdbf",
   "metadata": {},
   "outputs": [
    {
     "data": {
      "text/plain": [
       "Counter({1: 8345819,\n",
       "         2: 160980,\n",
       "         3: 18125,\n",
       "         4: 4481,\n",
       "         5: 1545,\n",
       "         6: 733,\n",
       "         7: 378,\n",
       "         8: 205,\n",
       "         9: 147,\n",
       "         10: 83,\n",
       "         11: 73,\n",
       "         12: 49,\n",
       "         13: 36,\n",
       "         17: 18,\n",
       "         14: 17,\n",
       "         19: 16,\n",
       "         16: 16,\n",
       "         15: 15,\n",
       "         18: 8,\n",
       "         25: 6,\n",
       "         21: 5,\n",
       "         23: 4,\n",
       "         20: 4,\n",
       "         26: 4,\n",
       "         27: 3,\n",
       "         22: 3,\n",
       "         35: 2,\n",
       "         24: 2,\n",
       "         84: 1,\n",
       "         31: 1,\n",
       "         75: 1,\n",
       "         83: 1,\n",
       "         40: 1,\n",
       "         39: 1,\n",
       "         50: 1,\n",
       "         30: 1,\n",
       "         79: 1,\n",
       "         32: 1})"
      ]
     },
     "execution_count": 194,
     "metadata": {},
     "output_type": "execute_result"
    }
   ],
   "source": [
    "Counter((w for _, _, w in movie_edgelist))"
   ]
  },
  {
   "cell_type": "markdown",
   "id": "78856904",
   "metadata": {},
   "source": [
    "### 3.2 Graph"
   ]
  },
  {
   "cell_type": "markdown",
   "id": "b8637e09",
   "metadata": {},
   "source": [
    "The graph is created from the weighted"
   ]
  },
  {
   "cell_type": "code",
   "execution_count": null,
   "id": "ca36f07d",
   "metadata": {},
   "outputs": [
    {
     "data": {
      "text/plain": [
       "25988"
      ]
     },
     "execution_count": 195,
     "metadata": {},
     "output_type": "execute_result"
    }
   ],
   "source": [
    "WEIGHT_THRESHOLD = 3\n",
    "weighted_movie_edge = [(a, b, w) for (a, b, w) in movie_edgelist if w >= WEIGHT_THRESHOLD]\n",
    "len(weighted_movie_edge)"
   ]
  },
  {
   "cell_type": "code",
   "execution_count": null,
   "id": "22265dfc",
   "metadata": {},
   "outputs": [],
   "source": [
    "filtered_df = filtered_df.fill_null(\"\")\n",
    "attributes = [\"title\", \"average_rating\", \"price\"]\n",
    "df_attrs = movie_attributes.select([\"asin\"] + attributes)\n",
    "attr_dict = {row[0]: dict(zip(attributes, row[1:])) for row in df_attrs.rows()}"
   ]
  },
  {
   "cell_type": "code",
   "execution_count": null,
   "id": "7690ceb7",
   "metadata": {},
   "outputs": [],
   "source": [
    "G = nx.Graph()\n",
    "G.add_weighted_edges_from(weighted_movie_edge)\n",
    "nx.set_node_attributes(G, attr_dict)"
   ]
  },
  {
   "cell_type": "code",
   "execution_count": null,
   "id": "2d3870a5",
   "metadata": {},
   "outputs": [
    {
     "data": {
      "text/plain": [
       "(10897, 25988)"
      ]
     },
     "execution_count": 198,
     "metadata": {},
     "output_type": "execute_result"
    }
   ],
   "source": [
    "len(G.nodes()), len(G.edges())"
   ]
  },
  {
   "cell_type": "code",
   "execution_count": null,
   "id": "753968ae",
   "metadata": {},
   "outputs": [
    {
     "data": {
      "text/plain": [
       "4.769753143066899"
      ]
     },
     "execution_count": 199,
     "metadata": {},
     "output_type": "execute_result"
    }
   ],
   "source": [
    "degrees = [d for _, d in G.degree()]\n",
    "\n",
    "np.mean(degrees)"
   ]
  },
  {
   "cell_type": "code",
   "execution_count": null,
   "id": "90664973",
   "metadata": {},
   "outputs": [
    {
     "data": {
      "image/png": "[encoded data removed]",
      "text/plain": [
       "<Figure size 640x480 with 1 Axes>"
      ]
     },
     "metadata": {},
     "output_type": "display_data"
    }
   ],
   "source": [
    "X = list(dict(G.degree).values())\n",
    "plt.yscale(\"log\")\n",
    "plt.title(\"Distribution Of Degree For Movie Network\")\n",
    "plt.xlabel(\"Degree\")\n",
    "plt.ylabel(\"Log Count\")\n",
    "plt.hist(X, 40, alpha=0.75); "
   ]
  },
  {
   "cell_type": "markdown",
   "id": "23a55af8",
   "metadata": {},
   "source": [
    "### 3.3 Community detection"
   ]
  },
  {
   "cell_type": "code",
   "execution_count": null,
   "id": "f9c70eb8",
   "metadata": {},
   "outputs": [],
   "source": [
    "def community_modularity(G, c, L):\n",
    "    s = G.subgraph(c)\n",
    "    L_c = s.number_of_edges()\n",
    "    k_c = sum(dict(s.degree()).values())\n",
    "    M_c = L_c / L - (k_c / (2 * L)) ** 2\n",
    "    return M_c\n",
    "\n",
    "def modularity(G, partitions):\n",
    "    L = G.number_of_edges()\n",
    "    return sum((community_modularity(G, c, L) for c in partitions))"
   ]
  },
  {
   "cell_type": "code",
   "execution_count": null,
   "id": "74bfce42",
   "metadata": {},
   "outputs": [],
   "source": [
    "def louvain_partitions(G):\n",
    "    np.random.seed(42)\n",
    "    random.seed(42)\n",
    "    partition = community_louvain.best_partition(G, randomize=False, resolution=1)\n",
    "    groups = defaultdict(set)\n",
    "    for node, comm in partition.items():\n",
    "        groups[comm].add(node)\n",
    "    return list(groups.values())"
   ]
  },
  {
   "cell_type": "code",
   "execution_count": null,
   "id": "53fdf20f",
   "metadata": {},
   "outputs": [
    {
     "data": {
      "text/plain": [
       "(1417, 0.7660709526038777)"
      ]
     },
     "execution_count": 203,
     "metadata": {},
     "output_type": "execute_result"
    }
   ],
   "source": [
    "communities = louvain_partitions(G)\n",
    "Q = modularity(G, communities)\n",
    "len(communities), Q"
   ]
  },
  {
   "cell_type": "code",
   "execution_count": null,
   "id": "e26b4ef4",
   "metadata": {},
   "outputs": [
    {
     "data": {
      "image/png": "[encoded data removed]",
      "text/plain": [
       "<Figure size 640x480 with 1 Axes>"
      ]
     },
     "metadata": {},
     "output_type": "display_data"
    }
   ],
   "source": [
    "X = list(map(len, communities))\n",
    "plt.yscale(\"log\")\n",
    "plt.title(\"Distribution Of Size For Communities\")\n",
    "plt.xlabel(\"Size\")\n",
    "plt.ylabel(\"Log Count\")\n",
    "plt.hist(X, 100, alpha=0.75);\n",
    "# Counter(X)"
   ]
  },
  {
   "cell_type": "code",
   "execution_count": null,
   "id": "6b3e538f",
   "metadata": {},
   "outputs": [
    {
     "data": {
      "text/html": [
       "<div><style>\n",
       ".dataframe > thead > tr,\n",
       ".dataframe > tbody > tr {\n",
       "  text-align: right;\n",
       "  white-space: pre-wrap;\n",
       "}\n",
       "</style>\n",
       "<small>shape: (2, 6)</small><table border=\"1\" class=\"dataframe\"><thead><tr><th>rating</th><th>text</th><th>user_id</th><th>timestamp</th><th>asin</th><th>community</th></tr><tr><td>f64</td><td>str</td><td>str</td><td>i64</td><td>str</td><td>i64</td></tr></thead><tbody><tr><td>5.0</td><td>&quot;This DVD was GREAT!&nbsp;&nbsp;I am a st…</td><td>&quot;AGXVBIUFLFGMVLATYXHJYL4A5Q7Q&quot;</td><td>1146713492000</td><td>&quot;B0009BXO3K&quot;</td><td>688</td></tr><tr><td>3.0</td><td>&quot;this item was canceled. . . .n…</td><td>&quot;AEFKF6R2GUSK2AWPSWRR4ZO36JVQ&quot;</td><td>1556496429981</td><td>&quot;B000PIU2A0&quot;</td><td>null</td></tr></tbody></table></div>"
      ],
      "text/plain": [
       "shape: (2, 6)\n",
       "┌────────┬────────────────────────┬───────────────────────┬───────────────┬────────────┬───────────┐\n",
       "│ rating ┆ text                   ┆ user_id               ┆ timestamp     ┆ asin       ┆ community │\n",
       "│ ---    ┆ ---                    ┆ ---                   ┆ ---           ┆ ---        ┆ ---       │\n",
       "│ f64    ┆ str                    ┆ str                   ┆ i64           ┆ str        ┆ i64       │\n",
       "╞════════╪════════════════════════╪═══════════════════════╪═══════════════╪════════════╪═══════════╡\n",
       "│ 5.0    ┆ This DVD was GREAT!  I ┆ AGXVBIUFLFGMVLATYXHJY ┆ 1146713492000 ┆ B0009BXO3K ┆ 688       │\n",
       "│        ┆ am a st…               ┆ L4A5Q7Q               ┆               ┆            ┆           │\n",
       "│ 3.0    ┆ this item was          ┆ AEFKF6R2GUSK2AWPSWRR4 ┆ 1556496429981 ┆ B000PIU2A0 ┆ null      │\n",
       "│        ┆ canceled. . . .n…      ┆ ZO36JVQ               ┆               ┆            ┆           │\n",
       "└────────┴────────────────────────┴───────────────────────┴───────────────┴────────────┴───────────┘"
      ]
     },
     "execution_count": 205,
     "metadata": {},
     "output_type": "execute_result"
    }
   ],
   "source": [
    "# Adding community labels to the df\n",
    "movie_to_community = {\n",
    "    movie_id: i\n",
    "    for i, com in enumerate(communities)\n",
    "    for movie_id in com\n",
    "}\n",
    "\n",
    "community_df = pl.DataFrame([\n",
    "    {\"asin\": k, \"community\": v}\n",
    "    for k, v in movie_to_community.items()\n",
    "])\n",
    "\n",
    "if \"community\" in filtered_df.columns:\n",
    "    filtered_df = filtered_df.drop(\"community\")\n",
    "\n",
    "filtered_df = filtered_df.join(community_df, on=\"asin\", how=\"left\")\n",
    "filtered_df = filtered_df.fill_null(\"\")\n",
    "filtered_df.limit(2)"
   ]
  },
  {
   "cell_type": "code",
   "execution_count": null,
   "id": "81f38297",
   "metadata": {},
   "outputs": [],
   "source": [
    "movie_attributes = (\n",
    "    best_per_title\n",
    "      .select([\"title\", \"asins\", \"average_rating\", \"price\"])\n",
    "      .explode(\"asins\")\n",
    "      .rename({\"asins\":\"asin\"})\n",
    "      .unique(subset=[\"asin\"])\n",
    "      .join(community_df, on=\"asin\", how=\"left\")\n",
    ")\n",
    "\n",
    "attributes = [\"title\", \"average_rating\", \"price\", \"community\"]\n",
    "df_attrs = movie_attributes.select([\"asin\"] + attributes)\n",
    "attr_dict = {row[0]: dict(zip(attributes, row[1:])) for row in df_attrs.rows()}\n",
    "nx.set_node_attributes(G, attr_dict)\n",
    "nx.write_gexf(G, \"graph.gexf\")"
   ]
  },
  {
   "cell_type": "markdown",
   "id": "00eb4b9d",
   "metadata": {},
   "source": [
    "### 3.4 Preparing text"
   ]
  },
  {
   "cell_type": "code",
   "execution_count": 24,
   "id": "b6a379df",
   "metadata": {},
   "outputs": [
    {
     "data": {
      "text/plain": [
       "981313"
      ]
     },
     "execution_count": 24,
     "metadata": {},
     "output_type": "execute_result"
    }
   ],
   "source": [
    "filtered_df.filter(pl.col(\"community\").is_null()).height"
   ]
  },
  {
   "cell_type": "code",
   "execution_count": 25,
   "id": "95e3c662",
   "metadata": {},
   "outputs": [],
   "source": [
    "filtered_df = filtered_df.filter(pl.col(\"community\").is_not_null()) # Filter reviews that is not part of community - Removed with weight threshold"
   ]
  },
  {
   "cell_type": "code",
   "execution_count": 26,
   "id": "147fae48",
   "metadata": {},
   "outputs": [
    {
     "data": {
      "text/plain": [
       "(10897, 10897)"
      ]
     },
     "execution_count": 26,
     "metadata": {},
     "output_type": "execute_result"
    }
   ],
   "source": [
    "sum(list(map(len, communities))), len(G.nodes)"
   ]
  },
  {
   "cell_type": "code",
   "execution_count": 27,
   "id": "5dd6aca9",
   "metadata": {},
   "outputs": [
    {
     "data": {
      "text/html": [
       "<div><style>\n",
       ".dataframe > thead > tr,\n",
       ".dataframe > tbody > tr {\n",
       "  text-align: right;\n",
       "  white-space: pre-wrap;\n",
       "}\n",
       "</style>\n",
       "<small>shape: (10, 2)</small><table border=\"1\" class=\"dataframe\"><thead><tr><th>community</th><th>community_size</th></tr><tr><td>i64</td><td>u32</td></tr></thead><tbody><tr><td>7</td><td>1033</td></tr><tr><td>6</td><td>956</td></tr><tr><td>4</td><td>760</td></tr><tr><td>5</td><td>701</td></tr><tr><td>17</td><td>526</td></tr><tr><td>15</td><td>505</td></tr><tr><td>3</td><td>364</td></tr><tr><td>38</td><td>286</td></tr><tr><td>0</td><td>221</td></tr><tr><td>21</td><td>208</td></tr></tbody></table></div>"
      ],
      "text/plain": [
       "shape: (10, 2)\n",
       "┌───────────┬────────────────┐\n",
       "│ community ┆ community_size │\n",
       "│ ---       ┆ ---            │\n",
       "│ i64       ┆ u32            │\n",
       "╞═══════════╪════════════════╡\n",
       "│ 7         ┆ 1033           │\n",
       "│ 6         ┆ 956            │\n",
       "│ 4         ┆ 760            │\n",
       "│ 5         ┆ 701            │\n",
       "│ 17        ┆ 526            │\n",
       "│ 15        ┆ 505            │\n",
       "│ 3         ┆ 364            │\n",
       "│ 38        ┆ 286            │\n",
       "│ 0         ┆ 221            │\n",
       "│ 21        ┆ 208            │\n",
       "└───────────┴────────────────┘"
      ]
     },
     "execution_count": 27,
     "metadata": {},
     "output_type": "execute_result"
    }
   ],
   "source": [
    "# size of each community\n",
    "community_sizes = (\n",
    "    filtered_df\n",
    "    .group_by(\"community\")\n",
    "    .agg(pl.col(\"asin\").n_unique().alias(\"community_size\"))\n",
    "    .sort(\"community_size\", descending=True)\n",
    ")\n",
    "\n",
    "community_sizes.limit(10)"
   ]
  },
  {
   "cell_type": "markdown",
   "id": "da397f5b",
   "metadata": {},
   "source": [
    "### 3.5 Tokens"
   ]
  },
  {
   "cell_type": "code",
   "execution_count": null,
   "id": "4260dbba",
   "metadata": {},
   "outputs": [],
   "source": [
    "lemmatizer = WordNetLemmatizer()\n",
    "\n",
    "custom = {\"film\",\"movie\",\"season\",\"episode\",\"3d\",\"bluray\",\"like\"}\n",
    "stop_words = set(stopwords.words(\"english\")) | custom\n",
    "\n",
    "stop_lems = {lemmatizer.lemmatize(w) for w in stop_words}\n",
    "\n",
    "@lru_cache(maxsize=20000)\n",
    "def cached_lems(word):\n",
    "    return lemmatizer.lemmatize(word)\n",
    "\n",
    "def tokenize(tokens):\n",
    "    out = []\n",
    "    for t in tokens:\n",
    "        s = cached_lems(t)\n",
    "        if s not in stop_lems: out.append(s)\n",
    "    return out\n",
    "\n",
    "def bigramify(tokens):\n",
    "    return list(nltk_bigrams(tokens))"
   ]
  },
  {
   "cell_type": "code",
   "execution_count": 29,
   "id": "ddc379a6",
   "metadata": {},
   "outputs": [],
   "source": [
    "filtered_df = filtered_df.with_columns(\n",
    "    pl.col(\"text\")\n",
    "      .str.normalize(\"NFKC\")\n",
    "      .str.to_lowercase()\n",
    "      .str.replace_all(r\"<br\\s*/?>\", \"\", literal=False)\n",
    "      .str.replace_all(r\"\\bblu[\\s-]?ray\\b\", \"bluray\", literal=False)\n",
    "      .str.replace_all(r\"\\bmovie\\b|[^A-Za-z0-9 ]\", \"\")\n",
    "      .str.replace_all(r\"\\s+\", \" \", literal=False)\n",
    "      .str.strip_chars()           \n",
    "      .str.split(\" \")  \n",
    "      .map_elements(tokenize, return_dtype=pl.List(pl.Utf8))\n",
    "      .alias(\"tokens\")\n",
    ")"
   ]
  },
  {
   "cell_type": "code",
   "execution_count": 30,
   "id": "70fb0fc9",
   "metadata": {},
   "outputs": [
    {
     "data": {
      "text/html": [
       "<div><style>\n",
       ".dataframe > thead > tr,\n",
       ".dataframe > tbody > tr {\n",
       "  text-align: right;\n",
       "  white-space: pre-wrap;\n",
       "}\n",
       "</style>\n",
       "<small>shape: (5, 8)</small><table border=\"1\" class=\"dataframe\"><thead><tr><th>rating</th><th>text</th><th>user_id</th><th>timestamp</th><th>asin</th><th>community</th><th>tokens</th><th>bigrams</th></tr><tr><td>f64</td><td>str</td><td>str</td><td>i64</td><td>str</td><td>i64</td><td>list[str]</td><td>list[list[str]]</td></tr></thead><tbody><tr><td>5.0</td><td>&quot;This DVD was GREAT!&nbsp;&nbsp;I am a st…</td><td>&quot;AGXVBIUFLFGMVLATYXHJYL4A5Q7Q&quot;</td><td>1146713492000</td><td>&quot;B0009BXO3K&quot;</td><td>245</td><td>[&quot;dvd&quot;, &quot;great&quot;, … &quot;give&quot;]</td><td>[[&quot;dvd&quot;, &quot;great&quot;], [&quot;great&quot;, &quot;stay&quot;], … [&quot;love&quot;, &quot;give&quot;]]</td></tr><tr><td>5.0</td><td>&quot;I grew up with this one. could…</td><td>&quot;AEFKF6R2GUSK2AWPSWRR4ZO36JVQ&quot;</td><td>1364088518000</td><td>&quot;B001JNNDRY&quot;</td><td>17</td><td>[&quot;grew&quot;, &quot;one&quot;, … &quot;collect&quot;]</td><td>[[&quot;grew&quot;, &quot;one&quot;], [&quot;one&quot;, &quot;couldnt&quot;], … [&quot;collect&quot;, &quot;collect&quot;]]</td></tr><tr><td>4.0</td><td>&quot;This is a fun, colorful, enter…</td><td>&quot;AFWHJ6O3PV4JC7PVOJH6CPULO2KQ&quot;</td><td>1399992093000</td><td>&quot;B001JV5BF8&quot;</td><td>642</td><td>[&quot;fun&quot;, &quot;color&quot;, … &quot;imo62&quot;]</td><td>[[&quot;fun&quot;, &quot;color&quot;], [&quot;color&quot;, &quot;entertain&quot;], … [&quot;34&quot;, &quot;imo62&quot;]]</td></tr><tr><td>2.0</td><td>&quot;Classic movie. But I didn&#x27;t ge…</td><td>&quot;AEO4M665ZOCBF7HEFRMTUDHLSB5Q&quot;</td><td>1325272496000</td><td>&quot;B07FMQXZBD&quot;</td><td>5</td><td>[&quot;classic&quot;, &quot;didnt&quot;, … &quot;problem&quot;]</td><td>[[&quot;classic&quot;, &quot;didnt&quot;], [&quot;didnt&quot;, &quot;get&quot;], … [&quot;month&quot;, &quot;problem&quot;]]</td></tr><tr><td>4.0</td><td>&quot;This is the best version follo…</td><td>&quot;AG35BKPUEUMX7LV5YLOQ5YCQ3GOA&quot;</td><td>1514400490306</td><td>&quot;B008UY8FI2&quot;</td><td>4</td><td>[&quot;best&quot;, &quot;version&quot;, … &quot;station&quot;]</td><td>[[&quot;best&quot;, &quot;version&quot;], [&quot;version&quot;, &quot;follow&quot;], … [&quot;tv&quot;, &quot;station&quot;]]</td></tr></tbody></table></div>"
      ],
      "text/plain": [
       "shape: (5, 8)\n",
       "┌────────┬────────────┬────────────┬────────────┬────────────┬───────────┬────────────┬────────────┐\n",
       "│ rating ┆ text       ┆ user_id    ┆ timestamp  ┆ asin       ┆ community ┆ tokens     ┆ bigrams    │\n",
       "│ ---    ┆ ---        ┆ ---        ┆ ---        ┆ ---        ┆ ---       ┆ ---        ┆ ---        │\n",
       "│ f64    ┆ str        ┆ str        ┆ i64        ┆ str        ┆ i64       ┆ list[str]  ┆ list[list[ │\n",
       "│        ┆            ┆            ┆            ┆            ┆           ┆            ┆ str]]      │\n",
       "╞════════╪════════════╪════════════╪════════════╪════════════╪═══════════╪════════════╪════════════╡\n",
       "│ 5.0    ┆ This DVD   ┆ AGXVBIUFLF ┆ 1146713492 ┆ B0009BXO3K ┆ 245       ┆ [\"dvd\",    ┆ [[\"dvd\",   │\n",
       "│        ┆ was GREAT! ┆ GMVLATYXHJ ┆ 000        ┆            ┆           ┆ \"great\", … ┆ \"great\"],  │\n",
       "│        ┆ I am a st… ┆ YL4A5Q7Q   ┆            ┆            ┆           ┆ \"give\"]    ┆ [\"great\",  │\n",
       "│        ┆            ┆            ┆            ┆            ┆           ┆            ┆ \"…         │\n",
       "│ 5.0    ┆ I grew up  ┆ AEFKF6R2GU ┆ 1364088518 ┆ B001JNNDRY ┆ 17        ┆ [\"grew\",   ┆ [[\"grew\",  │\n",
       "│        ┆ with this  ┆ SK2AWPSWRR ┆ 000        ┆            ┆           ┆ \"one\", …   ┆ \"one\"],    │\n",
       "│        ┆ one.       ┆ 4ZO36JVQ   ┆            ┆            ┆           ┆ \"collect\"] ┆ [\"one\",    │\n",
       "│        ┆ could…     ┆            ┆            ┆            ┆           ┆            ┆ \"cou…      │\n",
       "│ 4.0    ┆ This is a  ┆ AFWHJ6O3PV ┆ 1399992093 ┆ B001JV5BF8 ┆ 642       ┆ [\"fun\",    ┆ [[\"fun\",   │\n",
       "│        ┆ fun,       ┆ 4JC7PVOJH6 ┆ 000        ┆            ┆           ┆ \"color\", … ┆ \"color\"],  │\n",
       "│        ┆ colorful,  ┆ CPULO2KQ   ┆            ┆            ┆           ┆ \"imo62\"]   ┆ [\"color\",  │\n",
       "│        ┆ enter…     ┆            ┆            ┆            ┆           ┆            ┆ \"…         │\n",
       "│ 2.0    ┆ Classic    ┆ AEO4M665ZO ┆ 1325272496 ┆ B07FMQXZBD ┆ 5         ┆ [\"classic\" ┆ [[\"classic │\n",
       "│        ┆ movie. But ┆ CBF7HEFRMT ┆ 000        ┆            ┆           ┆ , \"didnt\", ┆ \",         │\n",
       "│        ┆ I didn't   ┆ UDHLSB5Q   ┆            ┆            ┆           ┆ … \"proble… ┆ \"didnt\"],  │\n",
       "│        ┆ ge…        ┆            ┆            ┆            ┆           ┆            ┆ [\"didnt…   │\n",
       "│ 4.0    ┆ This is    ┆ AG35BKPUEU ┆ 1514400490 ┆ B008UY8FI2 ┆ 4         ┆ [\"best\",   ┆ [[\"best\",  │\n",
       "│        ┆ the best   ┆ MX7LV5YLOQ ┆ 306        ┆            ┆           ┆ \"version\", ┆ \"version\"] │\n",
       "│        ┆ version    ┆ 5YCQ3GOA   ┆            ┆            ┆           ┆ …          ┆ ,          │\n",
       "│        ┆ follo…     ┆            ┆            ┆            ┆           ┆ \"station…  ┆ [\"versio…  │\n",
       "└────────┴────────────┴────────────┴────────────┴────────────┴───────────┴────────────┴────────────┘"
      ]
     },
     "execution_count": 30,
     "metadata": {},
     "output_type": "execute_result"
    }
   ],
   "source": [
    "filtered_df = filtered_df.with_columns(\n",
    "    bigrams=pl.col(\"tokens\").map_elements(bigramify, return_dtype=pl.List(pl.List(pl.Utf8)))\n",
    ")\n",
    "filtered_df.limit(5)"
   ]
  },
  {
   "cell_type": "code",
   "execution_count": 31,
   "id": "b444006d",
   "metadata": {},
   "outputs": [],
   "source": [
    "bigrams = (\n",
    "    filtered_df\n",
    "    .select(pl.col(\"bigrams\"))\n",
    "    .drop_nulls()\n",
    "    .explode(\"bigrams\")\n",
    "    .get_column(\"bigrams\")\n",
    "    .to_list()\n",
    ")\n",
    "\n",
    "bigrams = [tuple(bg) for bg in bigrams if isinstance(bg, list) and len(bg) == 2]\n",
    "\n",
    "filtered_df = filtered_df.drop(\"bigrams\")"
   ]
  },
  {
   "cell_type": "code",
   "execution_count": 32,
   "id": "c2f4da2e",
   "metadata": {},
   "outputs": [],
   "source": [
    "def find_collocations(bigrams, min_count=50, p_threshold=0.001):\n",
    "    bigram_counts = Counter(bigrams)\n",
    "    first_counts = Counter()\n",
    "    second_counts = Counter()\n",
    "    for (w1, w2), cnt in bigram_counts.items():\n",
    "        first_counts[w1] += cnt\n",
    "        second_counts[w2] += cnt\n",
    "\n",
    "    N = len(bigrams)\n",
    "    items = list(bigram_counts.items())\n",
    "    bgs, nii = zip(*items)\n",
    "    w1s, w2s = zip(*bgs)\n",
    "\n",
    "    f = np.fromiter((first_counts[w] for w in w1s), float)\n",
    "    s = np.fromiter((second_counts[w] for w in w2s), float)\n",
    "    o = np.array(nii, float)\n",
    "\n",
    "    nio = f - o\n",
    "    noi = s - o\n",
    "    noo = N - (o + nio + noi)\n",
    "\n",
    "    Eii = f * s / N\n",
    "    Eio = f * (N - s) / N\n",
    "    Eoi = (N - f) * s / N\n",
    "    Eoo = (N - f) * (N - s) / N\n",
    "\n",
    "    chi2_vals = (o - Eii)**2/Eii + (nio - Eio)**2/Eio + (noi - Eoi)**2/Eoi + (noo - Eoo)**2/Eoo\n",
    "    p_vals = chi2.sf(chi2_vals, 1)\n",
    "\n",
    "    mask = (o > min_count) & (p_vals < p_threshold)\n",
    "    return {bgs[i]: int(o[i]) for i in np.nonzero(mask)[0]}\n",
    "\n",
    "collocs = find_collocations(bigrams)"
   ]
  },
  {
   "cell_type": "code",
   "execution_count": 33,
   "id": "047c2d87",
   "metadata": {},
   "outputs": [],
   "source": [
    "tokenizer = MWETokenizer(list(collocs.keys()), separator=\"_\")\n",
    "filtered_df = filtered_df.with_columns(\n",
    "    tokens=pl.col(\"tokens\").map_elements(tokenizer.tokenize, return_dtype=pl.List(pl.Utf8))\n",
    ")"
   ]
  },
  {
   "cell_type": "code",
   "execution_count": 34,
   "id": "bd1252b3",
   "metadata": {},
   "outputs": [],
   "source": [
    "filtered_df.write_ndjson(\"tokenized_reviews.jsonl\")\n",
    "filtered_df = pl.read_ndjson(\"tokenized_reviews.jsonl\")"
   ]
  },
  {
   "cell_type": "code",
   "execution_count": null,
   "id": "0b19b49b",
   "metadata": {},
   "outputs": [],
   "source": [
    "community_docs = (\n",
    "    filtered_df\n",
    "    .group_by(\"community\")\n",
    "    .agg(\n",
    "        pl.concat_list(\"tokens\").flatten().alias(\"tokens\"), \n",
    "        pl.len().alias(\"num_reviews\")\n",
    "    ).sort(\"num_reviews\", descending=True)\n",
    ")\n",
    "top5com = community_docs.limit(20)"
   ]
  },
  {
   "cell_type": "code",
   "execution_count": 42,
   "id": "499f7299",
   "metadata": {},
   "outputs": [],
   "source": [
    "top_20_30 = community_docs.slice(20,10)"
   ]
  },
  {
   "cell_type": "markdown",
   "id": "283465e7",
   "metadata": {},
   "source": [
    "### 3.6 TF-IDF"
   ]
  },
  {
   "cell_type": "code",
   "execution_count": 36,
   "id": "ffe16d92",
   "metadata": {},
   "outputs": [],
   "source": [
    "def calculate_tf(tokens):\n",
    "    total = len(tokens)\n",
    "    counts = Counter(tokens)\n",
    "    return {word: count / total for word, count in counts.items()}\n",
    "\n",
    "def calculate_idf(docs: pl.DataFrame) -> dict[str, float]:\n",
    "    N = docs.height\n",
    "    df = (\n",
    "        docs\n",
    "        .explode(\"tokens\")\n",
    "        .unique(subset=[\"community\", \"tokens\"])\n",
    "        .group_by(\"tokens\")\n",
    "        .agg(pl.len().alias(\"df\"))\n",
    "        .with_columns((pl.lit(N) / pl.col(\"df\")).log().alias(\"idf\"))\n",
    "        .sort(\"idf\", descending=False)\n",
    "    )\n",
    "    return dict(zip(df[\"tokens\"].to_list(), df[\"idf\"].to_list()))\n",
    "\n",
    "def calculate_tf_idf(tf, idf):\n",
    "    tf_idf = {}\n",
    "    for word, val in tf.items():\n",
    "        tf_idf[word] = val * idf[word]\n",
    "    return tf_idf"
   ]
  },
  {
   "cell_type": "code",
   "execution_count": 37,
   "id": "98b4b568",
   "metadata": {},
   "outputs": [],
   "source": [
    "idf = calculate_idf(community_docs)"
   ]
  },
  {
   "cell_type": "code",
   "execution_count": 38,
   "id": "d29ded95",
   "metadata": {},
   "outputs": [],
   "source": [
    "top_5_tf_idf = dict(zip(\n",
    "    top5com[\"community\"].to_list(),\n",
    "    [calculate_tf_idf(calculate_tf(toks), idf) for toks in top5com[\"tokens\"].to_list()]\n",
    "))"
   ]
  },
  {
   "cell_type": "code",
   "execution_count": 43,
   "id": "81f851bb",
   "metadata": {},
   "outputs": [],
   "source": [
    "top_20_30_tf_idf= dict(zip(\n",
    "    top_20_30[\"community\"].to_list(),\n",
    "    [calculate_tf_idf(calculate_tf(toks), idf) for toks in top_20_30[\"tokens\"].to_list()]\n",
    "))"
   ]
  },
  {
   "cell_type": "code",
   "execution_count": 39,
   "id": "5c8f450e",
   "metadata": {},
   "outputs": [],
   "source": [
    "top_titles = (filtered_df.join(\n",
    "      movie_attributes.select([\"asin\",\"title\"]),\n",
    "      on=\"asin\",\n",
    "      how=\"left\"\n",
    "   ).group_by([\"community\", \"title\"])\n",
    "    .agg(pl.len().alias(\"count\"))\n",
    "    .sort([\"community\",\"count\"], descending=[False,True])\n",
    "    .group_by(\"community\")\n",
    "    .agg(pl.col(\"title\").head(3).alias(\"top_titles\"))\n",
    ")\n",
    "\n",
    "top_titles_dict = dict(zip(top_titles[\"community\"].to_list(), top_titles[\"top_titles\"].to_list()))"
   ]
  },
  {
   "cell_type": "markdown",
   "id": "a63ecf9c",
   "metadata": {},
   "source": [
    "### 3.7 Word clouds"
   ]
  },
  {
   "cell_type": "code",
   "execution_count": null,
   "id": "0b59ce0f",
   "metadata": {},
   "outputs": [],
   "source": [
    "def plot_word_clouds_grid(word_freq, top_movies = None, ncols=3, max_title_len=30):\n",
    "    def truncate_list(ts):\n",
    "        return [t if len(t)<=max_title_len else t[:max_title_len]+'…' for t in ts]\n",
    "    \n",
    "    communities = list(word_freq.keys())\n",
    "    nrows = -(-len(communities) // ncols)\n",
    "    fig, axes = plt.subplots(nrows, ncols, figsize=(ncols * 5, nrows * 6))\n",
    "    axes = axes.flatten()\n",
    "\n",
    "    for ax, comm in zip(axes, communities):\n",
    "        cloud = WordCloud(background_color='white', height=500, width=500, colormap=\"viridis_r\", contour_color='black', contour_width=0.5)\n",
    "        cloud.generate_from_frequencies(word_freq[comm])\n",
    "        titles = truncate_list(top_movies.get(comm, []))\n",
    "        ax.imshow(cloud, interpolation='bilinear')\n",
    "        ax.set_title(\"\\n\".join(titles), fontsize=12)\n",
    "        ax.axis('off')\n",
    "\n",
    "    for ax in axes[len(communities):]:\n",
    "        ax.axis('off')\n",
    "\n",
    "    plt.tight_layout()\n",
    "    plt.show()\n",
    "\n",
    "plot_word_clouds_grid(top_5_tf_idf, top_titles_dict) # Plotting is based on tf-idf values and stemmed tokens"
   ]
  },
  {
   "cell_type": "markdown",
   "id": "b1e62f2d",
   "metadata": {},
   "source": [
    "### Most negative communties"
   ]
  },
  {
   "cell_type": "code",
   "execution_count": 159,
   "id": "8c6c8cab",
   "metadata": {},
   "outputs": [
    {
     "data": {
      "text/html": [
       "<div><style>\n",
       ".dataframe > thead > tr,\n",
       ".dataframe > tbody > tr {\n",
       "  text-align: right;\n",
       "  white-space: pre-wrap;\n",
       "}\n",
       "</style>\n",
       "<small>shape: (1_418, 2)</small><table border=\"1\" class=\"dataframe\"><thead><tr><th>community</th><th>rating</th></tr><tr><td>i64</td><td>f64</td></tr></thead><tbody><tr><td>367</td><td>1.75</td></tr><tr><td>601</td><td>2.163636</td></tr><tr><td>1346</td><td>2.186441</td></tr><tr><td>1201</td><td>2.333333</td></tr><tr><td>277</td><td>2.5625</td></tr><tr><td>&hellip;</td><td>&hellip;</td></tr><tr><td>732</td><td>5.0</td></tr><tr><td>366</td><td>5.0</td></tr><tr><td>1405</td><td>5.0</td></tr><tr><td>244</td><td>5.0</td></tr><tr><td>634</td><td>5.0</td></tr></tbody></table></div>"
      ],
      "text/plain": [
       "shape: (1_418, 2)\n",
       "┌───────────┬──────────┐\n",
       "│ community ┆ rating   │\n",
       "│ ---       ┆ ---      │\n",
       "│ i64       ┆ f64      │\n",
       "╞═══════════╪══════════╡\n",
       "│ 367       ┆ 1.75     │\n",
       "│ 601       ┆ 2.163636 │\n",
       "│ 1346      ┆ 2.186441 │\n",
       "│ 1201      ┆ 2.333333 │\n",
       "│ 277       ┆ 2.5625   │\n",
       "│ …         ┆ …        │\n",
       "│ 732       ┆ 5.0      │\n",
       "│ 366       ┆ 5.0      │\n",
       "│ 1405      ┆ 5.0      │\n",
       "│ 244       ┆ 5.0      │\n",
       "│ 634       ┆ 5.0      │\n",
       "└───────────┴──────────┘"
      ]
     },
     "execution_count": 159,
     "metadata": {},
     "output_type": "execute_result"
    }
   ],
   "source": [
    "avg_com_rating = (\n",
    "    filtered_df\n",
    "    .group_by(\"community\")\n",
    "    .agg(pl.col(\"rating\").mean())\n",
    "    .sort(\"rating\")\n",
    ")\n",
    "avg_com_rating"
   ]
  },
  {
   "cell_type": "markdown",
   "id": "514ae4c4",
   "metadata": {},
   "source": [
    "## 4. Discussion"
   ]
  }
 ],
 "metadata": {
  "kernelspec": {
   "display_name": "Python 3",
   "language": "python",
   "name": "python3"
  },
  "language_info": {
   "codemirror_mode": {
    "name": "ipython",
    "version": 3
   },
   "file_extension": ".py",
   "mimetype": "text/x-python",
   "name": "python",
   "nbconvert_exporter": "python",
   "pygments_lexer": "ipython3",
   "version": "3.12.3"
  }
 },
 "nbformat": 4,
 "nbformat_minor": 5
}
