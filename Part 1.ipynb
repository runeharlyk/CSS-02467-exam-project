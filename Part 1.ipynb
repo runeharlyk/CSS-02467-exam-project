{
 "cells": [
  {
   "cell_type": "code",
   "execution_count": 4,
   "id": "8c0720ba",
   "metadata": {},
   "outputs": [],
   "source": [
    "import polars as pl\n",
    "from itertools import combinations\n",
    "from collections import Counter, defaultdict\n",
    "import networkx as nx\n",
    "from tqdm import tqdm\n",
    "import numpy as np\n",
    "import matplotlib.pyplot as plt\n",
    "from community import community_louvain\n",
    "import seaborn as sns\n",
    "import json\n",
    "\n",
    "sns.set_style(\"darkgrid\")\n",
    "\n",
    "RAW_DATA_FILE = 'Movies_and_TV_5.json'\n",
    "NETWORK_FILE = \"movie_network.json\""
   ]
  },
  {
   "cell_type": "markdown",
   "id": "b40e90b8",
   "metadata": {},
   "source": [
    "[Get dataset here](https://nijianmo.github.io/amazon/index.html)"
   ]
  },
  {
   "cell_type": "code",
   "execution_count": 2,
   "id": "9771bb4a",
   "metadata": {},
   "outputs": [],
   "source": [
    "def save_graph(graph_file, G):\n",
    "    data = nx.readwrite.json_graph.node_link_data(G)\n",
    "    with open(graph_file, \"w\") as f:\n",
    "        json.dump(data, f)\n",
    "\n",
    "def load_graph(graph_file):\n",
    "    with open(graph_file, \"r\") as f:\n",
    "        data = json.load(f)\n",
    "    return nx.readwrite.json_graph.node_link_graph(data)"
   ]
  },
  {
   "cell_type": "markdown",
   "id": "1401dd6e",
   "metadata": {},
   "source": [
    "### Filtering"
   ]
  },
  {
   "cell_type": "code",
   "execution_count": 32,
   "id": "99535484",
   "metadata": {},
   "outputs": [],
   "source": [
    "df = pl.scan_ndjson('Movies_and_TV.jsonl').filter(pl.col('verified_purchase') == True).filter(pl.col('helpful_vote') != 0)\n",
    "existing = set(df.collect_schema().keys())\n",
    "drop_cols = {'images', 'style', 'verified_purchase', 'asin', 'helpful_vote', 'title'} \n",
    "keep_cols = list(existing - drop_cols)\n",
    "df = df.select(keep_cols).rename({'parent_asin': 'asin'})"
   ]
  },
  {
   "cell_type": "code",
   "execution_count": 33,
   "id": "9741d965",
   "metadata": {},
   "outputs": [
    {
     "data": {
      "text/html": [
       "<div><style>\n",
       ".dataframe > thead > tr,\n",
       ".dataframe > tbody > tr {\n",
       "  text-align: right;\n",
       "  white-space: pre-wrap;\n",
       "}\n",
       "</style>\n",
       "<small>shape: (100, 5)</small><table border=\"1\" class=\"dataframe\"><thead><tr><th>rating</th><th>asin</th><th>user_id</th><th>timestamp</th><th>text</th></tr><tr><td>f64</td><td>str</td><td>str</td><td>i64</td><td>str</td></tr></thead><tbody><tr><td>5.0</td><td>&quot;B0002J58ME&quot;</td><td>&quot;AGXVBIUFLFGMVLATYXHJYL4A5Q7Q&quot;</td><td>1146713492000</td><td>&quot;This DVD was GREAT!&nbsp;&nbsp;I am a st…</td></tr><tr><td>3.0</td><td>&quot;B000PIU2A0&quot;</td><td>&quot;AEFKF6R2GUSK2AWPSWRR4ZO36JVQ&quot;</td><td>1556496429981</td><td>&quot;this item was canceled. . . .n…</td></tr><tr><td>5.0</td><td>&quot;B001JNNDRY&quot;</td><td>&quot;AEFKF6R2GUSK2AWPSWRR4ZO36JVQ&quot;</td><td>1364088518000</td><td>&quot;I grew up with this one. could…</td></tr><tr><td>4.0</td><td>&quot;B000TSMOEI&quot;</td><td>&quot;AEFKF6R2GUSK2AWPSWRR4ZO36JVQ&quot;</td><td>1364088147000</td><td>&quot;like watching: haven&#x27;t gotten …</td></tr><tr><td>4.0</td><td>&quot;B0009MAO82&quot;</td><td>&quot;AEFKF6R2GUSK2AWPSWRR4ZO36JVQ&quot;</td><td>1364087577000</td><td>&quot;pretty cool to watch: differen…</td></tr><tr><td>&hellip;</td><td>&hellip;</td><td>&hellip;</td><td>&hellip;</td><td>&hellip;</td></tr><tr><td>5.0</td><td>&quot;B01N7K1IUQ&quot;</td><td>&quot;AFZUK3MTBIBEDQOPAK3OATUOUKLA&quot;</td><td>1498366665692</td><td>&quot;I watched an &amp;#34;edited&amp;#34; …</td></tr><tr><td>4.0</td><td>&quot;B00906FN2K&quot;</td><td>&quot;AFZUK3MTBIBEDQOPAK3OATUOUKLA&quot;</td><td>1489165456000</td><td>&quot;I just joined Weight Watchers …</td></tr><tr><td>5.0</td><td>&quot;B01DX663IK&quot;</td><td>&quot;AFZUK3MTBIBEDQOPAK3OATUOUKLA&quot;</td><td>1479621835000</td><td>&quot;While this is hard to watch...…</td></tr><tr><td>5.0</td><td>&quot;B00EPA3VA2&quot;</td><td>&quot;AFZUK3MTBIBEDQOPAK3OATUOUKLA&quot;</td><td>1472509460000</td><td>&quot;This is a great family fare...…</td></tr><tr><td>5.0</td><td>&quot;B019PQ0IWY&quot;</td><td>&quot;AFZUK3MTBIBEDQOPAK3OATUOUKLA&quot;</td><td>1466541961000</td><td>&quot;I honestly don&#x27;t review movies…</td></tr></tbody></table></div>"
      ],
      "text/plain": [
       "shape: (100, 5)\n",
       "┌────────┬────────────┬──────────────────────────────┬───────────────┬─────────────────────────────┐\n",
       "│ rating ┆ asin       ┆ user_id                      ┆ timestamp     ┆ text                        │\n",
       "│ ---    ┆ ---        ┆ ---                          ┆ ---           ┆ ---                         │\n",
       "│ f64    ┆ str        ┆ str                          ┆ i64           ┆ str                         │\n",
       "╞════════╪════════════╪══════════════════════════════╪═══════════════╪═════════════════════════════╡\n",
       "│ 5.0    ┆ B0002J58ME ┆ AGXVBIUFLFGMVLATYXHJYL4A5Q7Q ┆ 1146713492000 ┆ This DVD was GREAT!  I am a │\n",
       "│        ┆            ┆                              ┆               ┆ st…                         │\n",
       "│ 3.0    ┆ B000PIU2A0 ┆ AEFKF6R2GUSK2AWPSWRR4ZO36JVQ ┆ 1556496429981 ┆ this item was canceled. . . │\n",
       "│        ┆            ┆                              ┆               ┆ .n…                         │\n",
       "│ 5.0    ┆ B001JNNDRY ┆ AEFKF6R2GUSK2AWPSWRR4ZO36JVQ ┆ 1364088518000 ┆ I grew up with this one.    │\n",
       "│        ┆            ┆                              ┆               ┆ could…                      │\n",
       "│ 4.0    ┆ B000TSMOEI ┆ AEFKF6R2GUSK2AWPSWRR4ZO36JVQ ┆ 1364088147000 ┆ like watching: haven't      │\n",
       "│        ┆            ┆                              ┆               ┆ gotten …                    │\n",
       "│ 4.0    ┆ B0009MAO82 ┆ AEFKF6R2GUSK2AWPSWRR4ZO36JVQ ┆ 1364087577000 ┆ pretty cool to watch:       │\n",
       "│        ┆            ┆                              ┆               ┆ differen…                   │\n",
       "│ …      ┆ …          ┆ …                            ┆ …             ┆ …                           │\n",
       "│ 5.0    ┆ B01N7K1IUQ ┆ AFZUK3MTBIBEDQOPAK3OATUOUKLA ┆ 1498366665692 ┆ I watched an                │\n",
       "│        ┆            ┆                              ┆               ┆ &#34;edited&#34; …          │\n",
       "│ 4.0    ┆ B00906FN2K ┆ AFZUK3MTBIBEDQOPAK3OATUOUKLA ┆ 1489165456000 ┆ I just joined Weight        │\n",
       "│        ┆            ┆                              ┆               ┆ Watchers …                  │\n",
       "│ 5.0    ┆ B01DX663IK ┆ AFZUK3MTBIBEDQOPAK3OATUOUKLA ┆ 1479621835000 ┆ While this is hard to       │\n",
       "│        ┆            ┆                              ┆               ┆ watch...…                   │\n",
       "│ 5.0    ┆ B00EPA3VA2 ┆ AFZUK3MTBIBEDQOPAK3OATUOUKLA ┆ 1472509460000 ┆ This is a great family      │\n",
       "│        ┆            ┆                              ┆               ┆ fare...…                    │\n",
       "│ 5.0    ┆ B019PQ0IWY ┆ AFZUK3MTBIBEDQOPAK3OATUOUKLA ┆ 1466541961000 ┆ I honestly don't review     │\n",
       "│        ┆            ┆                              ┆               ┆ movies…                     │\n",
       "└────────┴────────────┴──────────────────────────────┴───────────────┴─────────────────────────────┘"
      ]
     },
     "execution_count": 33,
     "metadata": {},
     "output_type": "execute_result"
    }
   ],
   "source": [
    "df.limit(100).collect()"
   ]
  },
  {
   "cell_type": "code",
   "execution_count": null,
   "metadata": {},
   "outputs": [
    {
     "data": {
      "text/plain": [
       "(2888210, 409673)"
      ]
     },
     "execution_count": 31,
     "metadata": {},
     "output_type": "execute_result"
    }
   ],
   "source": [
    "df.collect().height, df.collect().get_column(\"asin\").n_unique()"
   ]
  },
  {
   "cell_type": "code",
   "execution_count": 37,
   "id": "dc053c1a",
   "metadata": {},
   "outputs": [],
   "source": [
    "def filter_reviews(df, movie_threshold=5, review_threshold=5):\n",
    "    df = df.collect()\n",
    "    prev_rows = -1\n",
    "    while df.height != prev_rows:\n",
    "        prev_rows = df.height\n",
    "        valid_movies = (\n",
    "            df.group_by('asin')\n",
    "            .agg(pl.col('user_id').n_unique().alias('count'))\n",
    "            .filter(pl.col('count') >= review_threshold)\n",
    "            .get_column('asin')\n",
    "        )\n",
    "        df = df.filter(pl.col('asin').is_in(valid_movies.implode()))\n",
    "\n",
    "        valid_reviewers = (\n",
    "            df.group_by('user_id')\n",
    "            .agg(pl.col('asin').n_unique().alias('count'))\n",
    "            .filter(pl.col('count') >= movie_threshold)\n",
    "            .get_column('user_id')\n",
    "        )\n",
    "        df = df.filter(pl.col('user_id').is_in(valid_reviewers.implode()))\n",
    "    return df\n",
    "\n",
    "filtered_df = filter_reviews(df)"
   ]
  },
  {
   "cell_type": "code",
   "execution_count": 38,
   "id": "83e575eb",
   "metadata": {},
   "outputs": [
    {
     "data": {
      "text/plain": [
       "9"
      ]
     },
     "execution_count": 38,
     "metadata": {},
     "output_type": "execute_result"
    }
   ],
   "source": [
    "reviewer_counts = (\n",
    "    df.group_by('user_id')\n",
    "    .agg(pl.col('asin').n_unique().alias('count'))\n",
    "    .filter(pl.col('count') > 500).collect()\n",
    ")\n",
    "reviewer_counts_count = reviewer_counts.height\n",
    "reviewer_counts_count"
   ]
  },
  {
   "cell_type": "code",
   "execution_count": 39,
   "id": "9bcb41d5",
   "metadata": {},
   "outputs": [
    {
     "data": {
      "text/plain": [
       "28569"
      ]
     },
     "execution_count": 39,
     "metadata": {},
     "output_type": "execute_result"
    }
   ],
   "source": [
    "filtered_df.get_column(\"asin\").n_unique()"
   ]
  },
  {
   "cell_type": "markdown",
   "id": "72418263",
   "metadata": {},
   "source": [
    "### Network"
   ]
  },
  {
   "cell_type": "code",
   "execution_count": 40,
   "id": "0ecfcbd6",
   "metadata": {},
   "outputs": [],
   "source": [
    "def generate_edge_list():\n",
    "    grouped = (\n",
    "        filtered_df\n",
    "        .group_by('user_id')\n",
    "        .agg(pl.col('asin').unique().alias('asins'))\n",
    "    )\n",
    "\n",
    "    edges = Counter()\n",
    "\n",
    "    for reviewers in tqdm(grouped['asins'], desc=\"Reviewer\"):\n",
    "        for pair in combinations(reviewers, 2):\n",
    "            edges[tuple(sorted(pair))] += 1\n",
    "\n",
    "    return [(a, b, count) for (a, b), count in edges.items()]"
   ]
  },
  {
   "cell_type": "code",
   "execution_count": 41,
   "id": "554a078d",
   "metadata": {},
   "outputs": [
    {
     "name": "stderr",
     "output_type": "stream",
     "text": [
      "Reviewer: 100%|██████████| 29578/29578 [00:02<00:00, 12350.33it/s]\n"
     ]
    },
    {
     "data": {
      "text/plain": [
       "3380500"
      ]
     },
     "execution_count": 41,
     "metadata": {},
     "output_type": "execute_result"
    }
   ],
   "source": [
    "movie_edgelist = generate_edge_list()\n",
    "len(movie_edgelist)"
   ]
  },
  {
   "cell_type": "code",
   "execution_count": 48,
   "id": "34f1ca0e",
   "metadata": {},
   "outputs": [
    {
     "name": "stdout",
     "output_type": "stream",
     "text": [
      "Edges with weight => 4: 6344\n",
      "Edges with weight => 5: 3276\n",
      "Edges with weight => 7: 1288\n",
      "Edges with weight => 10: 493\n",
      "Edges with weight => 15: 150\n"
     ]
    }
   ],
   "source": [
    "thresholds = [4,5,7,10,15]\n",
    "for t in thresholds:\n",
    "    weighted_edges = [(a, b, w) for (a, b, w) in movie_edgelist if w >= t]\n",
    "    print(f\"Edges with weight => {t}: {len(weighted_edges)}\")"
   ]
  },
  {
   "cell_type": "markdown",
   "id": "78856904",
   "metadata": {},
   "source": [
    "### Graph"
   ]
  },
  {
   "cell_type": "code",
   "execution_count": 47,
   "id": "ca36f07d",
   "metadata": {},
   "outputs": [
    {
     "data": {
      "text/plain": [
       "115364"
      ]
     },
     "execution_count": 47,
     "metadata": {},
     "output_type": "execute_result"
    }
   ],
   "source": [
    "WEIGHT_THRESHOLD = 2\n",
    "weighted_movie_edge = [(a, b, w) for (a, b, w) in movie_edgelist if w >= WEIGHT_THRESHOLD]\n",
    "len(weighted_movie_edge)"
   ]
  },
  {
   "cell_type": "code",
   "execution_count": 49,
   "id": "7690ceb7",
   "metadata": {},
   "outputs": [
    {
     "name": "stderr",
     "output_type": "stream",
     "text": [
      "c:\\Users\\rdh\\AppData\\Local\\Programs\\Python\\Python312\\Lib\\site-packages\\networkx\\readwrite\\json_graph\\node_link.py:142: FutureWarning: \n",
      "The default value will be `edges=\"edges\" in NetworkX 3.6.\n",
      "\n",
      "To make this warning go away, explicitly set the edges kwarg, e.g.:\n",
      "\n",
      "  nx.node_link_data(G, edges=\"links\") to preserve current behavior, or\n",
      "  nx.node_link_data(G, edges=\"edges\") for forward compatibility.\n",
      "  warnings.warn(\n"
     ]
    }
   ],
   "source": [
    "G = nx.Graph()\n",
    "G.add_weighted_edges_from(weighted_movie_edge)\n",
    "save_graph(NETWORK_FILE, G)"
   ]
  },
  {
   "cell_type": "code",
   "execution_count": 54,
   "id": "2d3870a5",
   "metadata": {},
   "outputs": [
    {
     "data": {
      "text/plain": [
       "(21586, 115364)"
      ]
     },
     "execution_count": 54,
     "metadata": {},
     "output_type": "execute_result"
    }
   ],
   "source": [
    "len(G.nodes()), len(G.edges())"
   ]
  },
  {
   "cell_type": "code",
   "execution_count": 56,
   "id": "753968ae",
   "metadata": {},
   "outputs": [
    {
     "data": {
      "text/plain": [
       "10.68877976466228"
      ]
     },
     "execution_count": 56,
     "metadata": {},
     "output_type": "execute_result"
    }
   ],
   "source": [
    "degrees = [d for _, d in G.degree()]\n",
    "\n",
    "np.mean(degrees)"
   ]
  },
  {
   "cell_type": "code",
   "execution_count": 57,
   "id": "90664973",
   "metadata": {},
   "outputs": [
    {
     "data": {
      "image/png": "[encoded data removed]",
      "text/plain": [
       "<Figure size 640x480 with 1 Axes>"
      ]
     },
     "metadata": {},
     "output_type": "display_data"
    }
   ],
   "source": [
    "X = list(dict(G.degree).values())\n",
    "plt.yscale(\"log\")\n",
    "plt.title(\"Distribution Of Degree For Movie Network\")\n",
    "plt.xlabel(\"Degree\")\n",
    "plt.ylabel(\"Log Count\")\n",
    "plt.hist(X, 40, alpha=0.75);"
   ]
  },
  {
   "cell_type": "markdown",
   "metadata": {},
   "source": [
    "### Community detection"
   ]
  },
  {
   "cell_type": "code",
   "execution_count": 59,
   "id": "f9c70eb8",
   "metadata": {},
   "outputs": [],
   "source": [
    "def community_modularity(G, c, L):\n",
    "    s = G.subgraph(c)\n",
    "    L_c = s.number_of_edges()\n",
    "    k_c = sum(dict(s.degree()).values())\n",
    "    M_c = L_c / L - (k_c / (2 * L)) ** 2\n",
    "    return M_c\n",
    "\n",
    "def modularity(G, partitions):\n",
    "    L = G.number_of_edges()\n",
    "    return sum((community_modularity(G, c, L) for c in partitions))"
   ]
  },
  {
   "cell_type": "code",
   "execution_count": 60,
   "metadata": {},
   "outputs": [],
   "source": [
    "def louvain_partitions(G):\n",
    "    partition = community_louvain.best_partition(G)\n",
    "    groups = defaultdict(set)\n",
    "    for node, comm in partition.items():\n",
    "        groups[comm].add(node)\n",
    "    return list(groups.values())"
   ]
  },
  {
   "cell_type": "code",
   "execution_count": 61,
   "metadata": {},
   "outputs": [
    {
     "data": {
      "text/plain": [
       "363"
      ]
     },
     "execution_count": 61,
     "metadata": {},
     "output_type": "execute_result"
    }
   ],
   "source": [
    "communities = louvain_partitions(G)\n",
    "len(communities)"
   ]
  },
  {
   "cell_type": "code",
   "execution_count": 53,
   "id": "9ccbeccb",
   "metadata": {},
   "outputs": [
    {
     "data": {
      "text/plain": [
       "0.7512698606438895"
      ]
     },
     "execution_count": 53,
     "metadata": {},
     "output_type": "execute_result"
    }
   ],
   "source": [
    "modularity(G, communities) "
   ]
  },
  {
   "cell_type": "markdown",
   "id": "00eb4b9d",
   "metadata": {},
   "source": [
    "### Text analysis"
   ]
  },
  {
   "cell_type": "code",
   "execution_count": null,
   "id": "f3d11dde",
   "metadata": {},
   "outputs": [],
   "source": []
  }
 ],
 "metadata": {
  "kernelspec": {
   "display_name": "Python 3",
   "language": "python",
   "name": "python3"
  },
  "language_info": {
   "codemirror_mode": {
    "name": "ipython",
    "version": 3
   },
   "file_extension": ".py",
   "mimetype": "text/x-python",
   "name": "python",
   "nbconvert_exporter": "python",
   "pygments_lexer": "ipython3",
   "version": "3.12.7"
  }
 },
 "nbformat": 4,
 "nbformat_minor": 5
}
