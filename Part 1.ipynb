{
 "cells": [
  {
   "cell_type": "code",
   "execution_count": 1,
   "id": "8c0720ba",
   "metadata": {},
   "outputs": [
    {
     "name": "stderr",
     "output_type": "stream",
     "text": [
      "[nltk_data] Downloading package stopwords to\n",
      "[nltk_data]     C:\\Users\\juliu\\AppData\\Roaming\\nltk_data...\n",
      "[nltk_data]   Package stopwords is already up-to-date!\n"
     ]
    },
    {
     "data": {
      "text/plain": [
       "True"
      ]
     },
     "execution_count": 1,
     "metadata": {},
     "output_type": "execute_result"
    }
   ],
   "source": [
    "import polars as pl\n",
    "from itertools import combinations\n",
    "from collections import Counter, defaultdict\n",
    "import networkx as nx\n",
    "from tqdm import tqdm\n",
    "import numpy as np\n",
    "import matplotlib.pyplot as plt\n",
    "from community import community_louvain\n",
    "import seaborn as sns\n",
    "from nltk import PorterStemmer, bigrams as nltk_bigrams\n",
    "from nltk.tokenize import MWETokenizer\n",
    "import nltk\n",
    "from scipy.stats import chi2\n",
    "from nltk.corpus import stopwords\n",
    "from functools import lru_cache\n",
    "from wordcloud import WordCloud\n",
    "\n",
    "sns.set_style(\"darkgrid\")\n",
    "nltk.download('stopwords')"
   ]
  },
  {
   "cell_type": "markdown",
   "id": "97b24ded",
   "metadata": {},
   "source": [
    "# Final project - Computational Social Science (02476)\n",
    "\n",
    "> Data is available [here](https://amazon-reviews-2023.github.io/)"
   ]
  },
  {
   "cell_type": "markdown",
   "metadata": {},
   "source": [
    "## 0. Table of Content\n",
    "[1. Motivation](#1-motivation)  \n",
    "[2. Statistics](#2-statistics)  \n",
    "[3. Analysis](#3-analysis)  \n",
    " [3.1 Network](#31-network)  \n",
    " [3.2 Graph](#32-graph)  \n",
    " [3.3 Text analysis](#33-text-analysis)  \n",
    " [3.4 Word clouds](#34-word-clouds)  \n",
    "[4. Discussion](#4-discussion)\n"
   ]
  },
  {
   "cell_type": "markdown",
   "id": "71d0f359",
   "metadata": {},
   "source": [
    "## 1. Motivation"
   ]
  },
  {
   "cell_type": "markdown",
   "id": "76f27e13",
   "metadata": {},
   "source": [
    "This project uses an Amazon movie and TV review dataset. It is about 8.2GB for the main dataset and about 1.3GB for the meta dataset. It contains different types of physical media from Amazons web shop and digital streaming from Prime video. The media contains not only movies, documentaries and TV series but also a diverse range of video content, such as cookbooks and fitness programs. The main features for this projects will be:\n",
    "\n",
    "- \"title\", movie or TV title for product\n",
    "- \"asin\", unique internal Amazon product id\n",
    "- \"parent_asin\", internal Amazon product id that covers small product variations in product\n",
    "- \"user_id\", Amazon customers who have reviewed a product\n",
    "- \"text\", review of a product\n",
    "\n",
    "The dataset was choosen as it was a large comprehensive dataset of movies and other media with title, users and reviews. Grouping and defining movies and TV in an alternative way then standard genres was the goal of this project. By using graph theory it will discover if there is any structure in the way people consume media or if peoples taste are to diverse. This also creates an opportunity for consumers to draw inspiration for movies and TV from clusters similar to their own taste or perhaps discover new things to watch based on word clouds. "
   ]
  },
  {
   "cell_type": "markdown",
   "id": "3099dfb3",
   "metadata": {},
   "source": [
    "### Constants and function definitions"
   ]
  },
  {
   "cell_type": "code",
   "execution_count": 2,
   "id": "d4ec7f02",
   "metadata": {},
   "outputs": [],
   "source": [
    "REVIEW_DATA_FILE = 'dataset/Movies_and_TV.jsonl'\n",
    "META_DATA_FILE = \"dataset/meta_Movies_and_TV.jsonl\"\n",
    "EXTENDED_META_DATA_FILE = \"dataset/meta_Movies_and_TV_extended.jsonl\""
   ]
  },
  {
   "cell_type": "markdown",
   "id": "b40e90b8",
   "metadata": {},
   "source": [
    "## 2. Statistics"
   ]
  },
  {
   "cell_type": "markdown",
   "metadata": {},
   "source": [
    "Initial processing was removing putting together meta data with main dataset and making sure all parent asin and asin points all data points that was missing a title and everything in brackets was removed from the titles as that was from type of media or different edition. This was done as all media with the same title was then made to point to the same parent asin to remove duplicates from same series or different editions of same movies. "
   ]
  },
  {
   "cell_type": "markdown",
   "id": "db51d1c7",
   "metadata": {},
   "source": [
    "### Process meta data"
   ]
  },
  {
   "cell_type": "code",
   "execution_count": 3,
   "id": "77c50ec4",
   "metadata": {},
   "outputs": [
    {
     "name": "stdout",
     "output_type": "stream",
     "text": [
      "748236\n"
     ]
    },
    {
     "data": {
      "text/html": [
       "<div><style>\n",
       ".dataframe > thead > tr,\n",
       ".dataframe > tbody > tr {\n",
       "  text-align: right;\n",
       "  white-space: pre-wrap;\n",
       "}\n",
       "</style>\n",
       "<small>shape: (5, 9)</small><table border=\"1\" class=\"dataframe\"><thead><tr><th>title</th><th>average_rating</th><th>rating_number</th><th>description</th><th>price</th><th>categories</th><th>content_advisory</th><th>asin</th><th>desc_len</th></tr><tr><td>str</td><td>f64</td><td>i64</td><td>str</td><td>f64</td><td>list[str]</td><td>list[str]</td><td>str</td><td>u32</td></tr></thead><tbody><tr><td>&quot;Glee&quot;</td><td>4.7</td><td>2004</td><td>&quot;Entering its fourth season, th…</td><td>22.39</td><td>[&quot;Comedy&quot;, &quot;Drama&quot;, … &quot;Music Videos and Concerts&quot;]</td><td>[&quot;Violence&quot;, &quot;substance use&quot;, … &quot;sexual content&quot;]</td><td>&quot;B00ABWKL3I&quot;</td><td>396</td></tr><tr><td>&quot;One Perfect Wedding&quot;</td><td>3.0</td><td>6</td><td>&quot;With her book tour in two week…</td><td>-1.0</td><td>[&quot;Comedy&quot;, &quot;Drama&quot;, &quot;Romance&quot;]</td><td>[]</td><td>&quot;B09WDLJ4HP&quot;</td><td>219</td></tr><tr><td>&quot;How to Make Animatronic Charac…</td><td>5.0</td><td>7</td><td>&quot;Product Description&quot;</td><td>64.99</td><td>[&quot;Movies &amp; TV&quot;, &quot;Genre for Featured Categories&quot;, &quot;Special Interests&quot;]</td><td>[]</td><td>&quot;B00AHN851G&quot;</td><td>19</td></tr><tr><td>&quot;Ode to Joy: Beethoven&#x27;s Sympho…</td><td>4.3</td><td>35</td><td>&quot;This special Ode to Joy: Beeth…</td><td>5.99</td><td>[&quot;Documentary&quot;]</td><td>[]</td><td>&quot;B01G9ILXXE&quot;</td><td>234</td></tr><tr><td>&quot;Ben 10: Alien Force&quot;</td><td>4.7</td><td>360</td><td>&quot;Itâ€™s hero time again for Ben…</td><td>24.49</td><td>[&quot;Science Fiction&quot;, &quot;Comedy&quot;, … &quot;Drama&quot;]</td><td>[]</td><td>&quot;B009SIYXDA&quot;</td><td>377</td></tr></tbody></table></div>"
      ],
      "text/plain": [
       "shape: (5, 9)\n",
       "┌───────────┬───────────┬───────────┬───────────┬───┬───────────┬───────────┬───────────┬──────────┐\n",
       "│ title     ┆ average_r ┆ rating_nu ┆ descripti ┆ … ┆ categorie ┆ content_a ┆ asin      ┆ desc_len │\n",
       "│ ---       ┆ ating     ┆ mber      ┆ on        ┆   ┆ s         ┆ dvisory   ┆ ---       ┆ ---      │\n",
       "│ str       ┆ ---       ┆ ---       ┆ ---       ┆   ┆ ---       ┆ ---       ┆ str       ┆ u32      │\n",
       "│           ┆ f64       ┆ i64       ┆ str       ┆   ┆ list[str] ┆ list[str] ┆           ┆          │\n",
       "╞═══════════╪═══════════╪═══════════╪═══════════╪═══╪═══════════╪═══════════╪═══════════╪══════════╡\n",
       "│ Glee      ┆ 4.7       ┆ 2004      ┆ Entering  ┆ … ┆ [\"Comedy\" ┆ [\"Violenc ┆ B00ABWKL3 ┆ 396      │\n",
       "│           ┆           ┆           ┆ its       ┆   ┆ ,         ┆ e\", \"subs ┆ I         ┆          │\n",
       "│           ┆           ┆           ┆ fourth    ┆   ┆ \"Drama\",  ┆ tance     ┆           ┆          │\n",
       "│           ┆           ┆           ┆ season,   ┆   ┆ … \"Music  ┆ use\", …   ┆           ┆          │\n",
       "│           ┆           ┆           ┆ th…       ┆   ┆ V…        ┆           ┆           ┆          │\n",
       "│ One       ┆ 3.0       ┆ 6         ┆ With her  ┆ … ┆ [\"Comedy\" ┆ []        ┆ B09WDLJ4H ┆ 219      │\n",
       "│ Perfect   ┆           ┆           ┆ book tour ┆   ┆ ,         ┆           ┆ P         ┆          │\n",
       "│ Wedding   ┆           ┆           ┆ in two    ┆   ┆ \"Drama\",  ┆           ┆           ┆          │\n",
       "│           ┆           ┆           ┆ week…     ┆   ┆ \"Romance\" ┆           ┆           ┆          │\n",
       "│           ┆           ┆           ┆           ┆   ┆ ]         ┆           ┆           ┆          │\n",
       "│ How to    ┆ 5.0       ┆ 7         ┆ Product   ┆ … ┆ [\"Movies  ┆ []        ┆ B00AHN851 ┆ 19       │\n",
       "│ Make Anim ┆           ┆           ┆ Descripti ┆   ┆ & TV\",    ┆           ┆ G         ┆          │\n",
       "│ atronic   ┆           ┆           ┆ on        ┆   ┆ \"Genre    ┆           ┆           ┆          │\n",
       "│ Charac…   ┆           ┆           ┆           ┆   ┆ for Fea…  ┆           ┆           ┆          │\n",
       "│ Ode to    ┆ 4.3       ┆ 35        ┆ This      ┆ … ┆ [\"Documen ┆ []        ┆ B01G9ILXX ┆ 234      │\n",
       "│ Joy: Beet ┆           ┆           ┆ special   ┆   ┆ tary\"]    ┆           ┆ E         ┆          │\n",
       "│ hoven's   ┆           ┆           ┆ Ode to    ┆   ┆           ┆           ┆           ┆          │\n",
       "│ Sympho…   ┆           ┆           ┆ Joy:      ┆   ┆           ┆           ┆           ┆          │\n",
       "│           ┆           ┆           ┆ Beeth…    ┆   ┆           ┆           ┆           ┆          │\n",
       "│ Ben 10:   ┆ 4.7       ┆ 360       ┆ Itâ€™s    ┆ … ┆ [\"Science ┆ []        ┆ B009SIYXD ┆ 377      │\n",
       "│ Alien     ┆           ┆           ┆ hero time ┆   ┆ Fiction\", ┆           ┆ A         ┆          │\n",
       "│ Force     ┆           ┆           ┆ again for ┆   ┆ \"Comedy\", ┆           ┆           ┆          │\n",
       "│           ┆           ┆           ┆ Ben…      ┆   ┆ …         ┆           ┆           ┆          │\n",
       "└───────────┴───────────┴───────────┴───────────┴───┴───────────┴───────────┴───────────┴──────────┘"
      ]
     },
     "execution_count": 3,
     "metadata": {},
     "output_type": "execute_result"
    }
   ],
   "source": [
    "schema = {\n",
    "    \"title\": pl.Utf8,\n",
    "    \"average_rating\": pl.Float64,\n",
    "    \"rating_number\": pl.Int64,\n",
    "    \"description\": pl.List(pl.Utf8),\n",
    "    \"price\": pl.Utf8,\n",
    "    \"categories\": pl.List(pl.Utf8),\n",
    "    \"details\": pl.Struct([\n",
    "        pl.Field(\"Content advisory\", pl.List(pl.Utf8)),\n",
    "    ]),\n",
    "    \"parent_asin\": pl.Utf8,\n",
    "}\n",
    "\n",
    "df_meta_1 = pl.read_ndjson(META_DATA_FILE, schema=schema).rename({\"parent_asin\": \"asin\"})\n",
    "df_meta_2 = pl.read_ndjson(EXTENDED_META_DATA_FILE, schema=schema).rename({\"parent_asin\": \"asin\"})\n",
    "\n",
    "df_meta = pl.concat([df_meta_1, df_meta_2])\n",
    "\n",
    "# Map prices\n",
    "df_meta = df_meta.with_columns(\n",
    "    pl.col(\"price\")\n",
    "    .str.extract(r\"([0-9]+(?:\\.[0-9]+)?)\", 1)\n",
    "    .cast(pl.Float64)\n",
    "    .fill_null(-1)\n",
    ")\n",
    "\n",
    "# Map title\n",
    "df_meta = df_meta.with_columns(\n",
    "    pl.col(\"title\")\n",
    "        .str.replace_all(r\"\\[.*?\\]\", \"\", literal=False)\n",
    "        .str.replace_all(r\"\\(.*?\\)\", \"\", literal=False)\n",
    "        .str.replace_all(r\":\\s*Season\\s*\\d+\", \"\", literal=False) # Group all seasons\n",
    "        .str.strip_chars()\n",
    "        .alias(\"title\")\n",
    ")\n",
    "\n",
    "# Map description\n",
    "df_meta = df_meta.with_columns(\n",
    "    pl.when(\n",
    "        pl.col(\"description\").is_null() |\n",
    "        (pl.col(\"description\").list.eval(pl.element()).list.len() == 0)\n",
    "    )\n",
    "    .then(pl.lit([\"\"]).cast(pl.List(pl.Utf8)))\n",
    "    .otherwise(pl.col(\"description\"))\n",
    "    .alias(\"description\")\n",
    ")\n",
    "\n",
    "df_meta = df_meta.with_columns(\n",
    "    pl.col(\"description\").list.get(0).alias(\"description\") # TODO GET THE LONGEST DESCRIPTION\n",
    ")\n",
    "\n",
    "df_meta = df_meta.with_columns(\n",
    "    pl.col(\"description\").str.len_chars().alias(\"desc_len\")\n",
    ")\n",
    "\n",
    "# Map Content advisory\n",
    "df_meta = df_meta.with_columns(\n",
    "    pl.struct([\"details\"]).map_elements(\n",
    "        lambda s: s[\"details\"][\"Content advisory\"] if s[\"details\"] and \"Content advisory\" in s[\"details\"] else [],\n",
    "        return_dtype=pl.List(pl.Utf8)\n",
    "    ).alias(\"details\")\n",
    ").rename({\"details\": \"content_advisory\"})\n",
    "\n",
    "print(df_meta.height)\n",
    "\n",
    "df_meta.limit(5)"
   ]
  },
  {
   "cell_type": "code",
   "execution_count": 4,
   "id": "a624bf55",
   "metadata": {},
   "outputs": [
    {
     "name": "stdout",
     "output_type": "stream",
     "text": [
      "319480\n"
     ]
    },
    {
     "data": {
      "text/html": [
       "<div><style>\n",
       ".dataframe > thead > tr,\n",
       ".dataframe > tbody > tr {\n",
       "  text-align: right;\n",
       "  white-space: pre-wrap;\n",
       "}\n",
       "</style>\n",
       "<small>shape: (5, 10)</small><table border=\"1\" class=\"dataframe\"><thead><tr><th>title</th><th>asins</th><th>asin</th><th>average_rating</th><th>rating_number</th><th>description</th><th>price</th><th>categories</th><th>content_advisory</th><th>num_asins</th></tr><tr><td>str</td><td>list[str]</td><td>str</td><td>f64</td><td>i64</td><td>str</td><td>f64</td><td>list[str]</td><td>list[str]</td><td>u32</td></tr></thead><tbody><tr><td>null</td><td>[&quot;B078RYRNFX&quot;, &quot;B006QPVHMI&quot;, … &quot;B07CZSHXM6&quot;]</td><td>&quot;B072JHHC7Z&quot;</td><td>null</td><td>null</td><td>&quot;&quot;</td><td>-1.0</td><td>null</td><td>[&quot;Foul language&quot;, &quot;sexual content&quot;]</td><td>313988</td></tr><tr><td>&quot;Charlie Rose&quot;</td><td>[&quot;B000IU35TK&quot;, &quot;B000HBL4DY&quot;, … &quot;B000HBL87G&quot;]</td><td>&quot;B000IU34D2&quot;</td><td>5.0</td><td>1</td><td>&quot;First, Dame Joan Sutherland sp…</td><td>-1.0</td><td>[&quot;Movies &amp; TV&quot;, &quot;Charlie Rose Store&quot;, &quot;All Titles&quot;]</td><td>[]</td><td>65</td></tr><tr><td>&quot;The Walking Dead&quot;</td><td>[&quot;B09CCZWJ94&quot;, &quot;B005WGBQ9G&quot;, … &quot;B00BOL0TSM&quot;]</td><td>&quot;B005LAJ22Q&quot;</td><td>4.8</td><td>7916</td><td>&quot;When the world is ravaged by a…</td><td>18.98</td><td>[&quot;Movies &amp; TV&quot;, &quot;Boxed Sets&quot;, &quot;Television&quot;]</td><td>[]</td><td>59</td></tr><tr><td>&quot;Game of Thrones&quot;</td><td>[&quot;B07N3RPPH7&quot;, &quot;B07N3RVN1K&quot;, … &quot;B06XX3H949&quot;]</td><td>&quot;B01BGU5UH0&quot;</td><td>4.7</td><td>7402</td><td>&quot;Based on the bestselling book …</td><td>14.99</td><td>[&quot;Movies &amp; TV&quot;, &quot;Blu-ray&quot;, &quot;TV&quot;]</td><td>[]</td><td>57</td></tr><tr><td>&quot;Cinderella&quot;</td><td>[&quot;B00UGQHWU4&quot;, &quot;B00L9SHYHE&quot;, … &quot;B00L9SHYOC&quot;]</td><td>&quot;B00V6C5Z0Q&quot;</td><td>4.7</td><td>1819</td><td>&quot;The story of “Cinderella” foll…</td><td>7.99</td><td>[&quot;Movies &amp; TV&quot;, &quot;Walt Disney Studios Home Entertainment&quot;, &quot;All Disney Titles&quot;]</td><td>[]</td><td>56</td></tr></tbody></table></div>"
      ],
      "text/plain": [
       "shape: (5, 10)\n",
       "┌────────────┬────────────┬────────────┬───────────┬───┬───────┬───────────┬───────────┬───────────┐\n",
       "│ title      ┆ asins      ┆ asin       ┆ average_r ┆ … ┆ price ┆ categorie ┆ content_a ┆ num_asins │\n",
       "│ ---        ┆ ---        ┆ ---        ┆ ating     ┆   ┆ ---   ┆ s         ┆ dvisory   ┆ ---       │\n",
       "│ str        ┆ list[str]  ┆ str        ┆ ---       ┆   ┆ f64   ┆ ---       ┆ ---       ┆ u32       │\n",
       "│            ┆            ┆            ┆ f64       ┆   ┆       ┆ list[str] ┆ list[str] ┆           │\n",
       "╞════════════╪════════════╪════════════╪═══════════╪═══╪═══════╪═══════════╪═══════════╪═══════════╡\n",
       "│ null       ┆ [\"B078RYRN ┆ B072JHHC7Z ┆ null      ┆ … ┆ -1.0  ┆ null      ┆ [\"Foul    ┆ 313988    │\n",
       "│            ┆ FX\", \"B006 ┆            ┆           ┆   ┆       ┆           ┆ language\" ┆           │\n",
       "│            ┆ QPVHMI\",   ┆            ┆           ┆   ┆       ┆           ┆ , \"sexual ┆           │\n",
       "│            ┆ ……         ┆            ┆           ┆   ┆       ┆           ┆ cont…     ┆           │\n",
       "│ Charlie    ┆ [\"B000IU35 ┆ B000IU34D2 ┆ 5.0       ┆ … ┆ -1.0  ┆ [\"Movies  ┆ []        ┆ 65        │\n",
       "│ Rose       ┆ TK\", \"B000 ┆            ┆           ┆   ┆       ┆ & TV\",    ┆           ┆           │\n",
       "│            ┆ HBL4DY\",   ┆            ┆           ┆   ┆       ┆ \"Charlie  ┆           ┆           │\n",
       "│            ┆ ……         ┆            ┆           ┆   ┆       ┆ Rose …    ┆           ┆           │\n",
       "│ The        ┆ [\"B09CCZWJ ┆ B005LAJ22Q ┆ 4.8       ┆ … ┆ 18.98 ┆ [\"Movies  ┆ []        ┆ 59        │\n",
       "│ Walking    ┆ 94\", \"B005 ┆            ┆           ┆   ┆       ┆ & TV\",    ┆           ┆           │\n",
       "│ Dead       ┆ WGBQ9G\",   ┆            ┆           ┆   ┆       ┆ \"Boxed    ┆           ┆           │\n",
       "│            ┆ ……         ┆            ┆           ┆   ┆       ┆ Sets\", …  ┆           ┆           │\n",
       "│ Game of    ┆ [\"B07N3RPP ┆ B01BGU5UH0 ┆ 4.7       ┆ … ┆ 14.99 ┆ [\"Movies  ┆ []        ┆ 57        │\n",
       "│ Thrones    ┆ H7\", \"B07N ┆            ┆           ┆   ┆       ┆ & TV\",    ┆           ┆           │\n",
       "│            ┆ 3RVN1K\",   ┆            ┆           ┆   ┆       ┆ \"Blu-ray\" ┆           ┆           │\n",
       "│            ┆ ……         ┆            ┆           ┆   ┆       ┆ , \"TV…    ┆           ┆           │\n",
       "│ Cinderella ┆ [\"B00UGQHW ┆ B00V6C5Z0Q ┆ 4.7       ┆ … ┆ 7.99  ┆ [\"Movies  ┆ []        ┆ 56        │\n",
       "│            ┆ U4\", \"B00L ┆            ┆           ┆   ┆       ┆ & TV\",    ┆           ┆           │\n",
       "│            ┆ 9SHYHE\",   ┆            ┆           ┆   ┆       ┆ \"Walt     ┆           ┆           │\n",
       "│            ┆ ……         ┆            ┆           ┆   ┆       ┆ Disney S… ┆           ┆           │\n",
       "└────────────┴────────────┴────────────┴───────────┴───┴───────┴───────────┴───────────┴───────────┘"
      ]
     },
     "execution_count": 4,
     "metadata": {},
     "output_type": "execute_result"
    }
   ],
   "source": [
    "best_per_title = (\n",
    "    df_meta.sort([\"desc_len\", \"rating_number\"], descending=[True, True])\n",
    "    .group_by(\"title\")\n",
    "    .agg([\n",
    "        pl.col(\"asin\").unique().alias(\"asins\"),\n",
    "        pl.first(\"asin\").alias(\"asin\"), \n",
    "        pl.first(\"average_rating\"),\n",
    "        pl.first(\"rating_number\"),\n",
    "        pl.first(\"description\"),\n",
    "        pl.first(\"price\"),\n",
    "        pl.first(\"categories\"),\n",
    "        pl.first(\"content_advisory\")\n",
    "    ])\n",
    "    .with_columns(\n",
    "        pl.col(\"asins\").list.len().alias(\"num_asins\")\n",
    "    )\n",
    ")\n",
    "print(best_per_title.height)\n",
    "best_per_title.sort(\"num_asins\", descending=True).limit(5)"
   ]
  },
  {
   "cell_type": "markdown",
   "id": "1401dd6e",
   "metadata": {},
   "source": [
    "### Process review data"
   ]
  },
  {
   "cell_type": "code",
   "execution_count": 5,
   "id": "99535484",
   "metadata": {},
   "outputs": [
    {
     "name": "stdout",
     "output_type": "stream",
     "text": [
      "Number of ratings: 2888210\n"
     ]
    },
    {
     "data": {
      "text/html": [
       "<div><style>\n",
       ".dataframe > thead > tr,\n",
       ".dataframe > tbody > tr {\n",
       "  text-align: right;\n",
       "  white-space: pre-wrap;\n",
       "}\n",
       "</style>\n",
       "<small>shape: (5, 5)</small><table border=\"1\" class=\"dataframe\"><thead><tr><th>user_id</th><th>timestamp</th><th>rating</th><th>asin</th><th>text</th></tr><tr><td>str</td><td>i64</td><td>f64</td><td>str</td><td>str</td></tr></thead><tbody><tr><td>&quot;AGXVBIUFLFGMVLATYXHJYL4A5Q7Q&quot;</td><td>1146713492000</td><td>5.0</td><td>&quot;B0002J58ME&quot;</td><td>&quot;This DVD was GREAT!&nbsp;&nbsp;I am a st…</td></tr><tr><td>&quot;AEFKF6R2GUSK2AWPSWRR4ZO36JVQ&quot;</td><td>1556496429981</td><td>3.0</td><td>&quot;B000PIU2A0&quot;</td><td>&quot;this item was canceled. . . .n…</td></tr><tr><td>&quot;AEFKF6R2GUSK2AWPSWRR4ZO36JVQ&quot;</td><td>1364088518000</td><td>5.0</td><td>&quot;B001JNNDRY&quot;</td><td>&quot;I grew up with this one. could…</td></tr><tr><td>&quot;AEFKF6R2GUSK2AWPSWRR4ZO36JVQ&quot;</td><td>1364088147000</td><td>4.0</td><td>&quot;B000TSMOEI&quot;</td><td>&quot;like watching: haven&#x27;t gotten …</td></tr><tr><td>&quot;AEFKF6R2GUSK2AWPSWRR4ZO36JVQ&quot;</td><td>1364087577000</td><td>4.0</td><td>&quot;B0009MAO82&quot;</td><td>&quot;pretty cool to watch: differen…</td></tr></tbody></table></div>"
      ],
      "text/plain": [
       "shape: (5, 5)\n",
       "┌──────────────────────────────┬───────────────┬────────┬────────────┬─────────────────────────────┐\n",
       "│ user_id                      ┆ timestamp     ┆ rating ┆ asin       ┆ text                        │\n",
       "│ ---                          ┆ ---           ┆ ---    ┆ ---        ┆ ---                         │\n",
       "│ str                          ┆ i64           ┆ f64    ┆ str        ┆ str                         │\n",
       "╞══════════════════════════════╪═══════════════╪════════╪════════════╪═════════════════════════════╡\n",
       "│ AGXVBIUFLFGMVLATYXHJYL4A5Q7Q ┆ 1146713492000 ┆ 5.0    ┆ B0002J58ME ┆ This DVD was GREAT!  I am a │\n",
       "│                              ┆               ┆        ┆            ┆ st…                         │\n",
       "│ AEFKF6R2GUSK2AWPSWRR4ZO36JVQ ┆ 1556496429981 ┆ 3.0    ┆ B000PIU2A0 ┆ this item was canceled. . . │\n",
       "│                              ┆               ┆        ┆            ┆ .n…                         │\n",
       "│ AEFKF6R2GUSK2AWPSWRR4ZO36JVQ ┆ 1364088518000 ┆ 5.0    ┆ B001JNNDRY ┆ I grew up with this one.    │\n",
       "│                              ┆               ┆        ┆            ┆ could…                      │\n",
       "│ AEFKF6R2GUSK2AWPSWRR4ZO36JVQ ┆ 1364088147000 ┆ 4.0    ┆ B000TSMOEI ┆ like watching: haven't      │\n",
       "│                              ┆               ┆        ┆            ┆ gotten …                    │\n",
       "│ AEFKF6R2GUSK2AWPSWRR4ZO36JVQ ┆ 1364087577000 ┆ 4.0    ┆ B0009MAO82 ┆ pretty cool to watch:       │\n",
       "│                              ┆               ┆        ┆            ┆ differen…                   │\n",
       "└──────────────────────────────┴───────────────┴────────┴────────────┴─────────────────────────────┘"
      ]
     },
     "execution_count": 5,
     "metadata": {},
     "output_type": "execute_result"
    }
   ],
   "source": [
    "df = pl.scan_ndjson(REVIEW_DATA_FILE).filter(pl.col('verified_purchase') == True).filter(pl.col('helpful_vote') != 0)\n",
    "existing = set(df.collect_schema().keys())\n",
    "drop_cols = {'images', 'style', 'verified_purchase', 'asin', 'helpful_vote', 'title'} \n",
    "keep_cols = list(existing - drop_cols)\n",
    "df = df.select(keep_cols).rename({'parent_asin': 'asin'})\n",
    "df = df.collect()\n",
    "print(f\"Number of ratings: {df.height}\")\n",
    "df.limit(5)"
   ]
  },
  {
   "cell_type": "code",
   "execution_count": 6,
   "id": "ce1166e6",
   "metadata": {},
   "outputs": [
    {
     "data": {
      "text/plain": [
       "(2888210, 409673)"
      ]
     },
     "execution_count": 6,
     "metadata": {},
     "output_type": "execute_result"
    }
   ],
   "source": [
    "df.height, df.get_column(\"asin\").n_unique()"
   ]
  },
  {
   "cell_type": "code",
   "execution_count": 7,
   "id": "31ea2473",
   "metadata": {},
   "outputs": [],
   "source": [
    "asin_title_map = (\n",
    "    best_per_title.select([\n",
    "        pl.col(\"title\"),\n",
    "        pl.col(\"asins\"),\n",
    "        pl.col(\"average_rating\"),\n",
    "        pl.col(\"price\")\n",
    "    ]).explode(\"asins\")\n",
    "    .rename({\"asins\": \"asin\"})\n",
    "    .sort(\"title\", nulls_last=True)\n",
    "    .unique(subset=[\"asin\"], keep=\"first\")\n",
    ")\n",
    "\n",
    "df_reviews = df.join(\n",
    "    asin_title_map,\n",
    "    on=\"asin\",\n",
    "    how=\"left\"\n",
    ")"
   ]
  },
  {
   "cell_type": "markdown",
   "id": "9b5d29ec",
   "metadata": {},
   "source": [
    "> All the asin with missing meta data sorted by number of reviews"
   ]
  },
  {
   "cell_type": "code",
   "execution_count": 8,
   "id": "c8a7016c",
   "metadata": {},
   "outputs": [
    {
     "data": {
      "text/html": [
       "<div><style>\n",
       ".dataframe > thead > tr,\n",
       ".dataframe > tbody > tr {\n",
       "  text-align: right;\n",
       "  white-space: pre-wrap;\n",
       "}\n",
       "</style>\n",
       "<small>shape: (10, 2)</small><table border=\"1\" class=\"dataframe\"><thead><tr><th>asin</th><th>null_title_review_count</th></tr><tr><td>str</td><td>u32</td></tr></thead><tbody><tr><td>&quot;B097YYZ87F&quot;</td><td>3406</td></tr><tr><td>&quot;B00I3MOU4Y&quot;</td><td>3133</td></tr><tr><td>&quot;B08QZN6LCM&quot;</td><td>3123</td></tr><tr><td>&quot;B01J776HVW&quot;</td><td>2603</td></tr><tr><td>&quot;B017AOY4WS&quot;</td><td>2183</td></tr><tr><td>&quot;B08VF7CR17&quot;</td><td>1874</td></tr><tr><td>&quot;B08LMJ93LL&quot;</td><td>1767</td></tr><tr><td>&quot;B00LPRKH5U&quot;</td><td>1498</td></tr><tr><td>&quot;B00RSGJ0DW&quot;</td><td>1453</td></tr><tr><td>&quot;B00TPJG4QG&quot;</td><td>1396</td></tr></tbody></table></div>"
      ],
      "text/plain": [
       "shape: (10, 2)\n",
       "┌────────────┬─────────────────────────┐\n",
       "│ asin       ┆ null_title_review_count │\n",
       "│ ---        ┆ ---                     │\n",
       "│ str        ┆ u32                     │\n",
       "╞════════════╪═════════════════════════╡\n",
       "│ B097YYZ87F ┆ 3406                    │\n",
       "│ B00I3MOU4Y ┆ 3133                    │\n",
       "│ B08QZN6LCM ┆ 3123                    │\n",
       "│ B01J776HVW ┆ 2603                    │\n",
       "│ B017AOY4WS ┆ 2183                    │\n",
       "│ B08VF7CR17 ┆ 1874                    │\n",
       "│ B08LMJ93LL ┆ 1767                    │\n",
       "│ B00LPRKH5U ┆ 1498                    │\n",
       "│ B00RSGJ0DW ┆ 1453                    │\n",
       "│ B00TPJG4QG ┆ 1396                    │\n",
       "└────────────┴─────────────────────────┘"
      ]
     },
     "execution_count": 8,
     "metadata": {},
     "output_type": "execute_result"
    }
   ],
   "source": [
    "counts = (\n",
    "    df_reviews\n",
    "    .filter(pl.col(\"title\").is_null())\n",
    "    .group_by(\"asin\")\n",
    "    .agg(pl.len().alias(\"null_title_review_count\"))\n",
    "    .sort(\"null_title_review_count\", descending=True)\n",
    ")\n",
    "counts.limit(10)"
   ]
  },
  {
   "cell_type": "code",
   "execution_count": 9,
   "id": "dc053c1a",
   "metadata": {},
   "outputs": [
    {
     "name": "stdout",
     "output_type": "stream",
     "text": [
      "1641575\n"
     ]
    },
    {
     "data": {
      "text/html": [
       "<div><style>\n",
       ".dataframe > thead > tr,\n",
       ".dataframe > tbody > tr {\n",
       "  text-align: right;\n",
       "  white-space: pre-wrap;\n",
       "}\n",
       "</style>\n",
       "<small>shape: (5, 8)</small><table border=\"1\" class=\"dataframe\"><thead><tr><th>user_id</th><th>timestamp</th><th>rating</th><th>asin</th><th>text</th><th>title</th><th>average_rating</th><th>price</th></tr><tr><td>str</td><td>i64</td><td>f64</td><td>str</td><td>str</td><td>str</td><td>f64</td><td>f64</td></tr></thead><tbody><tr><td>&quot;AGXVBIUFLFGMVLATYXHJYL4A5Q7Q&quot;</td><td>1146713492000</td><td>5.0</td><td>&quot;B0002J58ME&quot;</td><td>&quot;This DVD was GREAT!&nbsp;&nbsp;I am a st…</td><td>&quot;10 Minute Solution: Pilates&quot;</td><td>4.6</td><td>8.77</td></tr><tr><td>&quot;AEFKF6R2GUSK2AWPSWRR4ZO36JVQ&quot;</td><td>1556496429981</td><td>3.0</td><td>&quot;B000PIU2A0&quot;</td><td>&quot;this item was canceled. . . .n…</td><td>&quot;Battlespace&quot;</td><td>3.5</td><td>19.99</td></tr><tr><td>&quot;AEFKF6R2GUSK2AWPSWRR4ZO36JVQ&quot;</td><td>1364088518000</td><td>5.0</td><td>&quot;B001JNNDRY&quot;</td><td>&quot;I grew up with this one. could…</td><td>&quot;Columbo: Mystery Movie Collect…</td><td>4.7</td><td>13.4</td></tr><tr><td>&quot;AEFKF6R2GUSK2AWPSWRR4ZO36JVQ&quot;</td><td>1364088147000</td><td>4.0</td><td>&quot;B000TSMOEI&quot;</td><td>&quot;like watching: haven&#x27;t gotten …</td><td>&quot;Burst Angel: Hired Gun v.4&quot;</td><td>4.0</td><td>6.26</td></tr><tr><td>&quot;AEFKF6R2GUSK2AWPSWRR4ZO36JVQ&quot;</td><td>1364087577000</td><td>4.0</td><td>&quot;B0009MAO82&quot;</td><td>&quot;pretty cool to watch: differen…</td><td>&quot;Burst Angel, Vol. 3: East Meet…</td><td>4.7</td><td>8.49</td></tr></tbody></table></div>"
      ],
      "text/plain": [
       "shape: (5, 8)\n",
       "┌─────────────┬─────────────┬────────┬────────────┬─────────────┬─────────────┬────────────┬───────┐\n",
       "│ user_id     ┆ timestamp   ┆ rating ┆ asin       ┆ text        ┆ title       ┆ average_ra ┆ price │\n",
       "│ ---         ┆ ---         ┆ ---    ┆ ---        ┆ ---         ┆ ---         ┆ ting       ┆ ---   │\n",
       "│ str         ┆ i64         ┆ f64    ┆ str        ┆ str         ┆ str         ┆ ---        ┆ f64   │\n",
       "│             ┆             ┆        ┆            ┆             ┆             ┆ f64        ┆       │\n",
       "╞═════════════╪═════════════╪════════╪════════════╪═════════════╪═════════════╪════════════╪═══════╡\n",
       "│ AGXVBIUFLFG ┆ 11467134920 ┆ 5.0    ┆ B0002J58ME ┆ This DVD    ┆ 10 Minute   ┆ 4.6        ┆ 8.77  │\n",
       "│ MVLATYXHJYL ┆ 00          ┆        ┆            ┆ was GREAT!  ┆ Solution:   ┆            ┆       │\n",
       "│ 4A5Q7Q      ┆             ┆        ┆            ┆ I am a st…  ┆ Pilates     ┆            ┆       │\n",
       "│ AEFKF6R2GUS ┆ 15564964299 ┆ 3.0    ┆ B000PIU2A0 ┆ this item   ┆ Battlespace ┆ 3.5        ┆ 19.99 │\n",
       "│ K2AWPSWRR4Z ┆ 81          ┆        ┆            ┆ was         ┆             ┆            ┆       │\n",
       "│ O36JVQ      ┆             ┆        ┆            ┆ canceled. . ┆             ┆            ┆       │\n",
       "│             ┆             ┆        ┆            ┆ . .n…       ┆             ┆            ┆       │\n",
       "│ AEFKF6R2GUS ┆ 13640885180 ┆ 5.0    ┆ B001JNNDRY ┆ I grew up   ┆ Columbo:    ┆ 4.7        ┆ 13.4  │\n",
       "│ K2AWPSWRR4Z ┆ 00          ┆        ┆            ┆ with this   ┆ Mystery     ┆            ┆       │\n",
       "│ O36JVQ      ┆             ┆        ┆            ┆ one. could… ┆ Movie       ┆            ┆       │\n",
       "│             ┆             ┆        ┆            ┆             ┆ Collect…    ┆            ┆       │\n",
       "│ AEFKF6R2GUS ┆ 13640881470 ┆ 4.0    ┆ B000TSMOEI ┆ like        ┆ Burst       ┆ 4.0        ┆ 6.26  │\n",
       "│ K2AWPSWRR4Z ┆ 00          ┆        ┆            ┆ watching:   ┆ Angel:      ┆            ┆       │\n",
       "│ O36JVQ      ┆             ┆        ┆            ┆ haven't     ┆ Hired Gun   ┆            ┆       │\n",
       "│             ┆             ┆        ┆            ┆ gotten …    ┆ v.4         ┆            ┆       │\n",
       "│ AEFKF6R2GUS ┆ 13640875770 ┆ 4.0    ┆ B0009MAO82 ┆ pretty cool ┆ Burst       ┆ 4.7        ┆ 8.49  │\n",
       "│ K2AWPSWRR4Z ┆ 00          ┆        ┆            ┆ to watch:   ┆ Angel, Vol. ┆            ┆       │\n",
       "│ O36JVQ      ┆             ┆        ┆            ┆ differen…   ┆ 3: East     ┆            ┆       │\n",
       "│             ┆             ┆        ┆            ┆             ┆ Meet…       ┆            ┆       │\n",
       "└─────────────┴─────────────┴────────┴────────────┴─────────────┴─────────────┴────────────┴───────┘"
      ]
     },
     "execution_count": 9,
     "metadata": {},
     "output_type": "execute_result"
    }
   ],
   "source": [
    "filtered_df = df_reviews.filter(pl.col(\"title\").is_not_null())\n",
    "print(filtered_df.height)\n",
    "filtered_df.limit(5)"
   ]
  },
  {
   "cell_type": "code",
   "execution_count": null,
   "id": "475ec52a",
   "metadata": {},
   "outputs": [],
   "source": []
  },
  {
   "cell_type": "markdown",
   "id": "bb57d21a",
   "metadata": {},
   "source": [
    "## 3. Analysis"
   ]
  },
  {
   "cell_type": "markdown",
   "id": "8c80b2f1",
   "metadata": {},
   "source": [
    "NetworkX will be the main tool for graph theory after a weighted edge list has been created using Polars and a custom function. The network was found to have [MISSING!!!] nodes and [MISSING!!!] edges after only included edges with a weight of 3 or higher [WHY IS THIS THRESHOLD CHOSEN!!!]. This is a not fully connected network with a density of [MISSING!!!] but that is after removing low weighted edges. The network has a modularity of [MISSING!!!] which is very high and it should indicate that there are some distinct communites.\n",
    "\n",
    "NLTK was the main tool for text processing"
   ]
  },
  {
   "cell_type": "markdown",
   "id": "72418263",
   "metadata": {},
   "source": [
    "### Network"
   ]
  },
  {
   "cell_type": "code",
   "execution_count": 10,
   "id": "0ecfcbd6",
   "metadata": {},
   "outputs": [],
   "source": [
    "def generate_edge_list():\n",
    "    grouped = (\n",
    "        filtered_df\n",
    "        .group_by(\"user_id\")\n",
    "        .agg(pl.col(\"asin\").unique().alias(\"asins\"))\n",
    "        .filter(pl.col(\"asins\").list.len() > 1)\n",
    "    )\n",
    "\n",
    "    counter = Counter()\n",
    "\n",
    "    for asins in tqdm(grouped[\"asins\"], desc=\"Reviewer\"):\n",
    "        counter.update(tuple(sorted(pair)) for pair in combinations(asins, 2))\n",
    "\n",
    "    return [(a, b, count) for (a, b), count in counter.items()]"
   ]
  },
  {
   "cell_type": "code",
   "execution_count": 11,
   "id": "554a078d",
   "metadata": {},
   "outputs": [
    {
     "name": "stderr",
     "output_type": "stream",
     "text": [
      "Reviewer: 100%|██████████| 222627/222627 [00:27<00:00, 7999.59it/s] \n"
     ]
    },
    {
     "data": {
      "text/plain": [
       "8826172"
      ]
     },
     "execution_count": 11,
     "metadata": {},
     "output_type": "execute_result"
    }
   ],
   "source": [
    "movie_edgelist = generate_edge_list()\n",
    "len(movie_edgelist)"
   ]
  },
  {
   "cell_type": "code",
   "execution_count": 12,
   "id": "5efbbdbf",
   "metadata": {},
   "outputs": [
    {
     "data": {
      "text/plain": [
       "Counter({1: 8729071,\n",
       "         2: 84296,\n",
       "         3: 8530,\n",
       "         4: 2251,\n",
       "         5: 895,\n",
       "         6: 426,\n",
       "         7: 235,\n",
       "         8: 141,\n",
       "         9: 97,\n",
       "         10: 50,\n",
       "         11: 36,\n",
       "         12: 32,\n",
       "         13: 28,\n",
       "         14: 13,\n",
       "         17: 12,\n",
       "         15: 11,\n",
       "         16: 11,\n",
       "         19: 9,\n",
       "         26: 5,\n",
       "         23: 4,\n",
       "         22: 3,\n",
       "         18: 3,\n",
       "         30: 2,\n",
       "         24: 2,\n",
       "         27: 2,\n",
       "         79: 1,\n",
       "         20: 1,\n",
       "         50: 1,\n",
       "         35: 1,\n",
       "         52: 1,\n",
       "         21: 1,\n",
       "         32: 1})"
      ]
     },
     "execution_count": 12,
     "metadata": {},
     "output_type": "execute_result"
    }
   ],
   "source": [
    "Counter((w for _, _, w in movie_edgelist))"
   ]
  },
  {
   "cell_type": "markdown",
   "id": "78856904",
   "metadata": {},
   "source": [
    "### 3.2 Graph"
   ]
  },
  {
   "cell_type": "markdown",
   "id": "b8637e09",
   "metadata": {},
   "source": [
    "The graph is created from the weighted"
   ]
  },
  {
   "cell_type": "code",
   "execution_count": 13,
   "id": "ca36f07d",
   "metadata": {},
   "outputs": [
    {
     "data": {
      "text/plain": [
       "12805"
      ]
     },
     "execution_count": 13,
     "metadata": {},
     "output_type": "execute_result"
    }
   ],
   "source": [
    "WEIGHT_THRESHOLD = 3\n",
    "weighted_movie_edge = [(a, b, w) for (a, b, w) in movie_edgelist if w >= WEIGHT_THRESHOLD]\n",
    "len(weighted_movie_edge)"
   ]
  },
  {
   "cell_type": "code",
   "execution_count": 14,
   "id": "22265dfc",
   "metadata": {},
   "outputs": [],
   "source": [
    "filtered_df = filtered_df.fill_null(\"\")\n",
    "attributes = [\"title\", \"average_rating\", \"price\"]\n",
    "df_attrs = filtered_df.select([\"asin\"] + attributes)\n",
    "attr_dict = {row[0]: dict(zip(attributes, row[1:])) for row in df_attrs.rows()}"
   ]
  },
  {
   "cell_type": "code",
   "execution_count": 15,
   "id": "7690ceb7",
   "metadata": {},
   "outputs": [],
   "source": [
    "G = nx.Graph()\n",
    "G.add_weighted_edges_from(weighted_movie_edge)\n",
    "nx.set_node_attributes(G, attr_dict)\n",
    "nx.write_gexf(G, \"graph.gexf\")"
   ]
  },
  {
   "cell_type": "code",
   "execution_count": 16,
   "id": "2d3870a5",
   "metadata": {},
   "outputs": [
    {
     "data": {
      "text/plain": [
       "(9590, 12805)"
      ]
     },
     "execution_count": 16,
     "metadata": {},
     "output_type": "execute_result"
    }
   ],
   "source": [
    "len(G.nodes()), len(G.edges())"
   ]
  },
  {
   "cell_type": "code",
   "execution_count": 17,
   "id": "753968ae",
   "metadata": {},
   "outputs": [
    {
     "data": {
      "text/plain": [
       "np.float64(2.670490093847758)"
      ]
     },
     "execution_count": 17,
     "metadata": {},
     "output_type": "execute_result"
    }
   ],
   "source": [
    "degrees = [d for _, d in G.degree()]\n",
    "\n",
    "np.mean(degrees)"
   ]
  },
  {
   "cell_type": "code",
   "execution_count": 18,
   "id": "90664973",
   "metadata": {},
   "outputs": [
    {
     "data": {
      "image/png": "[encoded data removed]",
      "text/plain": [
       "<Figure size 640x480 with 1 Axes>"
      ]
     },
     "metadata": {},
     "output_type": "display_data"
    }
   ],
   "source": [
    "X = list(dict(G.degree).values())\n",
    "plt.yscale(\"log\")\n",
    "plt.title(\"Distribution Of Degree For Movie Network\")\n",
    "plt.xlabel(\"Degree\")\n",
    "plt.ylabel(\"Log Count\")\n",
    "plt.hist(X, 40, alpha=0.75); "
   ]
  },
  {
   "cell_type": "markdown",
   "id": "23a55af8",
   "metadata": {},
   "source": [
    "### Community detection"
   ]
  },
  {
   "cell_type": "code",
   "execution_count": 19,
   "id": "f9c70eb8",
   "metadata": {},
   "outputs": [],
   "source": [
    "def community_modularity(G, c, L):\n",
    "    s = G.subgraph(c)\n",
    "    L_c = s.number_of_edges()\n",
    "    k_c = sum(dict(s.degree()).values())\n",
    "    M_c = L_c / L - (k_c / (2 * L)) ** 2\n",
    "    return M_c\n",
    "\n",
    "def modularity(G, partitions):\n",
    "    L = G.number_of_edges()\n",
    "    return sum((community_modularity(G, c, L) for c in partitions))"
   ]
  },
  {
   "cell_type": "code",
   "execution_count": 20,
   "id": "74bfce42",
   "metadata": {},
   "outputs": [],
   "source": [
    "def louvain_partitions(G):\n",
    "    partition = community_louvain.best_partition(G, randomize=False, resolution=1)\n",
    "    groups = defaultdict(set)\n",
    "    for node, comm in partition.items():\n",
    "        groups[comm].add(node)\n",
    "    return list(groups.values())"
   ]
  },
  {
   "cell_type": "code",
   "execution_count": 21,
   "id": "53fdf20f",
   "metadata": {},
   "outputs": [
    {
     "data": {
      "text/plain": [
       "1897"
      ]
     },
     "execution_count": 21,
     "metadata": {},
     "output_type": "execute_result"
    }
   ],
   "source": [
    "communities = louvain_partitions(G)\n",
    "len(communities)"
   ]
  },
  {
   "cell_type": "code",
   "execution_count": 22,
   "id": "9ccbeccb",
   "metadata": {},
   "outputs": [
    {
     "data": {
      "text/plain": [
       "0.9366939560319764"
      ]
     },
     "execution_count": 22,
     "metadata": {},
     "output_type": "execute_result"
    }
   ],
   "source": [
    "modularity(G, communities)"
   ]
  },
  {
   "cell_type": "code",
   "execution_count": 23,
   "id": "e26b4ef4",
   "metadata": {},
   "outputs": [
    {
     "data": {
      "text/plain": [
       "Counter({2: 1303,\n",
       "         3: 307,\n",
       "         4: 107,\n",
       "         5: 57,\n",
       "         6: 33,\n",
       "         7: 19,\n",
       "         8: 9,\n",
       "         9: 7,\n",
       "         11: 5,\n",
       "         24: 4,\n",
       "         10: 4,\n",
       "         20: 3,\n",
       "         17: 3,\n",
       "         15: 2,\n",
       "         44: 2,\n",
       "         14: 2,\n",
       "         12: 2,\n",
       "         92: 1,\n",
       "         492: 1,\n",
       "         130: 1,\n",
       "         289: 1,\n",
       "         569: 1,\n",
       "         104: 1,\n",
       "         162: 1,\n",
       "         359: 1,\n",
       "         113: 1,\n",
       "         46: 1,\n",
       "         145: 1,\n",
       "         68: 1,\n",
       "         13: 1,\n",
       "         249: 1,\n",
       "         163: 1,\n",
       "         352: 1,\n",
       "         222: 1,\n",
       "         134: 1,\n",
       "         128: 1,\n",
       "         110: 1,\n",
       "         43: 1,\n",
       "         126: 1,\n",
       "         64: 1,\n",
       "         18: 1,\n",
       "         51: 1,\n",
       "         36: 1,\n",
       "         23: 1,\n",
       "         111: 1})"
      ]
     },
     "execution_count": 23,
     "metadata": {},
     "output_type": "execute_result"
    },
    {
     "data": {
      "image/png": "[encoded data removed]",
      "text/plain": [
       "<Figure size 640x480 with 1 Axes>"
      ]
     },
     "metadata": {},
     "output_type": "display_data"
    }
   ],
   "source": [
    "X = list(map(len, communities))\n",
    "plt.yscale(\"log\")\n",
    "plt.title(\"Distribution Of Size For Communities\")\n",
    "plt.xlabel(\"Size\")\n",
    "plt.ylabel(\"Log Count\")\n",
    "plt.hist(X, 100, alpha=0.75);\n",
    "Counter(X)"
   ]
  },
  {
   "cell_type": "code",
   "execution_count": 24,
   "id": "6b3e538f",
   "metadata": {},
   "outputs": [
    {
     "data": {
      "text/html": [
       "<div><style>\n",
       ".dataframe > thead > tr,\n",
       ".dataframe > tbody > tr {\n",
       "  text-align: right;\n",
       "  white-space: pre-wrap;\n",
       "}\n",
       "</style>\n",
       "<small>shape: (2, 9)</small><table border=\"1\" class=\"dataframe\"><thead><tr><th>user_id</th><th>timestamp</th><th>rating</th><th>asin</th><th>text</th><th>title</th><th>average_rating</th><th>price</th><th>community</th></tr><tr><td>str</td><td>i64</td><td>f64</td><td>str</td><td>str</td><td>str</td><td>f64</td><td>f64</td><td>i64</td></tr></thead><tbody><tr><td>&quot;AGXVBIUFLFGMVLATYXHJYL4A5Q7Q&quot;</td><td>1146713492000</td><td>5.0</td><td>&quot;B0002J58ME&quot;</td><td>&quot;This DVD was GREAT!&nbsp;&nbsp;I am a st…</td><td>&quot;10 Minute Solution: Pilates&quot;</td><td>4.6</td><td>8.77</td><td>476</td></tr><tr><td>&quot;AEFKF6R2GUSK2AWPSWRR4ZO36JVQ&quot;</td><td>1556496429981</td><td>3.0</td><td>&quot;B000PIU2A0&quot;</td><td>&quot;this item was canceled. . . .n…</td><td>&quot;Battlespace&quot;</td><td>3.5</td><td>19.99</td><td>null</td></tr></tbody></table></div>"
      ],
      "text/plain": [
       "shape: (2, 9)\n",
       "┌─────────────┬────────────┬────────┬────────────┬───┬────────────┬────────────┬───────┬───────────┐\n",
       "│ user_id     ┆ timestamp  ┆ rating ┆ asin       ┆ … ┆ title      ┆ average_ra ┆ price ┆ community │\n",
       "│ ---         ┆ ---        ┆ ---    ┆ ---        ┆   ┆ ---        ┆ ting       ┆ ---   ┆ ---       │\n",
       "│ str         ┆ i64        ┆ f64    ┆ str        ┆   ┆ str        ┆ ---        ┆ f64   ┆ i64       │\n",
       "│             ┆            ┆        ┆            ┆   ┆            ┆ f64        ┆       ┆           │\n",
       "╞═════════════╪════════════╪════════╪════════════╪═══╪════════════╪════════════╪═══════╪═══════════╡\n",
       "│ AGXVBIUFLFG ┆ 1146713492 ┆ 5.0    ┆ B0002J58ME ┆ … ┆ 10 Minute  ┆ 4.6        ┆ 8.77  ┆ 476       │\n",
       "│ MVLATYXHJYL ┆ 000        ┆        ┆            ┆   ┆ Solution:  ┆            ┆       ┆           │\n",
       "│ 4A5Q7Q      ┆            ┆        ┆            ┆   ┆ Pilates    ┆            ┆       ┆           │\n",
       "│ AEFKF6R2GUS ┆ 1556496429 ┆ 3.0    ┆ B000PIU2A0 ┆ … ┆ Battlespac ┆ 3.5        ┆ 19.99 ┆ null      │\n",
       "│ K2AWPSWRR4Z ┆ 981        ┆        ┆            ┆   ┆ e          ┆            ┆       ┆           │\n",
       "│ O36JVQ      ┆            ┆        ┆            ┆   ┆            ┆            ┆       ┆           │\n",
       "└─────────────┴────────────┴────────┴────────────┴───┴────────────┴────────────┴───────┴───────────┘"
      ]
     },
     "execution_count": 24,
     "metadata": {},
     "output_type": "execute_result"
    }
   ],
   "source": [
    "# Adding community labels to the df\n",
    "movie_to_community = {\n",
    "    movie_id: i\n",
    "    for i, com in enumerate(communities)\n",
    "    for movie_id in com\n",
    "}\n",
    "\n",
    "community_df = pl.DataFrame([\n",
    "    {\"asin\": k, \"community\": v}\n",
    "    for k, v in movie_to_community.items()\n",
    "])\n",
    "\n",
    "if \"community\" in filtered_df.columns:\n",
    "    filtered_df = filtered_df.drop(\"community\")\n",
    "\n",
    "filtered_df = filtered_df.join(community_df, on=\"asin\", how=\"left\")\n",
    "filtered_df.limit(2)"
   ]
  },
  {
   "cell_type": "code",
   "execution_count": 25,
   "id": "81f38297",
   "metadata": {},
   "outputs": [],
   "source": [
    "filtered_df = filtered_df.fill_null(\"\")\n",
    "attributes = [\"title\", \"average_rating\", \"price\", \"community\"]\n",
    "df_attrs = filtered_df.select([\"asin\"] + attributes)\n",
    "attr_dict = {row[0]: dict(zip(attributes, row[1:])) for row in df_attrs.rows()}\n",
    "nx.set_node_attributes(G, attr_dict)\n",
    "nx.write_gexf(G, \"graph.gexf\")"
   ]
  },
  {
   "cell_type": "markdown",
   "id": "00eb4b9d",
   "metadata": {},
   "source": [
    "### 3.3 Text analysis"
   ]
  },
  {
   "cell_type": "code",
   "execution_count": 26,
   "id": "9fc6ad68",
   "metadata": {},
   "outputs": [],
   "source": [
    "all_asin = [asin for com in communities for asin in com]"
   ]
  },
  {
   "cell_type": "code",
   "execution_count": 27,
   "id": "b6a379df",
   "metadata": {},
   "outputs": [
    {
     "data": {
      "text/plain": [
       "1226757"
      ]
     },
     "execution_count": 27,
     "metadata": {},
     "output_type": "execute_result"
    }
   ],
   "source": [
    "filtered_df.filter(pl.col(\"community\").is_null()).height"
   ]
  },
  {
   "cell_type": "code",
   "execution_count": 28,
   "id": "95e3c662",
   "metadata": {},
   "outputs": [],
   "source": [
    "filtered_df = filtered_df.filter(pl.col(\"community\").is_not_null()) # Filter reviews that is not part of community - Removed with weight threshold"
   ]
  },
  {
   "cell_type": "code",
   "execution_count": 29,
   "id": "147fae48",
   "metadata": {},
   "outputs": [
    {
     "data": {
      "text/plain": [
       "(9590, 9590)"
      ]
     },
     "execution_count": 29,
     "metadata": {},
     "output_type": "execute_result"
    }
   ],
   "source": [
    "sum(list(map(len, communities))), len(G.nodes)"
   ]
  },
  {
   "cell_type": "code",
   "execution_count": 30,
   "id": "5dd6aca9",
   "metadata": {},
   "outputs": [
    {
     "data": {
      "text/html": [
       "<div><style>\n",
       ".dataframe > thead > tr,\n",
       ".dataframe > tbody > tr {\n",
       "  text-align: right;\n",
       "  white-space: pre-wrap;\n",
       "}\n",
       "</style>\n",
       "<small>shape: (10, 2)</small><table border=\"1\" class=\"dataframe\"><thead><tr><th>community</th><th>community_size</th></tr><tr><td>i64</td><td>u32</td></tr></thead><tbody><tr><td>7</td><td>569</td></tr><tr><td>2</td><td>492</td></tr><tr><td>13</td><td>359</td></tr><tr><td>40</td><td>352</td></tr><tr><td>6</td><td>289</td></tr><tr><td>36</td><td>249</td></tr><tr><td>43</td><td>222</td></tr><tr><td>39</td><td>163</td></tr><tr><td>10</td><td>162</td></tr><tr><td>21</td><td>145</td></tr></tbody></table></div>"
      ],
      "text/plain": [
       "shape: (10, 2)\n",
       "┌───────────┬────────────────┐\n",
       "│ community ┆ community_size │\n",
       "│ ---       ┆ ---            │\n",
       "│ i64       ┆ u32            │\n",
       "╞═══════════╪════════════════╡\n",
       "│ 7         ┆ 569            │\n",
       "│ 2         ┆ 492            │\n",
       "│ 13        ┆ 359            │\n",
       "│ 40        ┆ 352            │\n",
       "│ 6         ┆ 289            │\n",
       "│ 36        ┆ 249            │\n",
       "│ 43        ┆ 222            │\n",
       "│ 39        ┆ 163            │\n",
       "│ 10        ┆ 162            │\n",
       "│ 21        ┆ 145            │\n",
       "└───────────┴────────────────┘"
      ]
     },
     "execution_count": 30,
     "metadata": {},
     "output_type": "execute_result"
    }
   ],
   "source": [
    "# size of each community\n",
    "community_sizes = (\n",
    "    filtered_df\n",
    "    .group_by(\"community\")\n",
    "    .agg(pl.col(\"asin\").n_unique().alias(\"community_size\"))\n",
    "    .sort(\"community_size\", descending=True)\n",
    ")\n",
    "\n",
    "community_sizes.limit(10)"
   ]
  },
  {
   "cell_type": "code",
   "execution_count": 31,
   "id": "d65489fc",
   "metadata": {},
   "outputs": [
    {
     "data": {
      "text/html": [
       "<div><style>\n",
       ".dataframe > thead > tr,\n",
       ".dataframe > tbody > tr {\n",
       "  text-align: right;\n",
       "  white-space: pre-wrap;\n",
       "}\n",
       "</style>\n",
       "<small>shape: (476, 1)</small><table border=\"1\" class=\"dataframe\"><thead><tr><th>title</th></tr><tr><td>str</td></tr></thead><tbody><tr><td>&quot;The Invisible Man: Complete Le…</td></tr><tr><td>&quot;The Car&quot;</td></tr><tr><td>&quot;Invasion of the Body Snatchers&quot;</td></tr><tr><td>&quot;The Lost World&quot;</td></tr><tr><td>&quot;TrollHunter&quot;</td></tr><tr><td>&hellip;</td></tr><tr><td>&quot;Tales of Terror&quot;</td></tr><tr><td>&quot;VAMPIRE LOVERS, THE BD&quot;</td></tr><tr><td>&quot;Dracula A.D. 1972&quot;</td></tr><tr><td>&quot;The Exorcist&quot;</td></tr><tr><td>&quot;Them!&quot;</td></tr></tbody></table></div>"
      ],
      "text/plain": [
       "shape: (476, 1)\n",
       "┌─────────────────────────────────┐\n",
       "│ title                           │\n",
       "│ ---                             │\n",
       "│ str                             │\n",
       "╞═════════════════════════════════╡\n",
       "│ The Invisible Man: Complete Le… │\n",
       "│ The Car                         │\n",
       "│ Invasion of the Body Snatchers  │\n",
       "│ The Lost World                  │\n",
       "│ TrollHunter                     │\n",
       "│ …                               │\n",
       "│ Tales of Terror                 │\n",
       "│ VAMPIRE LOVERS, THE BD          │\n",
       "│ Dracula A.D. 1972               │\n",
       "│ The Exorcist                    │\n",
       "│ Them!                           │\n",
       "└─────────────────────────────────┘"
      ]
     },
     "execution_count": 31,
     "metadata": {},
     "output_type": "execute_result"
    }
   ],
   "source": [
    "filtered_df.filter(pl.col(\"community\") == 2).select(\"title\").unique()"
   ]
  },
  {
   "cell_type": "markdown",
   "id": "da397f5b",
   "metadata": {},
   "source": [
    "### Tokens"
   ]
  },
  {
   "cell_type": "code",
   "execution_count": 32,
   "id": "4260dbba",
   "metadata": {},
   "outputs": [],
   "source": [
    "stemmer = PorterStemmer()\n",
    "stop_words = set(stopwords.words('english')) # Include words like \"movie\", \"like\"\n",
    "\n",
    "@lru_cache(maxsize=20000)\n",
    "def cached_stem(word):\n",
    "    return stemmer.stem(word)\n",
    "\n",
    "def tokenize(tokens):\n",
    "    return [cached_stem(t) for t in tokens if t not in stop_words]\n",
    "\n",
    "def bigramify(tokens):\n",
    "    return list(nltk_bigrams(tokens))\n",
    "\n",
    "def process_tokens(tokens):\n",
    "    return bigramify(tokenize(tokens))"
   ]
  },
  {
   "cell_type": "code",
   "execution_count": 33,
   "id": "ddc379a6",
   "metadata": {},
   "outputs": [],
   "source": [
    "filtered_df = filtered_df.with_columns(\n",
    "    pl.col(\"text\")\n",
    "      .str.normalize(\"NFKC\")\n",
    "      .str.to_lowercase()\n",
    "      .str.replace_all(r\"<br\\s*/?>\", \"\", literal=False)\n",
    "      .str.replace_all(r\"\\bblu[\\s-]?ray\\b\", \"bluray\", literal=False)\n",
    "      .str.replace_all(r\"\\bmovie\\b|[^A-Za-z0-9 ]\", \"\")\n",
    "      .str.replace_all(r\"\\s+\", \" \", literal=False)\n",
    "      .str.strip_chars()           \n",
    "      .str.split(\" \")  \n",
    "      .map_elements(tokenize, return_dtype=pl.List(pl.Utf8))\n",
    "      .alias(\"tokens\")\n",
    ")"
   ]
  },
  {
   "cell_type": "code",
   "execution_count": null,
   "id": "70fb0fc9",
   "metadata": {},
   "outputs": [],
   "source": [
    "filtered_df = filtered_df.with_columns(\n",
    "    bigrams=pl.col(\"tokens\").map_elements(bigramify, return_dtype=pl.List(pl.List(pl.Utf8)))\n",
    ")\n",
    "filtered_df.limit(5)"
   ]
  },
  {
   "cell_type": "code",
   "execution_count": 39,
   "id": "b444006d",
   "metadata": {},
   "outputs": [
    {
     "ename": "KeyboardInterrupt",
     "evalue": "",
     "output_type": "error",
     "traceback": [
      "\u001b[31m---------------------------------------------------------------------------\u001b[39m",
      "\u001b[31mKeyboardInterrupt\u001b[39m                         Traceback (most recent call last)",
      "\u001b[36mFile \u001b[39m\u001b[32mc:\\Users\\juliu\\Miniconda3\\envs\\CSS_exam_project\\Lib\\site-packages\\traitlets\\traitlets.py:687\u001b[39m, in \u001b[36mTraitType.__get__\u001b[39m\u001b[34m(self, obj, cls)\u001b[39m\n\u001b[32m    685\u001b[39m     \u001b[38;5;28;01mreturn\u001b[39;00m \u001b[38;5;28mself\u001b[39m\n\u001b[32m    686\u001b[39m \u001b[38;5;28;01melse\u001b[39;00m:\n\u001b[32m--> \u001b[39m\u001b[32m687\u001b[39m     \u001b[38;5;28;01mreturn\u001b[39;00m t.cast(G, \u001b[38;5;28;43mself\u001b[39;49m\u001b[43m.\u001b[49m\u001b[43mget\u001b[49m\u001b[43m(\u001b[49m\u001b[43mobj\u001b[49m\u001b[43m,\u001b[49m\u001b[43m \u001b[49m\u001b[38;5;28;43mcls\u001b[39;49m\u001b[43m)\u001b[49m)\n",
      "\u001b[36mFile \u001b[39m\u001b[32mc:\\Users\\juliu\\Miniconda3\\envs\\CSS_exam_project\\Lib\\site-packages\\traitlets\\traitlets.py:666\u001b[39m, in \u001b[36mTraitType.get\u001b[39m\u001b[34m(self, obj, cls)\u001b[39m\n\u001b[32m    664\u001b[39m     \u001b[38;5;28;01mraise\u001b[39;00m TraitError(\u001b[33m\"\u001b[39m\u001b[33mUnexpected error in TraitType: default value not set properly\u001b[39m\u001b[33m\"\u001b[39m) \u001b[38;5;28;01mfrom\u001b[39;00m\u001b[38;5;250m \u001b[39m\u001b[34;01me\u001b[39;00m\n\u001b[32m    665\u001b[39m \u001b[38;5;28;01melse\u001b[39;00m:\n\u001b[32m--> \u001b[39m\u001b[32m666\u001b[39m     \u001b[38;5;28;01mreturn\u001b[39;00m \u001b[43mt\u001b[49m\u001b[43m.\u001b[49m\u001b[43mcast\u001b[49m\u001b[43m(\u001b[49m\u001b[43mG\u001b[49m\u001b[43m,\u001b[49m\u001b[43m \u001b[49m\u001b[43mvalue\u001b[49m\u001b[43m)\u001b[49m\n",
      "\u001b[36mFile \u001b[39m\u001b[32mc:\\Users\\juliu\\Miniconda3\\envs\\CSS_exam_project\\Lib\\typing.py:2371\u001b[39m, in \u001b[36mcast\u001b[39m\u001b[34m(typ, val)\u001b[39m\n\u001b[32m   2367\u001b[39m                 \u001b[38;5;28mcls\u001b[39m.__non_callable_proto_members__.add(attr)\n\u001b[32m   2368\u001b[39m     \u001b[38;5;28;01mreturn\u001b[39;00m \u001b[38;5;28mcls\u001b[39m\n\u001b[32m-> \u001b[39m\u001b[32m2371\u001b[39m \u001b[38;5;28;01mdef\u001b[39;00m\u001b[38;5;250m \u001b[39m\u001b[34mcast\u001b[39m(typ, val):\n\u001b[32m   2372\u001b[39m \u001b[38;5;250m    \u001b[39m\u001b[33;03m\"\"\"Cast a value to a type.\u001b[39;00m\n\u001b[32m   2373\u001b[39m \n\u001b[32m   2374\u001b[39m \u001b[33;03m    This returns the value unchanged.  To the type checker this\u001b[39;00m\n\u001b[32m   (...)\u001b[39m\u001b[32m   2377\u001b[39m \u001b[33;03m    to be as fast as possible).\u001b[39;00m\n\u001b[32m   2378\u001b[39m \u001b[33;03m    \"\"\"\u001b[39;00m\n\u001b[32m   2379\u001b[39m     \u001b[38;5;28;01mreturn\u001b[39;00m val\n",
      "\u001b[31mKeyboardInterrupt\u001b[39m: "
     ]
    }
   ],
   "source": [
    "bigrams = (\n",
    "    filtered_df\n",
    "    .select(pl.col(\"bigrams\"))\n",
    "    .drop_nulls()\n",
    "    .explode(\"bigrams\")\n",
    "    .get_column(\"bigrams\")\n",
    "    .to_list()\n",
    ")\n",
    "\n",
    "bigrams = [tuple(bg) for bg in bigrams if isinstance(bg, list) and len(bg) == 2]\n",
    "\n",
    "filtered_df = filtered_df.drop(\"bigrams\")"
   ]
  },
  {
   "cell_type": "code",
   "execution_count": null,
   "id": "c2f4da2e",
   "metadata": {},
   "outputs": [],
   "source": [
    "def find_collocations(bigrams, min_count=50, p_threshold=0.001):\n",
    "    bigram_counts = Counter(bigrams)\n",
    "    first_counts = Counter()\n",
    "    second_counts = Counter()\n",
    "    for (w1, w2), cnt in bigram_counts.items():\n",
    "        first_counts[w1] += cnt\n",
    "        second_counts[w2] += cnt\n",
    "\n",
    "    N = len(bigrams)\n",
    "    items = list(bigram_counts.items())\n",
    "    bgs, nii = zip(*items)\n",
    "    w1s, w2s = zip(*bgs)\n",
    "\n",
    "    f = np.fromiter((first_counts[w] for w in w1s), float)\n",
    "    s = np.fromiter((second_counts[w] for w in w2s), float)\n",
    "    o = np.array(nii, float)\n",
    "\n",
    "    nio = f - o\n",
    "    noi = s - o\n",
    "    noo = N - (o + nio + noi)\n",
    "\n",
    "    Eii = f * s / N\n",
    "    Eio = f * (N - s) / N\n",
    "    Eoi = (N - f) * s / N\n",
    "    Eoo = (N - f) * (N - s) / N\n",
    "\n",
    "    chi2_vals = (o - Eii)**2/Eii + (nio - Eio)**2/Eio + (noi - Eoi)**2/Eoi + (noo - Eoo)**2/Eoo\n",
    "    p_vals = chi2.sf(chi2_vals, 1)\n",
    "\n",
    "    mask = (o > min_count) & (p_vals < p_threshold)\n",
    "    return {bgs[i]: int(o[i]) for i in np.nonzero(mask)[0]}\n",
    "\n",
    "collocs = find_collocations(bigrams)"
   ]
  },
  {
   "cell_type": "code",
   "execution_count": null,
   "id": "047c2d87",
   "metadata": {},
   "outputs": [],
   "source": [
    "tokenizer = MWETokenizer(list(collocs.keys()), separator=\"_\")\n",
    "filtered_df = filtered_df.with_columns(\n",
    "    tokens=pl.col(\"tokens\").map_elements(tokenizer.tokenize, return_dtype=pl.List(pl.Utf8))\n",
    ")"
   ]
  },
  {
   "cell_type": "code",
   "execution_count": null,
   "id": "6b0bea20",
   "metadata": {},
   "outputs": [],
   "source": []
  },
  {
   "cell_type": "code",
   "execution_count": null,
   "id": "76454e5c",
   "metadata": {},
   "outputs": [],
   "source": []
  },
  {
   "cell_type": "code",
   "execution_count": null,
   "id": "0b19b49b",
   "metadata": {},
   "outputs": [
    {
     "data": {
      "text/html": [
       "<div><style>\n",
       ".dataframe > thead > tr,\n",
       ".dataframe > tbody > tr {\n",
       "  text-align: right;\n",
       "  white-space: pre-wrap;\n",
       "}\n",
       "</style>\n",
       "<small>shape: (20, 3)</small><table border=\"1\" class=\"dataframe\"><thead><tr><th>community</th><th>tokens</th><th>num_reviews</th></tr><tr><td>i64</td><td>list[str]</td><td>u32</td></tr></thead><tbody><tr><td>51</td><td>[&quot;wife_daughter&quot;, &quot;love&quot;, … &quot;best&quot;]</td><td>41682</td></tr><tr><td>66</td><td>[&quot;subject&quot;, &quot;review&quot;, … &quot;absorpt&quot;]</td><td>28513</td></tr><tr><td>20</td><td>[&quot;big&quot;, &quot;chick_flick&quot;, … &quot;irrit&quot;]</td><td>21355</td></tr><tr><td>46</td><td>[&quot;super&quot;, &quot;good_fun&quot;, … &quot;best_work&quot;]</td><td>20774</td></tr><tr><td>17</td><td>[&quot;matthew&quot;, &quot;robbinss&quot;, … &quot;mine&quot;]</td><td>15789</td></tr><tr><td>&hellip;</td><td>&hellip;</td><td>&hellip;</td></tr><tr><td>30</td><td>[&quot;lovingli&quot;, &quot;watch_episod&quot;, … &quot;star&quot;]</td><td>4203</td></tr><tr><td>1</td><td>[&quot;realli_love&quot;, &quot;old_movi&quot;, … &quot;includ&quot;]</td><td>4074</td></tr><tr><td>56</td><td>[&quot;walk_away&quot;, &quot;pound&quot;, … &quot;stick&quot;]</td><td>3758</td></tr><tr><td>42</td><td>[&quot;great_cast&quot;, &quot;gritti&quot;, … &quot;uplift&quot;]</td><td>3710</td></tr><tr><td>123</td><td>[&quot;halfway&quot;, &quot;stuck&quot;, … &quot;love&quot;]</td><td>2635</td></tr></tbody></table></div>"
      ],
      "text/plain": [
       "shape: (20, 3)\n",
       "┌───────────┬─────────────────────────────────┬─────────────┐\n",
       "│ community ┆ tokens                          ┆ num_reviews │\n",
       "│ ---       ┆ ---                             ┆ ---         │\n",
       "│ i64       ┆ list[str]                       ┆ u32         │\n",
       "╞═══════════╪═════════════════════════════════╪═════════════╡\n",
       "│ 51        ┆ [\"wife_daughter\", \"love\", … \"b… ┆ 41682       │\n",
       "│ 66        ┆ [\"subject\", \"review\", … \"absor… ┆ 28513       │\n",
       "│ 20        ┆ [\"big\", \"chick_flick\", … \"irri… ┆ 21355       │\n",
       "│ 46        ┆ [\"super\", \"good_fun\", … \"best_… ┆ 20774       │\n",
       "│ 17        ┆ [\"matthew\", \"robbinss\", … \"min… ┆ 15789       │\n",
       "│ …         ┆ …                               ┆ …           │\n",
       "│ 30        ┆ [\"lovingli\", \"watch_episod\", …… ┆ 4203        │\n",
       "│ 1         ┆ [\"realli_love\", \"old_movi\", … … ┆ 4074        │\n",
       "│ 56        ┆ [\"walk_away\", \"pound\", … \"stic… ┆ 3758        │\n",
       "│ 42        ┆ [\"great_cast\", \"gritti\", … \"up… ┆ 3710        │\n",
       "│ 123       ┆ [\"halfway\", \"stuck\", … \"love\"]  ┆ 2635        │\n",
       "└───────────┴─────────────────────────────────┴─────────────┘"
      ]
     },
     "execution_count": 63,
     "metadata": {},
     "output_type": "execute_result"
    }
   ],
   "source": [
    "community_docs = (\n",
    "    filtered_df\n",
    "    .group_by(\"community\")\n",
    "    .agg(\n",
    "        pl.concat_list(\"tokens\").flatten().alias(\"tokens\"), \n",
    "        pl.len().alias(\"num_reviews\")\n",
    "    ).sort(\"num_reviews\", descending=True)\n",
    ")\n",
    "top5com = community_docs.limit(20)\n",
    "top5com"
   ]
  },
  {
   "cell_type": "code",
   "execution_count": null,
   "id": "ffe16d92",
   "metadata": {},
   "outputs": [],
   "source": [
    "def calculate_tf(tokens):\n",
    "    total = len(tokens)\n",
    "    counts = Counter(tokens)\n",
    "    return {word: count / total for word, count in counts.items()}\n",
    "\n",
    "def calculate_idf(docs: pl.DataFrame) -> dict[str, float]:\n",
    "    N = docs.height\n",
    "    df = (\n",
    "        docs\n",
    "        .explode(\"tokens\")\n",
    "        .unique(subset=[\"community\", \"tokens\"])\n",
    "        .group_by(\"tokens\")\n",
    "        .agg(pl.len().alias(\"df\"))\n",
    "        .with_columns((pl.lit(N) / pl.col(\"df\")).log().alias(\"idf\"))\n",
    "        .sort(\"idf\", descending=False)\n",
    "    )\n",
    "    return dict(zip(df[\"tokens\"].to_list(), df[\"idf\"].to_list()))\n",
    "\n",
    "def calculate_tf_idf(tf, idf):\n",
    "    tf_idf = {}\n",
    "    for word, val in tf.items():\n",
    "        tf_idf[word] = val * idf[word]\n",
    "    return tf_idf"
   ]
  },
  {
   "cell_type": "code",
   "execution_count": null,
   "id": "98b4b568",
   "metadata": {},
   "outputs": [],
   "source": [
    "idf = calculate_idf(community_docs)"
   ]
  },
  {
   "cell_type": "code",
   "execution_count": null,
   "id": "d29ded95",
   "metadata": {},
   "outputs": [],
   "source": [
    "top_5_tf_idf = dict(zip(\n",
    "    top5com[\"community\"].to_list(),\n",
    "    [calculate_tf_idf(calculate_tf(toks), idf) for toks in top5com[\"tokens\"].to_list()]\n",
    "))"
   ]
  },
  {
   "cell_type": "markdown",
   "id": "a63ecf9c",
   "metadata": {},
   "source": [
    "### 3.4 Word clouds"
   ]
  },
  {
   "cell_type": "code",
   "execution_count": null,
   "id": "0b59ce0f",
   "metadata": {},
   "outputs": [
    {
     "ename": "NameError",
     "evalue": "name 'top_5_tf_idf' is not defined",
     "output_type": "error",
     "traceback": [
      "\u001b[31m---------------------------------------------------------------------------\u001b[39m",
      "\u001b[31mNameError\u001b[39m                                 Traceback (most recent call last)",
      "\u001b[36mCell\u001b[39m\u001b[36m \u001b[39m\u001b[32mIn[18]\u001b[39m\u001b[32m, line 21\u001b[39m\n\u001b[32m     18\u001b[39m     plt.tight_layout()\n\u001b[32m     19\u001b[39m     plt.show()\n\u001b[32m---> \u001b[39m\u001b[32m21\u001b[39m plot_word_clouds_grid(\u001b[43mtop_5_tf_idf\u001b[49m) \u001b[38;5;66;03m# Plotting is based on tf-idf values and stemmed tokens\u001b[39;00m\n",
      "\u001b[31mNameError\u001b[39m: name 'top_5_tf_idf' is not defined"
     ]
    }
   ],
   "source": [
    "def plot_word_clouds_grid(word_freq, top_movies = None, ncols=3):\n",
    "    communities = list(word_freq.keys())\n",
    "    nrows = -(-len(communities) // ncols)\n",
    "    fig, axes = plt.subplots(nrows, ncols, figsize=(ncols * 5, nrows * 6))\n",
    "    axes = axes.flatten()\n",
    "\n",
    "    for ax, comm in zip(axes, communities):\n",
    "        cloud = WordCloud(background_color='white', height=500, width=500, colormap=\"viridis_r\", contour_color='black', contour_width=0.5)\n",
    "        cloud.generate_from_frequencies(word_freq[comm])\n",
    "        movies = \"\\n\".join(top_movies[comm]) if top_movies != None else str(comm)\n",
    "        ax.imshow(cloud, interpolation='bilinear')\n",
    "        ax.set_title(movies, fontsize=12)\n",
    "        ax.axis('off')\n",
    "\n",
    "    for ax in axes[len(communities):]:\n",
    "        ax.axis('off')\n",
    "\n",
    "    plt.tight_layout()\n",
    "    plt.show()\n",
    "\n",
    "plot_word_clouds_grid(top_5_tf_idf) # Plotting is based on tf-idf values and stemmed tokens"
   ]
  },
  {
   "cell_type": "markdown",
   "metadata": {},
   "source": [
    "## 4. Discussion"
   ]
  }
 ],
 "metadata": {
  "kernelspec": {
   "display_name": "Python ('CSS_exam_project')",
   "language": "python",
   "name": "css_exam_project"
  },
  "language_info": {
   "codemirror_mode": {
    "name": "ipython",
    "version": 3
   },
   "file_extension": ".py",
   "mimetype": "text/x-python",
   "name": "python",
   "nbconvert_exporter": "python",
   "pygments_lexer": "ipython3",
   "version": "3.13.3"
  }
 },
 "nbformat": 4,
 "nbformat_minor": 5
}
