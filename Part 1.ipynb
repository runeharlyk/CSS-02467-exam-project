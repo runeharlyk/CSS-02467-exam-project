{
 "cells": [
  {
   "cell_type": "code",
   "execution_count": 1,
   "id": "8c0720ba",
   "metadata": {},
   "outputs": [],
   "source": [
    "import polars as pl\n",
    "from itertools import combinations\n",
    "from collections import Counter, defaultdict\n",
    "import networkx as nx\n",
    "from tqdm import tqdm\n",
    "import numpy as np\n",
    "import matplotlib.pyplot as plt\n",
    "from community import community_louvain\n",
    "import seaborn as sns\n",
    "import json\n",
    "from nltk import PorterStemmer, bigrams as nltk_bigrams\n",
    "import re\n",
    "from nltk.corpus import stopwords\n",
    "from functools import lru_cache\n",
    "\n",
    "sns.set_style(\"darkgrid\")"
   ]
  },
  {
   "cell_type": "markdown",
   "id": "97b24ded",
   "metadata": {},
   "source": [
    "# Final project - Computational Social Science (02476)\n",
    "\n",
    "> Data is available [here](https://amazon-reviews-2023.github.io/)"
   ]
  },
  {
   "cell_type": "markdown",
   "id": "3099dfb3",
   "metadata": {},
   "source": [
    "### Constants and function definitions"
   ]
  },
  {
   "cell_type": "code",
   "execution_count": null,
   "id": "d4ec7f02",
   "metadata": {},
   "outputs": [],
   "source": [
    "REVIEW_DATA_FILE = 'Movies_and_TV.jsonl'\n",
    "META_DATA_FILE = \"meta_Movies_and_TV.jsonl\""
   ]
  },
  {
   "cell_type": "code",
   "execution_count": 3,
   "id": "9771bb4a",
   "metadata": {},
   "outputs": [],
   "source": [
    "def save_graph(graph_file, G):\n",
    "    data = nx.readwrite.json_graph.node_link_data(G)\n",
    "    with open(graph_file, \"w\") as f:\n",
    "        json.dump(data, f)\n",
    "\n",
    "def load_graph(graph_file):\n",
    "    with open(graph_file, \"r\") as f:\n",
    "        data = json.load(f)\n",
    "    return nx.readwrite.json_graph.node_link_graph(data)"
   ]
  },
  {
   "cell_type": "markdown",
   "id": "b40e90b8",
   "metadata": {},
   "source": [
    "## 1. Data processing"
   ]
  },
  {
   "cell_type": "markdown",
   "id": "db51d1c7",
   "metadata": {},
   "source": [
    "### Process meta data"
   ]
  },
  {
   "cell_type": "code",
   "execution_count": 56,
   "id": "77c50ec4",
   "metadata": {},
   "outputs": [
    {
     "data": {
      "text/html": [
       "<div><style>\n",
       ".dataframe > thead > tr,\n",
       ".dataframe > tbody > tr {\n",
       "  text-align: right;\n",
       "  white-space: pre-wrap;\n",
       "}\n",
       "</style>\n",
       "<small>shape: (5, 9)</small><table border=\"1\" class=\"dataframe\"><thead><tr><th>title</th><th>average_rating</th><th>rating_number</th><th>description</th><th>price</th><th>categories</th><th>content_advisory</th><th>asin</th><th>desc_len</th></tr><tr><td>str</td><td>f64</td><td>i64</td><td>str</td><td>f64</td><td>list[str]</td><td>list[str]</td><td>str</td><td>u32</td></tr></thead><tbody><tr><td>&quot;Glee&quot;</td><td>4.7</td><td>2004</td><td>&quot;Entering its fourth season, th…</td><td>22.39</td><td>[&quot;Comedy&quot;, &quot;Drama&quot;, … &quot;Music Videos and Concerts&quot;]</td><td>[&quot;Violence&quot;, &quot;substance use&quot;, … &quot;sexual content&quot;]</td><td>&quot;B00ABWKL3I&quot;</td><td>396</td></tr><tr><td>&quot;One Perfect Wedding&quot;</td><td>3.0</td><td>6</td><td>&quot;With her book tour in two week…</td><td>-1.0</td><td>[&quot;Comedy&quot;, &quot;Drama&quot;, &quot;Romance&quot;]</td><td>[]</td><td>&quot;B09WDLJ4HP&quot;</td><td>219</td></tr><tr><td>&quot;How to Make Animatronic Charac…</td><td>5.0</td><td>7</td><td>&quot;Product Description&quot;</td><td>64.99</td><td>[&quot;Movies &amp; TV&quot;, &quot;Genre for Featured Categories&quot;, &quot;Special Interests&quot;]</td><td>[]</td><td>&quot;B00AHN851G&quot;</td><td>19</td></tr><tr><td>&quot;Ode to Joy: Beethoven&#x27;s Sympho…</td><td>4.3</td><td>35</td><td>&quot;This special Ode to Joy: Beeth…</td><td>5.99</td><td>[&quot;Documentary&quot;]</td><td>[]</td><td>&quot;B01G9ILXXE&quot;</td><td>234</td></tr><tr><td>&quot;Ben 10: Alien Force (Classic)&quot;</td><td>4.7</td><td>360</td><td>&quot;Itâ€™s hero time again for Ben…</td><td>24.49</td><td>[&quot;Science Fiction&quot;, &quot;Comedy&quot;, … &quot;Drama&quot;]</td><td>[]</td><td>&quot;B009SIYXDA&quot;</td><td>377</td></tr></tbody></table></div>"
      ],
      "text/plain": [
       "shape: (5, 9)\n",
       "┌───────────┬───────────┬───────────┬───────────┬───┬───────────┬───────────┬───────────┬──────────┐\n",
       "│ title     ┆ average_r ┆ rating_nu ┆ descripti ┆ … ┆ categorie ┆ content_a ┆ asin      ┆ desc_len │\n",
       "│ ---       ┆ ating     ┆ mber      ┆ on        ┆   ┆ s         ┆ dvisory   ┆ ---       ┆ ---      │\n",
       "│ str       ┆ ---       ┆ ---       ┆ ---       ┆   ┆ ---       ┆ ---       ┆ str       ┆ u32      │\n",
       "│           ┆ f64       ┆ i64       ┆ str       ┆   ┆ list[str] ┆ list[str] ┆           ┆          │\n",
       "╞═══════════╪═══════════╪═══════════╪═══════════╪═══╪═══════════╪═══════════╪═══════════╪══════════╡\n",
       "│ Glee      ┆ 4.7       ┆ 2004      ┆ Entering  ┆ … ┆ [\"Comedy\" ┆ [\"Violenc ┆ B00ABWKL3 ┆ 396      │\n",
       "│           ┆           ┆           ┆ its       ┆   ┆ ,         ┆ e\", \"subs ┆ I         ┆          │\n",
       "│           ┆           ┆           ┆ fourth    ┆   ┆ \"Drama\",  ┆ tance     ┆           ┆          │\n",
       "│           ┆           ┆           ┆ season,   ┆   ┆ … \"Music  ┆ use\", …   ┆           ┆          │\n",
       "│           ┆           ┆           ┆ th…       ┆   ┆ V…        ┆           ┆           ┆          │\n",
       "│ One       ┆ 3.0       ┆ 6         ┆ With her  ┆ … ┆ [\"Comedy\" ┆ []        ┆ B09WDLJ4H ┆ 219      │\n",
       "│ Perfect   ┆           ┆           ┆ book tour ┆   ┆ ,         ┆           ┆ P         ┆          │\n",
       "│ Wedding   ┆           ┆           ┆ in two    ┆   ┆ \"Drama\",  ┆           ┆           ┆          │\n",
       "│           ┆           ┆           ┆ week…     ┆   ┆ \"Romance\" ┆           ┆           ┆          │\n",
       "│           ┆           ┆           ┆           ┆   ┆ ]         ┆           ┆           ┆          │\n",
       "│ How to    ┆ 5.0       ┆ 7         ┆ Product   ┆ … ┆ [\"Movies  ┆ []        ┆ B00AHN851 ┆ 19       │\n",
       "│ Make Anim ┆           ┆           ┆ Descripti ┆   ┆ & TV\",    ┆           ┆ G         ┆          │\n",
       "│ atronic   ┆           ┆           ┆ on        ┆   ┆ \"Genre    ┆           ┆           ┆          │\n",
       "│ Charac…   ┆           ┆           ┆           ┆   ┆ for Fea…  ┆           ┆           ┆          │\n",
       "│ Ode to    ┆ 4.3       ┆ 35        ┆ This      ┆ … ┆ [\"Documen ┆ []        ┆ B01G9ILXX ┆ 234      │\n",
       "│ Joy: Beet ┆           ┆           ┆ special   ┆   ┆ tary\"]    ┆           ┆ E         ┆          │\n",
       "│ hoven's   ┆           ┆           ┆ Ode to    ┆   ┆           ┆           ┆           ┆          │\n",
       "│ Sympho…   ┆           ┆           ┆ Joy:      ┆   ┆           ┆           ┆           ┆          │\n",
       "│           ┆           ┆           ┆ Beeth…    ┆   ┆           ┆           ┆           ┆          │\n",
       "│ Ben 10:   ┆ 4.7       ┆ 360       ┆ Itâ€™s    ┆ … ┆ [\"Science ┆ []        ┆ B009SIYXD ┆ 377      │\n",
       "│ Alien     ┆           ┆           ┆ hero time ┆   ┆ Fiction\", ┆           ┆ A         ┆          │\n",
       "│ Force     ┆           ┆           ┆ again for ┆   ┆ \"Comedy\", ┆           ┆           ┆          │\n",
       "│ (Classic) ┆           ┆           ┆ Ben…      ┆   ┆ …         ┆           ┆           ┆          │\n",
       "└───────────┴───────────┴───────────┴───────────┴───┴───────────┴───────────┴───────────┴──────────┘"
      ]
     },
     "execution_count": 56,
     "metadata": {},
     "output_type": "execute_result"
    }
   ],
   "source": [
    "schema = {\n",
    "    \"title\": pl.Utf8,\n",
    "    \"average_rating\": pl.Float64,\n",
    "    \"rating_number\": pl.Int64,\n",
    "    \"description\": pl.List(pl.Utf8),\n",
    "    \"price\": pl.Utf8,\n",
    "    \"categories\": pl.List(pl.Utf8),\n",
    "    \"details\": pl.Struct([\n",
    "        pl.Field(\"Content advisory\", pl.List(pl.Utf8)),\n",
    "    ]),\n",
    "    \"parent_asin\": pl.Utf8,\n",
    "}\n",
    "\n",
    "df_meta = pl.read_ndjson(META_DATA_FILE, schema=schema).rename({\"parent_asin\": \"asin\"})\n",
    "\n",
    "# Map prices\n",
    "df_meta = df_meta.with_columns(\n",
    "    pl.col(\"price\")\n",
    "    .str.extract(r\"([0-9]+(?:\\.[0-9]+)?)\", 1)\n",
    "    .cast(pl.Float64)\n",
    "    .fill_null(-1)\n",
    ")\n",
    "\n",
    "# Map description\n",
    "df_meta = df_meta.with_columns(\n",
    "    pl.when(\n",
    "        pl.col(\"description\").is_null() |\n",
    "        (pl.col(\"description\").list.eval(pl.element()).list.len() == 0)\n",
    "    )\n",
    "    .then(pl.lit([\"\"]).cast(pl.List(pl.Utf8)))\n",
    "    .otherwise(pl.col(\"description\"))\n",
    "    .alias(\"description\")\n",
    ")\n",
    "\n",
    "df_meta = df_meta.with_columns(\n",
    "    pl.col(\"description\").list.get(0).alias(\"description\") # TODO GET THE LONGEST DESCRIPTION\n",
    ")\n",
    "\n",
    "df_meta = df_meta.with_columns(\n",
    "    pl.col(\"description\").str.len_chars().alias(\"desc_len\")\n",
    ")\n",
    "\n",
    "# Map Content advisory\n",
    "df_meta = df_meta.with_columns(\n",
    "    pl.struct([\"details\"]).map_elements(\n",
    "        lambda s: s[\"details\"][\"Content advisory\"] if s[\"details\"] and \"Content advisory\" in s[\"details\"] else [],\n",
    "        return_dtype=pl.List(pl.Utf8)\n",
    "    ).alias(\"details\")\n",
    ").rename({\"details\": \"content_advisory\"})\n",
    "\n",
    "df_meta.limit(5)"
   ]
  },
  {
   "cell_type": "code",
   "execution_count": 57,
   "id": "a624bf55",
   "metadata": {},
   "outputs": [
    {
     "data": {
      "text/html": [
       "<div><style>\n",
       ".dataframe > thead > tr,\n",
       ".dataframe > tbody > tr {\n",
       "  text-align: right;\n",
       "  white-space: pre-wrap;\n",
       "}\n",
       "</style>\n",
       "<small>shape: (5, 9)</small><table border=\"1\" class=\"dataframe\"><thead><tr><th>title</th><th>asins</th><th>average_rating</th><th>rating_number</th><th>description</th><th>desc_len</th><th>price</th><th>categories</th><th>content_advisory</th></tr><tr><td>str</td><td>list[str]</td><td>f64</td><td>i64</td><td>str</td><td>u32</td><td>f64</td><td>list[str]</td><td>list[str]</td></tr></thead><tbody><tr><td>&quot;Cry of the City (1948)&quot;</td><td>[&quot;B005REEYGK&quot;]</td><td>4.5</td><td>75</td><td>&quot;Petty crook and cop-killer Mar…</td><td>469</td><td>-1.0</td><td>[&quot;Movies &amp; TV&quot;, &quot;Movies&quot;]</td><td>[]</td></tr><tr><td>&quot;MI-5, Vol. 6&quot;</td><td>[&quot;B001EHF3RS&quot;]</td><td>4.2</td><td>443</td><td>&quot;Product Description&quot;</td><td>19</td><td>34.02</td><td>[&quot;Movies &amp; TV&quot;, &quot;BBC&quot;, &quot;All BBC Titles&quot;]</td><td>[]</td></tr><tr><td>&quot;2 Broke Girls - Season 1-3 [DV…</td><td>[&quot;B00DY64AXA&quot;]</td><td>4.3</td><td>195</td><td>&quot;&quot;</td><td>0</td><td>42.21</td><td>[&quot;Movies &amp; TV&quot;, &quot;TV&quot;]</td><td>[]</td></tr><tr><td>&quot;Yesterday/Lost Memories&quot;</td><td>[&quot;B001QUXNNE&quot;]</td><td>5.0</td><td>1</td><td>&quot;YESTERDAY/LOST MEMORIES - DVD …</td><td>35</td><td>-1.0</td><td>[&quot;Movies &amp; TV&quot;, &quot;Featured Categories&quot;, … &quot;Foreign Films&quot;]</td><td>[]</td></tr><tr><td>&quot;The Accompanist (All Region Im…</td><td>[&quot;B0043FPK5S&quot;]</td><td>5.0</td><td>4</td><td>&quot;&quot;</td><td>0</td><td>-1.0</td><td>[&quot;Movies &amp; TV&quot;, &quot;Movies&quot;]</td><td>[]</td></tr></tbody></table></div>"
      ],
      "text/plain": [
       "shape: (5, 9)\n",
       "┌────────────┬────────────┬────────────┬────────────┬───┬──────────┬───────┬───────────┬───────────┐\n",
       "│ title      ┆ asins      ┆ average_ra ┆ rating_num ┆ … ┆ desc_len ┆ price ┆ categorie ┆ content_a │\n",
       "│ ---        ┆ ---        ┆ ting       ┆ ber        ┆   ┆ ---      ┆ ---   ┆ s         ┆ dvisory   │\n",
       "│ str        ┆ list[str]  ┆ ---        ┆ ---        ┆   ┆ u32      ┆ f64   ┆ ---       ┆ ---       │\n",
       "│            ┆            ┆ f64        ┆ i64        ┆   ┆          ┆       ┆ list[str] ┆ list[str] │\n",
       "╞════════════╪════════════╪════════════╪════════════╪═══╪══════════╪═══════╪═══════════╪═══════════╡\n",
       "│ Cry of the ┆ [\"B005REEY ┆ 4.5        ┆ 75         ┆ … ┆ 469      ┆ -1.0  ┆ [\"Movies  ┆ []        │\n",
       "│ City       ┆ GK\"]       ┆            ┆            ┆   ┆          ┆       ┆ & TV\",    ┆           │\n",
       "│ (1948)     ┆            ┆            ┆            ┆   ┆          ┆       ┆ \"Movies\"] ┆           │\n",
       "│ MI-5, Vol. ┆ [\"B001EHF3 ┆ 4.2        ┆ 443        ┆ … ┆ 19       ┆ 34.02 ┆ [\"Movies  ┆ []        │\n",
       "│ 6          ┆ RS\"]       ┆            ┆            ┆   ┆          ┆       ┆ & TV\",    ┆           │\n",
       "│            ┆            ┆            ┆            ┆   ┆          ┆       ┆ \"BBC\",    ┆           │\n",
       "│            ┆            ┆            ┆            ┆   ┆          ┆       ┆ \"All BB…  ┆           │\n",
       "│ 2 Broke    ┆ [\"B00DY64A ┆ 4.3        ┆ 195        ┆ … ┆ 0        ┆ 42.21 ┆ [\"Movies  ┆ []        │\n",
       "│ Girls -    ┆ XA\"]       ┆            ┆            ┆   ┆          ┆       ┆ & TV\",    ┆           │\n",
       "│ Season 1-3 ┆            ┆            ┆            ┆   ┆          ┆       ┆ \"TV\"]     ┆           │\n",
       "│ [DV…       ┆            ┆            ┆            ┆   ┆          ┆       ┆           ┆           │\n",
       "│ Yesterday/ ┆ [\"B001QUXN ┆ 5.0        ┆ 1          ┆ … ┆ 35       ┆ -1.0  ┆ [\"Movies  ┆ []        │\n",
       "│ Lost       ┆ NE\"]       ┆            ┆            ┆   ┆          ┆       ┆ & TV\",    ┆           │\n",
       "│ Memories   ┆            ┆            ┆            ┆   ┆          ┆       ┆ \"Featured ┆           │\n",
       "│            ┆            ┆            ┆            ┆   ┆          ┆       ┆ Cate…     ┆           │\n",
       "│ The Accomp ┆ [\"B0043FPK ┆ 5.0        ┆ 4          ┆ … ┆ 0        ┆ -1.0  ┆ [\"Movies  ┆ []        │\n",
       "│ anist (All ┆ 5S\"]       ┆            ┆            ┆   ┆          ┆       ┆ & TV\",    ┆           │\n",
       "│ Region Im… ┆            ┆            ┆            ┆   ┆          ┆       ┆ \"Movies\"] ┆           │\n",
       "└────────────┴────────────┴────────────┴────────────┴───┴──────────┴───────┴───────────┴───────────┘"
      ]
     },
     "execution_count": 57,
     "metadata": {},
     "output_type": "execute_result"
    }
   ],
   "source": [
    "best_per_title = (\n",
    "    df_meta.sort([\"desc_len\", \"rating_number\"], descending=[True, True])\n",
    "    .group_by(\"title\")\n",
    "    .agg([\n",
    "        pl.col(\"asin\").unique().alias(\"asins\"),\n",
    "        pl.first(\"average_rating\"),\n",
    "        pl.first(\"rating_number\"),\n",
    "        pl.first(\"description\"),\n",
    "        pl.first(\"desc_len\"),\n",
    "        pl.first(\"price\"),\n",
    "        pl.first(\"categories\"),\n",
    "        pl.first(\"content_advisory\")\n",
    "    ])\n",
    ")\n",
    "\n",
    "best_per_title.limit(5)"
   ]
  },
  {
   "cell_type": "markdown",
   "id": "1401dd6e",
   "metadata": {},
   "source": [
    "### Process review data"
   ]
  },
  {
   "cell_type": "code",
   "execution_count": 58,
   "id": "99535484",
   "metadata": {},
   "outputs": [
    {
     "data": {
      "text/html": [
       "<div><style>\n",
       ".dataframe > thead > tr,\n",
       ".dataframe > tbody > tr {\n",
       "  text-align: right;\n",
       "  white-space: pre-wrap;\n",
       "}\n",
       "</style>\n",
       "<small>shape: (5, 5)</small><table border=\"1\" class=\"dataframe\"><thead><tr><th>rating</th><th>user_id</th><th>text</th><th>timestamp</th><th>asin</th></tr><tr><td>f64</td><td>str</td><td>str</td><td>i64</td><td>str</td></tr></thead><tbody><tr><td>5.0</td><td>&quot;AGXVBIUFLFGMVLATYXHJYL4A5Q7Q&quot;</td><td>&quot;This DVD was GREAT!&nbsp;&nbsp;I am a st…</td><td>1146713492000</td><td>&quot;B0002J58ME&quot;</td></tr><tr><td>3.0</td><td>&quot;AEFKF6R2GUSK2AWPSWRR4ZO36JVQ&quot;</td><td>&quot;this item was canceled. . . .n…</td><td>1556496429981</td><td>&quot;B000PIU2A0&quot;</td></tr><tr><td>5.0</td><td>&quot;AEFKF6R2GUSK2AWPSWRR4ZO36JVQ&quot;</td><td>&quot;I grew up with this one. could…</td><td>1364088518000</td><td>&quot;B001JNNDRY&quot;</td></tr><tr><td>4.0</td><td>&quot;AEFKF6R2GUSK2AWPSWRR4ZO36JVQ&quot;</td><td>&quot;like watching: haven&#x27;t gotten …</td><td>1364088147000</td><td>&quot;B000TSMOEI&quot;</td></tr><tr><td>4.0</td><td>&quot;AEFKF6R2GUSK2AWPSWRR4ZO36JVQ&quot;</td><td>&quot;pretty cool to watch: differen…</td><td>1364087577000</td><td>&quot;B0009MAO82&quot;</td></tr></tbody></table></div>"
      ],
      "text/plain": [
       "shape: (5, 5)\n",
       "┌────────┬──────────────────────────────┬─────────────────────────────┬───────────────┬────────────┐\n",
       "│ rating ┆ user_id                      ┆ text                        ┆ timestamp     ┆ asin       │\n",
       "│ ---    ┆ ---                          ┆ ---                         ┆ ---           ┆ ---        │\n",
       "│ f64    ┆ str                          ┆ str                         ┆ i64           ┆ str        │\n",
       "╞════════╪══════════════════════════════╪═════════════════════════════╪═══════════════╪════════════╡\n",
       "│ 5.0    ┆ AGXVBIUFLFGMVLATYXHJYL4A5Q7Q ┆ This DVD was GREAT!  I am a ┆ 1146713492000 ┆ B0002J58ME │\n",
       "│        ┆                              ┆ st…                         ┆               ┆            │\n",
       "│ 3.0    ┆ AEFKF6R2GUSK2AWPSWRR4ZO36JVQ ┆ this item was canceled. . . ┆ 1556496429981 ┆ B000PIU2A0 │\n",
       "│        ┆                              ┆ .n…                         ┆               ┆            │\n",
       "│ 5.0    ┆ AEFKF6R2GUSK2AWPSWRR4ZO36JVQ ┆ I grew up with this one.    ┆ 1364088518000 ┆ B001JNNDRY │\n",
       "│        ┆                              ┆ could…                      ┆               ┆            │\n",
       "│ 4.0    ┆ AEFKF6R2GUSK2AWPSWRR4ZO36JVQ ┆ like watching: haven't      ┆ 1364088147000 ┆ B000TSMOEI │\n",
       "│        ┆                              ┆ gotten …                    ┆               ┆            │\n",
       "│ 4.0    ┆ AEFKF6R2GUSK2AWPSWRR4ZO36JVQ ┆ pretty cool to watch:       ┆ 1364087577000 ┆ B0009MAO82 │\n",
       "│        ┆                              ┆ differen…                   ┆               ┆            │\n",
       "└────────┴──────────────────────────────┴─────────────────────────────┴───────────────┴────────────┘"
      ]
     },
     "execution_count": 58,
     "metadata": {},
     "output_type": "execute_result"
    }
   ],
   "source": [
    "df = pl.scan_ndjson(REVIEW_DATA_FILE).filter(pl.col('verified_purchase') == True).filter(pl.col('helpful_vote') != 0)\n",
    "existing = set(df.collect_schema().keys())\n",
    "drop_cols = {'images', 'style', 'verified_purchase', 'asin', 'helpful_vote', 'title'} \n",
    "keep_cols = list(existing - drop_cols)\n",
    "df = df.select(keep_cols).rename({'parent_asin': 'asin'})\n",
    "df = df.collect()\n",
    "df.limit(5)"
   ]
  },
  {
   "cell_type": "code",
   "execution_count": 7,
   "id": "ce1166e6",
   "metadata": {},
   "outputs": [
    {
     "data": {
      "text/plain": [
       "(2888210, 409673)"
      ]
     },
     "execution_count": 7,
     "metadata": {},
     "output_type": "execute_result"
    }
   ],
   "source": [
    "df.height, df.get_column(\"asin\").n_unique()"
   ]
  },
  {
   "cell_type": "code",
   "execution_count": 8,
   "id": "f1c90e31",
   "metadata": {},
   "outputs": [
    {
     "data": {
      "text/html": [
       "<div><style>\n",
       ".dataframe > thead > tr,\n",
       ".dataframe > tbody > tr {\n",
       "  text-align: right;\n",
       "  white-space: pre-wrap;\n",
       "}\n",
       "</style>\n",
       "<small>shape: (313_988,)</small><table border=\"1\" class=\"dataframe\"><thead><tr><th></th></tr><tr><td>str</td></tr></thead><tbody><tr><td>&quot;B0059GELDW&quot;</td></tr><tr><td>&quot;B002W3MYZC&quot;</td></tr><tr><td>&quot;B09RSQFBFX&quot;</td></tr><tr><td>&quot;B0098VXDDS&quot;</td></tr><tr><td>&quot;B00GGU75N8&quot;</td></tr><tr><td>&hellip;</td></tr><tr><td>&quot;B01NAILG4J&quot;</td></tr><tr><td>&quot;B005HQLJ16&quot;</td></tr><tr><td>&quot;B07TVFHHTN&quot;</td></tr><tr><td>&quot;B00LU0NKI8&quot;</td></tr><tr><td>&quot;B07SXCL87M&quot;</td></tr></tbody></table></div>"
      ],
      "text/plain": [
       "shape: (313_988,)\n",
       "Series: '' [str]\n",
       "[\n",
       "\t\"B0059GELDW\"\n",
       "\t\"B002W3MYZC\"\n",
       "\t\"B09RSQFBFX\"\n",
       "\t\"B0098VXDDS\"\n",
       "\t\"B00GGU75N8\"\n",
       "\t…\n",
       "\t\"B01NAILG4J\"\n",
       "\t\"B005HQLJ16\"\n",
       "\t\"B07TVFHHTN\"\n",
       "\t\"B00LU0NKI8\"\n",
       "\t\"B07SXCL87M\"\n",
       "]"
      ]
     },
     "execution_count": 8,
     "metadata": {},
     "output_type": "execute_result"
    }
   ],
   "source": [
    "best_per_title.filter(pl.col(\"title\").is_null()).get_column(\"asins\")[0]"
   ]
  },
  {
   "cell_type": "code",
   "execution_count": 59,
   "id": "31ea2473",
   "metadata": {},
   "outputs": [],
   "source": [
    "asin_title_map = best_per_title.select([\n",
    "    pl.col(\"title\"),\n",
    "    pl.col(\"asins\"),\n",
    "    pl.col(\"average_rating\"),\n",
    "    pl.col(\"price\")\n",
    "]).explode(\"asins\").rename({\"asins\": \"asin\"})\n",
    "\n",
    "df_reviews = df.join(\n",
    "    asin_title_map,\n",
    "    on=\"asin\",\n",
    "    how=\"left\"\n",
    ")"
   ]
  },
  {
   "cell_type": "code",
   "execution_count": 10,
   "id": "18608056",
   "metadata": {},
   "outputs": [],
   "source": [
    "# df.get_column(\"asin\").n_unique(), df_meta.get_column(\"parent_asin\").n_unique()\n",
    "# asins_in_df = df.get_column(\"asin\").unique()\n",
    "# asins_in_meta = df_meta.get_column(\"asin\").unique()\n",
    "\n",
    "# missing_asins = asins_in_df.filter(~asins_in_df.is_in(asins_in_meta.implode()))\n",
    "# missing_asins.len()"
   ]
  },
  {
   "cell_type": "code",
   "execution_count": 60,
   "id": "dc053c1a",
   "metadata": {},
   "outputs": [
    {
     "name": "stdout",
     "output_type": "stream",
     "text": [
      "1631725\n"
     ]
    },
    {
     "data": {
      "text/html": [
       "<div><style>\n",
       ".dataframe > thead > tr,\n",
       ".dataframe > tbody > tr {\n",
       "  text-align: right;\n",
       "  white-space: pre-wrap;\n",
       "}\n",
       "</style>\n",
       "<small>shape: (5, 8)</small><table border=\"1\" class=\"dataframe\"><thead><tr><th>rating</th><th>user_id</th><th>text</th><th>timestamp</th><th>asin</th><th>title</th><th>average_rating</th><th>price</th></tr><tr><td>f64</td><td>str</td><td>str</td><td>i64</td><td>str</td><td>str</td><td>f64</td><td>f64</td></tr></thead><tbody><tr><td>5.0</td><td>&quot;AGXVBIUFLFGMVLATYXHJYL4A5Q7Q&quot;</td><td>&quot;This DVD was GREAT!&nbsp;&nbsp;I am a st…</td><td>1146713492000</td><td>&quot;B0002J58ME&quot;</td><td>&quot;10 Minute Solution: Pilates&quot;</td><td>4.6</td><td>8.77</td></tr><tr><td>3.0</td><td>&quot;AEFKF6R2GUSK2AWPSWRR4ZO36JVQ&quot;</td><td>&quot;this item was canceled. . . .n…</td><td>1556496429981</td><td>&quot;B000PIU2A0&quot;</td><td>&quot;Battlespace&quot;</td><td>3.5</td><td>19.99</td></tr><tr><td>5.0</td><td>&quot;AEFKF6R2GUSK2AWPSWRR4ZO36JVQ&quot;</td><td>&quot;I grew up with this one. could…</td><td>1364088518000</td><td>&quot;B001JNNDRY&quot;</td><td>&quot;Columbo: Mystery Movie Collect…</td><td>4.7</td><td>13.4</td></tr><tr><td>4.0</td><td>&quot;AEFKF6R2GUSK2AWPSWRR4ZO36JVQ&quot;</td><td>&quot;like watching: haven&#x27;t gotten …</td><td>1364088147000</td><td>&quot;B000TSMOEI&quot;</td><td>&quot;Burst Angel: Hired Gun v.4&quot;</td><td>4.0</td><td>6.26</td></tr><tr><td>4.0</td><td>&quot;AEFKF6R2GUSK2AWPSWRR4ZO36JVQ&quot;</td><td>&quot;pretty cool to watch: differen…</td><td>1364087577000</td><td>&quot;B0009MAO82&quot;</td><td>&quot;Burst Angel, Vol. 3: East Meet…</td><td>4.7</td><td>8.49</td></tr></tbody></table></div>"
      ],
      "text/plain": [
       "shape: (5, 8)\n",
       "┌────────┬─────────────┬─────────────┬─────────────┬────────────┬─────────────┬────────────┬───────┐\n",
       "│ rating ┆ user_id     ┆ text        ┆ timestamp   ┆ asin       ┆ title       ┆ average_ra ┆ price │\n",
       "│ ---    ┆ ---         ┆ ---         ┆ ---         ┆ ---        ┆ ---         ┆ ting       ┆ ---   │\n",
       "│ f64    ┆ str         ┆ str         ┆ i64         ┆ str        ┆ str         ┆ ---        ┆ f64   │\n",
       "│        ┆             ┆             ┆             ┆            ┆             ┆ f64        ┆       │\n",
       "╞════════╪═════════════╪═════════════╪═════════════╪════════════╪═════════════╪════════════╪═══════╡\n",
       "│ 5.0    ┆ AGXVBIUFLFG ┆ This DVD    ┆ 11467134920 ┆ B0002J58ME ┆ 10 Minute   ┆ 4.6        ┆ 8.77  │\n",
       "│        ┆ MVLATYXHJYL ┆ was GREAT!  ┆ 00          ┆            ┆ Solution:   ┆            ┆       │\n",
       "│        ┆ 4A5Q7Q      ┆ I am a st…  ┆             ┆            ┆ Pilates     ┆            ┆       │\n",
       "│ 3.0    ┆ AEFKF6R2GUS ┆ this item   ┆ 15564964299 ┆ B000PIU2A0 ┆ Battlespace ┆ 3.5        ┆ 19.99 │\n",
       "│        ┆ K2AWPSWRR4Z ┆ was         ┆ 81          ┆            ┆             ┆            ┆       │\n",
       "│        ┆ O36JVQ      ┆ canceled. . ┆             ┆            ┆             ┆            ┆       │\n",
       "│        ┆             ┆ . .n…       ┆             ┆            ┆             ┆            ┆       │\n",
       "│ 5.0    ┆ AEFKF6R2GUS ┆ I grew up   ┆ 13640885180 ┆ B001JNNDRY ┆ Columbo:    ┆ 4.7        ┆ 13.4  │\n",
       "│        ┆ K2AWPSWRR4Z ┆ with this   ┆ 00          ┆            ┆ Mystery     ┆            ┆       │\n",
       "│        ┆ O36JVQ      ┆ one. could… ┆             ┆            ┆ Movie       ┆            ┆       │\n",
       "│        ┆             ┆             ┆             ┆            ┆ Collect…    ┆            ┆       │\n",
       "│ 4.0    ┆ AEFKF6R2GUS ┆ like        ┆ 13640881470 ┆ B000TSMOEI ┆ Burst       ┆ 4.0        ┆ 6.26  │\n",
       "│        ┆ K2AWPSWRR4Z ┆ watching:   ┆ 00          ┆            ┆ Angel:      ┆            ┆       │\n",
       "│        ┆ O36JVQ      ┆ haven't     ┆             ┆            ┆ Hired Gun   ┆            ┆       │\n",
       "│        ┆             ┆ gotten …    ┆             ┆            ┆ v.4         ┆            ┆       │\n",
       "│ 4.0    ┆ AEFKF6R2GUS ┆ pretty cool ┆ 13640875770 ┆ B0009MAO82 ┆ Burst       ┆ 4.7        ┆ 8.49  │\n",
       "│        ┆ K2AWPSWRR4Z ┆ to watch:   ┆ 00          ┆            ┆ Angel, Vol. ┆            ┆       │\n",
       "│        ┆ O36JVQ      ┆ differen…   ┆             ┆            ┆ 3: East     ┆            ┆       │\n",
       "│        ┆             ┆             ┆             ┆            ┆ Meet…       ┆            ┆       │\n",
       "└────────┴─────────────┴─────────────┴─────────────┴────────────┴─────────────┴────────────┴───────┘"
      ]
     },
     "execution_count": 60,
     "metadata": {},
     "output_type": "execute_result"
    }
   ],
   "source": [
    "# def filter_reviews(df, movie_threshold=5, review_threshold=5):\n",
    "#     prev_rows = -1\n",
    "#     while df.height != prev_rows:\n",
    "#         prev_rows = df.height\n",
    "#         valid_movies = (\n",
    "#             df.group_by('asin')\n",
    "#             .agg(pl.col('user_id').n_unique().alias('count'))\n",
    "#             .filter(pl.col('count') >= review_threshold)\n",
    "#             .get_column('asin')\n",
    "#         )\n",
    "#         df = df.filter(pl.col('asin').is_in(valid_movies.implode()))\n",
    "\n",
    "#         valid_reviewers = (\n",
    "#             df.group_by('user_id')\n",
    "#             .agg(pl.col('asin').n_unique().alias('count'))\n",
    "#             .filter(pl.col('count') >= movie_threshold)\n",
    "#             .get_column('user_id')\n",
    "#         )\n",
    "#         df = df.filter(pl.col('user_id').is_in(valid_reviewers.implode()))\n",
    "#     return df\n",
    "\n",
    "# filtered_df = filter_reviews(df)\n",
    "filtered_df = df_reviews.filter(pl.col(\"title\").is_not_null())\n",
    "print(filtered_df.height)\n",
    "filtered_df.limit(5)"
   ]
  },
  {
   "cell_type": "code",
   "execution_count": 12,
   "id": "83e575eb",
   "metadata": {},
   "outputs": [
    {
     "data": {
      "text/plain": [
       "6"
      ]
     },
     "execution_count": 12,
     "metadata": {},
     "output_type": "execute_result"
    }
   ],
   "source": [
    "reviewer_counts = (\n",
    "    filtered_df.group_by('user_id')\n",
    "    .agg(pl.col('asin').n_unique().alias('count'))\n",
    "    .filter(pl.col('count') > 500)\n",
    ")\n",
    "reviewer_counts_count = reviewer_counts.height\n",
    "reviewer_counts_count"
   ]
  },
  {
   "cell_type": "markdown",
   "id": "72418263",
   "metadata": {},
   "source": [
    "### Network"
   ]
  },
  {
   "cell_type": "code",
   "execution_count": 46,
   "id": "0ecfcbd6",
   "metadata": {},
   "outputs": [],
   "source": [
    "def generate_edge_list():\n",
    "    grouped = (\n",
    "        filtered_df\n",
    "        .group_by('user_id')\n",
    "        .agg(pl.col('asin').unique().alias('asins'))\n",
    "    )\n",
    "\n",
    "    edges = defaultdict(int)\n",
    "\n",
    "    for reviewers in tqdm(grouped['asins'], desc=\"Reviewer\"):\n",
    "        for pair in combinations(reviewers, 2):\n",
    "            edges[tuple(sorted(pair))] += 1\n",
    "\n",
    "    return [(a, b, count) for (a, b), count in edges.items()]"
   ]
  },
  {
   "cell_type": "code",
   "execution_count": 48,
   "id": "554a078d",
   "metadata": {},
   "outputs": [
    {
     "name": "stderr",
     "output_type": "stream",
     "text": [
      "Reviewer: 100%|██████████| 947488/947488 [00:10<00:00, 87476.39it/s] \n"
     ]
    },
    {
     "data": {
      "text/plain": [
       "8820651"
      ]
     },
     "execution_count": 48,
     "metadata": {},
     "output_type": "execute_result"
    }
   ],
   "source": [
    "movie_edgelist = generate_edge_list()\n",
    "len(movie_edgelist)"
   ]
  },
  {
   "cell_type": "code",
   "execution_count": 15,
   "id": "34f1ca0e",
   "metadata": {},
   "outputs": [
    {
     "name": "stdout",
     "output_type": "stream",
     "text": [
      "Edges with weight => 2: 96920\n",
      "Edges with weight => 3: 12754\n",
      "Edges with weight => 4: 4249\n",
      "Edges with weight => 5: 2011\n",
      "Edges with weight => 7: 700\n",
      "Edges with weight => 10: 230\n"
     ]
    }
   ],
   "source": [
    "thresholds = [2,3,4,5,7,10]\n",
    "for t in thresholds:\n",
    "    weighted_edges = [(a, b, w) for (a, b, w) in movie_edgelist if w >= t]\n",
    "    print(f\"Edges with weight => {t}: {len(weighted_edges)}\")"
   ]
  },
  {
   "cell_type": "markdown",
   "id": "78856904",
   "metadata": {},
   "source": [
    "### Graph"
   ]
  },
  {
   "cell_type": "code",
   "execution_count": null,
   "id": "ca36f07d",
   "metadata": {},
   "outputs": [
    {
     "data": {
      "text/plain": [
       "12754"
      ]
     },
     "execution_count": 31,
     "metadata": {},
     "output_type": "execute_result"
    }
   ],
   "source": [
    "WEIGHT_THRESHOLD = 3\n",
    "weighted_movie_edge = [(a, b, w) for (a, b, w) in movie_edgelist if w >= WEIGHT_THRESHOLD]\n",
    "len(weighted_movie_edge)"
   ]
  },
  {
   "cell_type": "code",
   "execution_count": 61,
   "id": "22265dfc",
   "metadata": {},
   "outputs": [],
   "source": [
    "filtered_df = filtered_df.fill_null(\"\")\n",
    "attributes = [\"title\", \"average_rating\", \"price\"]\n",
    "df_attrs = filtered_df.select([\"asin\"] + attributes)\n",
    "attr_dict = {row[0]: dict(zip(attributes, row[1:])) for row in df_attrs.rows()}"
   ]
  },
  {
   "cell_type": "code",
   "execution_count": null,
   "id": "7690ceb7",
   "metadata": {},
   "outputs": [],
   "source": [
    "G = nx.Graph()\n",
    "G.add_weighted_edges_from(weighted_movie_edge)\n",
    "nx.set_node_attributes(G, attr_dict)\n",
    "nx.write_gexf(G, \"graph.gexf\")"
   ]
  },
  {
   "cell_type": "code",
   "execution_count": 55,
   "id": "2d3870a5",
   "metadata": {},
   "outputs": [
    {
     "data": {
      "text/plain": [
       "(9567, 12754)"
      ]
     },
     "execution_count": 55,
     "metadata": {},
     "output_type": "execute_result"
    }
   ],
   "source": [
    "len(G.nodes()), len(G.edges())"
   ]
  },
  {
   "cell_type": "code",
   "execution_count": 34,
   "id": "753968ae",
   "metadata": {},
   "outputs": [
    {
     "data": {
      "text/plain": [
       "2.666248562767848"
      ]
     },
     "execution_count": 34,
     "metadata": {},
     "output_type": "execute_result"
    }
   ],
   "source": [
    "degrees = [d for _, d in G.degree()]\n",
    "\n",
    "np.mean(degrees)"
   ]
  },
  {
   "cell_type": "code",
   "execution_count": 35,
   "id": "90664973",
   "metadata": {},
   "outputs": [
    {
     "data": {
      "image/png": "[encoded data removed]",
      "text/plain": [
       "<Figure size 640x480 with 1 Axes>"
      ]
     },
     "metadata": {},
     "output_type": "display_data"
    }
   ],
   "source": [
    "X = list(dict(G.degree).values())\n",
    "plt.yscale(\"log\")\n",
    "plt.title(\"Distribution Of Degree For Movie Network\")\n",
    "plt.xlabel(\"Degree\")\n",
    "plt.ylabel(\"Log Count\")\n",
    "plt.hist(X, 40, alpha=0.75);"
   ]
  },
  {
   "cell_type": "markdown",
   "id": "23a55af8",
   "metadata": {},
   "source": [
    "### Community detection"
   ]
  },
  {
   "cell_type": "code",
   "execution_count": 36,
   "id": "f9c70eb8",
   "metadata": {},
   "outputs": [],
   "source": [
    "def community_modularity(G, c, L):\n",
    "    s = G.subgraph(c)\n",
    "    L_c = s.number_of_edges()\n",
    "    k_c = sum(dict(s.degree()).values())\n",
    "    M_c = L_c / L - (k_c / (2 * L)) ** 2\n",
    "    return M_c\n",
    "\n",
    "def modularity(G, partitions):\n",
    "    L = G.number_of_edges()\n",
    "    return sum((community_modularity(G, c, L) for c in partitions))"
   ]
  },
  {
   "cell_type": "code",
   "execution_count": 37,
   "id": "74bfce42",
   "metadata": {},
   "outputs": [],
   "source": [
    "def louvain_partitions(G):\n",
    "    partition = community_louvain.best_partition(G, randomize=False)\n",
    "    groups = defaultdict(set)\n",
    "    for node, comm in partition.items():\n",
    "        groups[comm].add(node)\n",
    "    return list(groups.values())"
   ]
  },
  {
   "cell_type": "code",
   "execution_count": 38,
   "id": "53fdf20f",
   "metadata": {},
   "outputs": [
    {
     "data": {
      "text/plain": [
       "1901"
      ]
     },
     "execution_count": 38,
     "metadata": {},
     "output_type": "execute_result"
    }
   ],
   "source": [
    "communities = louvain_partitions(G)\n",
    "len(communities)"
   ]
  },
  {
   "cell_type": "code",
   "execution_count": 39,
   "id": "9ccbeccb",
   "metadata": {},
   "outputs": [
    {
     "data": {
      "text/plain": [
       "0.9380570990664"
      ]
     },
     "execution_count": 39,
     "metadata": {},
     "output_type": "execute_result"
    }
   ],
   "source": [
    "modularity(G, communities) "
   ]
  },
  {
   "cell_type": "code",
   "execution_count": 40,
   "id": "e26b4ef4",
   "metadata": {},
   "outputs": [
    {
     "data": {
      "text/plain": [
       "Counter({2: 1305,\n",
       "         3: 307,\n",
       "         4: 108,\n",
       "         5: 58,\n",
       "         6: 33,\n",
       "         7: 20,\n",
       "         8: 9,\n",
       "         9: 6,\n",
       "         11: 5,\n",
       "         10: 4,\n",
       "         24: 4,\n",
       "         12: 3,\n",
       "         17: 3,\n",
       "         44: 2,\n",
       "         20: 2,\n",
       "         15: 2,\n",
       "         14: 2,\n",
       "         151: 1,\n",
       "         175: 1,\n",
       "         356: 1,\n",
       "         282: 1,\n",
       "         558: 1,\n",
       "         307: 1,\n",
       "         440: 1,\n",
       "         125: 1,\n",
       "         54: 1,\n",
       "         103: 1,\n",
       "         47: 1,\n",
       "         270: 1,\n",
       "         352: 1,\n",
       "         111: 1,\n",
       "         129: 1,\n",
       "         38: 1,\n",
       "         75: 1,\n",
       "         101: 1,\n",
       "         104: 1,\n",
       "         68: 1,\n",
       "         64: 1,\n",
       "         36: 1,\n",
       "         130: 1,\n",
       "         110: 1,\n",
       "         18: 1,\n",
       "         23: 1,\n",
       "         46: 1,\n",
       "         113: 1})"
      ]
     },
     "execution_count": 40,
     "metadata": {},
     "output_type": "execute_result"
    },
    {
     "data": {
      "image/png": "[encoded data removed]",
      "text/plain": [
       "<Figure size 640x480 with 1 Axes>"
      ]
     },
     "metadata": {},
     "output_type": "display_data"
    }
   ],
   "source": [
    "X = list(map(len, communities))\n",
    "# X = [x for x in X if x < 100]\n",
    "plt.yscale(\"log\")\n",
    "plt.title(\"Distribution Of Degree For Movie Network\")\n",
    "plt.xlabel(\"Degree\")\n",
    "plt.ylabel(\"Log Count\")\n",
    "plt.hist(X, 100, alpha=0.75);\n",
    "Counter(X)"
   ]
  },
  {
   "cell_type": "markdown",
   "id": "00eb4b9d",
   "metadata": {},
   "source": [
    "### Text analysis"
   ]
  },
  {
   "cell_type": "code",
   "execution_count": 41,
   "id": "6b3e538f",
   "metadata": {},
   "outputs": [],
   "source": [
    "# Adding community labels to the df\n",
    "movie_to_community = {\n",
    "    movie_id: i\n",
    "    for i, com in enumerate(communities)\n",
    "    for movie_id in com\n",
    "}\n",
    "\n",
    "community_df = pl.DataFrame([\n",
    "    {\"asin\": k, \"community\": v}\n",
    "    for k, v in movie_to_community.items()\n",
    "])\n",
    "\n",
    "if \"community\" in df.columns:\n",
    "    df = df.drop(\"community\")\n",
    "\n",
    "df = df.join(community_df, on=\"asin\", how=\"left\")"
   ]
  },
  {
   "cell_type": "code",
   "execution_count": 42,
   "id": "4260dbba",
   "metadata": {},
   "outputs": [],
   "source": [
    "# Tokenize and stemming reviews\n",
    "stemmer = PorterStemmer()\n",
    "pattern = re.compile(r'https?://\\S+|[^a-z\\s]')\n",
    "stop_words = stopwords.words('english')\n",
    "\n",
    "@lru_cache(maxsize=10000)\n",
    "def cached_stem(word):\n",
    "    return stemmer.stem(word)\n",
    "\n",
    "def tokenize(text, stem=True):\n",
    "    text = text.lower()\n",
    "    text = pattern.sub('', text)\n",
    "    tokens = text.split()\n",
    "    tokens = [token for token in tokens if token not in stop_words]\n",
    "    return [cached_stem(t) for t in tokens] if stem else tokens"
   ]
  },
  {
   "cell_type": "code",
   "execution_count": 43,
   "id": "8050b779",
   "metadata": {},
   "outputs": [],
   "source": [
    "# movie_data.get_column(\"community\").n_unique()\n",
    "# movie_data.filter(pl.col(\"community\") == 350)"
   ]
  }
 ],
 "metadata": {
  "kernelspec": {
   "display_name": "Python 3",
   "language": "python",
   "name": "python3"
  },
  "language_info": {
   "codemirror_mode": {
    "name": "ipython",
    "version": 3
   },
   "file_extension": ".py",
   "mimetype": "text/x-python",
   "name": "python",
   "nbconvert_exporter": "python",
   "pygments_lexer": "ipython3",
   "version": "3.12.3"
  }
 },
 "nbformat": 4,
 "nbformat_minor": 5
}
