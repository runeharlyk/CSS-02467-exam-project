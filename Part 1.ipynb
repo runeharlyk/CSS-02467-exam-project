{
 "cells": [
  {
   "cell_type": "code",
   "execution_count": null,
   "id": "8c0720ba",
   "metadata": {},
   "outputs": [],
   "source": [
    "import polars as pl\n",
    "from itertools import combinations\n",
    "from collections import Counter, defaultdict\n",
    "import networkx as nx\n",
    "# import netwulf as nw\n",
    "from tqdm import tqdm\n",
    "import numpy as np\n",
    "import matplotlib.pyplot as plt\n",
    "from community import community_louvain\n",
    "import seaborn as sns\n",
    "import json\n",
    "from nltk import PorterStemmer, bigrams as nltk_bigrams\n",
    "import re\n",
    "from nltk.corpus import stopwords\n",
    "\n",
    "sns.set_style(\"darkgrid\")\n",
    "\n",
    "REVIEW_DATA_FILE = 'Movies_and_TV.jsonl'\n",
    "META_DATA_FILE = \"meta_Movies_and_TV.jsonl\"\n",
    "\n",
    "NETWORK_FILE = \"movie_network.json\""
   ]
  },
  {
   "cell_type": "markdown",
   "id": "b40e90b8",
   "metadata": {},
   "source": [
    "[Get dataset here](https://nijianmo.github.io/amazon/index.html)"
   ]
  },
  {
   "cell_type": "markdown",
   "metadata": {},
   "source": [
    "# TODO\n",
    "Map all review asin to same movie"
   ]
  },
  {
   "cell_type": "code",
   "execution_count": 105,
   "id": "9771bb4a",
   "metadata": {},
   "outputs": [],
   "source": [
    "def save_graph(graph_file, G):\n",
    "    data = nx.readwrite.json_graph.node_link_data(G)\n",
    "    with open(graph_file, \"w\") as f:\n",
    "        json.dump(data, f)\n",
    "\n",
    "def load_graph(graph_file):\n",
    "    with open(graph_file, \"r\") as f:\n",
    "        data = json.load(f)\n",
    "    return nx.readwrite.json_graph.node_link_graph(data)"
   ]
  },
  {
   "cell_type": "markdown",
   "id": "1401dd6e",
   "metadata": {},
   "source": [
    "### Load and Filtering of Data"
   ]
  },
  {
   "cell_type": "code",
   "execution_count": 154,
   "id": "99535484",
   "metadata": {},
   "outputs": [],
   "source": [
    "df = pl.scan_ndjson(REVIEW_DATA_FILE).filter(pl.col('verified_purchase') == True).filter(pl.col('helpful_vote') != 0)\n",
    "existing = set(df.collect_schema().keys())\n",
    "drop_cols = {'images', 'style', 'verified_purchase', 'asin', 'helpful_vote', 'title'} \n",
    "keep_cols = list(existing - drop_cols)\n",
    "df = df.select(keep_cols).rename({'parent_asin': 'asin'})\n",
    "df = df.collect()"
   ]
  },
  {
   "cell_type": "code",
   "execution_count": 252,
   "id": "9741d965",
   "metadata": {},
   "outputs": [
    {
     "data": {
      "text/html": [
       "<div><style>\n",
       ".dataframe > thead > tr,\n",
       ".dataframe > tbody > tr {\n",
       "  text-align: right;\n",
       "  white-space: pre-wrap;\n",
       "}\n",
       "</style>\n",
       "<small>shape: (5, 6)</small><table border=\"1\" class=\"dataframe\"><thead><tr><th>rating</th><th>asin</th><th>user_id</th><th>timestamp</th><th>text</th><th>community</th></tr><tr><td>f64</td><td>str</td><td>str</td><td>i64</td><td>str</td><td>i64</td></tr></thead><tbody><tr><td>5.0</td><td>&quot;B0002J58ME&quot;</td><td>&quot;AGXVBIUFLFGMVLATYXHJYL4A5Q7Q&quot;</td><td>1146713492000</td><td>&quot;This DVD was GREAT!&nbsp;&nbsp;I am a st…</td><td>null</td></tr><tr><td>3.0</td><td>&quot;B000PIU2A0&quot;</td><td>&quot;AEFKF6R2GUSK2AWPSWRR4ZO36JVQ&quot;</td><td>1556496429981</td><td>&quot;this item was canceled. . . .n…</td><td>null</td></tr><tr><td>5.0</td><td>&quot;B001JNNDRY&quot;</td><td>&quot;AEFKF6R2GUSK2AWPSWRR4ZO36JVQ&quot;</td><td>1364088518000</td><td>&quot;I grew up with this one. could…</td><td>12</td></tr><tr><td>4.0</td><td>&quot;B000TSMOEI&quot;</td><td>&quot;AEFKF6R2GUSK2AWPSWRR4ZO36JVQ&quot;</td><td>1364088147000</td><td>&quot;like watching: haven&#x27;t gotten …</td><td>null</td></tr><tr><td>4.0</td><td>&quot;B0009MAO82&quot;</td><td>&quot;AEFKF6R2GUSK2AWPSWRR4ZO36JVQ&quot;</td><td>1364087577000</td><td>&quot;pretty cool to watch: differen…</td><td>null</td></tr></tbody></table></div>"
      ],
      "text/plain": [
       "shape: (5, 6)\n",
       "┌────────┬────────────┬────────────────────────┬───────────────┬───────────────────────┬───────────┐\n",
       "│ rating ┆ asin       ┆ user_id                ┆ timestamp     ┆ text                  ┆ community │\n",
       "│ ---    ┆ ---        ┆ ---                    ┆ ---           ┆ ---                   ┆ ---       │\n",
       "│ f64    ┆ str        ┆ str                    ┆ i64           ┆ str                   ┆ i64       │\n",
       "╞════════╪════════════╪════════════════════════╪═══════════════╪═══════════════════════╪═══════════╡\n",
       "│ 5.0    ┆ B0002J58ME ┆ AGXVBIUFLFGMVLATYXHJYL ┆ 1146713492000 ┆ This DVD was GREAT!   ┆ null      │\n",
       "│        ┆            ┆ 4A5Q7Q                 ┆               ┆ I am a st…            ┆           │\n",
       "│ 3.0    ┆ B000PIU2A0 ┆ AEFKF6R2GUSK2AWPSWRR4Z ┆ 1556496429981 ┆ this item was         ┆ null      │\n",
       "│        ┆            ┆ O36JVQ                 ┆               ┆ canceled. . . .n…     ┆           │\n",
       "│ 5.0    ┆ B001JNNDRY ┆ AEFKF6R2GUSK2AWPSWRR4Z ┆ 1364088518000 ┆ I grew up with this   ┆ 12        │\n",
       "│        ┆            ┆ O36JVQ                 ┆               ┆ one. could…           ┆           │\n",
       "│ 4.0    ┆ B000TSMOEI ┆ AEFKF6R2GUSK2AWPSWRR4Z ┆ 1364088147000 ┆ like watching:        ┆ null      │\n",
       "│        ┆            ┆ O36JVQ                 ┆               ┆ haven't gotten …      ┆           │\n",
       "│ 4.0    ┆ B0009MAO82 ┆ AEFKF6R2GUSK2AWPSWRR4Z ┆ 1364087577000 ┆ pretty cool to watch: ┆ null      │\n",
       "│        ┆            ┆ O36JVQ                 ┆               ┆ differen…             ┆           │\n",
       "└────────┴────────────┴────────────────────────┴───────────────┴───────────────────────┴───────────┘"
      ]
     },
     "execution_count": 252,
     "metadata": {},
     "output_type": "execute_result"
    }
   ],
   "source": [
    "df.limit(5)"
   ]
  },
  {
   "cell_type": "code",
   "execution_count": 108,
   "metadata": {},
   "outputs": [
    {
     "data": {
      "text/plain": [
       "(2888210, 409673)"
      ]
     },
     "execution_count": 108,
     "metadata": {},
     "output_type": "execute_result"
    }
   ],
   "source": [
    "df.height, df.get_column(\"asin\").n_unique()"
   ]
  },
  {
   "cell_type": "code",
   "execution_count": 109,
   "id": "dc053c1a",
   "metadata": {},
   "outputs": [],
   "source": [
    "def filter_reviews(df, movie_threshold=5, review_threshold=5):\n",
    "    prev_rows = -1\n",
    "    while df.height != prev_rows:\n",
    "        prev_rows = df.height\n",
    "        valid_movies = (\n",
    "            df.group_by('asin')\n",
    "            .agg(pl.col('user_id').n_unique().alias('count'))\n",
    "            .filter(pl.col('count') >= review_threshold)\n",
    "            .get_column('asin')\n",
    "        )\n",
    "        df = df.filter(pl.col('asin').is_in(valid_movies.implode()))\n",
    "\n",
    "        valid_reviewers = (\n",
    "            df.group_by('user_id')\n",
    "            .agg(pl.col('asin').n_unique().alias('count'))\n",
    "            .filter(pl.col('count') >= movie_threshold)\n",
    "            .get_column('user_id')\n",
    "        )\n",
    "        df = df.filter(pl.col('user_id').is_in(valid_reviewers.implode()))\n",
    "    return df\n",
    "\n",
    "filtered_df = filter_reviews(df)"
   ]
  },
  {
   "cell_type": "code",
   "execution_count": 159,
   "id": "83e575eb",
   "metadata": {},
   "outputs": [
    {
     "data": {
      "text/plain": [
       "2"
      ]
     },
     "execution_count": 159,
     "metadata": {},
     "output_type": "execute_result"
    }
   ],
   "source": [
    "reviewer_counts = (\n",
    "    filtered_df.group_by('user_id')\n",
    "    .agg(pl.col('asin').n_unique().alias('count'))\n",
    "    .filter(pl.col('count') > 500)\n",
    ")\n",
    "reviewer_counts_count = reviewer_counts.height\n",
    "reviewer_counts_count"
   ]
  },
  {
   "cell_type": "code",
   "execution_count": 160,
   "id": "9bcb41d5",
   "metadata": {},
   "outputs": [
    {
     "data": {
      "text/plain": [
       "(289311, 28569)"
      ]
     },
     "execution_count": 160,
     "metadata": {},
     "output_type": "execute_result"
    }
   ],
   "source": [
    "filtered_df.height, filtered_df.get_column(\"asin\").n_unique()"
   ]
  },
  {
   "cell_type": "code",
   "execution_count": 294,
   "metadata": {},
   "outputs": [
    {
     "data": {
      "text/html": [
       "<div><style>\n",
       ".dataframe > thead > tr,\n",
       ".dataframe > tbody > tr {\n",
       "  text-align: right;\n",
       "  white-space: pre-wrap;\n",
       "}\n",
       "</style>\n",
       "<small>shape: (5, 10)</small><table border=\"1\" class=\"dataframe\"><thead><tr><th>main_category</th><th>title</th><th>average_rating</th><th>rating_number</th><th>description</th><th>price</th><th>categories</th><th>content_advisory</th><th>parent_asin</th><th>desc_len</th></tr><tr><td>str</td><td>str</td><td>f64</td><td>i64</td><td>str</td><td>f64</td><td>list[str]</td><td>list[str]</td><td>str</td><td>u32</td></tr></thead><tbody><tr><td>&quot;Prime Video&quot;</td><td>&quot;Glee&quot;</td><td>4.7</td><td>2004</td><td>&quot;Entering its fourth season, th…</td><td>22.39</td><td>[&quot;Comedy&quot;, &quot;Drama&quot;, … &quot;Music Videos and Concerts&quot;]</td><td>[&quot;Violence&quot;, &quot;substance use&quot;, … &quot;sexual content&quot;]</td><td>&quot;B00ABWKL3I&quot;</td><td>396</td></tr><tr><td>&quot;Prime Video&quot;</td><td>&quot;One Perfect Wedding&quot;</td><td>3.0</td><td>6</td><td>&quot;With her book tour in two week…</td><td>null</td><td>[&quot;Comedy&quot;, &quot;Drama&quot;, &quot;Romance&quot;]</td><td>[]</td><td>&quot;B09WDLJ4HP&quot;</td><td>219</td></tr><tr><td>&quot;Movies &amp; TV&quot;</td><td>&quot;How to Make Animatronic Charac…</td><td>5.0</td><td>7</td><td>&quot;Product Description&quot;</td><td>64.99</td><td>[&quot;Movies &amp; TV&quot;, &quot;Genre for Featured Categories&quot;, &quot;Special Interests&quot;]</td><td>[]</td><td>&quot;B00AHN851G&quot;</td><td>19</td></tr><tr><td>&quot;Prime Video&quot;</td><td>&quot;Ode to Joy: Beethoven&#x27;s Sympho…</td><td>4.3</td><td>35</td><td>&quot;This special Ode to Joy: Beeth…</td><td>5.99</td><td>[&quot;Documentary&quot;]</td><td>[]</td><td>&quot;B01G9ILXXE&quot;</td><td>234</td></tr><tr><td>&quot;Prime Video&quot;</td><td>&quot;Ben 10: Alien Force (Classic)&quot;</td><td>4.7</td><td>360</td><td>&quot;Itâ€™s hero time again for Ben…</td><td>24.49</td><td>[&quot;Science Fiction&quot;, &quot;Comedy&quot;, … &quot;Drama&quot;]</td><td>[]</td><td>&quot;B009SIYXDA&quot;</td><td>377</td></tr></tbody></table></div>"
      ],
      "text/plain": [
       "shape: (5, 10)\n",
       "┌───────────┬───────────┬───────────┬───────────┬───┬───────────┬───────────┬───────────┬──────────┐\n",
       "│ main_cate ┆ title     ┆ average_r ┆ rating_nu ┆ … ┆ categorie ┆ content_a ┆ parent_as ┆ desc_len │\n",
       "│ gory      ┆ ---       ┆ ating     ┆ mber      ┆   ┆ s         ┆ dvisory   ┆ in        ┆ ---      │\n",
       "│ ---       ┆ str       ┆ ---       ┆ ---       ┆   ┆ ---       ┆ ---       ┆ ---       ┆ u32      │\n",
       "│ str       ┆           ┆ f64       ┆ i64       ┆   ┆ list[str] ┆ list[str] ┆ str       ┆          │\n",
       "╞═══════════╪═══════════╪═══════════╪═══════════╪═══╪═══════════╪═══════════╪═══════════╪══════════╡\n",
       "│ Prime     ┆ Glee      ┆ 4.7       ┆ 2004      ┆ … ┆ [\"Comedy\" ┆ [\"Violenc ┆ B00ABWKL3 ┆ 396      │\n",
       "│ Video     ┆           ┆           ┆           ┆   ┆ ,         ┆ e\", \"subs ┆ I         ┆          │\n",
       "│           ┆           ┆           ┆           ┆   ┆ \"Drama\",  ┆ tance     ┆           ┆          │\n",
       "│           ┆           ┆           ┆           ┆   ┆ … \"Music  ┆ use\", …   ┆           ┆          │\n",
       "│           ┆           ┆           ┆           ┆   ┆ V…        ┆           ┆           ┆          │\n",
       "│ Prime     ┆ One       ┆ 3.0       ┆ 6         ┆ … ┆ [\"Comedy\" ┆ []        ┆ B09WDLJ4H ┆ 219      │\n",
       "│ Video     ┆ Perfect   ┆           ┆           ┆   ┆ ,         ┆           ┆ P         ┆          │\n",
       "│           ┆ Wedding   ┆           ┆           ┆   ┆ \"Drama\",  ┆           ┆           ┆          │\n",
       "│           ┆           ┆           ┆           ┆   ┆ \"Romance\" ┆           ┆           ┆          │\n",
       "│           ┆           ┆           ┆           ┆   ┆ ]         ┆           ┆           ┆          │\n",
       "│ Movies &  ┆ How to    ┆ 5.0       ┆ 7         ┆ … ┆ [\"Movies  ┆ []        ┆ B00AHN851 ┆ 19       │\n",
       "│ TV        ┆ Make Anim ┆           ┆           ┆   ┆ & TV\",    ┆           ┆ G         ┆          │\n",
       "│           ┆ atronic   ┆           ┆           ┆   ┆ \"Genre    ┆           ┆           ┆          │\n",
       "│           ┆ Charac…   ┆           ┆           ┆   ┆ for Fea…  ┆           ┆           ┆          │\n",
       "│ Prime     ┆ Ode to    ┆ 4.3       ┆ 35        ┆ … ┆ [\"Documen ┆ []        ┆ B01G9ILXX ┆ 234      │\n",
       "│ Video     ┆ Joy: Beet ┆           ┆           ┆   ┆ tary\"]    ┆           ┆ E         ┆          │\n",
       "│           ┆ hoven's   ┆           ┆           ┆   ┆           ┆           ┆           ┆          │\n",
       "│           ┆ Sympho…   ┆           ┆           ┆   ┆           ┆           ┆           ┆          │\n",
       "│ Prime     ┆ Ben 10:   ┆ 4.7       ┆ 360       ┆ … ┆ [\"Science ┆ []        ┆ B009SIYXD ┆ 377      │\n",
       "│ Video     ┆ Alien     ┆           ┆           ┆   ┆ Fiction\", ┆           ┆ A         ┆          │\n",
       "│           ┆ Force     ┆           ┆           ┆   ┆ \"Comedy\", ┆           ┆           ┆          │\n",
       "│           ┆ (Classic) ┆           ┆           ┆   ┆ …         ┆           ┆           ┆          │\n",
       "└───────────┴───────────┴───────────┴───────────┴───┴───────────┴───────────┴───────────┴──────────┘"
      ]
     },
     "execution_count": 294,
     "metadata": {},
     "output_type": "execute_result"
    }
   ],
   "source": [
    "schema = {\n",
    "    \"main_category\": pl.Utf8,\n",
    "    \"title\": pl.Utf8,\n",
    "    # \"subtitle\": pl.Utf8,\n",
    "    \"average_rating\": pl.Float64,\n",
    "    \"rating_number\": pl.Int64,\n",
    "    # \"features\": pl.List(pl.Utf8),\n",
    "    \"description\": pl.List(pl.Utf8),\n",
    "    \"price\": pl.Utf8,  # intentionally string to avoid parse issues like \"from 2.99\"\n",
    "    # \"store\": pl.Null,\n",
    "    \"categories\": pl.List(pl.Utf8),\n",
    "    \"details\": pl.Struct([\n",
    "        pl.Field(\"Content advisory\", pl.List(pl.Utf8)),\n",
    "        # pl.Field(\"Audio languages\", pl.List(pl.Utf8)),\n",
    "        # pl.Field(\"Subtitles\", pl.List(pl.Utf8)),\n",
    "        # pl.Field(\"Directors\", pl.List(pl.Utf8))\n",
    "    ]),\n",
    "    \"parent_asin\": pl.Utf8,\n",
    "    # \"bought_together\": pl.Null\n",
    "}\n",
    "\n",
    "df_meta = pl.read_ndjson(META_DATA_FILE, schema=schema)\n",
    "\n",
    "# Map prices\n",
    "df_meta = df_meta.with_columns(\n",
    "    pl.col(\"price\")\n",
    "    .str.extract(r\"([0-9]+(?:\\.[0-9]+)?)\", 1)\n",
    "    .cast(pl.Float64)\n",
    ")\n",
    "\n",
    "# Map description\n",
    "df_meta = df_meta.with_columns(\n",
    "    pl.when(\n",
    "        pl.col(\"description\").is_null() |\n",
    "        (pl.col(\"description\").list.eval(pl.element()).list.len() == 0)\n",
    "    )\n",
    "    .then(pl.lit([\"\"]).cast(pl.List(pl.Utf8)))\n",
    "    .otherwise(pl.col(\"description\"))\n",
    "    .alias(\"description\")\n",
    ")\n",
    "\n",
    "df_meta = df_meta.with_columns(\n",
    "    pl.col(\"description\").list.get(0).alias(\"description\") # TODO GET THE LONGEST DESCRIPTION\n",
    ")\n",
    "\n",
    "df_meta = df_meta.with_columns(\n",
    "    pl.col(\"description\").str.len_chars().alias(\"desc_len\")\n",
    ")\n",
    "\n",
    "# Map Content advisory\n",
    "df_meta = df_meta.with_columns(\n",
    "    pl.struct([\"details\"]).map_elements(\n",
    "        lambda s: s[\"details\"][\"Content advisory\"] if s[\"details\"] and \"Content advisory\" in s[\"details\"] else [],\n",
    "        return_dtype=pl.List(pl.Utf8)\n",
    "    ).alias(\"details\")\n",
    ").rename({\"details\": \"content_advisory\"})\n",
    "\n",
    "df_meta.limit(5)"
   ]
  },
  {
   "cell_type": "code",
   "execution_count": 296,
   "metadata": {},
   "outputs": [
    {
     "data": {
      "text/html": [
       "<div><style>\n",
       ".dataframe > thead > tr,\n",
       ".dataframe > tbody > tr {\n",
       "  text-align: right;\n",
       "  white-space: pre-wrap;\n",
       "}\n",
       "</style>\n",
       "<small>shape: (11, 10)</small><table border=\"1\" class=\"dataframe\"><thead><tr><th>main_category</th><th>title</th><th>average_rating</th><th>rating_number</th><th>description</th><th>price</th><th>categories</th><th>content_advisory</th><th>parent_asin</th><th>desc_len</th></tr><tr><td>str</td><td>str</td><td>f64</td><td>i64</td><td>str</td><td>f64</td><td>list[str]</td><td>list[str]</td><td>str</td><td>u32</td></tr></thead><tbody><tr><td>&quot;Prime Video&quot;</td><td>&quot;Glee&quot;</td><td>4.7</td><td>2004</td><td>&quot;Entering its fourth season, th…</td><td>22.39</td><td>[&quot;Comedy&quot;, &quot;Drama&quot;, … &quot;Music Videos and Concerts&quot;]</td><td>[&quot;Violence&quot;, &quot;substance use&quot;, … &quot;sexual content&quot;]</td><td>&quot;B00ABWKL3I&quot;</td><td>396</td></tr><tr><td>&quot;Prime Video&quot;</td><td>&quot;Glee&quot;</td><td>4.7</td><td>2004</td><td>&quot;Entering its fourth season, th…</td><td>22.39</td><td>[&quot;Comedy&quot;, &quot;Drama&quot;, … &quot;Music Videos and Concerts&quot;]</td><td>[&quot;Violence&quot;, &quot;substance use&quot;, … &quot;sexual content&quot;]</td><td>&quot;B009ARMP7U&quot;</td><td>396</td></tr><tr><td>&quot;Prime Video&quot;</td><td>&quot;Glee&quot;</td><td>4.7</td><td>2004</td><td>&quot;Entering its fourth season, th…</td><td>22.39</td><td>[&quot;Comedy&quot;, &quot;Drama&quot;, … &quot;Music Videos and Concerts&quot;]</td><td>[&quot;Violence&quot;, &quot;substance use&quot;, … &quot;sexual content&quot;]</td><td>&quot;B009LZEZSI&quot;</td><td>396</td></tr><tr><td>&quot;Prime Video&quot;</td><td>&quot;Glee&quot;</td><td>4.7</td><td>1843</td><td>&quot;Entering its sophomore season,…</td><td>19.59</td><td>[&quot;Comedy&quot;, &quot;Drama&quot;, … &quot;Music Videos and Concerts&quot;]</td><td>[&quot;Violence&quot;, &quot;alcohol use&quot;, … &quot;sexual content&quot;]</td><td>&quot;B00463U1LK&quot;</td><td>258</td></tr><tr><td>&quot;Prime Video&quot;</td><td>&quot;Glee&quot;</td><td>4.7</td><td>1843</td><td>&quot;Entering its sophomore season,…</td><td>19.59</td><td>[&quot;Comedy&quot;, &quot;Drama&quot;, … &quot;Music Videos and Concerts&quot;]</td><td>[&quot;Violence&quot;, &quot;alcohol use&quot;, … &quot;sexual content&quot;]</td><td>&quot;B004P1BYNC&quot;</td><td>258</td></tr><tr><td>&hellip;</td><td>&hellip;</td><td>&hellip;</td><td>&hellip;</td><td>&hellip;</td><td>&hellip;</td><td>&hellip;</td><td>&hellip;</td><td>&hellip;</td><td>&hellip;</td></tr><tr><td>&quot;Prime Video&quot;</td><td>&quot;Glee&quot;</td><td>4.6</td><td>2617</td><td>&quot;The highly anticipated first s…</td><td>19.99</td><td>[&quot;Comedy&quot;, &quot;Drama&quot;, … &quot;Music Videos and Concerts&quot;]</td><td>[]</td><td>&quot;B003LWLIS2&quot;</td><td>1208</td></tr><tr><td>&quot;Prime Video&quot;</td><td>&quot;Glee&quot;</td><td>4.7</td><td>2005</td><td>&quot;Entering its fourth season, th…</td><td>19.59</td><td>[&quot;Comedy&quot;, &quot;Drama&quot;, … &quot;Music Videos and Concerts&quot;]</td><td>[&quot;Violence&quot;, &quot;substance use&quot;, … &quot;sexual content&quot;]</td><td>&quot;B009ARMS1I&quot;</td><td>396</td></tr><tr><td>&quot;Prime Video&quot;</td><td>&quot;Glee&quot;</td><td>4.7</td><td>2005</td><td>&quot;Entering its fourth season, th…</td><td>19.59</td><td>[&quot;Comedy&quot;, &quot;Drama&quot;, … &quot;Music Videos and Concerts&quot;]</td><td>[&quot;Violence&quot;, &quot;substance use&quot;, … &quot;sexual content&quot;]</td><td>&quot;B009LZHRCO&quot;</td><td>396</td></tr><tr><td>&quot;Prime Video&quot;</td><td>&quot;Glee&quot;</td><td>4.7</td><td>2008</td><td>&quot;Entering its fourth season, th…</td><td>19.59</td><td>[&quot;Comedy&quot;, &quot;Drama&quot;, … &quot;Music Videos and Concerts&quot;]</td><td>[&quot;Violence&quot;, &quot;substance use&quot;, … &quot;sexual content&quot;]</td><td>&quot;B00H0BFUCA&quot;</td><td>396</td></tr><tr><td>&quot;Prime Video&quot;</td><td>&quot;Glee&quot;</td><td>4.7</td><td>727</td><td>&quot;Glee is an uplifting musical c…</td><td>22.39</td><td>[&quot;Comedy&quot;, &quot;Drama&quot;, … &quot;Music Videos and Concerts&quot;]</td><td>[]</td><td>&quot;B005JR3UP6&quot;</td><td>345</td></tr></tbody></table></div>"
      ],
      "text/plain": [
       "shape: (11, 10)\n",
       "┌────────────┬───────┬────────────┬────────────┬───┬────────────┬───────────┬───────────┬──────────┐\n",
       "│ main_categ ┆ title ┆ average_ra ┆ rating_num ┆ … ┆ categories ┆ content_a ┆ parent_as ┆ desc_len │\n",
       "│ ory        ┆ ---   ┆ ting       ┆ ber        ┆   ┆ ---        ┆ dvisory   ┆ in        ┆ ---      │\n",
       "│ ---        ┆ str   ┆ ---        ┆ ---        ┆   ┆ list[str]  ┆ ---       ┆ ---       ┆ u32      │\n",
       "│ str        ┆       ┆ f64        ┆ i64        ┆   ┆            ┆ list[str] ┆ str       ┆          │\n",
       "╞════════════╪═══════╪════════════╪════════════╪═══╪════════════╪═══════════╪═══════════╪══════════╡\n",
       "│ Prime      ┆ Glee  ┆ 4.7        ┆ 2004       ┆ … ┆ [\"Comedy\", ┆ [\"Violenc ┆ B00ABWKL3 ┆ 396      │\n",
       "│ Video      ┆       ┆            ┆            ┆   ┆ \"Drama\", … ┆ e\", \"subs ┆ I         ┆          │\n",
       "│            ┆       ┆            ┆            ┆   ┆ \"Music V…  ┆ tance     ┆           ┆          │\n",
       "│            ┆       ┆            ┆            ┆   ┆            ┆ use\", …   ┆           ┆          │\n",
       "│ Prime      ┆ Glee  ┆ 4.7        ┆ 2004       ┆ … ┆ [\"Comedy\", ┆ [\"Violenc ┆ B009ARMP7 ┆ 396      │\n",
       "│ Video      ┆       ┆            ┆            ┆   ┆ \"Drama\", … ┆ e\", \"subs ┆ U         ┆          │\n",
       "│            ┆       ┆            ┆            ┆   ┆ \"Music V…  ┆ tance     ┆           ┆          │\n",
       "│            ┆       ┆            ┆            ┆   ┆            ┆ use\", …   ┆           ┆          │\n",
       "│ Prime      ┆ Glee  ┆ 4.7        ┆ 2004       ┆ … ┆ [\"Comedy\", ┆ [\"Violenc ┆ B009LZEZS ┆ 396      │\n",
       "│ Video      ┆       ┆            ┆            ┆   ┆ \"Drama\", … ┆ e\", \"subs ┆ I         ┆          │\n",
       "│            ┆       ┆            ┆            ┆   ┆ \"Music V…  ┆ tance     ┆           ┆          │\n",
       "│            ┆       ┆            ┆            ┆   ┆            ┆ use\", …   ┆           ┆          │\n",
       "│ Prime      ┆ Glee  ┆ 4.7        ┆ 1843       ┆ … ┆ [\"Comedy\", ┆ [\"Violenc ┆ B00463U1L ┆ 258      │\n",
       "│ Video      ┆       ┆            ┆            ┆   ┆ \"Drama\", … ┆ e\",       ┆ K         ┆          │\n",
       "│            ┆       ┆            ┆            ┆   ┆ \"Music V…  ┆ \"alcohol  ┆           ┆          │\n",
       "│            ┆       ┆            ┆            ┆   ┆            ┆ use\", … … ┆           ┆          │\n",
       "│ Prime      ┆ Glee  ┆ 4.7        ┆ 1843       ┆ … ┆ [\"Comedy\", ┆ [\"Violenc ┆ B004P1BYN ┆ 258      │\n",
       "│ Video      ┆       ┆            ┆            ┆   ┆ \"Drama\", … ┆ e\",       ┆ C         ┆          │\n",
       "│            ┆       ┆            ┆            ┆   ┆ \"Music V…  ┆ \"alcohol  ┆           ┆          │\n",
       "│            ┆       ┆            ┆            ┆   ┆            ┆ use\", … … ┆           ┆          │\n",
       "│ …          ┆ …     ┆ …          ┆ …          ┆ … ┆ …          ┆ …         ┆ …         ┆ …        │\n",
       "│ Prime      ┆ Glee  ┆ 4.6        ┆ 2617       ┆ … ┆ [\"Comedy\", ┆ []        ┆ B003LWLIS ┆ 1208     │\n",
       "│ Video      ┆       ┆            ┆            ┆   ┆ \"Drama\", … ┆           ┆ 2         ┆          │\n",
       "│            ┆       ┆            ┆            ┆   ┆ \"Music V…  ┆           ┆           ┆          │\n",
       "│ Prime      ┆ Glee  ┆ 4.7        ┆ 2005       ┆ … ┆ [\"Comedy\", ┆ [\"Violenc ┆ B009ARMS1 ┆ 396      │\n",
       "│ Video      ┆       ┆            ┆            ┆   ┆ \"Drama\", … ┆ e\", \"subs ┆ I         ┆          │\n",
       "│            ┆       ┆            ┆            ┆   ┆ \"Music V…  ┆ tance     ┆           ┆          │\n",
       "│            ┆       ┆            ┆            ┆   ┆            ┆ use\", …   ┆           ┆          │\n",
       "│ Prime      ┆ Glee  ┆ 4.7        ┆ 2005       ┆ … ┆ [\"Comedy\", ┆ [\"Violenc ┆ B009LZHRC ┆ 396      │\n",
       "│ Video      ┆       ┆            ┆            ┆   ┆ \"Drama\", … ┆ e\", \"subs ┆ O         ┆          │\n",
       "│            ┆       ┆            ┆            ┆   ┆ \"Music V…  ┆ tance     ┆           ┆          │\n",
       "│            ┆       ┆            ┆            ┆   ┆            ┆ use\", …   ┆           ┆          │\n",
       "│ Prime      ┆ Glee  ┆ 4.7        ┆ 2008       ┆ … ┆ [\"Comedy\", ┆ [\"Violenc ┆ B00H0BFUC ┆ 396      │\n",
       "│ Video      ┆       ┆            ┆            ┆   ┆ \"Drama\", … ┆ e\", \"subs ┆ A         ┆          │\n",
       "│            ┆       ┆            ┆            ┆   ┆ \"Music V…  ┆ tance     ┆           ┆          │\n",
       "│            ┆       ┆            ┆            ┆   ┆            ┆ use\", …   ┆           ┆          │\n",
       "│ Prime      ┆ Glee  ┆ 4.7        ┆ 727        ┆ … ┆ [\"Comedy\", ┆ []        ┆ B005JR3UP ┆ 345      │\n",
       "│ Video      ┆       ┆            ┆            ┆   ┆ \"Drama\", … ┆           ┆ 6         ┆          │\n",
       "│            ┆       ┆            ┆            ┆   ┆ \"Music V…  ┆           ┆           ┆          │\n",
       "└────────────┴───────┴────────────┴────────────┴───┴────────────┴───────────┴───────────┴──────────┘"
      ]
     },
     "execution_count": 296,
     "metadata": {},
     "output_type": "execute_result"
    }
   ],
   "source": [
    "df_meta.filter(pl.col(\"title\") == \"Glee\")\n",
    "# df_meta.get_column(\"title\").n_unique()"
   ]
  },
  {
   "cell_type": "code",
   "execution_count": 300,
   "metadata": {},
   "outputs": [
    {
     "data": {
      "text/html": [
       "<div><style>\n",
       ".dataframe > thead > tr,\n",
       ".dataframe > tbody > tr {\n",
       "  text-align: right;\n",
       "  white-space: pre-wrap;\n",
       "}\n",
       "</style>\n",
       "<small>shape: (375_208, 10)</small><table border=\"1\" class=\"dataframe\"><thead><tr><th>title</th><th>all_parent_asins</th><th>main_category</th><th>average_rating</th><th>rating_number</th><th>description</th><th>desc_len</th><th>price</th><th>categories</th><th>content_advisory</th></tr><tr><td>str</td><td>list[str]</td><td>str</td><td>f64</td><td>i64</td><td>str</td><td>u32</td><td>f64</td><td>list[str]</td><td>list[str]</td></tr></thead><tbody><tr><td>&quot;Lake Placid 3 / Lake Placid Vs…</td><td>[&quot;B095GNM33B&quot;]</td><td>&quot;Movies &amp; TV&quot;</td><td>4.2</td><td>54</td><td>&quot;&quot;</td><td>0</td><td>20.2</td><td>[&quot;Movies &amp; TV&quot;, &quot;Genre for Featured Categories&quot;, &quot;Action &amp; Adventure&quot;]</td><td>[]</td></tr><tr><td>&quot;Hidden Kingdoms (Original UK V…</td><td>[&quot;B00JFH8GMI&quot;]</td><td>&quot;Movies &amp; TV&quot;</td><td>4.3</td><td>78</td><td>&quot;Hidden Kingdoms (Blu-ray)&quot;</td><td>25</td><td>7.33</td><td>[&quot;Movies &amp; TV&quot;, &quot;Blu-ray&quot;, &quot;Movies&quot;]</td><td>[]</td></tr><tr><td>&quot;Uncommon Bach - Music Experien…</td><td>[&quot;B000Q6GWOQ&quot;]</td><td>&quot;Movies &amp; TV&quot;</td><td>3.4</td><td>7</td><td>&quot;Product Description&quot;</td><td>19</td><td>29.99</td><td>[&quot;Movies &amp; TV&quot;, &quot;Genre for Featured Categories&quot;, &quot;Music Videos &amp; Concerts&quot;]</td><td>[]</td></tr><tr><td>&quot;Heaven&#x27;s Gate&quot;</td><td>[&quot;B07TFD23P7&quot;, &quot;B00005M1SL&quot;]</td><td>&quot;Prime Video&quot;</td><td>4.0</td><td>1417</td><td>&quot;This ambitious frontier epic f…</td><td>175</td><td>null</td><td>[&quot;Western&quot;, &quot;Adventure&quot;, … &quot;Gritty&quot;]</td><td>[&quot;Nudity&quot;, &quot;violence&quot;, … &quot;sexual content&quot;]</td></tr><tr><td>&quot;American Dad Vol. 5&quot;</td><td>[&quot;B003CN5B7E&quot;]</td><td>&quot;Movies &amp; TV&quot;</td><td>4.8</td><td>663</td><td>&quot;Product Description&quot;</td><td>19</td><td>14.23</td><td>[&quot;Movies &amp; TV&quot;, &quot;Studio Specials&quot;, … &quot;All Fox Titles&quot;]</td><td>[]</td></tr><tr><td>&hellip;</td><td>&hellip;</td><td>&hellip;</td><td>&hellip;</td><td>&hellip;</td><td>&hellip;</td><td>&hellip;</td><td>&hellip;</td><td>&hellip;</td><td>&hellip;</td></tr><tr><td>&quot;Carol Burnett Show: This Time …</td><td>[&quot;B00AGMT7MY&quot;]</td><td>&quot;Movies &amp; TV&quot;</td><td>4.4</td><td>218</td><td>&quot;Carol Burnett Thi(6D)&quot;</td><td>21</td><td>11.88</td><td>[&quot;Movies &amp; TV&quot;, &quot;Boxed Sets&quot;, &quot;Comedy&quot;]</td><td>[]</td></tr><tr><td>&quot;Outer Limits:Production &amp; Deca…</td><td>[&quot;6301977130&quot;]</td><td>&quot;Movies &amp; TV&quot;</td><td>4.4</td><td>217</td><td>&quot;&quot;</td><td>0</td><td>null</td><td>[&quot;Movies &amp; TV&quot;, &quot;Genre for Featured Categories&quot;, &quot;Drama&quot;]</td><td>[]</td></tr><tr><td>&quot;Seven Days (2007)&quot;</td><td>[&quot;B003P0TX8C&quot;]</td><td>&quot;Movies &amp; TV&quot;</td><td>3.7</td><td>19</td><td>&quot;&quot;</td><td>0</td><td>23.99</td><td>[&quot;Movies &amp; TV&quot;, &quot;Featured Categories&quot;, … &quot;Action &amp; Adventure&quot;]</td><td>[]</td></tr><tr><td>&quot;Planes Fire and Rescue (2-Disc…</td><td>[&quot;B00MMUXOLS&quot;]</td><td>&quot;Movies &amp; TV&quot;</td><td>4.7</td><td>5468</td><td>&quot;Bring home the thrill of a lif…</td><td>771</td><td>6.99</td><td>[&quot;Movies &amp; TV&quot;, &quot;Blu-ray&quot;, &quot;Movies&quot;]</td><td>[]</td></tr><tr><td>&quot;Made In Abyss&quot;</td><td>[&quot;B098CYYH39&quot;, &quot;B07FGT7G3P&quot;]</td><td>&quot;Movies &amp; TV&quot;</td><td>4.8</td><td>680</td><td>&quot;Anyone can descend into the Ab…</td><td>834</td><td>35.99</td><td>[&quot;Movies &amp; TV&quot;, &quot;Blu-ray&quot;, &quot;Movies&quot;]</td><td>[]</td></tr></tbody></table></div>"
      ],
      "text/plain": [
       "shape: (375_208, 10)\n",
       "┌────────────┬────────────┬────────────┬────────────┬───┬──────────┬───────┬───────────┬───────────┐\n",
       "│ title      ┆ all_parent ┆ main_categ ┆ average_ra ┆ … ┆ desc_len ┆ price ┆ categorie ┆ content_a │\n",
       "│ ---        ┆ _asins     ┆ ory        ┆ ting       ┆   ┆ ---      ┆ ---   ┆ s         ┆ dvisory   │\n",
       "│ str        ┆ ---        ┆ ---        ┆ ---        ┆   ┆ u32      ┆ f64   ┆ ---       ┆ ---       │\n",
       "│            ┆ list[str]  ┆ str        ┆ f64        ┆   ┆          ┆       ┆ list[str] ┆ list[str] │\n",
       "╞════════════╪════════════╪════════════╪════════════╪═══╪══════════╪═══════╪═══════════╪═══════════╡\n",
       "│ Lake       ┆ [\"B095GNM3 ┆ Movies &   ┆ 4.2        ┆ … ┆ 0        ┆ 20.2  ┆ [\"Movies  ┆ []        │\n",
       "│ Placid 3 / ┆ 3B\"]       ┆ TV         ┆            ┆   ┆          ┆       ┆ & TV\",    ┆           │\n",
       "│ Lake       ┆            ┆            ┆            ┆   ┆          ┆       ┆ \"Genre    ┆           │\n",
       "│ Placid Vs… ┆            ┆            ┆            ┆   ┆          ┆       ┆ for Fea…  ┆           │\n",
       "│ Hidden     ┆ [\"B00JFH8G ┆ Movies &   ┆ 4.3        ┆ … ┆ 25       ┆ 7.33  ┆ [\"Movies  ┆ []        │\n",
       "│ Kingdoms   ┆ MI\"]       ┆ TV         ┆            ┆   ┆          ┆       ┆ & TV\",    ┆           │\n",
       "│ (Original  ┆            ┆            ┆            ┆   ┆          ┆       ┆ \"Blu-ray\" ┆           │\n",
       "│ UK V…      ┆            ┆            ┆            ┆   ┆          ┆       ┆ , \"Mo…    ┆           │\n",
       "│ Uncommon   ┆ [\"B000Q6GW ┆ Movies &   ┆ 3.4        ┆ … ┆ 19       ┆ 29.99 ┆ [\"Movies  ┆ []        │\n",
       "│ Bach -     ┆ OQ\"]       ┆ TV         ┆            ┆   ┆          ┆       ┆ & TV\",    ┆           │\n",
       "│ Music      ┆            ┆            ┆            ┆   ┆          ┆       ┆ \"Genre    ┆           │\n",
       "│ Experien…  ┆            ┆            ┆            ┆   ┆          ┆       ┆ for Fea…  ┆           │\n",
       "│ Heaven's   ┆ [\"B07TFD23 ┆ Prime      ┆ 4.0        ┆ … ┆ 175      ┆ null  ┆ [\"Western ┆ [\"Nudity\" │\n",
       "│ Gate       ┆ P7\", \"B000 ┆ Video      ┆            ┆   ┆          ┆       ┆ \", \"Adven ┆ , \"violen │\n",
       "│            ┆ 05M1SL\"]   ┆            ┆            ┆   ┆          ┆       ┆ ture\", …  ┆ ce\", …    │\n",
       "│            ┆            ┆            ┆            ┆   ┆          ┆       ┆ \"Gr…      ┆ \"sexu…    │\n",
       "│ American   ┆ [\"B003CN5B ┆ Movies &   ┆ 4.8        ┆ … ┆ 19       ┆ 14.23 ┆ [\"Movies  ┆ []        │\n",
       "│ Dad Vol. 5 ┆ 7E\"]       ┆ TV         ┆            ┆   ┆          ┆       ┆ & TV\",    ┆           │\n",
       "│            ┆            ┆            ┆            ┆   ┆          ┆       ┆ \"Studio   ┆           │\n",
       "│            ┆            ┆            ┆            ┆   ┆          ┆       ┆ Specia…   ┆           │\n",
       "│ …          ┆ …          ┆ …          ┆ …          ┆ … ┆ …        ┆ …     ┆ …         ┆ …         │\n",
       "│ Carol      ┆ [\"B00AGMT7 ┆ Movies &   ┆ 4.4        ┆ … ┆ 21       ┆ 11.88 ┆ [\"Movies  ┆ []        │\n",
       "│ Burnett    ┆ MY\"]       ┆ TV         ┆            ┆   ┆          ┆       ┆ & TV\",    ┆           │\n",
       "│ Show: This ┆            ┆            ┆            ┆   ┆          ┆       ┆ \"Boxed    ┆           │\n",
       "│ Time …     ┆            ┆            ┆            ┆   ┆          ┆       ┆ Sets\", …  ┆           │\n",
       "│ Outer Limi ┆ [\"63019771 ┆ Movies &   ┆ 4.4        ┆ … ┆ 0        ┆ null  ┆ [\"Movies  ┆ []        │\n",
       "│ ts:Product ┆ 30\"]       ┆ TV         ┆            ┆   ┆          ┆       ┆ & TV\",    ┆           │\n",
       "│ ion &      ┆            ┆            ┆            ┆   ┆          ┆       ┆ \"Genre    ┆           │\n",
       "│ Deca…      ┆            ┆            ┆            ┆   ┆          ┆       ┆ for Fea…  ┆           │\n",
       "│ Seven Days ┆ [\"B003P0TX ┆ Movies &   ┆ 3.7        ┆ … ┆ 0        ┆ 23.99 ┆ [\"Movies  ┆ []        │\n",
       "│ (2007)     ┆ 8C\"]       ┆ TV         ┆            ┆   ┆          ┆       ┆ & TV\",    ┆           │\n",
       "│            ┆            ┆            ┆            ┆   ┆          ┆       ┆ \"Featured ┆           │\n",
       "│            ┆            ┆            ┆            ┆   ┆          ┆       ┆ Cate…     ┆           │\n",
       "│ Planes     ┆ [\"B00MMUXO ┆ Movies &   ┆ 4.7        ┆ … ┆ 771      ┆ 6.99  ┆ [\"Movies  ┆ []        │\n",
       "│ Fire and   ┆ LS\"]       ┆ TV         ┆            ┆   ┆          ┆       ┆ & TV\",    ┆           │\n",
       "│ Rescue     ┆            ┆            ┆            ┆   ┆          ┆       ┆ \"Blu-ray\" ┆           │\n",
       "│ (2-Disc…   ┆            ┆            ┆            ┆   ┆          ┆       ┆ , \"Mo…    ┆           │\n",
       "│ Made In    ┆ [\"B098CYYH ┆ Movies &   ┆ 4.8        ┆ … ┆ 834      ┆ 35.99 ┆ [\"Movies  ┆ []        │\n",
       "│ Abyss      ┆ 39\", \"B07F ┆ TV         ┆            ┆   ┆          ┆       ┆ & TV\",    ┆           │\n",
       "│            ┆ GT7G3P\"]   ┆            ┆            ┆   ┆          ┆       ┆ \"Blu-ray\" ┆           │\n",
       "│            ┆            ┆            ┆            ┆   ┆          ┆       ┆ , \"Mo…    ┆           │\n",
       "└────────────┴────────────┴────────────┴────────────┴───┴──────────┴───────┴───────────┴───────────┘"
      ]
     },
     "execution_count": 300,
     "metadata": {},
     "output_type": "execute_result"
    }
   ],
   "source": [
    "best_per_title = (\n",
    "    df_meta.sort([\"desc_len\", \"rating_number\"], descending=[True, True])\n",
    "    .group_by(\"title\")\n",
    "    .agg([\n",
    "        pl.col(\"parent_asin\").unique().alias(\"all_parent_asins\"),\n",
    "        pl.first(\"main_category\"),\n",
    "        pl.first(\"average_rating\"),\n",
    "        pl.first(\"rating_number\"),\n",
    "        pl.first(\"description\"),\n",
    "        pl.first(\"desc_len\"),\n",
    "        pl.first(\"price\"),\n",
    "        pl.first(\"categories\"),\n",
    "        pl.first(\"content_advisory\")\n",
    "    ])\n",
    ")\n",
    "\n",
    "best_per_title"
   ]
  },
  {
   "cell_type": "code",
   "execution_count": 299,
   "metadata": {},
   "outputs": [
    {
     "data": {
      "text/html": [
       "<div><style>\n",
       ".dataframe > thead > tr,\n",
       ".dataframe > tbody > tr {\n",
       "  text-align: right;\n",
       "  white-space: pre-wrap;\n",
       "}\n",
       "</style>\n",
       "<small>shape: (1, 10)</small><table border=\"1\" class=\"dataframe\"><thead><tr><th>title</th><th>all_parent_asins</th><th>main_category</th><th>average_rating</th><th>rating_number</th><th>description</th><th>desc_len</th><th>price</th><th>categories</th><th>content_advisory</th></tr><tr><td>str</td><td>list[str]</td><td>str</td><td>f64</td><td>i64</td><td>str</td><td>u32</td><td>f64</td><td>list[str]</td><td>list[str]</td></tr></thead><tbody><tr><td>&quot;Glee&quot;</td><td>[&quot;B005JR3UP6&quot;, &quot;B009ARMS1I&quot;, … &quot;B002Q91AVG&quot;]</td><td>&quot;Prime Video&quot;</td><td>4.6</td><td>2617</td><td>&quot;The highly anticipated first s…</td><td>1208</td><td>19.99</td><td>[&quot;Comedy&quot;, &quot;Drama&quot;, … &quot;Music Videos and Concerts&quot;]</td><td>[]</td></tr></tbody></table></div>"
      ],
      "text/plain": [
       "shape: (1, 10)\n",
       "┌───────┬─────────────┬─────────────┬─────────────┬───┬──────────┬───────┬────────────┬────────────┐\n",
       "│ title ┆ all_parent_ ┆ main_catego ┆ average_rat ┆ … ┆ desc_len ┆ price ┆ categories ┆ content_ad │\n",
       "│ ---   ┆ asins       ┆ ry          ┆ ing         ┆   ┆ ---      ┆ ---   ┆ ---        ┆ visory     │\n",
       "│ str   ┆ ---         ┆ ---         ┆ ---         ┆   ┆ u32      ┆ f64   ┆ list[str]  ┆ ---        │\n",
       "│       ┆ list[str]   ┆ str         ┆ f64         ┆   ┆          ┆       ┆            ┆ list[str]  │\n",
       "╞═══════╪═════════════╪═════════════╪═════════════╪═══╪══════════╪═══════╪════════════╪════════════╡\n",
       "│ Glee  ┆ [\"B005JR3UP ┆ Prime Video ┆ 4.6         ┆ … ┆ 1208     ┆ 19.99 ┆ [\"Comedy\", ┆ []         │\n",
       "│       ┆ 6\", \"B009AR ┆             ┆             ┆   ┆          ┆       ┆ \"Drama\", … ┆            │\n",
       "│       ┆ MS1I\", ……   ┆             ┆             ┆   ┆          ┆       ┆ \"Music V…  ┆            │\n",
       "└───────┴─────────────┴─────────────┴─────────────┴───┴──────────┴───────┴────────────┴────────────┘"
      ]
     },
     "execution_count": 299,
     "metadata": {},
     "output_type": "execute_result"
    }
   ],
   "source": [
    "best_per_title.filter(pl.col(\"title\") == \"Glee\")"
   ]
  },
  {
   "cell_type": "code",
   "execution_count": 302,
   "metadata": {},
   "outputs": [],
   "source": [
    "asin_title_map = best_per_title.select([\n",
    "    pl.col(\"title\"),\n",
    "    pl.col(\"all_parent_asins\")\n",
    "]).explode(\"all_parent_asins\").rename({\n",
    "    \"all_parent_asins\": \"asin\"\n",
    "})\n",
    "\n",
    "df_reviews = df.join(\n",
    "    asin_title_map,\n",
    "    on=\"asin\",\n",
    "    how=\"left\"\n",
    ")"
   ]
  },
  {
   "cell_type": "code",
   "execution_count": 303,
   "metadata": {},
   "outputs": [
    {
     "data": {
      "text/html": [
       "<div><style>\n",
       ".dataframe > thead > tr,\n",
       ".dataframe > tbody > tr {\n",
       "  text-align: right;\n",
       "  white-space: pre-wrap;\n",
       "}\n",
       "</style>\n",
       "<small>shape: (2_888_210, 7)</small><table border=\"1\" class=\"dataframe\"><thead><tr><th>rating</th><th>asin</th><th>user_id</th><th>timestamp</th><th>text</th><th>community</th><th>title</th></tr><tr><td>f64</td><td>str</td><td>str</td><td>i64</td><td>str</td><td>i64</td><td>str</td></tr></thead><tbody><tr><td>5.0</td><td>&quot;B0002J58ME&quot;</td><td>&quot;AGXVBIUFLFGMVLATYXHJYL4A5Q7Q&quot;</td><td>1146713492000</td><td>&quot;This DVD was GREAT!&nbsp;&nbsp;I am a st…</td><td>null</td><td>&quot;10 Minute Solution: Pilates&quot;</td></tr><tr><td>3.0</td><td>&quot;B000PIU2A0&quot;</td><td>&quot;AEFKF6R2GUSK2AWPSWRR4ZO36JVQ&quot;</td><td>1556496429981</td><td>&quot;this item was canceled. . . .n…</td><td>null</td><td>&quot;Battlespace&quot;</td></tr><tr><td>5.0</td><td>&quot;B001JNNDRY&quot;</td><td>&quot;AEFKF6R2GUSK2AWPSWRR4ZO36JVQ&quot;</td><td>1364088518000</td><td>&quot;I grew up with this one. could…</td><td>12</td><td>&quot;Columbo: Mystery Movie Collect…</td></tr><tr><td>4.0</td><td>&quot;B000TSMOEI&quot;</td><td>&quot;AEFKF6R2GUSK2AWPSWRR4ZO36JVQ&quot;</td><td>1364088147000</td><td>&quot;like watching: haven&#x27;t gotten …</td><td>null</td><td>&quot;Burst Angel: Hired Gun v.4&quot;</td></tr><tr><td>4.0</td><td>&quot;B0009MAO82&quot;</td><td>&quot;AEFKF6R2GUSK2AWPSWRR4ZO36JVQ&quot;</td><td>1364087577000</td><td>&quot;pretty cool to watch: differen…</td><td>null</td><td>&quot;Burst Angel, Vol. 3: East Meet…</td></tr><tr><td>&hellip;</td><td>&hellip;</td><td>&hellip;</td><td>&hellip;</td><td>&hellip;</td><td>&hellip;</td><td>&hellip;</td></tr><tr><td>4.0</td><td>&quot;B003QL7KAI&quot;</td><td>&quot;AHKU4VS2OB3AWD6GUUBDG3AHFHVA&quot;</td><td>1445999724000</td><td>&quot;Had already seen the film. Int…</td><td>null</td><td>&quot;Ride the Divide&quot;</td></tr><tr><td>5.0</td><td>&quot;B006R0A7AK&quot;</td><td>&quot;AEHONQ4HRSHEX33KZ2QAEBEIWUAQ&quot;</td><td>1447698497000</td><td>&quot;Eye opening. Definitely on my …</td><td>null</td><td>null</td></tr><tr><td>5.0</td><td>&quot;B00014K5CI&quot;</td><td>&quot;AGKN36N7C3AGAV6SJZGDXMTZHLVA&quot;</td><td>1437155829000</td><td>&quot;I ordered this for my 11 year …</td><td>null</td><td>&quot;Saturday Night Live - 25th Ann…</td></tr><tr><td>5.0</td><td>&quot;B00K60GIAK&quot;</td><td>&quot;AF4E5UUPJ2RVKAT2GR2YHO4DMY6Q&quot;</td><td>1458363768000</td><td>&quot;I have watched this documentar…</td><td>null</td><td>null</td></tr><tr><td>5.0</td><td>&quot;B01GIU9E84&quot;</td><td>&quot;AGYDA2QY4QVZB5TR6TUO2PVXWORQ&quot;</td><td>1474260591000</td><td>&quot;Fantastic show.&quot;</td><td>3</td><td>null</td></tr></tbody></table></div>"
      ],
      "text/plain": [
       "shape: (2_888_210, 7)\n",
       "┌────────┬────────────┬────────────────┬───────────────┬───────────────┬───────────┬───────────────┐\n",
       "│ rating ┆ asin       ┆ user_id        ┆ timestamp     ┆ text          ┆ community ┆ title         │\n",
       "│ ---    ┆ ---        ┆ ---            ┆ ---           ┆ ---           ┆ ---       ┆ ---           │\n",
       "│ f64    ┆ str        ┆ str            ┆ i64           ┆ str           ┆ i64       ┆ str           │\n",
       "╞════════╪════════════╪════════════════╪═══════════════╪═══════════════╪═══════════╪═══════════════╡\n",
       "│ 5.0    ┆ B0002J58ME ┆ AGXVBIUFLFGMVL ┆ 1146713492000 ┆ This DVD was  ┆ null      ┆ 10 Minute     │\n",
       "│        ┆            ┆ ATYXHJYL4A5Q7Q ┆               ┆ GREAT!  I am  ┆           ┆ Solution:     │\n",
       "│        ┆            ┆                ┆               ┆ a st…         ┆           ┆ Pilates       │\n",
       "│ 3.0    ┆ B000PIU2A0 ┆ AEFKF6R2GUSK2A ┆ 1556496429981 ┆ this item was ┆ null      ┆ Battlespace   │\n",
       "│        ┆            ┆ WPSWRR4ZO36JVQ ┆               ┆ canceled. . . ┆           ┆               │\n",
       "│        ┆            ┆                ┆               ┆ .n…           ┆           ┆               │\n",
       "│ 5.0    ┆ B001JNNDRY ┆ AEFKF6R2GUSK2A ┆ 1364088518000 ┆ I grew up     ┆ 12        ┆ Columbo:      │\n",
       "│        ┆            ┆ WPSWRR4ZO36JVQ ┆               ┆ with this     ┆           ┆ Mystery Movie │\n",
       "│        ┆            ┆                ┆               ┆ one. could…   ┆           ┆ Collect…      │\n",
       "│ 4.0    ┆ B000TSMOEI ┆ AEFKF6R2GUSK2A ┆ 1364088147000 ┆ like          ┆ null      ┆ Burst Angel:  │\n",
       "│        ┆            ┆ WPSWRR4ZO36JVQ ┆               ┆ watching:     ┆           ┆ Hired Gun v.4 │\n",
       "│        ┆            ┆                ┆               ┆ haven't       ┆           ┆               │\n",
       "│        ┆            ┆                ┆               ┆ gotten …      ┆           ┆               │\n",
       "│ 4.0    ┆ B0009MAO82 ┆ AEFKF6R2GUSK2A ┆ 1364087577000 ┆ pretty cool   ┆ null      ┆ Burst Angel,  │\n",
       "│        ┆            ┆ WPSWRR4ZO36JVQ ┆               ┆ to watch:     ┆           ┆ Vol. 3: East  │\n",
       "│        ┆            ┆                ┆               ┆ differen…     ┆           ┆ Meet…         │\n",
       "│ …      ┆ …          ┆ …              ┆ …             ┆ …             ┆ …         ┆ …             │\n",
       "│ 4.0    ┆ B003QL7KAI ┆ AHKU4VS2OB3AWD ┆ 1445999724000 ┆ Had already   ┆ null      ┆ Ride the      │\n",
       "│        ┆            ┆ 6GUUBDG3AHFHVA ┆               ┆ seen the      ┆           ┆ Divide        │\n",
       "│        ┆            ┆                ┆               ┆ film. Int…    ┆           ┆               │\n",
       "│ 5.0    ┆ B006R0A7AK ┆ AEHONQ4HRSHEX3 ┆ 1447698497000 ┆ Eye opening.  ┆ null      ┆ null          │\n",
       "│        ┆            ┆ 3KZ2QAEBEIWUAQ ┆               ┆ Definitely on ┆           ┆               │\n",
       "│        ┆            ┆                ┆               ┆ my …          ┆           ┆               │\n",
       "│ 5.0    ┆ B00014K5CI ┆ AGKN36N7C3AGAV ┆ 1437155829000 ┆ I ordered     ┆ null      ┆ Saturday      │\n",
       "│        ┆            ┆ 6SJZGDXMTZHLVA ┆               ┆ this for my   ┆           ┆ Night Live -  │\n",
       "│        ┆            ┆                ┆               ┆ 11 year …     ┆           ┆ 25th Ann…     │\n",
       "│ 5.0    ┆ B00K60GIAK ┆ AF4E5UUPJ2RVKA ┆ 1458363768000 ┆ I have        ┆ null      ┆ null          │\n",
       "│        ┆            ┆ T2GR2YHO4DMY6Q ┆               ┆ watched this  ┆           ┆               │\n",
       "│        ┆            ┆                ┆               ┆ documentar…   ┆           ┆               │\n",
       "│ 5.0    ┆ B01GIU9E84 ┆ AGYDA2QY4QVZB5 ┆ 1474260591000 ┆ Fantastic     ┆ 3         ┆ null          │\n",
       "│        ┆            ┆ TR6TUO2PVXWORQ ┆               ┆ show.         ┆           ┆               │\n",
       "└────────┴────────────┴────────────────┴───────────────┴───────────────┴───────────┴───────────────┘"
      ]
     },
     "execution_count": 303,
     "metadata": {},
     "output_type": "execute_result"
    }
   ],
   "source": [
    "df_reviews"
   ]
  },
  {
   "cell_type": "markdown",
   "id": "72418263",
   "metadata": {},
   "source": [
    "### Network"
   ]
  },
  {
   "cell_type": "code",
   "execution_count": 112,
   "id": "0ecfcbd6",
   "metadata": {},
   "outputs": [],
   "source": [
    "def generate_edge_list():\n",
    "    grouped = (\n",
    "        filtered_df\n",
    "        .group_by('user_id')\n",
    "        .agg(pl.col('asin').unique().alias('asins'))\n",
    "    )\n",
    "\n",
    "    edges = Counter()\n",
    "\n",
    "    for reviewers in tqdm(grouped['asins'], desc=\"Reviewer\"):\n",
    "        for pair in combinations(reviewers, 2):\n",
    "            edges[tuple(sorted(pair))] += 1\n",
    "\n",
    "    return [(a, b, count) for (a, b), count in edges.items()]"
   ]
  },
  {
   "cell_type": "code",
   "execution_count": 113,
   "id": "554a078d",
   "metadata": {},
   "outputs": [
    {
     "name": "stderr",
     "output_type": "stream",
     "text": [
      "Reviewer:   0%|          | 0/29578 [00:00<?, ?it/s]"
     ]
    },
    {
     "name": "stderr",
     "output_type": "stream",
     "text": [
      "Reviewer: 100%|██████████| 29578/29578 [00:02<00:00, 10648.91it/s]\n"
     ]
    },
    {
     "data": {
      "text/plain": [
       "3380500"
      ]
     },
     "execution_count": 113,
     "metadata": {},
     "output_type": "execute_result"
    }
   ],
   "source": [
    "movie_edgelist = generate_edge_list()\n",
    "len(movie_edgelist)"
   ]
  },
  {
   "cell_type": "code",
   "execution_count": null,
   "id": "34f1ca0e",
   "metadata": {},
   "outputs": [
    {
     "name": "stdout",
     "output_type": "stream",
     "text": [
      "Edges with weight => 4: 6344\n",
      "Edges with weight => 5: 3276\n",
      "Edges with weight => 7: 1288\n",
      "Edges with weight => 10: 493\n",
      "Edges with weight => 15: 150\n"
     ]
    }
   ],
   "source": [
    "thresholds = [2,3,4,5,7,10]\n",
    "for t in thresholds:\n",
    "    weighted_edges = [(a, b, w) for (a, b, w) in movie_edgelist if w >= t]\n",
    "    print(f\"Edges with weight => {t}: {len(weighted_edges)}\")"
   ]
  },
  {
   "cell_type": "markdown",
   "id": "78856904",
   "metadata": {},
   "source": [
    "### Graph"
   ]
  },
  {
   "cell_type": "code",
   "execution_count": 115,
   "id": "ca36f07d",
   "metadata": {},
   "outputs": [
    {
     "data": {
      "text/plain": [
       "115364"
      ]
     },
     "execution_count": 115,
     "metadata": {},
     "output_type": "execute_result"
    }
   ],
   "source": [
    "WEIGHT_THRESHOLD = 2\n",
    "weighted_movie_edge = [(a, b, w) for (a, b, w) in movie_edgelist if w >= WEIGHT_THRESHOLD]\n",
    "len(weighted_movie_edge)"
   ]
  },
  {
   "cell_type": "code",
   "execution_count": 116,
   "id": "7690ceb7",
   "metadata": {},
   "outputs": [
    {
     "name": "stderr",
     "output_type": "stream",
     "text": [
      "c:\\Users\\rdh\\AppData\\Local\\Programs\\Python\\Python312\\Lib\\site-packages\\networkx\\readwrite\\json_graph\\node_link.py:142: FutureWarning: \n",
      "The default value will be `edges=\"edges\" in NetworkX 3.6.\n",
      "\n",
      "To make this warning go away, explicitly set the edges kwarg, e.g.:\n",
      "\n",
      "  nx.node_link_data(G, edges=\"links\") to preserve current behavior, or\n",
      "  nx.node_link_data(G, edges=\"edges\") for forward compatibility.\n",
      "  warnings.warn(\n"
     ]
    }
   ],
   "source": [
    "G = nx.Graph()\n",
    "G.add_weighted_edges_from(weighted_movie_edge)\n",
    "save_graph(NETWORK_FILE, G)"
   ]
  },
  {
   "cell_type": "code",
   "execution_count": 117,
   "id": "2d3870a5",
   "metadata": {},
   "outputs": [
    {
     "data": {
      "text/plain": [
       "(21586, 115364)"
      ]
     },
     "execution_count": 117,
     "metadata": {},
     "output_type": "execute_result"
    }
   ],
   "source": [
    "len(G.nodes()), len(G.edges())"
   ]
  },
  {
   "cell_type": "code",
   "execution_count": 118,
   "id": "753968ae",
   "metadata": {},
   "outputs": [
    {
     "data": {
      "text/plain": [
       "10.68877976466228"
      ]
     },
     "execution_count": 118,
     "metadata": {},
     "output_type": "execute_result"
    }
   ],
   "source": [
    "degrees = [d for _, d in G.degree()]\n",
    "\n",
    "np.mean(degrees)"
   ]
  },
  {
   "cell_type": "code",
   "execution_count": 119,
   "id": "90664973",
   "metadata": {},
   "outputs": [
    {
     "data": {
      "image/png": "[encoded data removed]",
      "text/plain": [
       "<Figure size 640x480 with 1 Axes>"
      ]
     },
     "metadata": {},
     "output_type": "display_data"
    }
   ],
   "source": [
    "X = list(dict(G.degree).values())\n",
    "plt.yscale(\"log\")\n",
    "plt.title(\"Distribution Of Degree For Movie Network\")\n",
    "plt.xlabel(\"Degree\")\n",
    "plt.ylabel(\"Log Count\")\n",
    "plt.hist(X, 40, alpha=0.75);"
   ]
  },
  {
   "cell_type": "code",
   "execution_count": 140,
   "metadata": {},
   "outputs": [
    {
     "data": {
      "text/plain": [
       "5128"
      ]
     },
     "execution_count": 140,
     "metadata": {},
     "output_type": "execute_result"
    }
   ],
   "source": [
    "len(largest)"
   ]
  },
  {
   "cell_type": "code",
   "execution_count": null,
   "metadata": {},
   "outputs": [],
   "source": [
    "# from pyvis.network import Network\n",
    "\n",
    "# net = Network(notebook=True)\n",
    "# net.from_nx(G)\n",
    "# net.show(\"graph.html\")\n",
    "\n",
    "largest = max(communities, key=len)\n",
    "H = G.subgraph(largest)\n",
    "\n",
    "nx.draw(H, node_size=10, with_labels=False)"
   ]
  },
  {
   "cell_type": "markdown",
   "metadata": {},
   "source": [
    "### Community detection"
   ]
  },
  {
   "cell_type": "code",
   "execution_count": 120,
   "id": "f9c70eb8",
   "metadata": {},
   "outputs": [],
   "source": [
    "def community_modularity(G, c, L):\n",
    "    s = G.subgraph(c)\n",
    "    L_c = s.number_of_edges()\n",
    "    k_c = sum(dict(s.degree()).values())\n",
    "    M_c = L_c / L - (k_c / (2 * L)) ** 2\n",
    "    return M_c\n",
    "\n",
    "def modularity(G, partitions):\n",
    "    L = G.number_of_edges()\n",
    "    return sum((community_modularity(G, c, L) for c in partitions))"
   ]
  },
  {
   "cell_type": "code",
   "execution_count": 201,
   "metadata": {},
   "outputs": [],
   "source": [
    "def louvain_partitions(G):\n",
    "    partition = community_louvain.best_partition(G, randomize=False)\n",
    "    groups = defaultdict(set)\n",
    "    for node, comm in partition.items():\n",
    "        groups[comm].add(node)\n",
    "    return list(groups.values())"
   ]
  },
  {
   "cell_type": "code",
   "execution_count": 202,
   "metadata": {},
   "outputs": [
    {
     "data": {
      "text/plain": [
       "370"
      ]
     },
     "execution_count": 202,
     "metadata": {},
     "output_type": "execute_result"
    }
   ],
   "source": [
    "communities = louvain_partitions(G)\n",
    "len(communities)"
   ]
  },
  {
   "cell_type": "code",
   "execution_count": 123,
   "id": "9ccbeccb",
   "metadata": {},
   "outputs": [
    {
     "data": {
      "text/plain": [
       "0.7445071193762218"
      ]
     },
     "execution_count": 123,
     "metadata": {},
     "output_type": "execute_result"
    }
   ],
   "source": [
    "modularity(G, communities) "
   ]
  },
  {
   "cell_type": "code",
   "execution_count": 174,
   "metadata": {},
   "outputs": [],
   "source": [
    "X = list(map(len, communities))\n",
    "# X = [x for x in X if x < 100]\n",
    "plt.yscale(\"log\")\n",
    "plt.title(\"Distribution Of Degree For Movie Network\")\n",
    "plt.xlabel(\"Degree\")\n",
    "plt.ylabel(\"Log Count\")\n",
    "plt.hist(X, 100, alpha=0.75);\n",
    "Counter(X)"
   ]
  },
  {
   "cell_type": "markdown",
   "id": "00eb4b9d",
   "metadata": {},
   "source": [
    "### Text analysis"
   ]
  },
  {
   "cell_type": "code",
   "execution_count": null,
   "id": "6b3e538f",
   "metadata": {},
   "outputs": [],
   "source": [
    "# Adding community labels to the df\n",
    "movie_to_community = {\n",
    "    movie_id: i\n",
    "    for i, com in enumerate(communities)\n",
    "    for movie_id in com\n",
    "}\n",
    "\n",
    "community_df = pl.DataFrame([\n",
    "    {\"asin\": k, \"community\": v}\n",
    "    for k, v in movie_to_community.items()\n",
    "])\n",
    "\n",
    "if \"community\" in df.columns:\n",
    "    df = df.drop(\"community\")\n",
    "\n",
    "df = df.join(community_df, on=\"asin\", how=\"left\")"
   ]
  },
  {
   "cell_type": "code",
   "execution_count": null,
   "id": "4260dbba",
   "metadata": {},
   "outputs": [],
   "source": [
    "# Tokenize and stemming reviews\n",
    "stemmer = PorterStemmer()\n",
    "pattern = re.compile(r'https?://\\S+|[^a-z\\s]')\n",
    "stop_words = stopwords.words('english')\n",
    "\n",
    "@lru_cache(maxsize=10000)\n",
    "def cached_stem(word):\n",
    "    return stemmer.stem(word)\n",
    "\n",
    "def tokenize(text, stem=True):\n",
    "    text = text.lower()\n",
    "    text = pattern.sub('', text)\n",
    "    tokens = text.split()\n",
    "    tokens = [token for token in tokens if token not in stop_words]\n",
    "    return [cached_stem(t) for t in tokens] if stem else tokens"
   ]
  },
  {
   "cell_type": "code",
   "execution_count": 170,
   "id": "8050b779",
   "metadata": {},
   "outputs": [
    {
     "data": {
      "text/html": [
       "<div><style>\n",
       ".dataframe > thead > tr,\n",
       ".dataframe > tbody > tr {\n",
       "  text-align: right;\n",
       "  white-space: pre-wrap;\n",
       "}\n",
       "</style>\n",
       "<small>shape: (2, 3)</small><table border=\"1\" class=\"dataframe\"><thead><tr><th>movie</th><th>degree</th><th>community</th></tr><tr><td>str</td><td>i64</td><td>i64</td></tr></thead><tbody><tr><td>&quot;0783227876&quot;</td><td>1</td><td>350</td></tr><tr><td>&quot;B0007OCG5Q&quot;</td><td>1</td><td>350</td></tr></tbody></table></div>"
      ],
      "text/plain": [
       "shape: (2, 3)\n",
       "┌────────────┬────────┬───────────┐\n",
       "│ movie      ┆ degree ┆ community │\n",
       "│ ---        ┆ ---    ┆ ---       │\n",
       "│ str        ┆ i64    ┆ i64       │\n",
       "╞════════════╪════════╪═══════════╡\n",
       "│ 0783227876 ┆ 1      ┆ 350       │\n",
       "│ B0007OCG5Q ┆ 1      ┆ 350       │\n",
       "└────────────┴────────┴───────────┘"
      ]
     },
     "execution_count": 170,
     "metadata": {},
     "output_type": "execute_result"
    }
   ],
   "source": [
    "# movie_data.get_column(\"community\").n_unique()\n",
    "# movie_data.filter(pl.col(\"community\") == 350)"
   ]
  }
 ],
 "metadata": {
  "kernelspec": {
   "display_name": "Python 3",
   "language": "python",
   "name": "python3"
  },
  "language_info": {
   "codemirror_mode": {
    "name": "ipython",
    "version": 3
   },
   "file_extension": ".py",
   "mimetype": "text/x-python",
   "name": "python",
   "nbconvert_exporter": "python",
   "pygments_lexer": "ipython3",
   "version": "3.12.7"
  }
 },
 "nbformat": 4,
 "nbformat_minor": 5
}
