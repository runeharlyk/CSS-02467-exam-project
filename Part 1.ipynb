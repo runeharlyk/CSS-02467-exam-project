{
 "cells": [
  {
   "cell_type": "code",
   "execution_count": 142,
   "id": "8c0720ba",
   "metadata": {},
   "outputs": [
    {
     "name": "stderr",
     "output_type": "stream",
     "text": [
      "[nltk_data] Downloading package stopwords to\n",
      "[nltk_data]     C:\\Users\\rdh\\AppData\\Roaming\\nltk_data...\n",
      "[nltk_data]   Package stopwords is already up-to-date!\n"
     ]
    },
    {
     "data": {
      "text/plain": [
       "True"
      ]
     },
     "execution_count": 142,
     "metadata": {},
     "output_type": "execute_result"
    }
   ],
   "source": [
    "import polars as pl\n",
    "from itertools import combinations\n",
    "from collections import Counter, defaultdict\n",
    "import networkx as nx\n",
    "from tqdm import tqdm\n",
    "import numpy as np\n",
    "import matplotlib.pyplot as plt\n",
    "from community import community_louvain\n",
    "import seaborn as sns\n",
    "import json\n",
    "from nltk import PorterStemmer, bigrams as nltk_bigrams\n",
    "import nltk\n",
    "import re\n",
    "from nltk.corpus import stopwords\n",
    "from functools import lru_cache\n",
    "\n",
    "sns.set_style(\"darkgrid\")\n",
    "nltk.download('stopwords')"
   ]
  },
  {
   "cell_type": "markdown",
   "id": "97b24ded",
   "metadata": {},
   "source": [
    "# Final project - Computational Social Science (02476)\n",
    "\n",
    "> Data is available [here](https://amazon-reviews-2023.github.io/)"
   ]
  },
  {
   "cell_type": "markdown",
   "id": "3099dfb3",
   "metadata": {},
   "source": [
    "### Constants and function definitions"
   ]
  },
  {
   "cell_type": "code",
   "execution_count": 143,
   "id": "d4ec7f02",
   "metadata": {},
   "outputs": [],
   "source": [
    "REVIEW_DATA_FILE = 'Movies_and_TV.jsonl'\n",
    "META_DATA_FILE = \"meta_Movies_and_TV.jsonl\""
   ]
  },
  {
   "cell_type": "code",
   "execution_count": 144,
   "id": "9771bb4a",
   "metadata": {},
   "outputs": [],
   "source": [
    "def save_graph(graph_file, G):\n",
    "    data = nx.readwrite.json_graph.node_link_data(G)\n",
    "    with open(graph_file, \"w\") as f:\n",
    "        json.dump(data, f)\n",
    "\n",
    "def load_graph(graph_file):\n",
    "    with open(graph_file, \"r\") as f:\n",
    "        data = json.load(f)\n",
    "    return nx.readwrite.json_graph.node_link_graph(data)"
   ]
  },
  {
   "cell_type": "markdown",
   "id": "b40e90b8",
   "metadata": {},
   "source": [
    "## 1. Data processing"
   ]
  },
  {
   "cell_type": "markdown",
   "id": "db51d1c7",
   "metadata": {},
   "source": [
    "### Process meta data"
   ]
  },
  {
   "cell_type": "code",
   "execution_count": 145,
   "id": "77c50ec4",
   "metadata": {},
   "outputs": [
    {
     "data": {
      "text/html": [
       "<div><style>\n",
       ".dataframe > thead > tr,\n",
       ".dataframe > tbody > tr {\n",
       "  text-align: right;\n",
       "  white-space: pre-wrap;\n",
       "}\n",
       "</style>\n",
       "<small>shape: (5, 9)</small><table border=\"1\" class=\"dataframe\"><thead><tr><th>title</th><th>average_rating</th><th>rating_number</th><th>description</th><th>price</th><th>categories</th><th>content_advisory</th><th>asin</th><th>desc_len</th></tr><tr><td>str</td><td>f64</td><td>i64</td><td>str</td><td>f64</td><td>list[str]</td><td>list[str]</td><td>str</td><td>u32</td></tr></thead><tbody><tr><td>&quot;Glee&quot;</td><td>4.7</td><td>2004</td><td>&quot;Entering its fourth season, th…</td><td>22.39</td><td>[&quot;Comedy&quot;, &quot;Drama&quot;, … &quot;Music Videos and Concerts&quot;]</td><td>[&quot;Violence&quot;, &quot;substance use&quot;, … &quot;sexual content&quot;]</td><td>&quot;B00ABWKL3I&quot;</td><td>396</td></tr><tr><td>&quot;One Perfect Wedding&quot;</td><td>3.0</td><td>6</td><td>&quot;With her book tour in two week…</td><td>-1.0</td><td>[&quot;Comedy&quot;, &quot;Drama&quot;, &quot;Romance&quot;]</td><td>[]</td><td>&quot;B09WDLJ4HP&quot;</td><td>219</td></tr><tr><td>&quot;How to Make Animatronic Charac…</td><td>5.0</td><td>7</td><td>&quot;Product Description&quot;</td><td>64.99</td><td>[&quot;Movies &amp; TV&quot;, &quot;Genre for Featured Categories&quot;, &quot;Special Interests&quot;]</td><td>[]</td><td>&quot;B00AHN851G&quot;</td><td>19</td></tr><tr><td>&quot;Ode to Joy: Beethoven&#x27;s Sympho…</td><td>4.3</td><td>35</td><td>&quot;This special Ode to Joy: Beeth…</td><td>5.99</td><td>[&quot;Documentary&quot;]</td><td>[]</td><td>&quot;B01G9ILXXE&quot;</td><td>234</td></tr><tr><td>&quot;Ben 10: Alien Force (Classic)&quot;</td><td>4.7</td><td>360</td><td>&quot;Itâ€™s hero time again for Ben…</td><td>24.49</td><td>[&quot;Science Fiction&quot;, &quot;Comedy&quot;, … &quot;Drama&quot;]</td><td>[]</td><td>&quot;B009SIYXDA&quot;</td><td>377</td></tr></tbody></table></div>"
      ],
      "text/plain": [
       "shape: (5, 9)\n",
       "┌───────────┬───────────┬───────────┬───────────┬───┬───────────┬───────────┬───────────┬──────────┐\n",
       "│ title     ┆ average_r ┆ rating_nu ┆ descripti ┆ … ┆ categorie ┆ content_a ┆ asin      ┆ desc_len │\n",
       "│ ---       ┆ ating     ┆ mber      ┆ on        ┆   ┆ s         ┆ dvisory   ┆ ---       ┆ ---      │\n",
       "│ str       ┆ ---       ┆ ---       ┆ ---       ┆   ┆ ---       ┆ ---       ┆ str       ┆ u32      │\n",
       "│           ┆ f64       ┆ i64       ┆ str       ┆   ┆ list[str] ┆ list[str] ┆           ┆          │\n",
       "╞═══════════╪═══════════╪═══════════╪═══════════╪═══╪═══════════╪═══════════╪═══════════╪══════════╡\n",
       "│ Glee      ┆ 4.7       ┆ 2004      ┆ Entering  ┆ … ┆ [\"Comedy\" ┆ [\"Violenc ┆ B00ABWKL3 ┆ 396      │\n",
       "│           ┆           ┆           ┆ its       ┆   ┆ ,         ┆ e\", \"subs ┆ I         ┆          │\n",
       "│           ┆           ┆           ┆ fourth    ┆   ┆ \"Drama\",  ┆ tance     ┆           ┆          │\n",
       "│           ┆           ┆           ┆ season,   ┆   ┆ … \"Music  ┆ use\", …   ┆           ┆          │\n",
       "│           ┆           ┆           ┆ th…       ┆   ┆ V…        ┆           ┆           ┆          │\n",
       "│ One       ┆ 3.0       ┆ 6         ┆ With her  ┆ … ┆ [\"Comedy\" ┆ []        ┆ B09WDLJ4H ┆ 219      │\n",
       "│ Perfect   ┆           ┆           ┆ book tour ┆   ┆ ,         ┆           ┆ P         ┆          │\n",
       "│ Wedding   ┆           ┆           ┆ in two    ┆   ┆ \"Drama\",  ┆           ┆           ┆          │\n",
       "│           ┆           ┆           ┆ week…     ┆   ┆ \"Romance\" ┆           ┆           ┆          │\n",
       "│           ┆           ┆           ┆           ┆   ┆ ]         ┆           ┆           ┆          │\n",
       "│ How to    ┆ 5.0       ┆ 7         ┆ Product   ┆ … ┆ [\"Movies  ┆ []        ┆ B00AHN851 ┆ 19       │\n",
       "│ Make Anim ┆           ┆           ┆ Descripti ┆   ┆ & TV\",    ┆           ┆ G         ┆          │\n",
       "│ atronic   ┆           ┆           ┆ on        ┆   ┆ \"Genre    ┆           ┆           ┆          │\n",
       "│ Charac…   ┆           ┆           ┆           ┆   ┆ for Fea…  ┆           ┆           ┆          │\n",
       "│ Ode to    ┆ 4.3       ┆ 35        ┆ This      ┆ … ┆ [\"Documen ┆ []        ┆ B01G9ILXX ┆ 234      │\n",
       "│ Joy: Beet ┆           ┆           ┆ special   ┆   ┆ tary\"]    ┆           ┆ E         ┆          │\n",
       "│ hoven's   ┆           ┆           ┆ Ode to    ┆   ┆           ┆           ┆           ┆          │\n",
       "│ Sympho…   ┆           ┆           ┆ Joy:      ┆   ┆           ┆           ┆           ┆          │\n",
       "│           ┆           ┆           ┆ Beeth…    ┆   ┆           ┆           ┆           ┆          │\n",
       "│ Ben 10:   ┆ 4.7       ┆ 360       ┆ Itâ€™s    ┆ … ┆ [\"Science ┆ []        ┆ B009SIYXD ┆ 377      │\n",
       "│ Alien     ┆           ┆           ┆ hero time ┆   ┆ Fiction\", ┆           ┆ A         ┆          │\n",
       "│ Force     ┆           ┆           ┆ again for ┆   ┆ \"Comedy\", ┆           ┆           ┆          │\n",
       "│ (Classic) ┆           ┆           ┆ Ben…      ┆   ┆ …         ┆           ┆           ┆          │\n",
       "└───────────┴───────────┴───────────┴───────────┴───┴───────────┴───────────┴───────────┴──────────┘"
      ]
     },
     "execution_count": 145,
     "metadata": {},
     "output_type": "execute_result"
    }
   ],
   "source": [
    "schema = {\n",
    "    \"title\": pl.Utf8,\n",
    "    \"average_rating\": pl.Float64,\n",
    "    \"rating_number\": pl.Int64,\n",
    "    \"description\": pl.List(pl.Utf8),\n",
    "    \"price\": pl.Utf8,\n",
    "    \"categories\": pl.List(pl.Utf8),\n",
    "    \"details\": pl.Struct([\n",
    "        pl.Field(\"Content advisory\", pl.List(pl.Utf8)),\n",
    "    ]),\n",
    "    \"parent_asin\": pl.Utf8,\n",
    "}\n",
    "\n",
    "df_meta = pl.read_ndjson(META_DATA_FILE, schema=schema).rename({\"parent_asin\": \"asin\"})\n",
    "\n",
    "# Map prices\n",
    "df_meta = df_meta.with_columns(\n",
    "    pl.col(\"price\")\n",
    "    .str.extract(r\"([0-9]+(?:\\.[0-9]+)?)\", 1)\n",
    "    .cast(pl.Float64)\n",
    "    .fill_null(-1)\n",
    ")\n",
    "\n",
    "# Map description\n",
    "df_meta = df_meta.with_columns(\n",
    "    pl.when(\n",
    "        pl.col(\"description\").is_null() |\n",
    "        (pl.col(\"description\").list.eval(pl.element()).list.len() == 0)\n",
    "    )\n",
    "    .then(pl.lit([\"\"]).cast(pl.List(pl.Utf8)))\n",
    "    .otherwise(pl.col(\"description\"))\n",
    "    .alias(\"description\")\n",
    ")\n",
    "\n",
    "df_meta = df_meta.with_columns(\n",
    "    pl.col(\"description\").list.get(0).alias(\"description\") # TODO GET THE LONGEST DESCRIPTION\n",
    ")\n",
    "\n",
    "df_meta = df_meta.with_columns(\n",
    "    pl.col(\"description\").str.len_chars().alias(\"desc_len\")\n",
    ")\n",
    "\n",
    "# Map Content advisory\n",
    "df_meta = df_meta.with_columns(\n",
    "    pl.struct([\"details\"]).map_elements(\n",
    "        lambda s: s[\"details\"][\"Content advisory\"] if s[\"details\"] and \"Content advisory\" in s[\"details\"] else [],\n",
    "        return_dtype=pl.List(pl.Utf8)\n",
    "    ).alias(\"details\")\n",
    ").rename({\"details\": \"content_advisory\"})\n",
    "\n",
    "df_meta.limit(5)"
   ]
  },
  {
   "cell_type": "code",
   "execution_count": 146,
   "id": "a624bf55",
   "metadata": {},
   "outputs": [
    {
     "data": {
      "text/html": [
       "<div><style>\n",
       ".dataframe > thead > tr,\n",
       ".dataframe > tbody > tr {\n",
       "  text-align: right;\n",
       "  white-space: pre-wrap;\n",
       "}\n",
       "</style>\n",
       "<small>shape: (5, 9)</small><table border=\"1\" class=\"dataframe\"><thead><tr><th>title</th><th>asins</th><th>average_rating</th><th>rating_number</th><th>description</th><th>desc_len</th><th>price</th><th>categories</th><th>content_advisory</th></tr><tr><td>str</td><td>list[str]</td><td>f64</td><td>i64</td><td>str</td><td>u32</td><td>f64</td><td>list[str]</td><td>list[str]</td></tr></thead><tbody><tr><td>&quot;2001 NCAA(r) Division I Men&#x27;s …</td><td>[&quot;B00BSE3O64&quot;]</td><td>5.0</td><td>3</td><td>&quot;Minnesota breaks Iowa&#x27;s streak…</td><td>240</td><td>-1.0</td><td>[&quot;Documentary&quot;, &quot;Special Interest&quot;]</td><td>[]</td></tr><tr><td>&quot;Ride Beyond Vengeance [DVD]&quot;</td><td>[&quot;B000BITVB0&quot;]</td><td>4.4</td><td>109</td><td>&quot;A poor-but-proud man, Jonas Tr…</td><td>792</td><td>51.28</td><td>[&quot;Movies &amp; TV&quot;, &quot;Studio Specials&quot;, … &quot;All Sony Pictures Titles&quot;]</td><td>[]</td></tr><tr><td>&quot;Love Meetings (Comizi d&#x27;Amore)&quot;</td><td>[&quot;B00008DDUE&quot;]</td><td>4.5</td><td>6</td><td>&quot;LOVE MEETINGS is a Cinema Veri…</td><td>434</td><td>24.97</td><td>[&quot;Movies &amp; TV&quot;, &quot;Featured Categories&quot;, … &quot;Drama&quot;]</td><td>[]</td></tr><tr><td>&quot;F/X&quot;</td><td>[&quot;0792845781&quot;, &quot;B07V5QDSRJ&quot;, &quot;B07V2JL6Q8&quot;]</td><td>4.5</td><td>454</td><td>&quot;Rollie Tyler, a movie special-…</td><td>314</td><td>-1.0</td><td>[&quot;Suspense&quot;, &quot;Action&quot;, … &quot;Thrilling&quot;]</td><td>[&quot;Violence&quot;, &quot;alcohol use&quot;, … &quot;sexual content&quot;]</td></tr><tr><td>&quot;The Firm: Total Body Time-Crun…</td><td>[&quot;B000SM6FJK&quot;, &quot;B00246QGDS&quot;]</td><td>4.5</td><td>155</td><td>&quot;Total Body Time Crunch is The …</td><td>297</td><td>4.49</td><td>[&quot;Movies &amp; TV&quot;, &quot;Genre for Featured Categories&quot;, &quot;Exercise &amp; Fitness&quot;]</td><td>[]</td></tr></tbody></table></div>"
      ],
      "text/plain": [
       "shape: (5, 9)\n",
       "┌────────────┬────────────┬────────────┬────────────┬───┬──────────┬───────┬───────────┬───────────┐\n",
       "│ title      ┆ asins      ┆ average_ra ┆ rating_num ┆ … ┆ desc_len ┆ price ┆ categorie ┆ content_a │\n",
       "│ ---        ┆ ---        ┆ ting       ┆ ber        ┆   ┆ ---      ┆ ---   ┆ s         ┆ dvisory   │\n",
       "│ str        ┆ list[str]  ┆ ---        ┆ ---        ┆   ┆ u32      ┆ f64   ┆ ---       ┆ ---       │\n",
       "│            ┆            ┆ f64        ┆ i64        ┆   ┆          ┆       ┆ list[str] ┆ list[str] │\n",
       "╞════════════╪════════════╪════════════╪════════════╪═══╪══════════╪═══════╪═══════════╪═══════════╡\n",
       "│ 2001       ┆ [\"B00BSE3O ┆ 5.0        ┆ 3          ┆ … ┆ 240      ┆ -1.0  ┆ [\"Documen ┆ []        │\n",
       "│ NCAA(r)    ┆ 64\"]       ┆            ┆            ┆   ┆          ┆       ┆ tary\",    ┆           │\n",
       "│ Division I ┆            ┆            ┆            ┆   ┆          ┆       ┆ \"Special  ┆           │\n",
       "│ Men's …    ┆            ┆            ┆            ┆   ┆          ┆       ┆ Inter…    ┆           │\n",
       "│ Ride       ┆ [\"B000BITV ┆ 4.4        ┆ 109        ┆ … ┆ 792      ┆ 51.28 ┆ [\"Movies  ┆ []        │\n",
       "│ Beyond     ┆ B0\"]       ┆            ┆            ┆   ┆          ┆       ┆ & TV\",    ┆           │\n",
       "│ Vengeance  ┆            ┆            ┆            ┆   ┆          ┆       ┆ \"Studio   ┆           │\n",
       "│ [DVD]      ┆            ┆            ┆            ┆   ┆          ┆       ┆ Specia…   ┆           │\n",
       "│ Love       ┆ [\"B00008DD ┆ 4.5        ┆ 6          ┆ … ┆ 434      ┆ 24.97 ┆ [\"Movies  ┆ []        │\n",
       "│ Meetings   ┆ UE\"]       ┆            ┆            ┆   ┆          ┆       ┆ & TV\",    ┆           │\n",
       "│ (Comizi    ┆            ┆            ┆            ┆   ┆          ┆       ┆ \"Featured ┆           │\n",
       "│ d'Amore)   ┆            ┆            ┆            ┆   ┆          ┆       ┆ Cate…     ┆           │\n",
       "│ F/X        ┆ [\"07928457 ┆ 4.5        ┆ 454        ┆ … ┆ 314      ┆ -1.0  ┆ [\"Suspens ┆ [\"Violenc │\n",
       "│            ┆ 81\", \"B07V ┆            ┆            ┆   ┆          ┆       ┆ e\",       ┆ e\",       │\n",
       "│            ┆ 5QDSRJ\",   ┆            ┆            ┆   ┆          ┆       ┆ \"Action\", ┆ \"alcohol  │\n",
       "│            ┆ \"…         ┆            ┆            ┆   ┆          ┆       ┆ … \"Thri…  ┆ use\", … … │\n",
       "│ The Firm:  ┆ [\"B000SM6F ┆ 4.5        ┆ 155        ┆ … ┆ 297      ┆ 4.49  ┆ [\"Movies  ┆ []        │\n",
       "│ Total Body ┆ JK\", \"B002 ┆            ┆            ┆   ┆          ┆       ┆ & TV\",    ┆           │\n",
       "│ Time-Crun… ┆ 46QGDS\"]   ┆            ┆            ┆   ┆          ┆       ┆ \"Genre    ┆           │\n",
       "│            ┆            ┆            ┆            ┆   ┆          ┆       ┆ for Fea…  ┆           │\n",
       "└────────────┴────────────┴────────────┴────────────┴───┴──────────┴───────┴───────────┴───────────┘"
      ]
     },
     "execution_count": 146,
     "metadata": {},
     "output_type": "execute_result"
    }
   ],
   "source": [
    "best_per_title = (\n",
    "    df_meta.sort([\"desc_len\", \"rating_number\"], descending=[True, True])\n",
    "    .group_by(\"title\")\n",
    "    .agg([\n",
    "        pl.col(\"asin\").unique().alias(\"asins\"),\n",
    "        pl.first(\"average_rating\"),\n",
    "        pl.first(\"rating_number\"),\n",
    "        pl.first(\"description\"),\n",
    "        pl.first(\"desc_len\"),\n",
    "        pl.first(\"price\"),\n",
    "        pl.first(\"categories\"),\n",
    "        pl.first(\"content_advisory\")\n",
    "    ])\n",
    ")\n",
    "\n",
    "best_per_title.limit(5)"
   ]
  },
  {
   "cell_type": "markdown",
   "id": "1401dd6e",
   "metadata": {},
   "source": [
    "### Process review data"
   ]
  },
  {
   "cell_type": "code",
   "execution_count": 147,
   "id": "99535484",
   "metadata": {},
   "outputs": [
    {
     "data": {
      "text/html": [
       "<div><style>\n",
       ".dataframe > thead > tr,\n",
       ".dataframe > tbody > tr {\n",
       "  text-align: right;\n",
       "  white-space: pre-wrap;\n",
       "}\n",
       "</style>\n",
       "<small>shape: (5, 5)</small><table border=\"1\" class=\"dataframe\"><thead><tr><th>user_id</th><th>timestamp</th><th>text</th><th>asin</th><th>rating</th></tr><tr><td>str</td><td>i64</td><td>str</td><td>str</td><td>f64</td></tr></thead><tbody><tr><td>&quot;AGXVBIUFLFGMVLATYXHJYL4A5Q7Q&quot;</td><td>1146713492000</td><td>&quot;This DVD was GREAT!&nbsp;&nbsp;I am a st…</td><td>&quot;B0002J58ME&quot;</td><td>5.0</td></tr><tr><td>&quot;AEFKF6R2GUSK2AWPSWRR4ZO36JVQ&quot;</td><td>1556496429981</td><td>&quot;this item was canceled. . . .n…</td><td>&quot;B000PIU2A0&quot;</td><td>3.0</td></tr><tr><td>&quot;AEFKF6R2GUSK2AWPSWRR4ZO36JVQ&quot;</td><td>1364088518000</td><td>&quot;I grew up with this one. could…</td><td>&quot;B001JNNDRY&quot;</td><td>5.0</td></tr><tr><td>&quot;AEFKF6R2GUSK2AWPSWRR4ZO36JVQ&quot;</td><td>1364088147000</td><td>&quot;like watching: haven&#x27;t gotten …</td><td>&quot;B000TSMOEI&quot;</td><td>4.0</td></tr><tr><td>&quot;AEFKF6R2GUSK2AWPSWRR4ZO36JVQ&quot;</td><td>1364087577000</td><td>&quot;pretty cool to watch: differen…</td><td>&quot;B0009MAO82&quot;</td><td>4.0</td></tr></tbody></table></div>"
      ],
      "text/plain": [
       "shape: (5, 5)\n",
       "┌──────────────────────────────┬───────────────┬─────────────────────────────┬────────────┬────────┐\n",
       "│ user_id                      ┆ timestamp     ┆ text                        ┆ asin       ┆ rating │\n",
       "│ ---                          ┆ ---           ┆ ---                         ┆ ---        ┆ ---    │\n",
       "│ str                          ┆ i64           ┆ str                         ┆ str        ┆ f64    │\n",
       "╞══════════════════════════════╪═══════════════╪═════════════════════════════╪════════════╪════════╡\n",
       "│ AGXVBIUFLFGMVLATYXHJYL4A5Q7Q ┆ 1146713492000 ┆ This DVD was GREAT!  I am a ┆ B0002J58ME ┆ 5.0    │\n",
       "│                              ┆               ┆ st…                         ┆            ┆        │\n",
       "│ AEFKF6R2GUSK2AWPSWRR4ZO36JVQ ┆ 1556496429981 ┆ this item was canceled. . . ┆ B000PIU2A0 ┆ 3.0    │\n",
       "│                              ┆               ┆ .n…                         ┆            ┆        │\n",
       "│ AEFKF6R2GUSK2AWPSWRR4ZO36JVQ ┆ 1364088518000 ┆ I grew up with this one.    ┆ B001JNNDRY ┆ 5.0    │\n",
       "│                              ┆               ┆ could…                      ┆            ┆        │\n",
       "│ AEFKF6R2GUSK2AWPSWRR4ZO36JVQ ┆ 1364088147000 ┆ like watching: haven't      ┆ B000TSMOEI ┆ 4.0    │\n",
       "│                              ┆               ┆ gotten …                    ┆            ┆        │\n",
       "│ AEFKF6R2GUSK2AWPSWRR4ZO36JVQ ┆ 1364087577000 ┆ pretty cool to watch:       ┆ B0009MAO82 ┆ 4.0    │\n",
       "│                              ┆               ┆ differen…                   ┆            ┆        │\n",
       "└──────────────────────────────┴───────────────┴─────────────────────────────┴────────────┴────────┘"
      ]
     },
     "execution_count": 147,
     "metadata": {},
     "output_type": "execute_result"
    }
   ],
   "source": [
    "df = pl.scan_ndjson(REVIEW_DATA_FILE).filter(pl.col('verified_purchase') == True).filter(pl.col('helpful_vote') != 0)\n",
    "existing = set(df.collect_schema().keys())\n",
    "drop_cols = {'images', 'style', 'verified_purchase', 'asin', 'helpful_vote', 'title'} \n",
    "keep_cols = list(existing - drop_cols)\n",
    "df = df.select(keep_cols).rename({'parent_asin': 'asin'})\n",
    "df = df.collect()\n",
    "df.limit(5)"
   ]
  },
  {
   "cell_type": "code",
   "execution_count": 148,
   "id": "ce1166e6",
   "metadata": {},
   "outputs": [
    {
     "data": {
      "text/plain": [
       "(2888210, 409673)"
      ]
     },
     "execution_count": 148,
     "metadata": {},
     "output_type": "execute_result"
    }
   ],
   "source": [
    "df.height, df.get_column(\"asin\").n_unique()"
   ]
  },
  {
   "cell_type": "markdown",
   "id": "9b5d29ec",
   "metadata": {},
   "source": [
    "> All the asin with missing meta data"
   ]
  },
  {
   "cell_type": "code",
   "execution_count": 149,
   "id": "f1c90e31",
   "metadata": {},
   "outputs": [
    {
     "data": {
      "text/html": [
       "<div><style>\n",
       ".dataframe > thead > tr,\n",
       ".dataframe > tbody > tr {\n",
       "  text-align: right;\n",
       "  white-space: pre-wrap;\n",
       "}\n",
       "</style>\n",
       "<small>shape: (313_988,)</small><table border=\"1\" class=\"dataframe\"><thead><tr><th></th></tr><tr><td>str</td></tr></thead><tbody><tr><td>&quot;B01BLQS1G6&quot;</td></tr><tr><td>&quot;B00KAR8VMM&quot;</td></tr><tr><td>&quot;B01KBDSZLQ&quot;</td></tr><tr><td>&quot;B000ZLZV12&quot;</td></tr><tr><td>&quot;B00GT2GE8A&quot;</td></tr><tr><td>&hellip;</td></tr><tr><td>&quot;B08SJQMD33&quot;</td></tr><tr><td>&quot;B075FMHBPP&quot;</td></tr><tr><td>&quot;B0862GPJPN&quot;</td></tr><tr><td>&quot;B071G1Y1DK&quot;</td></tr><tr><td>&quot;B07DKZVZKJ&quot;</td></tr></tbody></table></div>"
      ],
      "text/plain": [
       "shape: (313_988,)\n",
       "Series: '' [str]\n",
       "[\n",
       "\t\"B01BLQS1G6\"\n",
       "\t\"B00KAR8VMM\"\n",
       "\t\"B01KBDSZLQ\"\n",
       "\t\"B000ZLZV12\"\n",
       "\t\"B00GT2GE8A\"\n",
       "\t…\n",
       "\t\"B08SJQMD33\"\n",
       "\t\"B075FMHBPP\"\n",
       "\t\"B0862GPJPN\"\n",
       "\t\"B071G1Y1DK\"\n",
       "\t\"B07DKZVZKJ\"\n",
       "]"
      ]
     },
     "execution_count": 149,
     "metadata": {},
     "output_type": "execute_result"
    }
   ],
   "source": [
    "best_per_title.filter(pl.col(\"title\").is_null()).get_column(\"asins\")[0]"
   ]
  },
  {
   "cell_type": "code",
   "execution_count": 150,
   "id": "31ea2473",
   "metadata": {},
   "outputs": [],
   "source": [
    "asin_title_map = best_per_title.select([\n",
    "    pl.col(\"title\"),\n",
    "    pl.col(\"asins\"),\n",
    "    pl.col(\"average_rating\"),\n",
    "    pl.col(\"price\")\n",
    "]).explode(\"asins\").rename({\"asins\": \"asin\"})\n",
    "\n",
    "df_reviews = df.join(\n",
    "    asin_title_map,\n",
    "    on=\"asin\",\n",
    "    how=\"left\"\n",
    ")"
   ]
  },
  {
   "cell_type": "code",
   "execution_count": 151,
   "id": "18608056",
   "metadata": {},
   "outputs": [],
   "source": [
    "# df.get_column(\"asin\").n_unique(), df_meta.get_column(\"parent_asin\").n_unique()\n",
    "# asins_in_df = df.get_column(\"asin\").unique()\n",
    "# asins_in_meta = df_meta.get_column(\"asin\").unique()\n",
    "\n",
    "# missing_asins = asins_in_df.filter(~asins_in_df.is_in(asins_in_meta.implode()))\n",
    "# missing_asins.len()"
   ]
  },
  {
   "cell_type": "code",
   "execution_count": 152,
   "id": "dc053c1a",
   "metadata": {},
   "outputs": [
    {
     "name": "stdout",
     "output_type": "stream",
     "text": [
      "1631725\n"
     ]
    },
    {
     "data": {
      "text/html": [
       "<div><style>\n",
       ".dataframe > thead > tr,\n",
       ".dataframe > tbody > tr {\n",
       "  text-align: right;\n",
       "  white-space: pre-wrap;\n",
       "}\n",
       "</style>\n",
       "<small>shape: (5, 8)</small><table border=\"1\" class=\"dataframe\"><thead><tr><th>user_id</th><th>timestamp</th><th>text</th><th>asin</th><th>rating</th><th>title</th><th>average_rating</th><th>price</th></tr><tr><td>str</td><td>i64</td><td>str</td><td>str</td><td>f64</td><td>str</td><td>f64</td><td>f64</td></tr></thead><tbody><tr><td>&quot;AGXVBIUFLFGMVLATYXHJYL4A5Q7Q&quot;</td><td>1146713492000</td><td>&quot;This DVD was GREAT!&nbsp;&nbsp;I am a st…</td><td>&quot;B0002J58ME&quot;</td><td>5.0</td><td>&quot;10 Minute Solution: Pilates&quot;</td><td>4.6</td><td>8.77</td></tr><tr><td>&quot;AEFKF6R2GUSK2AWPSWRR4ZO36JVQ&quot;</td><td>1556496429981</td><td>&quot;this item was canceled. . . .n…</td><td>&quot;B000PIU2A0&quot;</td><td>3.0</td><td>&quot;Battlespace&quot;</td><td>3.5</td><td>19.99</td></tr><tr><td>&quot;AEFKF6R2GUSK2AWPSWRR4ZO36JVQ&quot;</td><td>1364088518000</td><td>&quot;I grew up with this one. could…</td><td>&quot;B001JNNDRY&quot;</td><td>5.0</td><td>&quot;Columbo: Mystery Movie Collect…</td><td>4.7</td><td>13.4</td></tr><tr><td>&quot;AEFKF6R2GUSK2AWPSWRR4ZO36JVQ&quot;</td><td>1364088147000</td><td>&quot;like watching: haven&#x27;t gotten …</td><td>&quot;B000TSMOEI&quot;</td><td>4.0</td><td>&quot;Burst Angel: Hired Gun v.4&quot;</td><td>4.0</td><td>6.26</td></tr><tr><td>&quot;AEFKF6R2GUSK2AWPSWRR4ZO36JVQ&quot;</td><td>1364087577000</td><td>&quot;pretty cool to watch: differen…</td><td>&quot;B0009MAO82&quot;</td><td>4.0</td><td>&quot;Burst Angel, Vol. 3: East Meet…</td><td>4.7</td><td>8.49</td></tr></tbody></table></div>"
      ],
      "text/plain": [
       "shape: (5, 8)\n",
       "┌─────────────┬─────────────┬─────────────┬────────────┬────────┬─────────────┬────────────┬───────┐\n",
       "│ user_id     ┆ timestamp   ┆ text        ┆ asin       ┆ rating ┆ title       ┆ average_ra ┆ price │\n",
       "│ ---         ┆ ---         ┆ ---         ┆ ---        ┆ ---    ┆ ---         ┆ ting       ┆ ---   │\n",
       "│ str         ┆ i64         ┆ str         ┆ str        ┆ f64    ┆ str         ┆ ---        ┆ f64   │\n",
       "│             ┆             ┆             ┆            ┆        ┆             ┆ f64        ┆       │\n",
       "╞═════════════╪═════════════╪═════════════╪════════════╪════════╪═════════════╪════════════╪═══════╡\n",
       "│ AGXVBIUFLFG ┆ 11467134920 ┆ This DVD    ┆ B0002J58ME ┆ 5.0    ┆ 10 Minute   ┆ 4.6        ┆ 8.77  │\n",
       "│ MVLATYXHJYL ┆ 00          ┆ was GREAT!  ┆            ┆        ┆ Solution:   ┆            ┆       │\n",
       "│ 4A5Q7Q      ┆             ┆ I am a st…  ┆            ┆        ┆ Pilates     ┆            ┆       │\n",
       "│ AEFKF6R2GUS ┆ 15564964299 ┆ this item   ┆ B000PIU2A0 ┆ 3.0    ┆ Battlespace ┆ 3.5        ┆ 19.99 │\n",
       "│ K2AWPSWRR4Z ┆ 81          ┆ was         ┆            ┆        ┆             ┆            ┆       │\n",
       "│ O36JVQ      ┆             ┆ canceled. . ┆            ┆        ┆             ┆            ┆       │\n",
       "│             ┆             ┆ . .n…       ┆            ┆        ┆             ┆            ┆       │\n",
       "│ AEFKF6R2GUS ┆ 13640885180 ┆ I grew up   ┆ B001JNNDRY ┆ 5.0    ┆ Columbo:    ┆ 4.7        ┆ 13.4  │\n",
       "│ K2AWPSWRR4Z ┆ 00          ┆ with this   ┆            ┆        ┆ Mystery     ┆            ┆       │\n",
       "│ O36JVQ      ┆             ┆ one. could… ┆            ┆        ┆ Movie       ┆            ┆       │\n",
       "│             ┆             ┆             ┆            ┆        ┆ Collect…    ┆            ┆       │\n",
       "│ AEFKF6R2GUS ┆ 13640881470 ┆ like        ┆ B000TSMOEI ┆ 4.0    ┆ Burst       ┆ 4.0        ┆ 6.26  │\n",
       "│ K2AWPSWRR4Z ┆ 00          ┆ watching:   ┆            ┆        ┆ Angel:      ┆            ┆       │\n",
       "│ O36JVQ      ┆             ┆ haven't     ┆            ┆        ┆ Hired Gun   ┆            ┆       │\n",
       "│             ┆             ┆ gotten …    ┆            ┆        ┆ v.4         ┆            ┆       │\n",
       "│ AEFKF6R2GUS ┆ 13640875770 ┆ pretty cool ┆ B0009MAO82 ┆ 4.0    ┆ Burst       ┆ 4.7        ┆ 8.49  │\n",
       "│ K2AWPSWRR4Z ┆ 00          ┆ to watch:   ┆            ┆        ┆ Angel, Vol. ┆            ┆       │\n",
       "│ O36JVQ      ┆             ┆ differen…   ┆            ┆        ┆ 3: East     ┆            ┆       │\n",
       "│             ┆             ┆             ┆            ┆        ┆ Meet…       ┆            ┆       │\n",
       "└─────────────┴─────────────┴─────────────┴────────────┴────────┴─────────────┴────────────┴───────┘"
      ]
     },
     "execution_count": 152,
     "metadata": {},
     "output_type": "execute_result"
    }
   ],
   "source": [
    "# def filter_reviews(df, movie_threshold=5, review_threshold=5):\n",
    "#     prev_rows = -1\n",
    "#     while df.height != prev_rows:\n",
    "#         prev_rows = df.height\n",
    "#         valid_movies = (\n",
    "#             df.group_by('asin')\n",
    "#             .agg(pl.col('user_id').n_unique().alias('count'))\n",
    "#             .filter(pl.col('count') >= review_threshold)\n",
    "#             .get_column('asin')\n",
    "#         )\n",
    "#         df = df.filter(pl.col('asin').is_in(valid_movies.implode()))\n",
    "\n",
    "#         valid_reviewers = (\n",
    "#             df.group_by('user_id')\n",
    "#             .agg(pl.col('asin').n_unique().alias('count'))\n",
    "#             .filter(pl.col('count') >= movie_threshold)\n",
    "#             .get_column('user_id')\n",
    "#         )\n",
    "#         df = df.filter(pl.col('user_id').is_in(valid_reviewers.implode()))\n",
    "#     return df\n",
    "\n",
    "# filtered_df = filter_reviews(df)\n",
    "filtered_df = df_reviews.filter(pl.col(\"title\").is_not_null())\n",
    "print(filtered_df.height)\n",
    "filtered_df.limit(5)"
   ]
  },
  {
   "cell_type": "code",
   "execution_count": 153,
   "id": "83e575eb",
   "metadata": {},
   "outputs": [],
   "source": [
    "reviewer_counts = (\n",
    "    filtered_df.group_by('user_id')\n",
    "    .agg(pl.col('asin').n_unique().alias('count'))\n",
    "    .filter(pl.col('count') > 500)\n",
    ").height"
   ]
  },
  {
   "cell_type": "markdown",
   "id": "72418263",
   "metadata": {},
   "source": [
    "### Network"
   ]
  },
  {
   "cell_type": "code",
   "execution_count": 154,
   "id": "0ecfcbd6",
   "metadata": {},
   "outputs": [],
   "source": [
    "def generate_edge_list():\n",
    "    grouped = (\n",
    "        filtered_df\n",
    "        .group_by('user_id')\n",
    "        .agg(pl.col('asin').unique().alias('asins'))\n",
    "    )\n",
    "\n",
    "    edges = defaultdict(int)\n",
    "\n",
    "    for reviewers in tqdm(grouped['asins'], desc=\"Reviewer\"):\n",
    "        for pair in combinations(reviewers, 2):\n",
    "            edges[tuple(sorted(pair))] += 1\n",
    "\n",
    "    return [(a, b, count) for (a, b), count in edges.items()]"
   ]
  },
  {
   "cell_type": "code",
   "execution_count": 155,
   "id": "554a078d",
   "metadata": {},
   "outputs": [
    {
     "name": "stderr",
     "output_type": "stream",
     "text": [
      "Reviewer: 100%|██████████| 947488/947488 [00:13<00:00, 68264.99it/s] \n"
     ]
    },
    {
     "data": {
      "text/plain": [
       "8820651"
      ]
     },
     "execution_count": 155,
     "metadata": {},
     "output_type": "execute_result"
    }
   ],
   "source": [
    "movie_edgelist = generate_edge_list()\n",
    "len(movie_edgelist)"
   ]
  },
  {
   "cell_type": "code",
   "execution_count": 156,
   "id": "34f1ca0e",
   "metadata": {},
   "outputs": [
    {
     "name": "stdout",
     "output_type": "stream",
     "text": [
      "Edges with weight => 2: 96920\n",
      "Edges with weight => 3: 12754\n",
      "Edges with weight => 4: 4249\n",
      "Edges with weight => 5: 2011\n",
      "Edges with weight => 7: 700\n",
      "Edges with weight => 10: 230\n"
     ]
    }
   ],
   "source": [
    "thresholds = [2,3,4,5,7,10]\n",
    "for t in thresholds:\n",
    "    weighted_edges = [(a, b, w) for (a, b, w) in movie_edgelist if w >= t]\n",
    "    print(f\"Edges with weight => {t}: {len(weighted_edges)}\")"
   ]
  },
  {
   "cell_type": "markdown",
   "id": "78856904",
   "metadata": {},
   "source": [
    "### Graph"
   ]
  },
  {
   "cell_type": "code",
   "execution_count": 157,
   "id": "ca36f07d",
   "metadata": {},
   "outputs": [
    {
     "data": {
      "text/plain": [
       "12754"
      ]
     },
     "execution_count": 157,
     "metadata": {},
     "output_type": "execute_result"
    }
   ],
   "source": [
    "WEIGHT_THRESHOLD = 3\n",
    "weighted_movie_edge = [(a, b, w) for (a, b, w) in movie_edgelist if w >= WEIGHT_THRESHOLD]\n",
    "len(weighted_movie_edge)"
   ]
  },
  {
   "cell_type": "code",
   "execution_count": 158,
   "id": "22265dfc",
   "metadata": {},
   "outputs": [],
   "source": [
    "filtered_df = filtered_df.fill_null(\"\")\n",
    "attributes = [\"title\", \"average_rating\", \"price\"]\n",
    "df_attrs = filtered_df.select([\"asin\"] + attributes)\n",
    "attr_dict = {row[0]: dict(zip(attributes, row[1:])) for row in df_attrs.rows()}"
   ]
  },
  {
   "cell_type": "code",
   "execution_count": 159,
   "id": "7690ceb7",
   "metadata": {},
   "outputs": [],
   "source": [
    "G = nx.Graph()\n",
    "G.add_weighted_edges_from(weighted_movie_edge)\n",
    "nx.set_node_attributes(G, attr_dict)\n",
    "nx.write_gexf(G, \"graph.gexf\")"
   ]
  },
  {
   "cell_type": "code",
   "execution_count": 160,
   "id": "2d3870a5",
   "metadata": {},
   "outputs": [
    {
     "data": {
      "text/plain": [
       "(9567, 12754)"
      ]
     },
     "execution_count": 160,
     "metadata": {},
     "output_type": "execute_result"
    }
   ],
   "source": [
    "len(G.nodes()), len(G.edges())"
   ]
  },
  {
   "cell_type": "code",
   "execution_count": 161,
   "id": "753968ae",
   "metadata": {},
   "outputs": [
    {
     "data": {
      "text/plain": [
       "2.666248562767848"
      ]
     },
     "execution_count": 161,
     "metadata": {},
     "output_type": "execute_result"
    }
   ],
   "source": [
    "degrees = [d for _, d in G.degree()]\n",
    "\n",
    "np.mean(degrees)"
   ]
  },
  {
   "cell_type": "code",
   "execution_count": 162,
   "id": "90664973",
   "metadata": {},
   "outputs": [
    {
     "data": {
      "image/png": "[encoded data removed]",
      "text/plain": [
       "<Figure size 640x480 with 1 Axes>"
      ]
     },
     "metadata": {},
     "output_type": "display_data"
    }
   ],
   "source": [
    "X = list(dict(G.degree).values())\n",
    "plt.yscale(\"log\")\n",
    "plt.title(\"Distribution Of Degree For Movie Network\")\n",
    "plt.xlabel(\"Degree\")\n",
    "plt.ylabel(\"Log Count\")\n",
    "plt.hist(X, 40, alpha=0.75);"
   ]
  },
  {
   "cell_type": "markdown",
   "id": "23a55af8",
   "metadata": {},
   "source": [
    "### Community detection"
   ]
  },
  {
   "cell_type": "code",
   "execution_count": 163,
   "id": "f9c70eb8",
   "metadata": {},
   "outputs": [],
   "source": [
    "def community_modularity(G, c, L):\n",
    "    s = G.subgraph(c)\n",
    "    L_c = s.number_of_edges()\n",
    "    k_c = sum(dict(s.degree()).values())\n",
    "    M_c = L_c / L - (k_c / (2 * L)) ** 2\n",
    "    return M_c\n",
    "\n",
    "def modularity(G, partitions):\n",
    "    L = G.number_of_edges()\n",
    "    return sum((community_modularity(G, c, L) for c in partitions))"
   ]
  },
  {
   "cell_type": "code",
   "execution_count": 164,
   "id": "74bfce42",
   "metadata": {},
   "outputs": [],
   "source": [
    "def louvain_partitions(G):\n",
    "    partition = community_louvain.best_partition(G, randomize=False)\n",
    "    groups = defaultdict(set)\n",
    "    for node, comm in partition.items():\n",
    "        groups[comm].add(node)\n",
    "    return list(groups.values())"
   ]
  },
  {
   "cell_type": "code",
   "execution_count": 165,
   "id": "53fdf20f",
   "metadata": {},
   "outputs": [
    {
     "data": {
      "text/plain": [
       "1900"
      ]
     },
     "execution_count": 165,
     "metadata": {},
     "output_type": "execute_result"
    }
   ],
   "source": [
    "communities = louvain_partitions(G)\n",
    "len(communities)"
   ]
  },
  {
   "cell_type": "code",
   "execution_count": 166,
   "id": "9ccbeccb",
   "metadata": {},
   "outputs": [
    {
     "data": {
      "text/plain": [
       "0.9365041789445954"
      ]
     },
     "execution_count": 166,
     "metadata": {},
     "output_type": "execute_result"
    }
   ],
   "source": [
    "modularity(G, communities) "
   ]
  },
  {
   "cell_type": "code",
   "execution_count": 167,
   "id": "e26b4ef4",
   "metadata": {},
   "outputs": [
    {
     "data": {
      "text/plain": [
       "Counter({2: 1305,\n",
       "         3: 307,\n",
       "         4: 107,\n",
       "         5: 57,\n",
       "         6: 32,\n",
       "         7: 20,\n",
       "         8: 9,\n",
       "         9: 6,\n",
       "         24: 4,\n",
       "         10: 4,\n",
       "         11: 4,\n",
       "         12: 3,\n",
       "         44: 2,\n",
       "         14: 2,\n",
       "         20: 2,\n",
       "         17: 2,\n",
       "         23: 2,\n",
       "         15: 2,\n",
       "         162: 1,\n",
       "         43: 1,\n",
       "         352: 1,\n",
       "         125: 1,\n",
       "         151: 1,\n",
       "         577: 1,\n",
       "         497: 1,\n",
       "         281: 1,\n",
       "         367: 1,\n",
       "         38: 1,\n",
       "         158: 1,\n",
       "         185: 1,\n",
       "         25: 1,\n",
       "         113: 1,\n",
       "         64: 1,\n",
       "         101: 1,\n",
       "         135: 1,\n",
       "         65: 1,\n",
       "         50: 1,\n",
       "         169: 1,\n",
       "         54: 1,\n",
       "         46: 1,\n",
       "         111: 1,\n",
       "         13: 1,\n",
       "         110: 1,\n",
       "         129: 1,\n",
       "         140: 1,\n",
       "         36: 1,\n",
       "         68: 1,\n",
       "         18: 1})"
      ]
     },
     "execution_count": 167,
     "metadata": {},
     "output_type": "execute_result"
    },
    {
     "data": {
      "image/png": "[encoded data removed]",
      "text/plain": [
       "<Figure size 640x480 with 1 Axes>"
      ]
     },
     "metadata": {},
     "output_type": "display_data"
    }
   ],
   "source": [
    "X = list(map(len, communities))\n",
    "# X = [x for x in X if x < 100]\n",
    "plt.yscale(\"log\")\n",
    "plt.title(\"Distribution Of Degree For Movie Network\")\n",
    "plt.xlabel(\"Degree\")\n",
    "plt.ylabel(\"Log Count\")\n",
    "plt.hist(X, 100, alpha=0.75);\n",
    "Counter(X)"
   ]
  },
  {
   "cell_type": "markdown",
   "id": "00eb4b9d",
   "metadata": {},
   "source": [
    "### Text analysis"
   ]
  },
  {
   "cell_type": "code",
   "execution_count": 168,
   "id": "9fc6ad68",
   "metadata": {},
   "outputs": [],
   "source": [
    "all_asin = [asin for com in communities for asin in com]"
   ]
  },
  {
   "cell_type": "code",
   "execution_count": 169,
   "id": "6b3e538f",
   "metadata": {},
   "outputs": [
    {
     "data": {
      "text/html": [
       "<div><style>\n",
       ".dataframe > thead > tr,\n",
       ".dataframe > tbody > tr {\n",
       "  text-align: right;\n",
       "  white-space: pre-wrap;\n",
       "}\n",
       "</style>\n",
       "<small>shape: (5, 9)</small><table border=\"1\" class=\"dataframe\"><thead><tr><th>user_id</th><th>timestamp</th><th>text</th><th>asin</th><th>rating</th><th>title</th><th>average_rating</th><th>price</th><th>community</th></tr><tr><td>str</td><td>i64</td><td>str</td><td>str</td><td>f64</td><td>str</td><td>f64</td><td>f64</td><td>i64</td></tr></thead><tbody><tr><td>&quot;AGXVBIUFLFGMVLATYXHJYL4A5Q7Q&quot;</td><td>1146713492000</td><td>&quot;This DVD was GREAT!&nbsp;&nbsp;I am a st…</td><td>&quot;B0002J58ME&quot;</td><td>5.0</td><td>&quot;10 Minute Solution: Pilates&quot;</td><td>4.6</td><td>8.77</td><td>1143</td></tr><tr><td>&quot;AEFKF6R2GUSK2AWPSWRR4ZO36JVQ&quot;</td><td>1556496429981</td><td>&quot;this item was canceled. . . .n…</td><td>&quot;B000PIU2A0&quot;</td><td>3.0</td><td>&quot;Battlespace&quot;</td><td>3.5</td><td>19.99</td><td>null</td></tr><tr><td>&quot;AEFKF6R2GUSK2AWPSWRR4ZO36JVQ&quot;</td><td>1364088518000</td><td>&quot;I grew up with this one. could…</td><td>&quot;B001JNNDRY&quot;</td><td>5.0</td><td>&quot;Columbo: Mystery Movie Collect…</td><td>4.7</td><td>13.4</td><td>46</td></tr><tr><td>&quot;AEFKF6R2GUSK2AWPSWRR4ZO36JVQ&quot;</td><td>1364088147000</td><td>&quot;like watching: haven&#x27;t gotten …</td><td>&quot;B000TSMOEI&quot;</td><td>4.0</td><td>&quot;Burst Angel: Hired Gun v.4&quot;</td><td>4.0</td><td>6.26</td><td>null</td></tr><tr><td>&quot;AEFKF6R2GUSK2AWPSWRR4ZO36JVQ&quot;</td><td>1364087577000</td><td>&quot;pretty cool to watch: differen…</td><td>&quot;B0009MAO82&quot;</td><td>4.0</td><td>&quot;Burst Angel, Vol. 3: East Meet…</td><td>4.7</td><td>8.49</td><td>null</td></tr></tbody></table></div>"
      ],
      "text/plain": [
       "shape: (5, 9)\n",
       "┌────────────┬────────────┬────────────┬───────────┬───┬───────────┬───────────┬───────┬───────────┐\n",
       "│ user_id    ┆ timestamp  ┆ text       ┆ asin      ┆ … ┆ title     ┆ average_r ┆ price ┆ community │\n",
       "│ ---        ┆ ---        ┆ ---        ┆ ---       ┆   ┆ ---       ┆ ating     ┆ ---   ┆ ---       │\n",
       "│ str        ┆ i64        ┆ str        ┆ str       ┆   ┆ str       ┆ ---       ┆ f64   ┆ i64       │\n",
       "│            ┆            ┆            ┆           ┆   ┆           ┆ f64       ┆       ┆           │\n",
       "╞════════════╪════════════╪════════════╪═══════════╪═══╪═══════════╪═══════════╪═══════╪═══════════╡\n",
       "│ AGXVBIUFLF ┆ 1146713492 ┆ This DVD   ┆ B0002J58M ┆ … ┆ 10 Minute ┆ 4.6       ┆ 8.77  ┆ 1143      │\n",
       "│ GMVLATYXHJ ┆ 000        ┆ was GREAT! ┆ E         ┆   ┆ Solution: ┆           ┆       ┆           │\n",
       "│ YL4A5Q7Q   ┆            ┆ I am a st… ┆           ┆   ┆ Pilates   ┆           ┆       ┆           │\n",
       "│ AEFKF6R2GU ┆ 1556496429 ┆ this item  ┆ B000PIU2A ┆ … ┆ Battlespa ┆ 3.5       ┆ 19.99 ┆ null      │\n",
       "│ SK2AWPSWRR ┆ 981        ┆ was        ┆ 0         ┆   ┆ ce        ┆           ┆       ┆           │\n",
       "│ 4ZO36JVQ   ┆            ┆ canceled.  ┆           ┆   ┆           ┆           ┆       ┆           │\n",
       "│            ┆            ┆ . . .n…    ┆           ┆   ┆           ┆           ┆       ┆           │\n",
       "│ AEFKF6R2GU ┆ 1364088518 ┆ I grew up  ┆ B001JNNDR ┆ … ┆ Columbo:  ┆ 4.7       ┆ 13.4  ┆ 46        │\n",
       "│ SK2AWPSWRR ┆ 000        ┆ with this  ┆ Y         ┆   ┆ Mystery   ┆           ┆       ┆           │\n",
       "│ 4ZO36JVQ   ┆            ┆ one.       ┆           ┆   ┆ Movie     ┆           ┆       ┆           │\n",
       "│            ┆            ┆ could…     ┆           ┆   ┆ Collect…  ┆           ┆       ┆           │\n",
       "│ AEFKF6R2GU ┆ 1364088147 ┆ like       ┆ B000TSMOE ┆ … ┆ Burst     ┆ 4.0       ┆ 6.26  ┆ null      │\n",
       "│ SK2AWPSWRR ┆ 000        ┆ watching:  ┆ I         ┆   ┆ Angel:    ┆           ┆       ┆           │\n",
       "│ 4ZO36JVQ   ┆            ┆ haven't    ┆           ┆   ┆ Hired Gun ┆           ┆       ┆           │\n",
       "│            ┆            ┆ gotten …   ┆           ┆   ┆ v.4       ┆           ┆       ┆           │\n",
       "│ AEFKF6R2GU ┆ 1364087577 ┆ pretty     ┆ B0009MAO8 ┆ … ┆ Burst     ┆ 4.7       ┆ 8.49  ┆ null      │\n",
       "│ SK2AWPSWRR ┆ 000        ┆ cool to    ┆ 2         ┆   ┆ Angel,    ┆           ┆       ┆           │\n",
       "│ 4ZO36JVQ   ┆            ┆ watch:     ┆           ┆   ┆ Vol. 3:   ┆           ┆       ┆           │\n",
       "│            ┆            ┆ differen…  ┆           ┆   ┆ East      ┆           ┆       ┆           │\n",
       "│            ┆            ┆            ┆           ┆   ┆ Meet…     ┆           ┆       ┆           │\n",
       "└────────────┴────────────┴────────────┴───────────┴───┴───────────┴───────────┴───────┴───────────┘"
      ]
     },
     "execution_count": 169,
     "metadata": {},
     "output_type": "execute_result"
    }
   ],
   "source": [
    "# Adding community labels to the df\n",
    "movie_to_community = {\n",
    "    movie_id: i\n",
    "    for i, com in enumerate(communities)\n",
    "    for movie_id in com\n",
    "}\n",
    "\n",
    "community_df = pl.DataFrame([\n",
    "    {\"asin\": k, \"community\": v}\n",
    "    for k, v in movie_to_community.items()\n",
    "])\n",
    "\n",
    "if \"community\" in filtered_df.columns:\n",
    "    filtered_df = filtered_df.drop(\"community\")\n",
    "\n",
    "filtered_df = filtered_df.join(community_df, on=\"asin\", how=\"left\")\n",
    "filtered_df.limit(5)"
   ]
  },
  {
   "cell_type": "code",
   "execution_count": 170,
   "id": "b6a379df",
   "metadata": {},
   "outputs": [
    {
     "data": {
      "text/plain": [
       "1228114"
      ]
     },
     "execution_count": 170,
     "metadata": {},
     "output_type": "execute_result"
    }
   ],
   "source": [
    "filtered_df.filter(pl.col(\"community\").is_null()).height"
   ]
  },
  {
   "cell_type": "code",
   "execution_count": 171,
   "id": "95e3c662",
   "metadata": {},
   "outputs": [],
   "source": [
    "filtered_df = filtered_df.filter(pl.col(\"community\").is_not_null())"
   ]
  },
  {
   "cell_type": "code",
   "execution_count": 172,
   "id": "147fae48",
   "metadata": {},
   "outputs": [
    {
     "data": {
      "text/plain": [
       "(9567, 9567)"
      ]
     },
     "execution_count": 172,
     "metadata": {},
     "output_type": "execute_result"
    }
   ],
   "source": [
    "sum(list(map(len, communities))), len(G.nodes)"
   ]
  },
  {
   "cell_type": "code",
   "execution_count": 173,
   "id": "4260dbba",
   "metadata": {},
   "outputs": [],
   "source": [
    "# Tokenize and stemming reviews\n",
    "stemmer = PorterStemmer()\n",
    "pattern = re.compile(r'https?://\\S+|[^a-z\\s]')\n",
    "stop_words = stopwords.words('english')\n",
    "\n",
    "@lru_cache(maxsize=10000)\n",
    "def cached_stem(word):\n",
    "    return stemmer.stem(word)\n",
    "\n",
    "def tokenize(text, stem=True):\n",
    "    text = text.lower()\n",
    "    text = pattern.sub('', text)\n",
    "    tokens = text.split()\n",
    "    tokens = [token for token in tokens if token not in stop_words]\n",
    "    return [cached_stem(t) for t in tokens] if stem else tokens"
   ]
  },
  {
   "cell_type": "code",
   "execution_count": 181,
   "id": "70fb0fc9",
   "metadata": {},
   "outputs": [
    {
     "ename": "AttributeError",
     "evalue": "'function' object has no attribute 'agg'",
     "output_type": "error",
     "traceback": [
      "\u001b[1;31m---------------------------------------------------------------------------\u001b[0m",
      "\u001b[1;31mAttributeError\u001b[0m                            Traceback (most recent call last)",
      "Cell \u001b[1;32mIn[181], line 5\u001b[0m\n\u001b[0;32m      1\u001b[0m \u001b[38;5;66;03m# filtered_df = filtered_df.with_columns(\u001b[39;00m\n\u001b[0;32m      2\u001b[0m \u001b[38;5;66;03m#     pl.Series(\"tokens\", [tokenize(x) for x in filtered_df[\"text\"]])\u001b[39;00m\n\u001b[0;32m      3\u001b[0m \u001b[38;5;66;03m# )\u001b[39;00m\n\u001b[1;32m----> 5\u001b[0m \u001b[43mfiltered_df\u001b[49m\u001b[38;5;241;43m.\u001b[39;49m\u001b[43mwith_columns\u001b[49m\u001b[38;5;241;43m.\u001b[39;49m\u001b[43magg\u001b[49m(pl\u001b[38;5;241m.\u001b[39mcol(\u001b[38;5;124m\"\u001b[39m\u001b[38;5;124mtext\u001b[39m\u001b[38;5;124m\"\u001b[39m)\u001b[38;5;241m.\u001b[39mmap_elements(tokenize)\u001b[38;5;241m.\u001b[39malias(\u001b[38;5;124m\"\u001b[39m\u001b[38;5;124mtokens\u001b[39m\u001b[38;5;124m\"\u001b[39m))\n",
      "\u001b[1;31mAttributeError\u001b[0m: 'function' object has no attribute 'agg'"
     ]
    }
   ],
   "source": [
    "filtered_df = filtered_df.with_columns(\n",
    "    pl.Series(\"tokens\", [tokenize(x) for x in filtered_df[\"text\"]])\n",
    ")"
   ]
  },
  {
   "cell_type": "code",
   "execution_count": 180,
   "id": "3bdf79c5",
   "metadata": {},
   "outputs": [
    {
     "data": {
      "text/html": [
       "<div><style>\n",
       ".dataframe > thead > tr,\n",
       ".dataframe > tbody > tr {\n",
       "  text-align: right;\n",
       "  white-space: pre-wrap;\n",
       "}\n",
       "</style>\n",
       "<small>shape: (5, 10)</small><table border=\"1\" class=\"dataframe\"><thead><tr><th>user_id</th><th>timestamp</th><th>text</th><th>asin</th><th>rating</th><th>title</th><th>average_rating</th><th>price</th><th>community</th><th>tokens</th></tr><tr><td>str</td><td>i64</td><td>str</td><td>str</td><td>f64</td><td>str</td><td>f64</td><td>f64</td><td>i64</td><td>list[str]</td></tr></thead><tbody><tr><td>&quot;AGXVBIUFLFGMVLATYXHJYL4A5Q7Q&quot;</td><td>1146713492000</td><td>&quot;This DVD was GREAT!&nbsp;&nbsp;I am a st…</td><td>&quot;B0002J58ME&quot;</td><td>5.0</td><td>&quot;10 Minute Solution: Pilates&quot;</td><td>4.6</td><td>8.77</td><td>1143</td><td>[&quot;dvd&quot;, &quot;great&quot;, … &quot;give&quot;]</td></tr><tr><td>&quot;AEFKF6R2GUSK2AWPSWRR4ZO36JVQ&quot;</td><td>1364088518000</td><td>&quot;I grew up with this one. could…</td><td>&quot;B001JNNDRY&quot;</td><td>5.0</td><td>&quot;Columbo: Mystery Movie Collect…</td><td>4.7</td><td>13.4</td><td>46</td><td>[&quot;grew&quot;, &quot;one&quot;, … &quot;collect&quot;]</td></tr><tr><td>&quot;AG35BKPUEUMX7LV5YLOQ5YCQ3GOA&quot;</td><td>1361833916000</td><td>&quot;Wife and daughter loved the st…</td><td>&quot;B006OAXL92&quot;</td><td>4.0</td><td>&quot;Hugo (Blu-ray 3D + Blu-ray + D…</td><td>4.7</td><td>49.94</td><td>6</td><td>[&quot;wife&quot;, &quot;daughter&quot;, … &quot;movi&quot;]</td></tr><tr><td>&quot;AHGAOIZVODNHYMNCBV4DECZH42UQ&quot;</td><td>1551222425031</td><td>&quot;she received hers yesterday i …</td><td>&quot;B00JHH1ZN8&quot;</td><td>5.0</td><td>&quot;Rodgers &amp; Hammerstein&#x27;s Cinder…</td><td>4.9</td><td>6.99</td><td>1322</td><td>[&quot;receiv&quot;, &quot;yesterday&quot;, … &quot;childhood&quot;]</td></tr><tr><td>&quot;AFZUK3MTBIBEDQOPAK3OATUOUKLA&quot;</td><td>1665686687505</td><td>&quot;Subjective movie review here..…</td><td>&quot;B0B6NHYWP9&quot;</td><td>3.0</td><td>&quot;Beast&quot;</td><td>4.1</td><td>14.99</td><td>37</td><td>[&quot;subject&quot;, &quot;movi&quot;, … &quot;opinion&quot;]</td></tr></tbody></table></div>"
      ],
      "text/plain": [
       "shape: (5, 10)\n",
       "┌────────────┬────────────┬────────────┬───────────┬───┬───────────┬───────┬───────────┬───────────┐\n",
       "│ user_id    ┆ timestamp  ┆ text       ┆ asin      ┆ … ┆ average_r ┆ price ┆ community ┆ tokens    │\n",
       "│ ---        ┆ ---        ┆ ---        ┆ ---       ┆   ┆ ating     ┆ ---   ┆ ---       ┆ ---       │\n",
       "│ str        ┆ i64        ┆ str        ┆ str       ┆   ┆ ---       ┆ f64   ┆ i64       ┆ list[str] │\n",
       "│            ┆            ┆            ┆           ┆   ┆ f64       ┆       ┆           ┆           │\n",
       "╞════════════╪════════════╪════════════╪═══════════╪═══╪═══════════╪═══════╪═══════════╪═══════════╡\n",
       "│ AGXVBIUFLF ┆ 1146713492 ┆ This DVD   ┆ B0002J58M ┆ … ┆ 4.6       ┆ 8.77  ┆ 1143      ┆ [\"dvd\",   │\n",
       "│ GMVLATYXHJ ┆ 000        ┆ was GREAT! ┆ E         ┆   ┆           ┆       ┆           ┆ \"great\",  │\n",
       "│ YL4A5Q7Q   ┆            ┆ I am a st… ┆           ┆   ┆           ┆       ┆           ┆ … \"give\"] │\n",
       "│ AEFKF6R2GU ┆ 1364088518 ┆ I grew up  ┆ B001JNNDR ┆ … ┆ 4.7       ┆ 13.4  ┆ 46        ┆ [\"grew\",  │\n",
       "│ SK2AWPSWRR ┆ 000        ┆ with this  ┆ Y         ┆   ┆           ┆       ┆           ┆ \"one\", …  │\n",
       "│ 4ZO36JVQ   ┆            ┆ one.       ┆           ┆   ┆           ┆       ┆           ┆ \"collect\" │\n",
       "│            ┆            ┆ could…     ┆           ┆   ┆           ┆       ┆           ┆ ]         │\n",
       "│ AG35BKPUEU ┆ 1361833916 ┆ Wife and   ┆ B006OAXL9 ┆ … ┆ 4.7       ┆ 49.94 ┆ 6         ┆ [\"wife\",  │\n",
       "│ MX7LV5YLOQ ┆ 000        ┆ daughter   ┆ 2         ┆   ┆           ┆       ┆           ┆ \"daughter │\n",
       "│ 5YCQ3GOA   ┆            ┆ loved the  ┆           ┆   ┆           ┆       ┆           ┆ \", …      │\n",
       "│            ┆            ┆ st…        ┆           ┆   ┆           ┆       ┆           ┆ \"movi\"]   │\n",
       "│ AHGAOIZVOD ┆ 1551222425 ┆ she        ┆ B00JHH1ZN ┆ … ┆ 4.9       ┆ 6.99  ┆ 1322      ┆ [\"receiv\" │\n",
       "│ NHYMNCBV4D ┆ 031        ┆ received   ┆ 8         ┆   ┆           ┆       ┆           ┆ , \"yester │\n",
       "│ ECZH42UQ   ┆            ┆ hers       ┆           ┆   ┆           ┆       ┆           ┆ day\", …   │\n",
       "│            ┆            ┆ yesterday  ┆           ┆   ┆           ┆       ┆           ┆ \"chi…     │\n",
       "│            ┆            ┆ i …        ┆           ┆   ┆           ┆       ┆           ┆           │\n",
       "│ AFZUK3MTBI ┆ 1665686687 ┆ Subjective ┆ B0B6NHYWP ┆ … ┆ 4.1       ┆ 14.99 ┆ 37        ┆ [\"subject │\n",
       "│ BEDQOPAK3O ┆ 505        ┆ movie      ┆ 9         ┆   ┆           ┆       ┆           ┆ \",        │\n",
       "│ ATUOUKLA   ┆            ┆ review     ┆           ┆   ┆           ┆       ┆           ┆ \"movi\", … │\n",
       "│            ┆            ┆ here..…    ┆           ┆   ┆           ┆       ┆           ┆ \"opinion… │\n",
       "└────────────┴────────────┴────────────┴───────────┴───┴───────────┴───────┴───────────┴───────────┘"
      ]
     },
     "execution_count": 180,
     "metadata": {},
     "output_type": "execute_result"
    }
   ],
   "source": [
    "filtered_df.limit(5)"
   ]
  },
  {
   "cell_type": "code",
   "execution_count": 189,
   "id": "d13536b1",
   "metadata": {},
   "outputs": [
    {
     "ename": "TypeError",
     "evalue": "'ExprListNameSpace' object is not callable",
     "output_type": "error",
     "traceback": [
      "\u001b[1;31m---------------------------------------------------------------------------\u001b[0m",
      "\u001b[1;31mTypeError\u001b[0m                                 Traceback (most recent call last)",
      "Cell \u001b[1;32mIn[189], line 6\u001b[0m\n\u001b[0;32m      1\u001b[0m \u001b[38;5;28;01mdef\u001b[39;00m \u001b[38;5;21mflatten\u001b[39m(x):\n\u001b[0;32m      2\u001b[0m     \u001b[38;5;28;01mreturn\u001b[39;00m [item \u001b[38;5;28;01mfor\u001b[39;00m sub \u001b[38;5;129;01min\u001b[39;00m x \u001b[38;5;28;01mfor\u001b[39;00m item \u001b[38;5;129;01min\u001b[39;00m sub]\n\u001b[0;32m      4\u001b[0m (\n\u001b[0;32m      5\u001b[0m     filtered_df\u001b[38;5;241m.\u001b[39mgroup_by(\u001b[38;5;124m'\u001b[39m\u001b[38;5;124mcommunity\u001b[39m\u001b[38;5;124m'\u001b[39m)\n\u001b[1;32m----> 6\u001b[0m     \u001b[38;5;241m.\u001b[39magg(\u001b[43mpl\u001b[49m\u001b[38;5;241;43m.\u001b[39;49m\u001b[43mcol\u001b[49m\u001b[43m(\u001b[49m\u001b[38;5;124;43m'\u001b[39;49m\u001b[38;5;124;43mtokens\u001b[39;49m\u001b[38;5;124;43m'\u001b[39;49m\u001b[43m)\u001b[49m\u001b[38;5;241;43m.\u001b[39;49m\u001b[43mlist\u001b[49m\u001b[43m(\u001b[49m\u001b[43m)\u001b[49m\u001b[38;5;241m.\u001b[39mapply(flatten)\u001b[38;5;241m.\u001b[39malias(\u001b[38;5;124m'\u001b[39m\u001b[38;5;124mcom_tokens\u001b[39m\u001b[38;5;124m'\u001b[39m))\n\u001b[0;32m      7\u001b[0m )\n\u001b[0;32m      9\u001b[0m \u001b[38;5;66;03m# .agg(pl.col(\"values\").list())\u001b[39;00m\n\u001b[0;32m     10\u001b[0m \u001b[38;5;66;03m#     .with_columns(\u001b[39;00m\n\u001b[0;32m     11\u001b[0m \u001b[38;5;66;03m#         pl.col(\"values\").apply(flatten)\u001b[39;00m\n\u001b[0;32m     12\u001b[0m \u001b[38;5;66;03m#     )\u001b[39;00m\n",
      "\u001b[1;31mTypeError\u001b[0m: 'ExprListNameSpace' object is not callable"
     ]
    }
   ],
   "source": [
    "def flatten(x):\n",
    "    return [item for sub in x for item in sub]\n",
    "\n",
    "(\n",
    "    filtered_df.group_by('community')\n",
    "    .agg(pl.col('tokens').list().apply(flatten).alias('com_tokens'))\n",
    ")\n",
    "\n",
    "# .agg(pl.col(\"values\").list())\n",
    "#     .with_columns(\n",
    "#         pl.col(\"values\").apply(flatten)\n",
    "#     )"
   ]
  }
 ],
 "metadata": {
  "kernelspec": {
   "display_name": "Python 3",
   "language": "python",
   "name": "python3"
  },
  "language_info": {
   "codemirror_mode": {
    "name": "ipython",
    "version": 3
   },
   "file_extension": ".py",
   "mimetype": "text/x-python",
   "name": "python",
   "nbconvert_exporter": "python",
   "pygments_lexer": "ipython3",
   "version": "3.12.7"
  }
 },
 "nbformat": 4,
 "nbformat_minor": 5
}
