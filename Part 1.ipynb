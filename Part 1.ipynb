{
 "cells": [
  {
   "cell_type": "code",
   "execution_count": 59,
   "id": "8c0720ba",
   "metadata": {},
   "outputs": [],
   "source": [
    "import polars as pl\n",
    "from itertools import combinations\n",
    "from collections import Counter, defaultdict\n",
    "import networkx as nx\n",
    "from tqdm import tqdm\n",
    "import numpy as np\n",
    "import matplotlib.pyplot as plt\n",
    "from community import community_louvain\n",
    "import seaborn as sns\n",
    "import json\n",
    "\n",
    "sns.set_style(\"darkgrid\")\n",
    "\n",
    "RAW_DATA_FILE = 'Movies_and_TV_5.json'\n",
    "NETWORK_FILE = \"movie_network.json\""
   ]
  },
  {
   "cell_type": "markdown",
   "id": "b40e90b8",
   "metadata": {},
   "source": [
    "[Get dataset here](https://nijianmo.github.io/amazon/index.html)"
   ]
  },
  {
   "cell_type": "code",
   "execution_count": 60,
   "id": "9771bb4a",
   "metadata": {},
   "outputs": [],
   "source": [
    "def save_graph(graph_file, G):\n",
    "    data = nx.readwrite.json_graph.node_link_data(G)\n",
    "    with open(graph_file, \"w\") as f:\n",
    "        json.dump(data, f)\n",
    "\n",
    "def load_graph(graph_file):\n",
    "    with open(graph_file, \"r\") as f:\n",
    "        data = json.load(f)\n",
    "    return nx.readwrite.json_graph.node_link_graph(data)"
   ]
  },
  {
   "cell_type": "markdown",
   "id": "1401dd6e",
   "metadata": {},
   "source": [
    "### Filtering"
   ]
  },
  {
   "cell_type": "code",
   "execution_count": 61,
   "id": "99535484",
   "metadata": {},
   "outputs": [],
   "source": [
    "df = pl.scan_ndjson('Movies_and_TV_5.json').filter(pl.col('verified') == True)\n",
    "existing = set(df.collect_schema().keys())\n",
    "drop_cols = {'reviewTime', 'image', 'vote', 'style', 'verified'}\n",
    "keep_cols = list(existing - drop_cols)\n",
    "df = df.select(keep_cols)"
   ]
  },
  {
   "cell_type": "code",
   "execution_count": 62,
   "id": "9741d965",
   "metadata": {},
   "outputs": [
    {
     "data": {
      "text/html": [
       "<div><style>\n",
       ".dataframe > thead > tr,\n",
       ".dataframe > tbody > tr {\n",
       "  text-align: right;\n",
       "  white-space: pre-wrap;\n",
       "}\n",
       "</style>\n",
       "<small>shape: (5, 7)</small><table border=\"1\" class=\"dataframe\"><thead><tr><th>unixReviewTime</th><th>reviewerName</th><th>reviewerID</th><th>asin</th><th>overall</th><th>reviewText</th><th>summary</th></tr><tr><td>i64</td><td>str</td><td>str</td><td>str</td><td>f64</td><td>str</td><td>str</td></tr></thead><tbody><tr><td>1352419200</td><td>&quot;Terri&quot;</td><td>&quot;A2M1CU2IRZG0K9&quot;</td><td>&quot;0005089549&quot;</td><td>5.0</td><td>&quot;So sorry I didn&#x27;t purchase thi…</td><td>&quot;Amazing!&quot;</td></tr><tr><td>1325203200</td><td>&quot;Melissa D. Abercrombie&quot;</td><td>&quot;AFTUJYISOFHY6&quot;</td><td>&quot;0005089549&quot;</td><td>5.0</td><td>&quot;Believe me when I tell you tha…</td><td>&quot;Great Gospel VHS of the Cathed…</td></tr><tr><td>1114041600</td><td>&quot;Anthony Thompson&quot;</td><td>&quot;A3JVF9Y53BEOGC&quot;</td><td>&quot;000503860X&quot;</td><td>5.0</td><td>&quot;I have seen X live many times,…</td><td>&quot;A great document of a great ba…</td></tr><tr><td>1112745600</td><td>&quot;JadeRain&quot;</td><td>&quot;A12VPEOEZS1KTC&quot;</td><td>&quot;000503860X&quot;</td><td>5.0</td><td>&quot;I was so excited for this!&nbsp;&nbsp;Fi…</td><td>&quot;YES!!&nbsp;&nbsp;X LIVE!!&quot;</td></tr><tr><td>1291334400</td><td>&quot;T. Fisher&quot;</td><td>&quot;ATLZNVLYKP9AZ&quot;</td><td>&quot;000503860X&quot;</td><td>5.0</td><td>&quot;X is one of the best punk band…</td><td>&quot;X have still got it&quot;</td></tr></tbody></table></div>"
      ],
      "text/plain": [
       "shape: (5, 7)\n",
       "┌───────────────┬──────────────┬──────────────┬────────────┬─────────┬──────────────┬──────────────┐\n",
       "│ unixReviewTim ┆ reviewerName ┆ reviewerID   ┆ asin       ┆ overall ┆ reviewText   ┆ summary      │\n",
       "│ e             ┆ ---          ┆ ---          ┆ ---        ┆ ---     ┆ ---          ┆ ---          │\n",
       "│ ---           ┆ str          ┆ str          ┆ str        ┆ f64     ┆ str          ┆ str          │\n",
       "│ i64           ┆              ┆              ┆            ┆         ┆              ┆              │\n",
       "╞═══════════════╪══════════════╪══════════════╪════════════╪═════════╪══════════════╪══════════════╡\n",
       "│ 1352419200    ┆ Terri        ┆ A2M1CU2IRZG0 ┆ 0005089549 ┆ 5.0     ┆ So sorry I   ┆ Amazing!     │\n",
       "│               ┆              ┆ K9           ┆            ┆         ┆ didn't       ┆              │\n",
       "│               ┆              ┆              ┆            ┆         ┆ purchase     ┆              │\n",
       "│               ┆              ┆              ┆            ┆         ┆ thi…         ┆              │\n",
       "│ 1325203200    ┆ Melissa D.   ┆ AFTUJYISOFHY ┆ 0005089549 ┆ 5.0     ┆ Believe me   ┆ Great Gospel │\n",
       "│               ┆ Abercrombie  ┆ 6            ┆            ┆         ┆ when I tell  ┆ VHS of the   │\n",
       "│               ┆              ┆              ┆            ┆         ┆ you tha…     ┆ Cathed…      │\n",
       "│ 1114041600    ┆ Anthony      ┆ A3JVF9Y53BEO ┆ 000503860X ┆ 5.0     ┆ I have seen  ┆ A great      │\n",
       "│               ┆ Thompson     ┆ GC           ┆            ┆         ┆ X live many  ┆ document of  │\n",
       "│               ┆              ┆              ┆            ┆         ┆ times,…      ┆ a great ba…  │\n",
       "│ 1112745600    ┆ JadeRain     ┆ A12VPEOEZS1K ┆ 000503860X ┆ 5.0     ┆ I was so     ┆ YES!!  X     │\n",
       "│               ┆              ┆ TC           ┆            ┆         ┆ excited for  ┆ LIVE!!       │\n",
       "│               ┆              ┆              ┆            ┆         ┆ this!  Fi…   ┆              │\n",
       "│ 1291334400    ┆ T. Fisher    ┆ ATLZNVLYKP9A ┆ 000503860X ┆ 5.0     ┆ X is one of  ┆ X have still │\n",
       "│               ┆              ┆ Z            ┆            ┆         ┆ the best     ┆ got it       │\n",
       "│               ┆              ┆              ┆            ┆         ┆ punk band…   ┆              │\n",
       "└───────────────┴──────────────┴──────────────┴────────────┴─────────┴──────────────┴──────────────┘"
      ]
     },
     "execution_count": 62,
     "metadata": {},
     "output_type": "execute_result"
    }
   ],
   "source": [
    "df.limit(5).collect()"
   ]
  },
  {
   "cell_type": "markdown",
   "id": "cb37cdf2",
   "metadata": {},
   "source": [
    "### Network"
   ]
  },
  {
   "cell_type": "code",
   "execution_count": 63,
   "id": "dc053c1a",
   "metadata": {},
   "outputs": [],
   "source": [
    "def filter_reviews(df, movie_threshold=10, review_threshold=10):\n",
    "    df = df.collect()\n",
    "    prev_rows = -1\n",
    "    while df.height != prev_rows:\n",
    "        prev_rows = df.height\n",
    "        valid_movies = (\n",
    "            df.group_by('asin')\n",
    "            .agg(pl.col('reviewerID').n_unique().alias('count'))\n",
    "            .filter(pl.col('count') >= review_threshold)\n",
    "            .get_column('asin')\n",
    "        )\n",
    "        df = df.filter(pl.col('asin').is_in(valid_movies.implode()))\n",
    "\n",
    "        valid_reviewers = (\n",
    "            df.group_by('reviewerID')\n",
    "            .agg(pl.col('asin').n_unique().alias('count'))\n",
    "            .filter(pl.col('count') >= movie_threshold)\n",
    "            .get_column('reviewerID')\n",
    "        )\n",
    "        df = df.filter(pl.col('reviewerID').is_in(valid_reviewers.implode()))\n",
    "    return df\n",
    "\n",
    "filtered_df = filter_reviews(df)"
   ]
  },
  {
   "cell_type": "code",
   "execution_count": 64,
   "id": "83e575eb",
   "metadata": {},
   "outputs": [
    {
     "data": {
      "text/plain": [
       "4"
      ]
     },
     "execution_count": 64,
     "metadata": {},
     "output_type": "execute_result"
    }
   ],
   "source": [
    "reviewer_counts = (\n",
    "    df.group_by('reviewerID')\n",
    "    .agg(pl.col('asin').n_unique().alias('count'))\n",
    "    .filter(pl.col('count') > 500).collect()\n",
    ")\n",
    "reviewer_counts_count = reviewer_counts.height\n",
    "reviewer_counts_count"
   ]
  },
  {
   "cell_type": "code",
   "execution_count": 65,
   "id": "9bcb41d5",
   "metadata": {},
   "outputs": [
    {
     "data": {
      "text/plain": [
       "20244"
      ]
     },
     "execution_count": 65,
     "metadata": {},
     "output_type": "execute_result"
    }
   ],
   "source": [
    "filtered_df.get_column(\"asin\").n_unique()"
   ]
  },
  {
   "cell_type": "code",
   "execution_count": 66,
   "id": "0ecfcbd6",
   "metadata": {},
   "outputs": [],
   "source": [
    "def generate_edge_list():\n",
    "    grouped = (\n",
    "        filtered_df\n",
    "        .group_by('reviewerID')\n",
    "        .agg(pl.col('asin').unique().alias('asins'))\n",
    "    )\n",
    "\n",
    "    edges = Counter()\n",
    "\n",
    "    for reviewers in tqdm(grouped['asins'], desc=\"Reviewer\"):\n",
    "        for pair in combinations(reviewers, 2):\n",
    "            edges[tuple(sorted(pair))] += 1\n",
    "\n",
    "    return [(a, b, count) for (a, b), count in edges.items()]"
   ]
  },
  {
   "cell_type": "code",
   "execution_count": 67,
   "id": "554a078d",
   "metadata": {},
   "outputs": [
    {
     "name": "stderr",
     "output_type": "stream",
     "text": [
      "Reviewer: 100%|██████████| 53141/53141 [00:16<00:00, 3136.55it/s]\n"
     ]
    },
    {
     "data": {
      "text/plain": [
       "11720242"
      ]
     },
     "execution_count": 67,
     "metadata": {},
     "output_type": "execute_result"
    }
   ],
   "source": [
    "movie_edgelist = generate_edge_list()\n",
    "len(movie_edgelist)"
   ]
  },
  {
   "cell_type": "code",
   "execution_count": 68,
   "id": "34f1ca0e",
   "metadata": {},
   "outputs": [
    {
     "name": "stdout",
     "output_type": "stream",
     "text": [
      "Edges with weight > 4: 292225\n",
      "Edges with weight > 5: 205561\n",
      "Edges with weight > 7: 120047\n",
      "Edges with weight > 10: 67414\n",
      "Edges with weight > 15: 34327\n"
     ]
    }
   ],
   "source": [
    "thresholds = [4,5,7,10,15]\n",
    "for t in thresholds:\n",
    "    weighted_edges = [(a, b, w) for (a, b, w) in movie_edgelist if w > t]\n",
    "    print(f\"Edges with weight > {t}: {len(weighted_edges)}\")"
   ]
  },
  {
   "cell_type": "markdown",
   "id": "78856904",
   "metadata": {},
   "source": [
    "### Graph"
   ]
  },
  {
   "cell_type": "code",
   "execution_count": 69,
   "id": "ca36f07d",
   "metadata": {},
   "outputs": [
    {
     "data": {
      "text/plain": [
       "292225"
      ]
     },
     "execution_count": 69,
     "metadata": {},
     "output_type": "execute_result"
    }
   ],
   "source": [
    "WEIGHT_THRESHOLD = 5\n",
    "weighted_movie_edge = [(a, b, w) for (a, b, w) in movie_edgelist if w >= WEIGHT_THRESHOLD]\n",
    "len(weighted_movie_edge)"
   ]
  },
  {
   "cell_type": "code",
   "execution_count": 70,
   "id": "7690ceb7",
   "metadata": {},
   "outputs": [],
   "source": [
    "G = nx.Graph()\n",
    "G.add_weighted_edges_from(weighted_movie_edge)\n",
    "save_graph(NETWORK_FILE, G)"
   ]
  },
  {
   "cell_type": "code",
   "execution_count": 71,
   "id": "2d3870a5",
   "metadata": {},
   "outputs": [
    {
     "data": {
      "text/plain": [
       "(12450, 292225)"
      ]
     },
     "execution_count": 71,
     "metadata": {},
     "output_type": "execute_result"
    }
   ],
   "source": [
    "len(G.nodes()), len(G.edges())"
   ]
  },
  {
   "cell_type": "code",
   "execution_count": 72,
   "id": "b8d73d0e",
   "metadata": {},
   "outputs": [
    {
     "data": {
      "text/plain": [
       "(12049, 284564)"
      ]
     },
     "execution_count": 72,
     "metadata": {},
     "output_type": "execute_result"
    }
   ],
   "source": [
    "(12049, 284564)"
   ]
  },
  {
   "cell_type": "code",
   "execution_count": 73,
   "id": "753968ae",
   "metadata": {},
   "outputs": [
    {
     "data": {
      "text/plain": [
       "46.94377510040161"
      ]
     },
     "execution_count": 73,
     "metadata": {},
     "output_type": "execute_result"
    }
   ],
   "source": [
    "degrees = [d for _, d in G.degree()]\n",
    "\n",
    "np.mean(degrees)"
   ]
  },
  {
   "cell_type": "code",
   "execution_count": 74,
   "id": "90664973",
   "metadata": {},
   "outputs": [
    {
     "data": {
      "image/png": "[encoded data removed]",
      "text/plain": [
       "<Figure size 640x480 with 1 Axes>"
      ]
     },
     "metadata": {},
     "output_type": "display_data"
    }
   ],
   "source": [
    "X = list(dict(G.degree).values())\n",
    "plt.yscale(\"log\")\n",
    "plt.title(\"Distribution Of Degree For Movie Network\")\n",
    "plt.xlabel(\"Degree\")\n",
    "plt.ylabel(\"Log Count\")\n",
    "plt.hist(X, 40, alpha=0.75);"
   ]
  },
  {
   "cell_type": "markdown",
   "metadata": {},
   "source": [
    "### Community detection"
   ]
  },
  {
   "cell_type": "code",
   "execution_count": 75,
   "id": "f9c70eb8",
   "metadata": {},
   "outputs": [],
   "source": [
    "\n",
    "def community_modularity(G, c, L):\n",
    "    s = G.subgraph(c)\n",
    "    L_c = s.number_of_edges()\n",
    "    k_c = sum(dict(s.degree()).values())\n",
    "    M_c = L_c / L - (k_c / (2 * L)) ** 2\n",
    "    return M_c\n",
    "\n",
    "def modularity(G, partitions):\n",
    "    L = G.number_of_edges()\n",
    "    return sum((community_modularity(G, c, L) for c in partitions))"
   ]
  },
  {
   "cell_type": "code",
   "execution_count": 76,
   "metadata": {},
   "outputs": [],
   "source": [
    "def louvain_partitions(G):\n",
    "    partition = community_louvain.best_partition(G)\n",
    "    groups = defaultdict(set)\n",
    "    for node, comm in partition.items():\n",
    "        groups[comm].add(node)\n",
    "    return list(groups.values())"
   ]
  },
  {
   "cell_type": "code",
   "execution_count": 77,
   "metadata": {},
   "outputs": [
    {
     "data": {
      "text/plain": [
       "744"
      ]
     },
     "execution_count": 77,
     "metadata": {},
     "output_type": "execute_result"
    }
   ],
   "source": [
    "communities = louvain_partitions(G)\n",
    "len(communities)"
   ]
  },
  {
   "cell_type": "code",
   "execution_count": 78,
   "id": "9ccbeccb",
   "metadata": {},
   "outputs": [
    {
     "data": {
      "text/plain": [
       "0.45181136109263315"
      ]
     },
     "execution_count": 78,
     "metadata": {},
     "output_type": "execute_result"
    }
   ],
   "source": [
    "modularity(G, communities) "
   ]
  }
 ],
 "metadata": {
  "kernelspec": {
   "display_name": "Python 3",
   "language": "python",
   "name": "python3"
  },
  "language_info": {
   "codemirror_mode": {
    "name": "ipython",
    "version": 3
   },
   "file_extension": ".py",
   "mimetype": "text/x-python",
   "name": "python",
   "nbconvert_exporter": "python",
   "pygments_lexer": "ipython3",
   "version": "3.12.3"
  }
 },
 "nbformat": 4,
 "nbformat_minor": 5
}
