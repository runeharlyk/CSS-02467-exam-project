{
 "cells": [
  {
   "cell_type": "code",
   "execution_count": 2,
   "id": "8c0720ba",
   "metadata": {},
   "outputs": [
    {
     "name": "stderr",
     "output_type": "stream",
     "text": [
      "c:\\Users\\aneas\\anaconda3\\Lib\\site-packages\\pandas\\core\\arrays\\masked.py:60: UserWarning: Pandas requires version '1.3.6' or newer of 'bottleneck' (version '1.3.5' currently installed).\n",
      "  from pandas.core import (\n"
     ]
    }
   ],
   "source": [
    "import pandas as pd\n",
    "from itertools import combinations\n",
    "from collections import Counter\n",
    "import networkx as nx\n",
    "import json\n",
    "from tqdm import tqdm"
   ]
  },
  {
   "cell_type": "markdown",
   "id": "b40e90b8",
   "metadata": {},
   "source": [
    "[Get dataset here](https://nijianmo.github.io/amazon/index.html)"
   ]
  },
  {
   "cell_type": "markdown",
   "id": "1401dd6e",
   "metadata": {},
   "source": [
    "### Filtering"
   ]
  },
  {
   "cell_type": "code",
   "execution_count": null,
   "id": "99535484",
   "metadata": {},
   "outputs": [],
   "source": [
    "df = pd.read_json('Movies_and_TV_5.json', lines = True)\n",
    "df = df.loc[df['verified']]\n",
    "df.drop(['reviewTime', 'image', 'vote', 'style', 'verified'], inplace=True, axis=1)\n"
   ]
  },
  {
   "cell_type": "code",
   "execution_count": 3,
   "id": "9741d965",
   "metadata": {},
   "outputs": [],
   "source": [
    "# df.head()"
   ]
  },
  {
   "cell_type": "code",
   "execution_count": 11,
   "id": "0d578e7d",
   "metadata": {},
   "outputs": [],
   "source": [
    "df.to_csv(\"tv.csv\")"
   ]
  },
  {
   "cell_type": "markdown",
   "id": "cb37cdf2",
   "metadata": {},
   "source": [
    "### Network"
   ]
  },
  {
   "cell_type": "code",
   "execution_count": 4,
   "metadata": {},
   "outputs": [],
   "source": [
    "df = pd.read_csv('tv.csv')\n",
    "df.drop(['Unnamed: 0'], inplace=True, axis=1)"
   ]
  },
  {
   "cell_type": "code",
   "execution_count": null,
   "metadata": {},
   "outputs": [],
   "source": [
    "# grouped = df.groupby('asin')['reviewerID'].unique()\n",
    "# for movie_id, reviewers in grouped.items():\n",
    "#     if len(set(reviewers)) < 5:\n",
    "#         print(f\"Movie {movie_id} has only {len(set(reviewers))} unique reviewers.\")\n",
    "#         break"
   ]
  },
  {
   "cell_type": "code",
   "execution_count": 5,
   "metadata": {},
   "outputs": [],
   "source": [
    "def filter_reviews(df):\n",
    "    prev_shape = (0, 0)\n",
    "    current_shape = df.shape\n",
    "\n",
    "    while current_shape != prev_shape:\n",
    "        prev_shape = current_shape\n",
    "\n",
    "        # Filter movies with at least 5 unique reviewers\n",
    "        movie_counts = df.groupby('asin')['reviewerID'].nunique()\n",
    "        valid_movies = movie_counts[movie_counts >= 10].index\n",
    "        df = df[df['asin'].isin(valid_movies)]\n",
    "\n",
    "        # Filter reviewers who reviewed at least 5 unique movies\n",
    "        reviewer_counts = df.groupby('reviewerID')['asin'].nunique()\n",
    "        valid_reviewers = reviewer_counts[reviewer_counts >= 10].index\n",
    "        df = df[df['reviewerID'].isin(valid_reviewers)]\n",
    "\n",
    "        current_shape = df.shape\n",
    "\n",
    "    return df\n",
    "\n",
    "filtered_df = filter_reviews(df)"
   ]
  },
  {
   "cell_type": "code",
   "execution_count": 6,
   "id": "83e575eb",
   "metadata": {},
   "outputs": [
    {
     "data": {
      "text/plain": [
       "3"
      ]
     },
     "execution_count": 6,
     "metadata": {},
     "output_type": "execute_result"
    }
   ],
   "source": [
    "reviewer_counts = filtered_df.groupby('reviewerID')['asin'].nunique()\n",
    "len(reviewer_counts[reviewer_counts > 500])"
   ]
  },
  {
   "cell_type": "code",
   "execution_count": 7,
   "id": "b91cd6cb",
   "metadata": {},
   "outputs": [
    {
     "data": {
      "text/plain": [
       "20244"
      ]
     },
     "execution_count": 7,
     "metadata": {},
     "output_type": "execute_result"
    }
   ],
   "source": [
    "grouped = filtered_df.groupby('asin')['reviewerID'].unique()\n",
    "len(grouped)"
   ]
  },
  {
   "cell_type": "code",
   "execution_count": 8,
   "id": "5765827e",
   "metadata": {},
   "outputs": [
    {
     "data": {
      "text/plain": [
       "0"
      ]
     },
     "execution_count": 8,
     "metadata": {},
     "output_type": "execute_result"
    }
   ],
   "source": [
    "sum(len(set(reviewers)) < 5 for reviewers in grouped.values)"
   ]
  },
  {
   "cell_type": "code",
   "execution_count": 9,
   "id": "7cda13f0",
   "metadata": {},
   "outputs": [
    {
     "name": "stderr",
     "output_type": "stream",
     "text": [
      "Movies: 100%|██████████| 20244/20244 [01:38<00:00, 206.30it/s]\n"
     ]
    }
   ],
   "source": [
    "edges = Counter()\n",
    "for reviewers in tqdm(grouped.values, desc=\"Movies\"):\n",
    "    for pair in combinations(reviewers, 2):\n",
    "        edges[pair] += 1"
   ]
  },
  {
   "cell_type": "code",
   "execution_count": 10,
   "id": "554a078d",
   "metadata": {},
   "outputs": [
    {
     "data": {
      "text/plain": [
       "96589998"
      ]
     },
     "execution_count": 10,
     "metadata": {},
     "output_type": "execute_result"
    }
   ],
   "source": [
    "edgelist = [(a, b, count) for (a, b), count in edges.items()]\n",
    "len(edgelist)"
   ]
  },
  {
   "cell_type": "code",
   "execution_count": 11,
   "id": "34f1ca0e",
   "metadata": {},
   "outputs": [
    {
     "name": "stdout",
     "output_type": "stream",
     "text": [
      "Edges with weight > 5: 262524\n",
      "Edges with weight > 10: 15907\n",
      "Edges with weight > 20: 649\n",
      "Edges with weight > 50: 1\n",
      "Edges with weight > 100: 0\n"
     ]
    }
   ],
   "source": [
    "thresholds = [5, 10, 20, 50, 100]\n",
    "for t in thresholds:\n",
    "    filtered = [(a, b, w) for (a, b, w) in edgelist if w > t]\n",
    "    print(f\"Edges with weight > {t}: {len(filtered)}\")"
   ]
  },
  {
   "cell_type": "code",
   "execution_count": 12,
   "id": "67864912",
   "metadata": {},
   "outputs": [],
   "source": [
    "# df_edges = pd.DataFrame(\n",
    "#     [(u, v, w) for (u, v), w in edges.items()],\n",
    "#     columns=['reviewer1', 'reviewer2', 'weight']\n",
    "# )\n",
    "# df_edges.to_csv('edges.csv', index=False)"
   ]
  },
  {
   "cell_type": "markdown",
   "metadata": {},
   "source": [
    "### Saving graph"
   ]
  },
  {
   "cell_type": "code",
   "execution_count": 13,
   "id": "506a43bc",
   "metadata": {},
   "outputs": [],
   "source": [
    "def save_graph(graph_file, G):\n",
    "    data = nx.readwrite.json_graph.node_link_data(G)\n",
    "    with open(graph_file, \"w\") as f:\n",
    "        json.dump(data, f)\n",
    "\n",
    "def load_graph(graph_file):\n",
    "    with open(graph_file, \"r\") as f:\n",
    "        data = json.load(f)\n",
    "    return nx.readwrite.json_graph.node_link_graph(data)"
   ]
  }
 ],
 "metadata": {
  "kernelspec": {
   "display_name": "base",
   "language": "python",
   "name": "python3"
  },
  "language_info": {
   "codemirror_mode": {
    "name": "ipython",
    "version": 3
   },
   "file_extension": ".py",
   "mimetype": "text/x-python",
   "name": "python",
   "nbconvert_exporter": "python",
   "pygments_lexer": "ipython3",
   "version": "3.11.5"
  }
 },
 "nbformat": 4,
 "nbformat_minor": 5
}
