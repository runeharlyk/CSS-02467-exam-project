{
 "cells": [
  {
   "cell_type": "code",
   "execution_count": 56,
   "id": "8c0720ba",
   "metadata": {},
   "outputs": [],
   "source": [
    "import pandas as pd\n",
    "from itertools import combinations\n",
    "from collections import Counter, defaultdict\n",
    "import networkx as nx\n",
    "import json\n",
    "from tqdm import tqdm\n",
    "from community import community_louvain\n",
    "import numpy as np\n",
    "import matplotlib.pyplot as plt"
   ]
  },
  {
   "cell_type": "markdown",
   "id": "b40e90b8",
   "metadata": {},
   "source": [
    "[Get dataset here](https://nijianmo.github.io/amazon/index.html)"
   ]
  },
  {
   "cell_type": "markdown",
   "id": "1401dd6e",
   "metadata": {},
   "source": [
    "### Filtering"
   ]
  },
  {
   "cell_type": "code",
   "execution_count": null,
   "id": "99535484",
   "metadata": {},
   "outputs": [],
   "source": [
    "df = pd.read_json('Movies_and_TV_5.json', lines = True)\n",
    "df = df.loc[df['verified']]\n",
    "df.drop(['reviewTime', 'image', 'vote', 'style', 'verified'], inplace=True, axis=1)\n"
   ]
  },
  {
   "cell_type": "code",
   "execution_count": null,
   "id": "9741d965",
   "metadata": {},
   "outputs": [],
   "source": [
    "df.head()"
   ]
  },
  {
   "cell_type": "code",
   "execution_count": 11,
   "id": "0d578e7d",
   "metadata": {},
   "outputs": [],
   "source": [
    "df.to_csv(\"tv.csv\")"
   ]
  },
  {
   "cell_type": "markdown",
   "id": "cb37cdf2",
   "metadata": {},
   "source": [
    "### Network"
   ]
  },
  {
   "cell_type": "code",
   "execution_count": 2,
   "metadata": {},
   "outputs": [],
   "source": [
    "df = pd.read_csv('tv.csv')\n",
    "df.drop(['Unnamed: 0'], inplace=True, axis=1)"
   ]
  },
  {
   "cell_type": "code",
   "execution_count": 3,
   "metadata": {},
   "outputs": [],
   "source": [
    "# grouped = df.groupby('asin')['reviewerID'].unique()\n",
    "# for movie_id, reviewers in grouped.items():\n",
    "#     if len(set(reviewers)) < 5:\n",
    "#         print(f\"Movie {movie_id} has only {len(set(reviewers))} unique reviewers.\")\n",
    "#         break"
   ]
  },
  {
   "cell_type": "code",
   "execution_count": null,
   "metadata": {},
   "outputs": [],
   "source": [
    "def filter_reviews(df, threshold=10):\n",
    "    prev_shape = (0, 0)\n",
    "    current_shape = df.shape\n",
    "\n",
    "    while current_shape != prev_shape:\n",
    "        prev_shape = current_shape\n",
    "\n",
    "        movie_counts = df.groupby('asin')['reviewerID'].nunique()\n",
    "        valid_movies = movie_counts[movie_counts >= threshold].index\n",
    "        df = df[df['asin'].isin(valid_movies)]\n",
    "\n",
    "        reviewer_counts = df.groupby('reviewerID')['asin'].nunique()\n",
    "        valid_reviewers = reviewer_counts[reviewer_counts >= threshold].index\n",
    "        df = df[df['reviewerID'].isin(valid_reviewers)]\n",
    "\n",
    "        current_shape = df.shape\n",
    "\n",
    "    return df\n",
    "\n",
    "filtered_df = filter_reviews(df)"
   ]
  },
  {
   "cell_type": "code",
   "execution_count": 5,
   "id": "83e575eb",
   "metadata": {},
   "outputs": [
    {
     "data": {
      "text/plain": [
       "3"
      ]
     },
     "execution_count": 5,
     "metadata": {},
     "output_type": "execute_result"
    }
   ],
   "source": [
    "reviewer_counts = filtered_df.groupby('reviewerID')['asin'].nunique()\n",
    "len(reviewer_counts[reviewer_counts > 500])"
   ]
  },
  {
   "cell_type": "code",
   "execution_count": 6,
   "id": "b91cd6cb",
   "metadata": {},
   "outputs": [
    {
     "data": {
      "text/plain": [
       "20244"
      ]
     },
     "execution_count": 6,
     "metadata": {},
     "output_type": "execute_result"
    }
   ],
   "source": [
    "grouped = filtered_df.groupby('asin')['reviewerID'].unique()\n",
    "len(grouped)"
   ]
  },
  {
   "cell_type": "code",
   "execution_count": 7,
   "id": "5765827e",
   "metadata": {},
   "outputs": [
    {
     "data": {
      "text/plain": [
       "0"
      ]
     },
     "execution_count": 7,
     "metadata": {},
     "output_type": "execute_result"
    }
   ],
   "source": [
    "sum(len(set(reviewers)) < 5 for reviewers in grouped.values)"
   ]
  },
  {
   "cell_type": "code",
   "execution_count": 8,
   "id": "7cda13f0",
   "metadata": {},
   "outputs": [
    {
     "name": "stderr",
     "output_type": "stream",
     "text": [
      "Movies: 100%|██████████| 20244/20244 [01:43<00:00, 195.54it/s]\n"
     ]
    }
   ],
   "source": [
    "edges = Counter()\n",
    "for reviewers in tqdm(grouped.values, desc=\"Movies\"):\n",
    "    for pair in combinations(reviewers, 2):\n",
    "        edges[pair] += 1"
   ]
  },
  {
   "cell_type": "code",
   "execution_count": 9,
   "id": "554a078d",
   "metadata": {},
   "outputs": [
    {
     "data": {
      "text/plain": [
       "96589998"
      ]
     },
     "execution_count": 9,
     "metadata": {},
     "output_type": "execute_result"
    }
   ],
   "source": [
    "edgelist = [(a, b, count) for (a, b), count in edges.items()]\n",
    "len(edgelist)"
   ]
  },
  {
   "cell_type": "code",
   "execution_count": 10,
   "id": "34f1ca0e",
   "metadata": {},
   "outputs": [
    {
     "name": "stdout",
     "output_type": "stream",
     "text": [
      "Edges with weight > 4: 624551\n",
      "Edges with weight > 5: 262524\n",
      "Edges with weight > 7: 69450\n",
      "Edges with weight > 10: 15907\n",
      "Edges with weight > 15: 2618\n"
     ]
    }
   ],
   "source": [
    "thresholds = [4,5,7,10,15]\n",
    "for t in thresholds:\n",
    "    weighted_edges = [(a, b, w) for (a, b, w) in edgelist if w > t]\n",
    "    print(f\"Edges with weight > {t}: {len(weighted_edges)}\")"
   ]
  },
  {
   "cell_type": "markdown",
   "id": "78856904",
   "metadata": {},
   "source": [
    "### Graph"
   ]
  },
  {
   "cell_type": "code",
   "execution_count": 15,
   "id": "ca36f07d",
   "metadata": {},
   "outputs": [
    {
     "data": {
      "text/plain": [
       "262524"
      ]
     },
     "execution_count": 15,
     "metadata": {},
     "output_type": "execute_result"
    }
   ],
   "source": [
    "weighted_edges = [(a, b, w) for (a, b, w) in edgelist if w > 5]\n",
    "len(weighted_edges)"
   ]
  },
  {
   "cell_type": "code",
   "execution_count": 16,
   "id": "7690ceb7",
   "metadata": {},
   "outputs": [],
   "source": [
    "G = nx.Graph()\n",
    "G.add_weighted_edges_from(weighted_edges)"
   ]
  },
  {
   "cell_type": "code",
   "execution_count": null,
   "id": "2d3870a5",
   "metadata": {},
   "outputs": [],
   "source": [
    "len(G.nodes()), len(G.edges())"
   ]
  },
  {
   "cell_type": "code",
   "execution_count": null,
   "metadata": {},
   "outputs": [
    {
     "data": {
      "text/plain": [
       "[190, 4, 396, 85, 30]"
      ]
     },
     "execution_count": 57,
     "metadata": {},
     "output_type": "execute_result"
    }
   ],
   "source": [
    "degrees = [d for _, d in G.degree()]"
   ]
  },
  {
   "cell_type": "code",
   "execution_count": 89,
   "id": "90664973",
   "metadata": {},
   "outputs": [
    {
     "data": {
      "image/png": "[encoded data removed]",
      "text/plain": [
       "<Figure size 640x480 with 1 Axes>"
      ]
     },
     "metadata": {},
     "output_type": "display_data"
    }
   ],
   "source": [
    "plt.hist(degrees, bins=50, color='blue', alpha=0.8)\n",
    "plt.xlabel('Degree')\n",
    "plt.ylabel('Frequency')\n",
    "plt.title('Degree Distribution of the Graph')\n",
    "plt.show()"
   ]
  },
  {
   "cell_type": "markdown",
   "metadata": {},
   "source": [
    "### Community detection"
   ]
  },
  {
   "cell_type": "code",
   "execution_count": null,
   "metadata": {},
   "outputs": [],
   "source": [
    "def louvain_partitions(G):\n",
    "    partition = community_louvain.best_partition(G)\n",
    "    groups = defaultdict(set)\n",
    "    for node, comm in partition.items():\n",
    "        groups[comm].add(node)\n",
    "    return list(groups.values())"
   ]
  },
  {
   "cell_type": "code",
   "execution_count": null,
   "metadata": {},
   "outputs": [],
   "source": [
    "communities = louvain_partitions(G)\n",
    "len(communities)"
   ]
  }
 ],
 "metadata": {
  "kernelspec": {
   "display_name": "base",
   "language": "python",
   "name": "python3"
  },
  "language_info": {
   "codemirror_mode": {
    "name": "ipython",
    "version": 3
   },
   "file_extension": ".py",
   "mimetype": "text/x-python",
   "name": "python",
   "nbconvert_exporter": "python",
   "pygments_lexer": "ipython3",
   "version": "3.11.5"
  }
 },
 "nbformat": 4,
 "nbformat_minor": 5
}
