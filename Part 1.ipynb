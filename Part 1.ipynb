{
 "cells": [
  {
   "cell_type": "code",
   "execution_count": 78,
   "id": "8c0720ba",
   "metadata": {},
   "outputs": [],
   "source": [
    "import pandas as pd\n",
    "from itertools import combinations\n",
    "from collections import Counter, defaultdict\n",
    "import networkx as nx\n",
    "from tqdm import tqdm\n",
    "import numpy as np\n",
    "import matplotlib.pyplot as plt\n",
    "from community import community_louvain\n",
    "import seaborn as sns\n",
    "import json\n",
    "\n",
    "sns.set_style(\"darkgrid\")\n",
    "\n",
    "FILTER_RAW_DATASET = False\n",
    "GENERATE_NETWORK = False\n",
    "\n",
    "NETWORK_FILE = \"movie_network.json\""
   ]
  },
  {
   "cell_type": "markdown",
   "id": "b40e90b8",
   "metadata": {},
   "source": [
    "[Get dataset here](https://nijianmo.github.io/amazon/index.html)"
   ]
  },
  {
   "cell_type": "code",
   "execution_count": 76,
   "id": "9771bb4a",
   "metadata": {},
   "outputs": [],
   "source": [
    "def save_graph(graph_file, G):\n",
    "    data = nx.readwrite.json_graph.node_link_data(G)\n",
    "    with open(graph_file, \"w\") as f:\n",
    "        json.dump(data, f)\n",
    "\n",
    "def load_graph(graph_file):\n",
    "    with open(graph_file, \"r\") as f:\n",
    "        data = json.load(f)\n",
    "    return nx.readwrite.json_graph.node_link_graph(data)"
   ]
  },
  {
   "cell_type": "markdown",
   "id": "1401dd6e",
   "metadata": {},
   "source": [
    "### Filtering"
   ]
  },
  {
   "cell_type": "code",
   "execution_count": 22,
   "id": "99535484",
   "metadata": {},
   "outputs": [],
   "source": [
    "def load_and_filter_raw_dataset(raw_file, filtered_file):\n",
    "    df = pd.read_json(raw_file, lines=True)\n",
    "    df = df.loc[df['verified']]\n",
    "    df.drop(['reviewTime', 'image', 'vote', 'style', 'verified'], inplace=True, axis=1)\n",
    "    df.to_csv(filtered_file, index=False)\n",
    "    return df"
   ]
  },
  {
   "cell_type": "code",
   "execution_count": 23,
   "id": "9741d965",
   "metadata": {},
   "outputs": [
    {
     "data": {
      "text/html": [
       "<div>\n",
       "<style scoped>\n",
       "    .dataframe tbody tr th:only-of-type {\n",
       "        vertical-align: middle;\n",
       "    }\n",
       "\n",
       "    .dataframe tbody tr th {\n",
       "        vertical-align: top;\n",
       "    }\n",
       "\n",
       "    .dataframe thead th {\n",
       "        text-align: right;\n",
       "    }\n",
       "</style>\n",
       "<table border=\"1\" class=\"dataframe\">\n",
       "  <thead>\n",
       "    <tr style=\"text-align: right;\">\n",
       "      <th></th>\n",
       "      <th>overall</th>\n",
       "      <th>reviewerID</th>\n",
       "      <th>asin</th>\n",
       "      <th>reviewerName</th>\n",
       "      <th>reviewText</th>\n",
       "      <th>summary</th>\n",
       "      <th>unixReviewTime</th>\n",
       "    </tr>\n",
       "  </thead>\n",
       "  <tbody>\n",
       "    <tr>\n",
       "      <th>0</th>\n",
       "      <td>5</td>\n",
       "      <td>A2M1CU2IRZG0K9</td>\n",
       "      <td>0005089549</td>\n",
       "      <td>Terri</td>\n",
       "      <td>So sorry I didn't purchase this years ago when...</td>\n",
       "      <td>Amazing!</td>\n",
       "      <td>1352419200</td>\n",
       "    </tr>\n",
       "    <tr>\n",
       "      <th>1</th>\n",
       "      <td>5</td>\n",
       "      <td>AFTUJYISOFHY6</td>\n",
       "      <td>0005089549</td>\n",
       "      <td>Melissa D. Abercrombie</td>\n",
       "      <td>Believe me when I tell you that you will recei...</td>\n",
       "      <td>Great Gospel VHS of the Cathedrals!</td>\n",
       "      <td>1325203200</td>\n",
       "    </tr>\n",
       "    <tr>\n",
       "      <th>2</th>\n",
       "      <td>5</td>\n",
       "      <td>A3JVF9Y53BEOGC</td>\n",
       "      <td>000503860X</td>\n",
       "      <td>Anthony Thompson</td>\n",
       "      <td>I have seen X live many times, both in the ear...</td>\n",
       "      <td>A great document of a great band</td>\n",
       "      <td>1114041600</td>\n",
       "    </tr>\n",
       "    <tr>\n",
       "      <th>3</th>\n",
       "      <td>5</td>\n",
       "      <td>A12VPEOEZS1KTC</td>\n",
       "      <td>000503860X</td>\n",
       "      <td>JadeRain</td>\n",
       "      <td>I was so excited for this!  Finally, a live co...</td>\n",
       "      <td>YES!!  X LIVE!!</td>\n",
       "      <td>1112745600</td>\n",
       "    </tr>\n",
       "    <tr>\n",
       "      <th>4</th>\n",
       "      <td>5</td>\n",
       "      <td>ATLZNVLYKP9AZ</td>\n",
       "      <td>000503860X</td>\n",
       "      <td>T. Fisher</td>\n",
       "      <td>X is one of the best punk bands ever. I don't ...</td>\n",
       "      <td>X have still got it</td>\n",
       "      <td>1291334400</td>\n",
       "    </tr>\n",
       "  </tbody>\n",
       "</table>\n",
       "</div>"
      ],
      "text/plain": [
       "   overall      reviewerID        asin            reviewerName  \\\n",
       "0        5  A2M1CU2IRZG0K9  0005089549                   Terri   \n",
       "1        5   AFTUJYISOFHY6  0005089549  Melissa D. Abercrombie   \n",
       "2        5  A3JVF9Y53BEOGC  000503860X        Anthony Thompson   \n",
       "3        5  A12VPEOEZS1KTC  000503860X                JadeRain   \n",
       "4        5   ATLZNVLYKP9AZ  000503860X               T. Fisher   \n",
       "\n",
       "                                          reviewText  \\\n",
       "0  So sorry I didn't purchase this years ago when...   \n",
       "1  Believe me when I tell you that you will recei...   \n",
       "2  I have seen X live many times, both in the ear...   \n",
       "3  I was so excited for this!  Finally, a live co...   \n",
       "4  X is one of the best punk bands ever. I don't ...   \n",
       "\n",
       "                               summary  unixReviewTime  \n",
       "0                             Amazing!      1352419200  \n",
       "1  Great Gospel VHS of the Cathedrals!      1325203200  \n",
       "2     A great document of a great band      1114041600  \n",
       "3                      YES!!  X LIVE!!      1112745600  \n",
       "4                  X have still got it      1291334400  "
      ]
     },
     "execution_count": 23,
     "metadata": {},
     "output_type": "execute_result"
    }
   ],
   "source": [
    "RAW_DATA_FILE = 'Movies_and_TV_5.json'\n",
    "FILTERED_DATA_FILE = 'tv.csv'\n",
    "\n",
    "if FILTER_RAW_DATASET:\n",
    "    df = load_and_filter_raw_dataset(RAW_DATA_FILE, FILTERED_DATA_FILE)\n",
    "else:\n",
    "    df = pd.read_csv(FILTERED_DATA_FILE)\n",
    "\n",
    "df.head()"
   ]
  },
  {
   "cell_type": "markdown",
   "id": "cb37cdf2",
   "metadata": {},
   "source": [
    "### Network"
   ]
  },
  {
   "cell_type": "code",
   "execution_count": 24,
   "id": "d1f99cf6",
   "metadata": {},
   "outputs": [],
   "source": [
    "# grouped = df.groupby('asin')['reviewerID'].unique()\n",
    "# for movie_id, reviewers in grouped.items():\n",
    "#     if len(set(reviewers)) < 5:\n",
    "#         print(f\"Movie {movie_id} has only {len(set(reviewers))} unique reviewers.\")\n",
    "#         break"
   ]
  },
  {
   "cell_type": "code",
   "execution_count": 41,
   "id": "dc053c1a",
   "metadata": {},
   "outputs": [],
   "source": [
    "def filter_reviews(df, movie_threshold=10, review_threshold=10):\n",
    "    prev_shape = (0, 0)\n",
    "    current_shape = df.shape\n",
    "\n",
    "    while current_shape != prev_shape:\n",
    "        prev_shape = current_shape\n",
    "        review_counts = df.groupby('asin')['reviewerID'].nunique()\n",
    "        valid_movies = review_counts[review_counts >= review_threshold].index\n",
    "        df = df[df['asin'].isin(valid_movies)]\n",
    "\n",
    "        reviewer_counts = df.groupby('reviewerID')['asin'].nunique()\n",
    "        valid_reviewers = reviewer_counts[reviewer_counts >= movie_threshold].index\n",
    "        df = df[df['reviewerID'].isin(valid_reviewers)]\n",
    "\n",
    "        current_shape = df.shape\n",
    "\n",
    "    return df\n",
    "\n",
    "filtered_df = filter_reviews(df)"
   ]
  },
  {
   "cell_type": "code",
   "execution_count": 38,
   "id": "83e575eb",
   "metadata": {},
   "outputs": [
    {
     "data": {
      "text/plain": [
       "4"
      ]
     },
     "execution_count": 38,
     "metadata": {},
     "output_type": "execute_result"
    }
   ],
   "source": [
    "reviewer_counts = df.groupby('reviewerID')['asin'].nunique()\n",
    "len(reviewer_counts[reviewer_counts > 500])"
   ]
  },
  {
   "cell_type": "code",
   "execution_count": 56,
   "id": "9bcb41d5",
   "metadata": {},
   "outputs": [
    {
     "data": {
      "text/plain": [
       "20244"
      ]
     },
     "execution_count": 56,
     "metadata": {},
     "output_type": "execute_result"
    }
   ],
   "source": [
    "filtered_df[\"asin\"].nunique()"
   ]
  },
  {
   "cell_type": "code",
   "execution_count": 49,
   "id": "0ecfcbd6",
   "metadata": {},
   "outputs": [],
   "source": [
    "def generate_edge_list():\n",
    "    grouped = filtered_df.groupby('reviewerID')['asin'].unique()\n",
    "    edges = Counter()\n",
    "    for reviewers in tqdm(grouped.values, desc=\"Reviewer\"):\n",
    "        for pair in combinations(reviewers, 2):\n",
    "            edges[pair] += 1\n",
    "    return [(a, b, count) for (a, b), count in edges.items()]\n",
    "\n",
    "# def generate_edge_list():\n",
    "#     df = filtered_df[['asin','reviewerID']].drop_duplicates()\n",
    "#     pairs = df.merge(df, on='asin')\n",
    "#     pairs = pairs[pairs.reviewerID_x < pairs.reviewerID_y]\n",
    "#     counts = (\n",
    "#         pairs\n",
    "#         .groupby(['reviewerID_x','reviewerID_y'])\n",
    "#         .size()\n",
    "#         .reset_index(name='count')\n",
    "#     )\n",
    "#     return [tuple(x) for x in counts.values]"
   ]
  },
  {
   "cell_type": "code",
   "execution_count": 50,
   "id": "554a078d",
   "metadata": {},
   "outputs": [
    {
     "name": "stderr",
     "output_type": "stream",
     "text": [
      "Reviewer: 100%|██████████| 53141/53141 [00:11<00:00, 4450.99it/s]\n"
     ]
    },
    {
     "data": {
      "text/plain": [
       "11895557"
      ]
     },
     "execution_count": 50,
     "metadata": {},
     "output_type": "execute_result"
    }
   ],
   "source": [
    "# edgelist = generate_edge_list()\n",
    "movie_edgelist = generate_edge_list()\n",
    "len(movie_edgelist)"
   ]
  },
  {
   "cell_type": "code",
   "execution_count": 43,
   "id": "34f1ca0e",
   "metadata": {},
   "outputs": [
    {
     "name": "stdout",
     "output_type": "stream",
     "text": [
      "Edges with weight > 4: 624551\n",
      "Edges with weight > 5: 262524\n",
      "Edges with weight > 7: 69450\n",
      "Edges with weight > 10: 15907\n",
      "Edges with weight > 15: 2618\n"
     ]
    }
   ],
   "source": [
    "thresholds = [4,5,7,10,15]\n",
    "for t in thresholds:\n",
    "    weighted_edges = [(a, b, w) for (a, b, w) in edgelist if w > t]\n",
    "    print(f\"Edges with weight > {t}: {len(weighted_edges)}\")"
   ]
  },
  {
   "cell_type": "markdown",
   "id": "78856904",
   "metadata": {},
   "source": [
    "### Graph"
   ]
  },
  {
   "cell_type": "code",
   "execution_count": null,
   "id": "ca36f07d",
   "metadata": {},
   "outputs": [
    {
     "data": {
      "text/plain": [
       "284681"
      ]
     },
     "execution_count": 51,
     "metadata": {},
     "output_type": "execute_result"
    }
   ],
   "source": [
    "WEIGHT_THRESHOLD = 5\n",
    "weighted_movie_edge = [(a, b, w) for (a, b, w) in movie_edgelist if w >= WEIGHT_THRESHOLD]\n",
    "len(weighted_movie_edge)"
   ]
  },
  {
   "cell_type": "code",
   "execution_count": null,
   "id": "7690ceb7",
   "metadata": {},
   "outputs": [],
   "source": [
    "# G = nx.Graph()\n",
    "# G.add_weighted_edges_from(weighted_movie_edge)"
   ]
  },
  {
   "cell_type": "code",
   "execution_count": null,
   "id": "3ddf6161",
   "metadata": {},
   "outputs": [],
   "source": [
    "# save_graph(NETWORK_FILE, G)"
   ]
  },
  {
   "cell_type": "code",
   "execution_count": null,
   "id": "c775d43c",
   "metadata": {},
   "outputs": [],
   "source": [
    "G = load_graph(NETWORK_FILE)"
   ]
  },
  {
   "cell_type": "code",
   "execution_count": null,
   "id": "2d3870a5",
   "metadata": {},
   "outputs": [
    {
     "data": {
      "text/plain": [
       "(12049, 284564)"
      ]
     },
     "execution_count": 81,
     "metadata": {},
     "output_type": "execute_result"
    }
   ],
   "source": [
    "len(G.nodes()), len(G.edges())"
   ]
  },
  {
   "cell_type": "code",
   "execution_count": 64,
   "id": "753968ae",
   "metadata": {},
   "outputs": [
    {
     "data": {
      "text/plain": [
       "47.23445929122749"
      ]
     },
     "execution_count": 64,
     "metadata": {},
     "output_type": "execute_result"
    }
   ],
   "source": [
    "degrees = [d for _, d in G.degree()]\n",
    "\n",
    "np.mean(degrees)"
   ]
  },
  {
   "cell_type": "code",
   "execution_count": 68,
   "id": "90664973",
   "metadata": {},
   "outputs": [
    {
     "data": {
      "image/png": "[encoded data removed]",
      "text/plain": [
       "<Figure size 640x480 with 1 Axes>"
      ]
     },
     "metadata": {},
     "output_type": "display_data"
    }
   ],
   "source": [
    "X = list(dict(G.degree).values())\n",
    "plt.yscale(\"log\")\n",
    "plt.title(\"Distribution Of Degree For Movie Network\")\n",
    "plt.xlabel(\"Degree\")\n",
    "plt.ylabel(\"Log Count\")\n",
    "plt.hist(X, 40, alpha=0.75);"
   ]
  },
  {
   "cell_type": "markdown",
   "metadata": {},
   "source": [
    "### Community detection"
   ]
  },
  {
   "cell_type": "code",
   "execution_count": 71,
   "id": "f9c70eb8",
   "metadata": {},
   "outputs": [],
   "source": [
    "\n",
    "def community_modularity(G, c, L):\n",
    "    s = G.subgraph(c)\n",
    "    L_c = s.number_of_edges()\n",
    "    k_c = sum(dict(s.degree()).values())\n",
    "    M_c = L_c / L - (k_c / (2 * L)) ** 2\n",
    "    return M_c\n",
    "\n",
    "def modularity(G, partitions):\n",
    "    L = G.number_of_edges()\n",
    "    return sum((community_modularity(G, c, L) for c in partitions))"
   ]
  },
  {
   "cell_type": "code",
   "execution_count": 69,
   "metadata": {},
   "outputs": [],
   "source": [
    "def louvain_partitions(G):\n",
    "    partition = community_louvain.best_partition(G)\n",
    "    groups = defaultdict(set)\n",
    "    for node, comm in partition.items():\n",
    "        groups[comm].add(node)\n",
    "    return list(groups.values())"
   ]
  },
  {
   "cell_type": "code",
   "execution_count": 70,
   "metadata": {},
   "outputs": [
    {
     "data": {
      "text/plain": [
       "760"
      ]
     },
     "execution_count": 70,
     "metadata": {},
     "output_type": "execute_result"
    }
   ],
   "source": [
    "communities = louvain_partitions(G)\n",
    "len(communities)"
   ]
  },
  {
   "cell_type": "code",
   "execution_count": 73,
   "id": "9ccbeccb",
   "metadata": {},
   "outputs": [
    {
     "data": {
      "text/plain": [
       "0.4845974754516164"
      ]
     },
     "execution_count": 73,
     "metadata": {},
     "output_type": "execute_result"
    }
   ],
   "source": [
    "modularity(G, communities) "
   ]
  }
 ],
 "metadata": {
  "kernelspec": {
   "display_name": "Python 3",
   "language": "python",
   "name": "python3"
  },
  "language_info": {
   "codemirror_mode": {
    "name": "ipython",
    "version": 3
   },
   "file_extension": ".py",
   "mimetype": "text/x-python",
   "name": "python",
   "nbconvert_exporter": "python",
   "pygments_lexer": "ipython3",
   "version": "3.12.3"
  }
 },
 "nbformat": 4,
 "nbformat_minor": 5
}
