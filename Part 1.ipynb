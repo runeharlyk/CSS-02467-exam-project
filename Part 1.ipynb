{
 "cells": [
  {
   "cell_type": "code",
   "execution_count": null,
   "id": "8c0720ba",
   "metadata": {},
   "outputs": [
    {
     "name": "stderr",
     "output_type": "stream",
     "text": [
      "[nltk_data] Downloading package stopwords to\n",
      "[nltk_data]     C:\\Users\\Rune\\AppData\\Roaming\\nltk_data...\n",
      "[nltk_data]   Package stopwords is already up-to-date!\n"
     ]
    },
    {
     "data": {
      "text/plain": [
       "True"
      ]
     },
     "execution_count": 1,
     "metadata": {},
     "output_type": "execute_result"
    }
   ],
   "source": [
    "import polars as pl\n",
    "from itertools import combinations\n",
    "from collections import Counter, defaultdict\n",
    "import networkx as nx\n",
    "from tqdm import tqdm\n",
    "import numpy as np\n",
    "import matplotlib.pyplot as plt\n",
    "from community import community_louvain\n",
    "import seaborn as sns\n",
    "import json\n",
    "from nltk import PorterStemmer, bigrams as nltk_bigrams\n",
    "from nltk.tokenize import MWETokenizer\n",
    "import nltk\n",
    "import re\n",
    "from scipy.stats import chi2\n",
    "from nltk.corpus import stopwords\n",
    "from functools import lru_cache\n",
    "from wordcloud import WordCloud\n",
    "\n",
    "sns.set_style(\"darkgrid\")\n",
    "nltk.download('stopwords')"
   ]
  },
  {
   "cell_type": "markdown",
   "id": "97b24ded",
   "metadata": {},
   "source": [
    "# Final project - Computational Social Science (02476)\n",
    "\n",
    "> Data is available [here](https://amazon-reviews-2023.github.io/)"
   ]
  },
  {
   "cell_type": "markdown",
   "id": "3099dfb3",
   "metadata": {},
   "source": [
    "### Constants and function definitions"
   ]
  },
  {
   "cell_type": "code",
   "execution_count": 2,
   "id": "d4ec7f02",
   "metadata": {},
   "outputs": [],
   "source": [
    "REVIEW_DATA_FILE = 'Movies_and_TV.jsonl'\n",
    "META_DATA_FILE = \"meta_Movies_and_TV.jsonl\""
   ]
  },
  {
   "cell_type": "code",
   "execution_count": 3,
   "id": "9771bb4a",
   "metadata": {},
   "outputs": [],
   "source": [
    "def save_graph(graph_file, G):\n",
    "    data = nx.readwrite.json_graph.node_link_data(G)\n",
    "    with open(graph_file, \"w\") as f:\n",
    "        json.dump(data, f)\n",
    "\n",
    "def load_graph(graph_file):\n",
    "    with open(graph_file, \"r\") as f:\n",
    "        data = json.load(f)\n",
    "    return nx.readwrite.json_graph.node_link_graph(data)"
   ]
  },
  {
   "cell_type": "markdown",
   "id": "b40e90b8",
   "metadata": {},
   "source": [
    "## 1. Data processing"
   ]
  },
  {
   "cell_type": "markdown",
   "id": "db51d1c7",
   "metadata": {},
   "source": [
    "### Process meta data"
   ]
  },
  {
   "cell_type": "code",
   "execution_count": 182,
   "id": "77c50ec4",
   "metadata": {},
   "outputs": [
    {
     "data": {
      "text/html": [
       "<div><style>\n",
       ".dataframe > thead > tr,\n",
       ".dataframe > tbody > tr {\n",
       "  text-align: right;\n",
       "  white-space: pre-wrap;\n",
       "}\n",
       "</style>\n",
       "<small>shape: (5, 9)</small><table border=\"1\" class=\"dataframe\"><thead><tr><th>title</th><th>average_rating</th><th>rating_number</th><th>description</th><th>price</th><th>categories</th><th>content_advisory</th><th>asin</th><th>desc_len</th></tr><tr><td>str</td><td>f64</td><td>i64</td><td>str</td><td>f64</td><td>list[str]</td><td>list[str]</td><td>str</td><td>u32</td></tr></thead><tbody><tr><td>&quot;Glee&quot;</td><td>4.7</td><td>2004</td><td>&quot;Entering its fourth season, th…</td><td>22.39</td><td>[&quot;Comedy&quot;, &quot;Drama&quot;, … &quot;Music Videos and Concerts&quot;]</td><td>[&quot;Violence&quot;, &quot;substance use&quot;, … &quot;sexual content&quot;]</td><td>&quot;B00ABWKL3I&quot;</td><td>396</td></tr><tr><td>&quot;One Perfect Wedding&quot;</td><td>3.0</td><td>6</td><td>&quot;With her book tour in two week…</td><td>-1.0</td><td>[&quot;Comedy&quot;, &quot;Drama&quot;, &quot;Romance&quot;]</td><td>[]</td><td>&quot;B09WDLJ4HP&quot;</td><td>219</td></tr><tr><td>&quot;How to Make Animatronic Charac…</td><td>5.0</td><td>7</td><td>&quot;Product Description&quot;</td><td>64.99</td><td>[&quot;Movies &amp; TV&quot;, &quot;Genre for Featured Categories&quot;, &quot;Special Interests&quot;]</td><td>[]</td><td>&quot;B00AHN851G&quot;</td><td>19</td></tr><tr><td>&quot;Ode to Joy: Beethoven&#x27;s Sympho…</td><td>4.3</td><td>35</td><td>&quot;This special Ode to Joy: Beeth…</td><td>5.99</td><td>[&quot;Documentary&quot;]</td><td>[]</td><td>&quot;B01G9ILXXE&quot;</td><td>234</td></tr><tr><td>&quot;Ben 10: Alien Force&quot;</td><td>4.7</td><td>360</td><td>&quot;Itâ€™s hero time again for Ben…</td><td>24.49</td><td>[&quot;Science Fiction&quot;, &quot;Comedy&quot;, … &quot;Drama&quot;]</td><td>[]</td><td>&quot;B009SIYXDA&quot;</td><td>377</td></tr></tbody></table></div>"
      ],
      "text/plain": [
       "shape: (5, 9)\n",
       "┌───────────┬───────────┬───────────┬───────────┬───┬───────────┬───────────┬───────────┬──────────┐\n",
       "│ title     ┆ average_r ┆ rating_nu ┆ descripti ┆ … ┆ categorie ┆ content_a ┆ asin      ┆ desc_len │\n",
       "│ ---       ┆ ating     ┆ mber      ┆ on        ┆   ┆ s         ┆ dvisory   ┆ ---       ┆ ---      │\n",
       "│ str       ┆ ---       ┆ ---       ┆ ---       ┆   ┆ ---       ┆ ---       ┆ str       ┆ u32      │\n",
       "│           ┆ f64       ┆ i64       ┆ str       ┆   ┆ list[str] ┆ list[str] ┆           ┆          │\n",
       "╞═══════════╪═══════════╪═══════════╪═══════════╪═══╪═══════════╪═══════════╪═══════════╪══════════╡\n",
       "│ Glee      ┆ 4.7       ┆ 2004      ┆ Entering  ┆ … ┆ [\"Comedy\" ┆ [\"Violenc ┆ B00ABWKL3 ┆ 396      │\n",
       "│           ┆           ┆           ┆ its       ┆   ┆ ,         ┆ e\", \"subs ┆ I         ┆          │\n",
       "│           ┆           ┆           ┆ fourth    ┆   ┆ \"Drama\",  ┆ tance     ┆           ┆          │\n",
       "│           ┆           ┆           ┆ season,   ┆   ┆ … \"Music  ┆ use\", …   ┆           ┆          │\n",
       "│           ┆           ┆           ┆ th…       ┆   ┆ V…        ┆           ┆           ┆          │\n",
       "│ One       ┆ 3.0       ┆ 6         ┆ With her  ┆ … ┆ [\"Comedy\" ┆ []        ┆ B09WDLJ4H ┆ 219      │\n",
       "│ Perfect   ┆           ┆           ┆ book tour ┆   ┆ ,         ┆           ┆ P         ┆          │\n",
       "│ Wedding   ┆           ┆           ┆ in two    ┆   ┆ \"Drama\",  ┆           ┆           ┆          │\n",
       "│           ┆           ┆           ┆ week…     ┆   ┆ \"Romance\" ┆           ┆           ┆          │\n",
       "│           ┆           ┆           ┆           ┆   ┆ ]         ┆           ┆           ┆          │\n",
       "│ How to    ┆ 5.0       ┆ 7         ┆ Product   ┆ … ┆ [\"Movies  ┆ []        ┆ B00AHN851 ┆ 19       │\n",
       "│ Make Anim ┆           ┆           ┆ Descripti ┆   ┆ & TV\",    ┆           ┆ G         ┆          │\n",
       "│ atronic   ┆           ┆           ┆ on        ┆   ┆ \"Genre    ┆           ┆           ┆          │\n",
       "│ Charac…   ┆           ┆           ┆           ┆   ┆ for Fea…  ┆           ┆           ┆          │\n",
       "│ Ode to    ┆ 4.3       ┆ 35        ┆ This      ┆ … ┆ [\"Documen ┆ []        ┆ B01G9ILXX ┆ 234      │\n",
       "│ Joy: Beet ┆           ┆           ┆ special   ┆   ┆ tary\"]    ┆           ┆ E         ┆          │\n",
       "│ hoven's   ┆           ┆           ┆ Ode to    ┆   ┆           ┆           ┆           ┆          │\n",
       "│ Sympho…   ┆           ┆           ┆ Joy:      ┆   ┆           ┆           ┆           ┆          │\n",
       "│           ┆           ┆           ┆ Beeth…    ┆   ┆           ┆           ┆           ┆          │\n",
       "│ Ben 10:   ┆ 4.7       ┆ 360       ┆ Itâ€™s    ┆ … ┆ [\"Science ┆ []        ┆ B009SIYXD ┆ 377      │\n",
       "│ Alien     ┆           ┆           ┆ hero time ┆   ┆ Fiction\", ┆           ┆ A         ┆          │\n",
       "│ Force     ┆           ┆           ┆ again for ┆   ┆ \"Comedy\", ┆           ┆           ┆          │\n",
       "│           ┆           ┆           ┆ Ben…      ┆   ┆ …         ┆           ┆           ┆          │\n",
       "└───────────┴───────────┴───────────┴───────────┴───┴───────────┴───────────┴───────────┴──────────┘"
      ]
     },
     "execution_count": 182,
     "metadata": {},
     "output_type": "execute_result"
    }
   ],
   "source": [
    "schema = {\n",
    "    \"title\": pl.Utf8,\n",
    "    \"average_rating\": pl.Float64,\n",
    "    \"rating_number\": pl.Int64,\n",
    "    \"description\": pl.List(pl.Utf8),\n",
    "    \"price\": pl.Utf8,\n",
    "    \"categories\": pl.List(pl.Utf8),\n",
    "    \"details\": pl.Struct([\n",
    "        pl.Field(\"Content advisory\", pl.List(pl.Utf8)),\n",
    "    ]),\n",
    "    \"parent_asin\": pl.Utf8,\n",
    "}\n",
    "\n",
    "df_meta = pl.read_ndjson(META_DATA_FILE, schema=schema).rename({\"parent_asin\": \"asin\"})\n",
    "\n",
    "# Map prices\n",
    "df_meta = df_meta.with_columns(\n",
    "    pl.col(\"price\")\n",
    "    .str.extract(r\"([0-9]+(?:\\.[0-9]+)?)\", 1)\n",
    "    .cast(pl.Float64)\n",
    "    .fill_null(-1)\n",
    ")\n",
    "\n",
    "# Map title\n",
    "df_meta = df_meta.with_columns(\n",
    "    pl.col(\"title\")\n",
    "      .str.replace(r\"\\[.*?\\]\", \"\", literal=False)\n",
    "      .str.replace(r\"\\(.*?\\)\", \"\", literal=False)\n",
    "      .str.strip_chars()\n",
    "      .alias(\"title\")\n",
    ")\n",
    "\n",
    "# Map description\n",
    "df_meta = df_meta.with_columns(\n",
    "    pl.when(\n",
    "        pl.col(\"description\").is_null() |\n",
    "        (pl.col(\"description\").list.eval(pl.element()).list.len() == 0)\n",
    "    )\n",
    "    .then(pl.lit([\"\"]).cast(pl.List(pl.Utf8)))\n",
    "    .otherwise(pl.col(\"description\"))\n",
    "    .alias(\"description\")\n",
    ")\n",
    "\n",
    "df_meta = df_meta.with_columns(\n",
    "    pl.col(\"description\").list.get(0).alias(\"description\") # TODO GET THE LONGEST DESCRIPTION\n",
    ")\n",
    "\n",
    "df_meta = df_meta.with_columns(\n",
    "    pl.col(\"description\").str.len_chars().alias(\"desc_len\")\n",
    ")\n",
    "\n",
    "# Map Content advisory\n",
    "df_meta = df_meta.with_columns(\n",
    "    pl.struct([\"details\"]).map_elements(\n",
    "        lambda s: s[\"details\"][\"Content advisory\"] if s[\"details\"] and \"Content advisory\" in s[\"details\"] else [],\n",
    "        return_dtype=pl.List(pl.Utf8)\n",
    "    ).alias(\"details\")\n",
    ").rename({\"details\": \"content_advisory\"})\n",
    "\n",
    "df_meta.limit(5)"
   ]
  },
  {
   "cell_type": "code",
   "execution_count": 5,
   "id": "a624bf55",
   "metadata": {},
   "outputs": [
    {
     "data": {
      "text/html": [
       "<div><style>\n",
       ".dataframe > thead > tr,\n",
       ".dataframe > tbody > tr {\n",
       "  text-align: right;\n",
       "  white-space: pre-wrap;\n",
       "}\n",
       "</style>\n",
       "<small>shape: (5, 9)</small><table border=\"1\" class=\"dataframe\"><thead><tr><th>title</th><th>asins</th><th>average_rating</th><th>rating_number</th><th>description</th><th>desc_len</th><th>price</th><th>categories</th><th>content_advisory</th></tr><tr><td>str</td><td>list[str]</td><td>f64</td><td>i64</td><td>str</td><td>u32</td><td>f64</td><td>list[str]</td><td>list[str]</td></tr></thead><tbody><tr><td>&quot;Vice&quot;</td><td>[&quot;B07LD4R4WT&quot;, &quot;B07MNJ3JPP&quot;, &quot;B07NRTDS2S&quot;]</td><td>4.3</td><td>8137</td><td>&quot;Nominated for 8 Academy Awards…</td><td>538</td><td>9.99</td><td>[&quot;Movies &amp; TV&quot;, &quot;Studio Specials&quot;, … &quot;All Fox Titles&quot;]</td><td>[]</td></tr><tr><td>&quot;The Assassination of Jesse Jam…</td><td>[&quot;B0012OVCF0&quot;]</td><td>4.5</td><td>3584</td><td>&quot;The Assassination of Jesse Jam…</td><td>71</td><td>27.94</td><td>[&quot;Movies &amp; TV&quot;, &quot;Movies&quot;]</td><td>[]</td></tr><tr><td>&quot;Castlerock: Season 1 [DVD] [20…</td><td>[&quot;B07MFM43ZB&quot;]</td><td>4.4</td><td>249</td><td>&quot;CASTLE ROCK takes viewers into…</td><td>814</td><td>18.79</td><td>[&quot;Movies &amp; TV&quot;, &quot;Studio Specials&quot;, … &quot;All Titles&quot;]</td><td>[]</td></tr><tr><td>&quot;The Maintenance Man [DVD]&quot;</td><td>[&quot;B000KGGZUI&quot;]</td><td>4.8</td><td>187</td><td>&quot;As an expensive male escort, M…</td><td>623</td><td>20.0</td><td>[&quot;Movies &amp; TV&quot;, &quot;Genre for Featured Categories&quot;, &quot;Comedy&quot;]</td><td>[]</td></tr><tr><td>&quot;Carleton H. Sheets ~ How to Ge…</td><td>[&quot;B000E14J5W&quot;]</td><td>2.5</td><td>2</td><td>&quot;*** FROM CARLETON H. SHEETS IN…</td><td>392</td><td>2.95</td><td>[&quot;Movies &amp; TV&quot;, &quot;Movies&quot;]</td><td>[]</td></tr></tbody></table></div>"
      ],
      "text/plain": [
       "shape: (5, 9)\n",
       "┌────────────┬────────────┬────────────┬────────────┬───┬──────────┬───────┬───────────┬───────────┐\n",
       "│ title      ┆ asins      ┆ average_ra ┆ rating_num ┆ … ┆ desc_len ┆ price ┆ categorie ┆ content_a │\n",
       "│ ---        ┆ ---        ┆ ting       ┆ ber        ┆   ┆ ---      ┆ ---   ┆ s         ┆ dvisory   │\n",
       "│ str        ┆ list[str]  ┆ ---        ┆ ---        ┆   ┆ u32      ┆ f64   ┆ ---       ┆ ---       │\n",
       "│            ┆            ┆ f64        ┆ i64        ┆   ┆          ┆       ┆ list[str] ┆ list[str] │\n",
       "╞════════════╪════════════╪════════════╪════════════╪═══╪══════════╪═══════╪═══════════╪═══════════╡\n",
       "│ Vice       ┆ [\"B07LD4R4 ┆ 4.3        ┆ 8137       ┆ … ┆ 538      ┆ 9.99  ┆ [\"Movies  ┆ []        │\n",
       "│            ┆ WT\", \"B07M ┆            ┆            ┆   ┆          ┆       ┆ & TV\",    ┆           │\n",
       "│            ┆ NJ3JPP\",   ┆            ┆            ┆   ┆          ┆       ┆ \"Studio   ┆           │\n",
       "│            ┆ \"…         ┆            ┆            ┆   ┆          ┆       ┆ Specia…   ┆           │\n",
       "│ The Assass ┆ [\"B0012OVC ┆ 4.5        ┆ 3584       ┆ … ┆ 71       ┆ 27.94 ┆ [\"Movies  ┆ []        │\n",
       "│ ination of ┆ F0\"]       ┆            ┆            ┆   ┆          ┆       ┆ & TV\",    ┆           │\n",
       "│ Jesse Jam… ┆            ┆            ┆            ┆   ┆          ┆       ┆ \"Movies\"] ┆           │\n",
       "│ Castlerock ┆ [\"B07MFM43 ┆ 4.4        ┆ 249        ┆ … ┆ 814      ┆ 18.79 ┆ [\"Movies  ┆ []        │\n",
       "│ : Season 1 ┆ ZB\"]       ┆            ┆            ┆   ┆          ┆       ┆ & TV\",    ┆           │\n",
       "│ [DVD] [20… ┆            ┆            ┆            ┆   ┆          ┆       ┆ \"Studio   ┆           │\n",
       "│            ┆            ┆            ┆            ┆   ┆          ┆       ┆ Specia…   ┆           │\n",
       "│ The Mainte ┆ [\"B000KGGZ ┆ 4.8        ┆ 187        ┆ … ┆ 623      ┆ 20.0  ┆ [\"Movies  ┆ []        │\n",
       "│ nance Man  ┆ UI\"]       ┆            ┆            ┆   ┆          ┆       ┆ & TV\",    ┆           │\n",
       "│ [DVD]      ┆            ┆            ┆            ┆   ┆          ┆       ┆ \"Genre    ┆           │\n",
       "│            ┆            ┆            ┆            ┆   ┆          ┆       ┆ for Fea…  ┆           │\n",
       "│ Carleton   ┆ [\"B000E14J ┆ 2.5        ┆ 2          ┆ … ┆ 392      ┆ 2.95  ┆ [\"Movies  ┆ []        │\n",
       "│ H. Sheets  ┆ 5W\"]       ┆            ┆            ┆   ┆          ┆       ┆ & TV\",    ┆           │\n",
       "│ ~ How to   ┆            ┆            ┆            ┆   ┆          ┆       ┆ \"Movies\"] ┆           │\n",
       "│ Ge…        ┆            ┆            ┆            ┆   ┆          ┆       ┆           ┆           │\n",
       "└────────────┴────────────┴────────────┴────────────┴───┴──────────┴───────┴───────────┴───────────┘"
      ]
     },
     "execution_count": 5,
     "metadata": {},
     "output_type": "execute_result"
    }
   ],
   "source": [
    "best_per_title = (\n",
    "    df_meta.sort([\"desc_len\", \"rating_number\"], descending=[True, True])\n",
    "    .group_by(\"title\")\n",
    "    .agg([\n",
    "        pl.col(\"asin\").unique().alias(\"asins\"),\n",
    "        pl.first(\"average_rating\"),\n",
    "        pl.first(\"rating_number\"),\n",
    "        pl.first(\"description\"),\n",
    "        pl.first(\"desc_len\"),\n",
    "        pl.first(\"price\"),\n",
    "        pl.first(\"categories\"),\n",
    "        pl.first(\"content_advisory\")\n",
    "    ])\n",
    ")\n",
    "\n",
    "best_per_title.limit(5)"
   ]
  },
  {
   "cell_type": "markdown",
   "id": "1401dd6e",
   "metadata": {},
   "source": [
    "### Process review data"
   ]
  },
  {
   "cell_type": "code",
   "execution_count": 6,
   "id": "99535484",
   "metadata": {},
   "outputs": [
    {
     "data": {
      "text/html": [
       "<div><style>\n",
       ".dataframe > thead > tr,\n",
       ".dataframe > tbody > tr {\n",
       "  text-align: right;\n",
       "  white-space: pre-wrap;\n",
       "}\n",
       "</style>\n",
       "<small>shape: (5, 5)</small><table border=\"1\" class=\"dataframe\"><thead><tr><th>user_id</th><th>asin</th><th>rating</th><th>timestamp</th><th>text</th></tr><tr><td>str</td><td>str</td><td>f64</td><td>i64</td><td>str</td></tr></thead><tbody><tr><td>&quot;AGGZ357AO26RQZVRLGU4D4N52DZQ&quot;</td><td>&quot;B013488XFS&quot;</td><td>5.0</td><td>1440385637000</td><td>&quot;Amazon, please buy the show! I…</td></tr><tr><td>&quot;AGKASBHYZPGTEPO6LWZPVJWB2BVA&quot;</td><td>&quot;B00CB6VTDS&quot;</td><td>5.0</td><td>1461100610000</td><td>&quot;My Kiddos LOVE this show!!&quot;</td></tr><tr><td>&quot;AG2L7H23R5LLKDKLBEF2Q3L2MVDA&quot;</td><td>&quot;B096Z8Z3R6&quot;</td><td>3.0</td><td>1646271834582</td><td>&quot;Annabella Sciorra did her char…</td></tr><tr><td>&quot;AG2L7H23R5LLKDKLBEF2Q3L2MVDA&quot;</td><td>&quot;B001H1SVZC&quot;</td><td>5.0</td><td>1590639227074</td><td>&quot;...isn&#x27;t always how you expect…</td></tr><tr><td>&quot;AG2L7H23R5LLKDKLBEF2Q3L2MVDA&quot;</td><td>&quot;B06WVW16WY&quot;</td><td>5.0</td><td>1586999747540</td><td>&quot;As you learn about the very un…</td></tr></tbody></table></div>"
      ],
      "text/plain": [
       "shape: (5, 5)\n",
       "┌──────────────────────────────┬────────────┬────────┬───────────────┬─────────────────────────────┐\n",
       "│ user_id                      ┆ asin       ┆ rating ┆ timestamp     ┆ text                        │\n",
       "│ ---                          ┆ ---        ┆ ---    ┆ ---           ┆ ---                         │\n",
       "│ str                          ┆ str        ┆ f64    ┆ i64           ┆ str                         │\n",
       "╞══════════════════════════════╪════════════╪════════╪═══════════════╪═════════════════════════════╡\n",
       "│ AGGZ357AO26RQZVRLGU4D4N52DZQ ┆ B013488XFS ┆ 5.0    ┆ 1440385637000 ┆ Amazon, please buy the      │\n",
       "│                              ┆            ┆        ┆               ┆ show! I…                    │\n",
       "│ AGKASBHYZPGTEPO6LWZPVJWB2BVA ┆ B00CB6VTDS ┆ 5.0    ┆ 1461100610000 ┆ My Kiddos LOVE this show!!  │\n",
       "│ AG2L7H23R5LLKDKLBEF2Q3L2MVDA ┆ B096Z8Z3R6 ┆ 3.0    ┆ 1646271834582 ┆ Annabella Sciorra did her   │\n",
       "│                              ┆            ┆        ┆               ┆ char…                       │\n",
       "│ AG2L7H23R5LLKDKLBEF2Q3L2MVDA ┆ B001H1SVZC ┆ 5.0    ┆ 1590639227074 ┆ ...isn't always how you     │\n",
       "│                              ┆            ┆        ┆               ┆ expect…                     │\n",
       "│ AG2L7H23R5LLKDKLBEF2Q3L2MVDA ┆ B06WVW16WY ┆ 5.0    ┆ 1586999747540 ┆ As you learn about the very │\n",
       "│                              ┆            ┆        ┆               ┆ un…                         │\n",
       "└──────────────────────────────┴────────────┴────────┴───────────────┴─────────────────────────────┘"
      ]
     },
     "execution_count": 6,
     "metadata": {},
     "output_type": "execute_result"
    }
   ],
   "source": [
    "df = pl.scan_ndjson(REVIEW_DATA_FILE).filter(pl.col('verified_purchase') == True)#.filter(pl.col('helpful_vote') != 0)\n",
    "existing = set(df.collect_schema().keys())\n",
    "drop_cols = {'images', 'style', 'verified_purchase', 'asin', 'helpful_vote', 'title'} \n",
    "keep_cols = list(existing - drop_cols)\n",
    "df = df.select(keep_cols).rename({'parent_asin': 'asin'})\n",
    "df = df.collect()\n",
    "df.limit(5)"
   ]
  },
  {
   "cell_type": "code",
   "execution_count": 7,
   "id": "ce1166e6",
   "metadata": {},
   "outputs": [
    {
     "data": {
      "text/plain": [
       "(13757796, 640455)"
      ]
     },
     "execution_count": 7,
     "metadata": {},
     "output_type": "execute_result"
    }
   ],
   "source": [
    "df.height, df.get_column(\"asin\").n_unique()"
   ]
  },
  {
   "cell_type": "markdown",
   "id": "9b5d29ec",
   "metadata": {},
   "source": [
    "> All the asin with missing meta data"
   ]
  },
  {
   "cell_type": "code",
   "execution_count": 42,
   "id": "f1c90e31",
   "metadata": {},
   "outputs": [
    {
     "name": "stdout",
     "output_type": "stream",
     "text": [
      "313988\n"
     ]
    },
    {
     "data": {
      "text/html": [
       "<div><style>\n",
       ".dataframe > thead > tr,\n",
       ".dataframe > tbody > tr {\n",
       "  text-align: right;\n",
       "  white-space: pre-wrap;\n",
       "}\n",
       "</style>\n",
       "<small>shape: (313_988, 2)</small><table border=\"1\" class=\"dataframe\"><thead><tr><th>asins</th><th>count</th></tr><tr><td>str</td><td>u32</td></tr></thead><tbody><tr><td>&quot;B006GXBGIK&quot;</td><td>1</td></tr><tr><td>&quot;B01MAYFYDA&quot;</td><td>1</td></tr><tr><td>&quot;B00H2EODTQ&quot;</td><td>1</td></tr><tr><td>&quot;B083H4ZFH3&quot;</td><td>1</td></tr><tr><td>&quot;B097YZLX64&quot;</td><td>1</td></tr><tr><td>&hellip;</td><td>&hellip;</td></tr><tr><td>&quot;B00OP7XJXO&quot;</td><td>1</td></tr><tr><td>&quot;B08GZWYJV2&quot;</td><td>1</td></tr><tr><td>&quot;B017VKTB5G&quot;</td><td>1</td></tr><tr><td>&quot;B071FL1BTW&quot;</td><td>1</td></tr><tr><td>&quot;B00517FNFE&quot;</td><td>1</td></tr></tbody></table></div>"
      ],
      "text/plain": [
       "shape: (313_988, 2)\n",
       "┌────────────┬───────┐\n",
       "│ asins      ┆ count │\n",
       "│ ---        ┆ ---   │\n",
       "│ str        ┆ u32   │\n",
       "╞════════════╪═══════╡\n",
       "│ B006GXBGIK ┆ 1     │\n",
       "│ B01MAYFYDA ┆ 1     │\n",
       "│ B00H2EODTQ ┆ 1     │\n",
       "│ B083H4ZFH3 ┆ 1     │\n",
       "│ B097YZLX64 ┆ 1     │\n",
       "│ …          ┆ …     │\n",
       "│ B00OP7XJXO ┆ 1     │\n",
       "│ B08GZWYJV2 ┆ 1     │\n",
       "│ B017VKTB5G ┆ 1     │\n",
       "│ B071FL1BTW ┆ 1     │\n",
       "│ B00517FNFE ┆ 1     │\n",
       "└────────────┴───────┘"
      ]
     },
     "execution_count": 42,
     "metadata": {},
     "output_type": "execute_result"
    }
   ],
   "source": [
    "counts = (\n",
    "    best_per_title\n",
    "    .filter(pl.col(\"title\").is_null())\n",
    "    .explode(\"asins\")\n",
    "    .group_by(\"asins\")\n",
    "    .agg(pl.len().alias(\"count\"))\n",
    "    .sort(\"count\", descending=True)\n",
    ")\n",
    "print(best_per_title.filter(pl.col(\"title\").is_null()).get_column(\"asins\")[0].n_unique())\n",
    "counts"
   ]
  },
  {
   "cell_type": "code",
   "execution_count": 9,
   "id": "31ea2473",
   "metadata": {},
   "outputs": [],
   "source": [
    "asin_title_map = best_per_title.select([\n",
    "    pl.col(\"title\"),\n",
    "    pl.col(\"asins\"),\n",
    "    pl.col(\"average_rating\"),\n",
    "    pl.col(\"price\")\n",
    "]).explode(\"asins\").rename({\"asins\": \"asin\"})\n",
    "\n",
    "df_reviews = df.join(\n",
    "    asin_title_map,\n",
    "    on=\"asin\",\n",
    "    how=\"left\"\n",
    ")"
   ]
  },
  {
   "cell_type": "code",
   "execution_count": 13,
   "id": "18608056",
   "metadata": {},
   "outputs": [],
   "source": [
    "# df.get_column(\"asin\").n_unique(), df_meta.get_column(\"parent_asin\").n_unique()\n",
    "# asins_in_df = df.get_column(\"asin\").unique()\n",
    "# asins_in_meta = df_meta.get_column(\"asin\").unique()\n",
    "\n",
    "# missing_asins = asins_in_df.filter(~asins_in_df.is_in(asins_in_meta.implode()))\n",
    "# missing_asins.len()"
   ]
  },
  {
   "cell_type": "code",
   "execution_count": 10,
   "id": "dc053c1a",
   "metadata": {},
   "outputs": [
    {
     "name": "stdout",
     "output_type": "stream",
     "text": [
      "6252581\n"
     ]
    },
    {
     "data": {
      "text/html": [
       "<div><style>\n",
       ".dataframe > thead > tr,\n",
       ".dataframe > tbody > tr {\n",
       "  text-align: right;\n",
       "  white-space: pre-wrap;\n",
       "}\n",
       "</style>\n",
       "<small>shape: (5, 8)</small><table border=\"1\" class=\"dataframe\"><thead><tr><th>user_id</th><th>asin</th><th>rating</th><th>timestamp</th><th>text</th><th>title</th><th>average_rating</th><th>price</th></tr><tr><td>str</td><td>str</td><td>f64</td><td>i64</td><td>str</td><td>str</td><td>f64</td><td>f64</td></tr></thead><tbody><tr><td>&quot;AGGZ357AO26RQZVRLGU4D4N52DZQ&quot;</td><td>&quot;B013488XFS&quot;</td><td>5.0</td><td>1440385637000</td><td>&quot;Amazon, please buy the show! I…</td><td>&quot;Sneaky Pete&quot;</td><td>4.6</td><td>-1.0</td></tr><tr><td>&quot;AGKASBHYZPGTEPO6LWZPVJWB2BVA&quot;</td><td>&quot;B00CB6VTDS&quot;</td><td>5.0</td><td>1461100610000</td><td>&quot;My Kiddos LOVE this show!!&quot;</td><td>&quot;Creative Galaxy&quot;</td><td>4.8</td><td>-1.0</td></tr><tr><td>&quot;AGXVBIUFLFGMVLATYXHJYL4A5Q7Q&quot;</td><td>&quot;B0002J58ME&quot;</td><td>5.0</td><td>1146713492000</td><td>&quot;This DVD was GREAT!&nbsp;&nbsp;I am a st…</td><td>&quot;10 Minute Solution: Pilates&quot;</td><td>4.6</td><td>8.77</td></tr><tr><td>&quot;AHITBJSS7KYUBVZPX7M2WJCOIVKQ&quot;</td><td>&quot;B079FLYB41&quot;</td><td>5.0</td><td>1560014052867</td><td>&quot;Awesome movie! Must see.&quot;</td><td>&quot;Black Panther&quot;</td><td>4.8</td><td>9.83</td></tr><tr><td>&quot;AHTTU2FL6FCNBBAESCJHOHHSSW7A&quot;</td><td>&quot;B01KBKKU7G&quot;</td><td>4.0</td><td>1474051189000</td><td>&quot;It was pretty good. Had some p…</td><td>&quot;Seven Girlfriends&quot;</td><td>3.2</td><td>12.99</td></tr></tbody></table></div>"
      ],
      "text/plain": [
       "shape: (5, 8)\n",
       "┌─────────────┬────────────┬────────┬─────────────┬─────────────┬─────────────┬────────────┬───────┐\n",
       "│ user_id     ┆ asin       ┆ rating ┆ timestamp   ┆ text        ┆ title       ┆ average_ra ┆ price │\n",
       "│ ---         ┆ ---        ┆ ---    ┆ ---         ┆ ---         ┆ ---         ┆ ting       ┆ ---   │\n",
       "│ str         ┆ str        ┆ f64    ┆ i64         ┆ str         ┆ str         ┆ ---        ┆ f64   │\n",
       "│             ┆            ┆        ┆             ┆             ┆             ┆ f64        ┆       │\n",
       "╞═════════════╪════════════╪════════╪═════════════╪═════════════╪═════════════╪════════════╪═══════╡\n",
       "│ AGGZ357AO26 ┆ B013488XFS ┆ 5.0    ┆ 14403856370 ┆ Amazon,     ┆ Sneaky Pete ┆ 4.6        ┆ -1.0  │\n",
       "│ RQZVRLGU4D4 ┆            ┆        ┆ 00          ┆ please buy  ┆             ┆            ┆       │\n",
       "│ N52DZQ      ┆            ┆        ┆             ┆ the show!   ┆             ┆            ┆       │\n",
       "│             ┆            ┆        ┆             ┆ I…          ┆             ┆            ┆       │\n",
       "│ AGKASBHYZPG ┆ B00CB6VTDS ┆ 5.0    ┆ 14611006100 ┆ My Kiddos   ┆ Creative    ┆ 4.8        ┆ -1.0  │\n",
       "│ TEPO6LWZPVJ ┆            ┆        ┆ 00          ┆ LOVE this   ┆ Galaxy      ┆            ┆       │\n",
       "│ WB2BVA      ┆            ┆        ┆             ┆ show!!      ┆             ┆            ┆       │\n",
       "│ AGXVBIUFLFG ┆ B0002J58ME ┆ 5.0    ┆ 11467134920 ┆ This DVD    ┆ 10 Minute   ┆ 4.6        ┆ 8.77  │\n",
       "│ MVLATYXHJYL ┆            ┆        ┆ 00          ┆ was GREAT!  ┆ Solution:   ┆            ┆       │\n",
       "│ 4A5Q7Q      ┆            ┆        ┆             ┆ I am a st…  ┆ Pilates     ┆            ┆       │\n",
       "│ AHITBJSS7KY ┆ B079FLYB41 ┆ 5.0    ┆ 15600140528 ┆ Awesome     ┆ Black       ┆ 4.8        ┆ 9.83  │\n",
       "│ UBVZPX7M2WJ ┆            ┆        ┆ 67          ┆ movie! Must ┆ Panther     ┆            ┆       │\n",
       "│ COIVKQ      ┆            ┆        ┆             ┆ see.        ┆             ┆            ┆       │\n",
       "│ AHTTU2FL6FC ┆ B01KBKKU7G ┆ 4.0    ┆ 14740511890 ┆ It was      ┆ Seven       ┆ 3.2        ┆ 12.99 │\n",
       "│ NBBAESCJHOH ┆            ┆        ┆ 00          ┆ pretty      ┆ Girlfriends ┆            ┆       │\n",
       "│ HSSW7A      ┆            ┆        ┆             ┆ good. Had   ┆             ┆            ┆       │\n",
       "│             ┆            ┆        ┆             ┆ some p…     ┆             ┆            ┆       │\n",
       "└─────────────┴────────────┴────────┴─────────────┴─────────────┴─────────────┴────────────┴───────┘"
      ]
     },
     "execution_count": 10,
     "metadata": {},
     "output_type": "execute_result"
    }
   ],
   "source": [
    "# def filter_reviews(df, movie_threshold=5, review_threshold=5):\n",
    "#     prev_rows = -1\n",
    "#     while df.height != prev_rows:\n",
    "#         prev_rows = df.height\n",
    "#         valid_movies = (\n",
    "#             df.group_by('asin')\n",
    "#             .agg(pl.col('user_id').n_unique().alias('count'))\n",
    "#             .filter(pl.col('count') >= review_threshold)\n",
    "#             .get_column('asin')\n",
    "#         )\n",
    "#         df = df.filter(pl.col('asin').is_in(valid_movies.implode()))\n",
    "\n",
    "#         valid_reviewers = (\n",
    "#             df.group_by('user_id')\n",
    "#             .agg(pl.col('asin').n_unique().alias('count'))\n",
    "#             .filter(pl.col('count') >= movie_threshold)\n",
    "#             .get_column('user_id')\n",
    "#         )\n",
    "#         df = df.filter(pl.col('user_id').is_in(valid_reviewers.implode()))\n",
    "#     return df\n",
    "\n",
    "# filtered_df = filter_reviews(df)\n",
    "filtered_df = df_reviews.filter(pl.col(\"title\").is_not_null())\n",
    "print(filtered_df.height)\n",
    "filtered_df.limit(5)"
   ]
  },
  {
   "cell_type": "code",
   "execution_count": 11,
   "id": "83e575eb",
   "metadata": {},
   "outputs": [],
   "source": [
    "reviewer_counts = (\n",
    "    filtered_df.group_by('user_id')\n",
    "    .agg(pl.col('asin').n_unique().alias('count'))\n",
    "    .filter(pl.col('count') > 500)\n",
    ").height"
   ]
  },
  {
   "cell_type": "markdown",
   "id": "72418263",
   "metadata": {},
   "source": [
    "### Network"
   ]
  },
  {
   "cell_type": "code",
   "execution_count": 12,
   "id": "0ecfcbd6",
   "metadata": {},
   "outputs": [],
   "source": [
    "def generate_edge_list():\n",
    "    grouped = (\n",
    "        filtered_df\n",
    "        .group_by('user_id')\n",
    "        .agg(pl.col('asin').unique().alias('asins'))\n",
    "    )\n",
    "\n",
    "    edges = defaultdict(int)\n",
    "\n",
    "    for reviewers in tqdm(grouped['asins'], desc=\"Reviewer\"):\n",
    "        for pair in combinations(reviewers, 2):\n",
    "            edges[tuple(sorted(pair))] += 1\n",
    "\n",
    "    return [(a, b, count) for (a, b), count in edges.items()]"
   ]
  },
  {
   "cell_type": "code",
   "execution_count": 13,
   "id": "554a078d",
   "metadata": {},
   "outputs": [
    {
     "name": "stderr",
     "output_type": "stream",
     "text": [
      "Reviewer: 100%|██████████| 2789341/2789341 [01:13<00:00, 38078.08it/s]\n"
     ]
    },
    {
     "data": {
      "text/plain": [
       "46872899"
      ]
     },
     "execution_count": 13,
     "metadata": {},
     "output_type": "execute_result"
    }
   ],
   "source": [
    "movie_edgelist = generate_edge_list()\n",
    "len(movie_edgelist)"
   ]
  },
  {
   "cell_type": "code",
   "execution_count": null,
   "id": "34f1ca0e",
   "metadata": {},
   "outputs": [
    {
     "name": "stdout",
     "output_type": "stream",
     "text": [
      "Edges with weight => 2: 2661798\n",
      "Edges with weight => 3: 708469\n",
      "Edges with weight => 4: 319490\n",
      "Edges with weight => 5: 183420\n",
      "Edges with weight => 7: 86234\n",
      "Edges with weight => 10: 41881\n"
     ]
    }
   ],
   "source": [
    "thresholds = [2,3,4,5,7,10]\n",
    "for t in thresholds:\n",
    "    weighted_edges = [(a, b, w) for (a, b, w) in movie_edgelist if w >= t]\n",
    "    print(f\"Edges with weight => {t}: {len(weighted_edges)}\")"
   ]
  },
  {
   "cell_type": "code",
   "execution_count": 48,
   "metadata": {},
   "outputs": [
    {
     "data": {
      "text/plain": [
       "Counter({1: 44211101,\n",
       "         2: 1953329,\n",
       "         3: 388979,\n",
       "         4: 136070,\n",
       "         5: 62668,\n",
       "         6: 34518,\n",
       "         7: 20782,\n",
       "         8: 13966,\n",
       "         9: 9605,\n",
       "         10: 7001,\n",
       "         11: 5445,\n",
       "         12: 4149,\n",
       "         13: 3247,\n",
       "         14: 2700,\n",
       "         15: 2217,\n",
       "         16: 1938,\n",
       "         17: 1613,\n",
       "         18: 1345,\n",
       "         19: 1151,\n",
       "         20: 1052,\n",
       "         21: 902,\n",
       "         22: 763,\n",
       "         23: 659,\n",
       "         24: 653,\n",
       "         25: 509,\n",
       "         27: 474,\n",
       "         26: 438,\n",
       "         28: 391,\n",
       "         29: 362,\n",
       "         30: 310,\n",
       "         31: 298,\n",
       "         32: 262,\n",
       "         33: 237,\n",
       "         34: 227,\n",
       "         37: 186,\n",
       "         35: 185,\n",
       "         36: 171,\n",
       "         38: 161,\n",
       "         40: 160,\n",
       "         39: 133,\n",
       "         41: 129,\n",
       "         42: 123,\n",
       "         44: 116,\n",
       "         43: 109,\n",
       "         48: 93,\n",
       "         46: 92,\n",
       "         45: 86,\n",
       "         52: 77,\n",
       "         47: 74,\n",
       "         56: 70,\n",
       "         49: 66,\n",
       "         51: 61,\n",
       "         53: 60,\n",
       "         58: 59,\n",
       "         50: 59,\n",
       "         55: 52,\n",
       "         54: 47,\n",
       "         57: 46,\n",
       "         59: 42,\n",
       "         60: 41,\n",
       "         63: 38,\n",
       "         67: 37,\n",
       "         61: 32,\n",
       "         62: 32,\n",
       "         66: 32,\n",
       "         64: 31,\n",
       "         79: 30,\n",
       "         71: 30,\n",
       "         68: 29,\n",
       "         72: 27,\n",
       "         75: 25,\n",
       "         65: 24,\n",
       "         78: 22,\n",
       "         76: 20,\n",
       "         74: 19,\n",
       "         81: 19,\n",
       "         84: 18,\n",
       "         73: 18,\n",
       "         69: 17,\n",
       "         70: 17,\n",
       "         77: 17,\n",
       "         82: 15,\n",
       "         91: 15,\n",
       "         83: 13,\n",
       "         87: 13,\n",
       "         92: 13,\n",
       "         98: 12,\n",
       "         89: 12,\n",
       "         94: 12,\n",
       "         96: 11,\n",
       "         85: 11,\n",
       "         80: 11,\n",
       "         88: 11,\n",
       "         108: 10,\n",
       "         95: 10,\n",
       "         123: 9,\n",
       "         105: 9,\n",
       "         99: 9,\n",
       "         104: 8,\n",
       "         107: 8,\n",
       "         103: 8,\n",
       "         106: 8,\n",
       "         86: 8,\n",
       "         97: 8,\n",
       "         100: 7,\n",
       "         132: 7,\n",
       "         115: 7,\n",
       "         114: 7,\n",
       "         90: 7,\n",
       "         122: 7,\n",
       "         116: 6,\n",
       "         109: 6,\n",
       "         124: 6,\n",
       "         101: 6,\n",
       "         119: 6,\n",
       "         118: 5,\n",
       "         110: 5,\n",
       "         150: 4,\n",
       "         149: 4,\n",
       "         146: 4,\n",
       "         156: 4,\n",
       "         151: 4,\n",
       "         165: 4,\n",
       "         93: 4,\n",
       "         102: 4,\n",
       "         111: 4,\n",
       "         144: 3,\n",
       "         145: 3,\n",
       "         162: 3,\n",
       "         126: 3,\n",
       "         161: 3,\n",
       "         167: 3,\n",
       "         128: 3,\n",
       "         227: 3,\n",
       "         134: 3,\n",
       "         135: 3,\n",
       "         130: 3,\n",
       "         140: 2,\n",
       "         187: 2,\n",
       "         157: 2,\n",
       "         138: 2,\n",
       "         174: 2,\n",
       "         224: 2,\n",
       "         205: 2,\n",
       "         172: 2,\n",
       "         171: 2,\n",
       "         218: 2,\n",
       "         309: 2,\n",
       "         121: 2,\n",
       "         143: 2,\n",
       "         200: 2,\n",
       "         159: 2,\n",
       "         182: 2,\n",
       "         213: 2,\n",
       "         125: 2,\n",
       "         117: 2,\n",
       "         131: 2,\n",
       "         137: 2,\n",
       "         129: 2,\n",
       "         168: 2,\n",
       "         127: 2,\n",
       "         139: 2,\n",
       "         112: 2,\n",
       "         266: 1,\n",
       "         281: 1,\n",
       "         247: 1,\n",
       "         180: 1,\n",
       "         558: 1,\n",
       "         202: 1,\n",
       "         191: 1,\n",
       "         250: 1,\n",
       "         249: 1,\n",
       "         302: 1,\n",
       "         287: 1,\n",
       "         185: 1,\n",
       "         198: 1,\n",
       "         203: 1,\n",
       "         155: 1,\n",
       "         248: 1,\n",
       "         241: 1,\n",
       "         301: 1,\n",
       "         164: 1,\n",
       "         273: 1,\n",
       "         403: 1,\n",
       "         244: 1,\n",
       "         319: 1,\n",
       "         261: 1,\n",
       "         277: 1,\n",
       "         365: 1,\n",
       "         197: 1,\n",
       "         189: 1,\n",
       "         282: 1,\n",
       "         208: 1,\n",
       "         186: 1,\n",
       "         177: 1,\n",
       "         279: 1,\n",
       "         141: 1,\n",
       "         268: 1,\n",
       "         179: 1,\n",
       "         204: 1,\n",
       "         262: 1,\n",
       "         291: 1,\n",
       "         245: 1,\n",
       "         240: 1,\n",
       "         160: 1,\n",
       "         257: 1,\n",
       "         113: 1,\n",
       "         286: 1,\n",
       "         289: 1,\n",
       "         231: 1,\n",
       "         163: 1,\n",
       "         173: 1,\n",
       "         175: 1,\n",
       "         222: 1,\n",
       "         120: 1,\n",
       "         195: 1,\n",
       "         181: 1,\n",
       "         153: 1,\n",
       "         166: 1,\n",
       "         133: 1,\n",
       "         190: 1,\n",
       "         158: 1})"
      ]
     },
     "execution_count": 48,
     "metadata": {},
     "output_type": "execute_result"
    }
   ],
   "source": [
    "Counter((w for _, _, w in movie_edgelist))"
   ]
  },
  {
   "cell_type": "markdown",
   "id": "78856904",
   "metadata": {},
   "source": [
    "### Graph"
   ]
  },
  {
   "cell_type": "code",
   "execution_count": 134,
   "id": "ca36f07d",
   "metadata": {},
   "outputs": [
    {
     "data": {
      "text/plain": [
       "41881"
      ]
     },
     "execution_count": 134,
     "metadata": {},
     "output_type": "execute_result"
    }
   ],
   "source": [
    "WEIGHT_THRESHOLD = 10\n",
    "weighted_movie_edge = [(a, b, w) for (a, b, w) in movie_edgelist if w >= WEIGHT_THRESHOLD]\n",
    "len(weighted_movie_edge)"
   ]
  },
  {
   "cell_type": "code",
   "execution_count": 92,
   "id": "22265dfc",
   "metadata": {},
   "outputs": [],
   "source": [
    "filtered_df = filtered_df.fill_null(\"\")\n",
    "attributes = [\"title\", \"average_rating\", \"price\"]\n",
    "df_attrs = filtered_df.select([\"asin\"] + attributes)\n",
    "attr_dict = {row[0]: dict(zip(attributes, row[1:])) for row in df_attrs.rows()}"
   ]
  },
  {
   "cell_type": "code",
   "execution_count": 135,
   "id": "7690ceb7",
   "metadata": {},
   "outputs": [],
   "source": [
    "G = nx.Graph()\n",
    "G.add_weighted_edges_from(weighted_movie_edge)\n",
    "nx.set_node_attributes(G, attr_dict)\n",
    "nx.write_gexf(G, \"graph.gexf\")"
   ]
  },
  {
   "cell_type": "code",
   "execution_count": 136,
   "id": "2d3870a5",
   "metadata": {},
   "outputs": [
    {
     "data": {
      "text/plain": [
       "(14330, 41881)"
      ]
     },
     "execution_count": 136,
     "metadata": {},
     "output_type": "execute_result"
    }
   ],
   "source": [
    "len(G.nodes()), len(G.edges())"
   ]
  },
  {
   "cell_type": "code",
   "execution_count": 138,
   "id": "753968ae",
   "metadata": {},
   "outputs": [
    {
     "data": {
      "text/plain": [
       "5.845219818562456"
      ]
     },
     "execution_count": 138,
     "metadata": {},
     "output_type": "execute_result"
    }
   ],
   "source": [
    "degrees = [d for _, d in G.degree()]\n",
    "\n",
    "np.mean(degrees)"
   ]
  },
  {
   "cell_type": "code",
   "execution_count": 40,
   "id": "90664973",
   "metadata": {},
   "outputs": [
    {
     "data": {
      "image/png": "[encoded data removed]",
      "text/plain": [
       "<Figure size 640x480 with 1 Axes>"
      ]
     },
     "metadata": {},
     "output_type": "display_data"
    }
   ],
   "source": [
    "X = list(dict(G.degree).values())\n",
    "plt.yscale(\"log\")\n",
    "plt.title(\"Distribution Of Degree For Movie Network\")\n",
    "plt.xlabel(\"Degree\")\n",
    "plt.ylabel(\"Log Count\")\n",
    "plt.hist(X, 40, alpha=0.75); "
   ]
  },
  {
   "cell_type": "markdown",
   "id": "23a55af8",
   "metadata": {},
   "source": [
    "### Community detection"
   ]
  },
  {
   "cell_type": "code",
   "execution_count": 28,
   "id": "f9c70eb8",
   "metadata": {},
   "outputs": [],
   "source": [
    "def community_modularity(G, c, L):\n",
    "    s = G.subgraph(c)\n",
    "    L_c = s.number_of_edges()\n",
    "    k_c = sum(dict(s.degree()).values())\n",
    "    M_c = L_c / L - (k_c / (2 * L)) ** 2\n",
    "    return M_c\n",
    "\n",
    "def modularity(G, partitions):\n",
    "    L = G.number_of_edges()\n",
    "    return sum((community_modularity(G, c, L) for c in partitions))"
   ]
  },
  {
   "cell_type": "code",
   "execution_count": null,
   "id": "74bfce42",
   "metadata": {},
   "outputs": [],
   "source": [
    "def louvain_partitions(G):\n",
    "    partition = community_louvain.best_partition(G, randomize=False, resolution=1)\n",
    "    groups = defaultdict(set)\n",
    "    for node, comm in partition.items():\n",
    "        groups[comm].add(node)\n",
    "    return list(groups.values())"
   ]
  },
  {
   "cell_type": "code",
   "execution_count": 154,
   "id": "53fdf20f",
   "metadata": {},
   "outputs": [
    {
     "data": {
      "text/plain": [
       "2519"
      ]
     },
     "execution_count": 154,
     "metadata": {},
     "output_type": "execute_result"
    }
   ],
   "source": [
    "communities = louvain_partitions(G)\n",
    "len(communities)"
   ]
  },
  {
   "cell_type": "code",
   "execution_count": 142,
   "id": "9ccbeccb",
   "metadata": {},
   "outputs": [
    {
     "data": {
      "text/plain": [
       "0.8733362938081917"
      ]
     },
     "execution_count": 142,
     "metadata": {},
     "output_type": "execute_result"
    }
   ],
   "source": [
    "modularity(G, communities)"
   ]
  },
  {
   "cell_type": "code",
   "execution_count": 159,
   "id": "e26b4ef4",
   "metadata": {},
   "outputs": [
    {
     "data": {
      "text/plain": [
       "Counter({2: 1273,\n",
       "         3: 435,\n",
       "         4: 234,\n",
       "         5: 114,\n",
       "         6: 94,\n",
       "         7: 63,\n",
       "         8: 51,\n",
       "         9: 37,\n",
       "         10: 29,\n",
       "         12: 16,\n",
       "         11: 15,\n",
       "         13: 12,\n",
       "         15: 9,\n",
       "         16: 9,\n",
       "         14: 7,\n",
       "         17: 6,\n",
       "         21: 6,\n",
       "         28: 5,\n",
       "         19: 5,\n",
       "         18: 5,\n",
       "         22: 5,\n",
       "         20: 5,\n",
       "         23: 4,\n",
       "         42: 4,\n",
       "         58: 4,\n",
       "         40: 3,\n",
       "         52: 3,\n",
       "         25: 3,\n",
       "         26: 3,\n",
       "         32: 3,\n",
       "         37: 3,\n",
       "         57: 2,\n",
       "         91: 2,\n",
       "         38: 2,\n",
       "         95: 2,\n",
       "         24: 2,\n",
       "         34: 2,\n",
       "         30: 2,\n",
       "         29: 2,\n",
       "         31: 2,\n",
       "         45: 2,\n",
       "         103: 1,\n",
       "         94: 1,\n",
       "         122: 1,\n",
       "         176: 1,\n",
       "         118: 1,\n",
       "         43: 1,\n",
       "         49: 1,\n",
       "         51: 1,\n",
       "         106: 1,\n",
       "         234: 1,\n",
       "         84: 1,\n",
       "         96: 1,\n",
       "         171: 1,\n",
       "         165: 1,\n",
       "         116: 1,\n",
       "         88: 1,\n",
       "         101: 1,\n",
       "         123: 1,\n",
       "         108: 1,\n",
       "         137: 1,\n",
       "         44: 1,\n",
       "         36: 1,\n",
       "         27: 1,\n",
       "         98: 1,\n",
       "         46: 1,\n",
       "         62: 1,\n",
       "         35: 1,\n",
       "         70: 1,\n",
       "         131: 1,\n",
       "         97: 1,\n",
       "         86: 1,\n",
       "         47: 1,\n",
       "         111: 1,\n",
       "         33: 1})"
      ]
     },
     "execution_count": 159,
     "metadata": {},
     "output_type": "execute_result"
    },
    {
     "data": {
      "image/png": "[encoded data removed]",
      "text/plain": [
       "<Figure size 640x480 with 1 Axes>"
      ]
     },
     "metadata": {},
     "output_type": "display_data"
    }
   ],
   "source": [
    "X = list(map(len, communities))\n",
    "plt.yscale(\"log\")\n",
    "plt.title(\"Distribution Of Size For Communities\")\n",
    "plt.xlabel(\"Size\")\n",
    "plt.ylabel(\"Log Count\")\n",
    "plt.hist(X, 100, alpha=0.75);\n",
    "Counter(X)"
   ]
  },
  {
   "cell_type": "code",
   "execution_count": 177,
   "metadata": {},
   "outputs": [],
   "source": [
    "filtered_df = filtered_df.fill_null(\"\")\n",
    "attributes = [\"title\", \"average_rating\", \"price\", \"community\"]\n",
    "df_attrs = filtered_df.select([\"asin\"] + attributes)\n",
    "attr_dict = {row[0]: dict(zip(attributes, row[1:])) for row in df_attrs.rows()}\n",
    "nx.set_node_attributes(G, attr_dict)\n",
    "nx.write_gexf(G, \"graph.gexf\")"
   ]
  },
  {
   "cell_type": "markdown",
   "id": "00eb4b9d",
   "metadata": {},
   "source": [
    "### Text analysis"
   ]
  },
  {
   "cell_type": "code",
   "execution_count": 144,
   "id": "9fc6ad68",
   "metadata": {},
   "outputs": [],
   "source": [
    "all_asin = [asin for com in communities for asin in com]"
   ]
  },
  {
   "cell_type": "code",
   "execution_count": 145,
   "id": "6b3e538f",
   "metadata": {},
   "outputs": [
    {
     "data": {
      "text/html": [
       "<div><style>\n",
       ".dataframe > thead > tr,\n",
       ".dataframe > tbody > tr {\n",
       "  text-align: right;\n",
       "  white-space: pre-wrap;\n",
       "}\n",
       "</style>\n",
       "<small>shape: (2, 9)</small><table border=\"1\" class=\"dataframe\"><thead><tr><th>user_id</th><th>asin</th><th>rating</th><th>timestamp</th><th>text</th><th>title</th><th>average_rating</th><th>price</th><th>community</th></tr><tr><td>str</td><td>str</td><td>f64</td><td>i64</td><td>str</td><td>str</td><td>f64</td><td>f64</td><td>i64</td></tr></thead><tbody><tr><td>&quot;AGGZ357AO26RQZVRLGU4D4N52DZQ&quot;</td><td>&quot;B013488XFS&quot;</td><td>5.0</td><td>1440385637000</td><td>&quot;Amazon, please buy the show! I…</td><td>&quot;Sneaky Pete&quot;</td><td>4.6</td><td>-1.0</td><td>5</td></tr><tr><td>&quot;AGKASBHYZPGTEPO6LWZPVJWB2BVA&quot;</td><td>&quot;B00CB6VTDS&quot;</td><td>5.0</td><td>1461100610000</td><td>&quot;My Kiddos LOVE this show!!&quot;</td><td>&quot;Creative Galaxy&quot;</td><td>4.8</td><td>-1.0</td><td>5</td></tr></tbody></table></div>"
      ],
      "text/plain": [
       "shape: (2, 9)\n",
       "┌─────────────┬────────────┬────────┬────────────┬───┬────────────┬────────────┬───────┬───────────┐\n",
       "│ user_id     ┆ asin       ┆ rating ┆ timestamp  ┆ … ┆ title      ┆ average_ra ┆ price ┆ community │\n",
       "│ ---         ┆ ---        ┆ ---    ┆ ---        ┆   ┆ ---        ┆ ting       ┆ ---   ┆ ---       │\n",
       "│ str         ┆ str        ┆ f64    ┆ i64        ┆   ┆ str        ┆ ---        ┆ f64   ┆ i64       │\n",
       "│             ┆            ┆        ┆            ┆   ┆            ┆ f64        ┆       ┆           │\n",
       "╞═════════════╪════════════╪════════╪════════════╪═══╪════════════╪════════════╪═══════╪═══════════╡\n",
       "│ AGGZ357AO26 ┆ B013488XFS ┆ 5.0    ┆ 1440385637 ┆ … ┆ Sneaky     ┆ 4.6        ┆ -1.0  ┆ 5         │\n",
       "│ RQZVRLGU4D4 ┆            ┆        ┆ 000        ┆   ┆ Pete       ┆            ┆       ┆           │\n",
       "│ N52DZQ      ┆            ┆        ┆            ┆   ┆            ┆            ┆       ┆           │\n",
       "│ AGKASBHYZPG ┆ B00CB6VTDS ┆ 5.0    ┆ 1461100610 ┆ … ┆ Creative   ┆ 4.8        ┆ -1.0  ┆ 5         │\n",
       "│ TEPO6LWZPVJ ┆            ┆        ┆ 000        ┆   ┆ Galaxy     ┆            ┆       ┆           │\n",
       "│ WB2BVA      ┆            ┆        ┆            ┆   ┆            ┆            ┆       ┆           │\n",
       "└─────────────┴────────────┴────────┴────────────┴───┴────────────┴────────────┴───────┴───────────┘"
      ]
     },
     "execution_count": 145,
     "metadata": {},
     "output_type": "execute_result"
    }
   ],
   "source": [
    "# Adding community labels to the df\n",
    "movie_to_community = {\n",
    "    movie_id: i\n",
    "    for i, com in enumerate(communities)\n",
    "    for movie_id in com\n",
    "}\n",
    "\n",
    "community_df = pl.DataFrame([\n",
    "    {\"asin\": k, \"community\": v}\n",
    "    for k, v in movie_to_community.items()\n",
    "])\n",
    "\n",
    "if \"community\" in filtered_df.columns:\n",
    "    filtered_df = filtered_df.drop(\"community\")\n",
    "\n",
    "filtered_df = filtered_df.join(community_df, on=\"asin\", how=\"left\")\n",
    "filtered_df.limit(2)"
   ]
  },
  {
   "cell_type": "code",
   "execution_count": 146,
   "id": "b6a379df",
   "metadata": {},
   "outputs": [
    {
     "data": {
      "text/plain": [
       "1941499"
      ]
     },
     "execution_count": 146,
     "metadata": {},
     "output_type": "execute_result"
    }
   ],
   "source": [
    "filtered_df.filter(pl.col(\"community\").is_null()).height"
   ]
  },
  {
   "cell_type": "code",
   "execution_count": null,
   "id": "95e3c662",
   "metadata": {},
   "outputs": [],
   "source": [
    "filtered_df = filtered_df.filter(pl.col(\"community\").is_not_null()) # Filter reviews that is not part of community - Removed with weight threshold"
   ]
  },
  {
   "cell_type": "code",
   "execution_count": 148,
   "id": "147fae48",
   "metadata": {},
   "outputs": [
    {
     "data": {
      "text/plain": [
       "(14330, 14330)"
      ]
     },
     "execution_count": 148,
     "metadata": {},
     "output_type": "execute_result"
    }
   ],
   "source": [
    "sum(list(map(len, communities))), len(G.nodes)"
   ]
  },
  {
   "cell_type": "code",
   "execution_count": null,
   "id": "5dd6aca9",
   "metadata": {},
   "outputs": [
    {
     "data": {
      "text/html": [
       "<div><style>\n",
       ".dataframe > thead > tr,\n",
       ".dataframe > tbody > tr {\n",
       "  text-align: right;\n",
       "  white-space: pre-wrap;\n",
       "}\n",
       "</style>\n",
       "<small>shape: (10, 2)</small><table border=\"1\" class=\"dataframe\"><thead><tr><th>community</th><th>community_size</th></tr><tr><td>i64</td><td>u32</td></tr></thead><tbody><tr><td>6</td><td>1111</td></tr><tr><td>3</td><td>912</td></tr><tr><td>5</td><td>378</td></tr><tr><td>27</td><td>324</td></tr><tr><td>13</td><td>275</td></tr><tr><td>35</td><td>193</td></tr><tr><td>41</td><td>180</td></tr><tr><td>44</td><td>163</td></tr><tr><td>46</td><td>152</td></tr><tr><td>175</td><td>148</td></tr></tbody></table></div>"
      ],
      "text/plain": [
       "shape: (10, 2)\n",
       "┌───────────┬────────────────┐\n",
       "│ community ┆ community_size │\n",
       "│ ---       ┆ ---            │\n",
       "│ i64       ┆ u32            │\n",
       "╞═══════════╪════════════════╡\n",
       "│ 6         ┆ 1111           │\n",
       "│ 3         ┆ 912            │\n",
       "│ 5         ┆ 378            │\n",
       "│ 27        ┆ 324            │\n",
       "│ 13        ┆ 275            │\n",
       "│ 35        ┆ 193            │\n",
       "│ 41        ┆ 180            │\n",
       "│ 44        ┆ 163            │\n",
       "│ 46        ┆ 152            │\n",
       "│ 175       ┆ 148            │\n",
       "└───────────┴────────────────┘"
      ]
     },
     "execution_count": 149,
     "metadata": {},
     "output_type": "execute_result"
    }
   ],
   "source": [
    "# size of each community\n",
    "community_sizes = (\n",
    "    filtered_df\n",
    "    .group_by(\"community\")\n",
    "    .agg(pl.col(\"asin\").n_unique().alias(\"community_size\"))\n",
    "    .sort(\"community_size\", descending=True)\n",
    ")\n",
    "\n",
    "community_sizes.limit(10)"
   ]
  },
  {
   "cell_type": "code",
   "execution_count": 162,
   "id": "d65489fc",
   "metadata": {},
   "outputs": [
    {
     "data": {
      "text/html": [
       "<div><style>\n",
       ".dataframe > thead > tr,\n",
       ".dataframe > tbody > tr {\n",
       "  text-align: right;\n",
       "  white-space: pre-wrap;\n",
       "}\n",
       "</style>\n",
       "<small>shape: (144, 1)</small><table border=\"1\" class=\"dataframe\"><thead><tr><th>title</th></tr><tr><td>str</td></tr></thead><tbody><tr><td>&quot;She&#x27;s All That&quot;</td></tr><tr><td>&quot;The Breakfast Club&quot;</td></tr><tr><td>&quot;Captain Ron&quot;</td></tr><tr><td>&quot;Don&#x27;t Tell Mom the Babysitter&#x27;…</td></tr><tr><td>&quot;The Buddy Holly Story/La Bamba&quot;</td></tr><tr><td>&hellip;</td></tr><tr><td>&quot;9 to 5 (Sexist, Egotistical, L…</td></tr><tr><td>&quot;Can&#x27;t Buy Me Love&quot;</td></tr><tr><td>&quot;Groundhog Day (Special 15th An…</td></tr><tr><td>&quot;Three Men and a Baby/Three Men…</td></tr><tr><td>&quot;Jungle 2 Jungle&quot;</td></tr></tbody></table></div>"
      ],
      "text/plain": [
       "shape: (144, 1)\n",
       "┌─────────────────────────────────┐\n",
       "│ title                           │\n",
       "│ ---                             │\n",
       "│ str                             │\n",
       "╞═════════════════════════════════╡\n",
       "│ She's All That                  │\n",
       "│ The Breakfast Club              │\n",
       "│ Captain Ron                     │\n",
       "│ Don't Tell Mom the Babysitter'… │\n",
       "│ The Buddy Holly Story/La Bamba  │\n",
       "│ …                               │\n",
       "│ 9 to 5 (Sexist, Egotistical, L… │\n",
       "│ Can't Buy Me Love               │\n",
       "│ Groundhog Day (Special 15th An… │\n",
       "│ Three Men and a Baby/Three Men… │\n",
       "│ Jungle 2 Jungle                 │\n",
       "└─────────────────────────────────┘"
      ]
     },
     "execution_count": 162,
     "metadata": {},
     "output_type": "execute_result"
    }
   ],
   "source": [
    "filtered_df.filter(pl.col(\"community\") == 175).select(\"title\").unique()"
   ]
  },
  {
   "cell_type": "markdown",
   "id": "da397f5b",
   "metadata": {},
   "source": [
    "### Tokens"
   ]
  },
  {
   "cell_type": "code",
   "execution_count": 175,
   "id": "4260dbba",
   "metadata": {},
   "outputs": [],
   "source": [
    "# Tokenize and stemming reviews\n",
    "stemmer = PorterStemmer()\n",
    "pattern = re.compile(r'https?://\\S+|[^a-z\\s]')\n",
    "stop_words = stopwords.words('english')\n",
    "\n",
    "@lru_cache(maxsize=10000)\n",
    "def cached_stem(word):\n",
    "    return stemmer.stem(word)\n",
    "\n",
    "def tokenize(text, stem=True):\n",
    "    text = text.lower()\n",
    "    text = pattern.sub('', text)\n",
    "    tokens = text.split()\n",
    "    tokens = [token for token in tokens if token not in stop_words]\n",
    "    return [cached_stem(t) for t in tokens] if stem else tokens"
   ]
  },
  {
   "cell_type": "code",
   "execution_count": 176,
   "id": "70fb0fc9",
   "metadata": {},
   "outputs": [],
   "source": [
    "filtered_df = filtered_df.with_columns(\n",
    "    pl.Series(\"tokens\", (tokenize(x) for x in filtered_df[\"text\"]))\n",
    ")"
   ]
  },
  {
   "cell_type": "code",
   "execution_count": 133,
   "id": "21b3f015",
   "metadata": {},
   "outputs": [
    {
     "data": {
      "text/html": [
       "<div><style>\n",
       ".dataframe > thead > tr,\n",
       ".dataframe > tbody > tr {\n",
       "  text-align: right;\n",
       "  white-space: pre-wrap;\n",
       "}\n",
       "</style>\n",
       "<small>shape: (5, 10)</small><table border=\"1\" class=\"dataframe\"><thead><tr><th>asin</th><th>user_id</th><th>text</th><th>rating</th><th>timestamp</th><th>title</th><th>average_rating</th><th>price</th><th>tokens</th><th>community</th></tr><tr><td>str</td><td>str</td><td>str</td><td>f64</td><td>i64</td><td>str</td><td>f64</td><td>f64</td><td>list[str]</td><td>i64</td></tr></thead><tbody><tr><td>&quot;B0002J58ME&quot;</td><td>&quot;AGXVBIUFLFGMVLATYXHJYL4A5Q7Q&quot;</td><td>&quot;This DVD was GREAT!&nbsp;&nbsp;I am a st…</td><td>5.0</td><td>1146713492000</td><td>&quot;10 Minute Solution: Pilates&quot;</td><td>4.6</td><td>8.77</td><td>[&quot;dvd&quot;, &quot;great&quot;, … &quot;give&quot;]</td><td>10</td></tr><tr><td>&quot;B001JNNDRY&quot;</td><td>&quot;AEFKF6R2GUSK2AWPSWRR4ZO36JVQ&quot;</td><td>&quot;I grew up with this one. could…</td><td>5.0</td><td>1364088518000</td><td>&quot;Columbo: Mystery Movie Collect…</td><td>4.7</td><td>13.4</td><td>[&quot;grew&quot;, &quot;one&quot;, … &quot;collect&quot;]</td><td>12</td></tr><tr><td>&quot;B006OAXL92&quot;</td><td>&quot;AG35BKPUEUMX7LV5YLOQ5YCQ3GOA&quot;</td><td>&quot;Wife and daughter loved the st…</td><td>4.0</td><td>1361833916000</td><td>&quot;Hugo (Blu-ray 3D + Blu-ray + D…</td><td>4.7</td><td>49.94</td><td>[&quot;wife&quot;, &quot;daughter&quot;, … &quot;movi&quot;]</td><td>8</td></tr><tr><td>&quot;B00JHH1ZN8&quot;</td><td>&quot;AHGAOIZVODNHYMNCBV4DECZH42UQ&quot;</td><td>&quot;she received hers yesterday i …</td><td>5.0</td><td>1551222425031</td><td>&quot;Rodgers &amp; Hammerstein&#x27;s Cinder…</td><td>4.9</td><td>6.99</td><td>[&quot;receiv&quot;, &quot;yesterday&quot;, … &quot;childhood&quot;]</td><td>38</td></tr><tr><td>&quot;B0B6NHYWP9&quot;</td><td>&quot;AFZUK3MTBIBEDQOPAK3OATUOUKLA&quot;</td><td>&quot;Subjective movie review here..…</td><td>3.0</td><td>1665686687505</td><td>&quot;Beast&quot;</td><td>4.1</td><td>14.99</td><td>[&quot;subject&quot;, &quot;movi&quot;, … &quot;opinion&quot;]</td><td>21</td></tr></tbody></table></div>"
      ],
      "text/plain": [
       "shape: (5, 10)\n",
       "┌────────────┬─────────────┬────────────┬────────┬───┬────────────┬───────┬────────────┬───────────┐\n",
       "│ asin       ┆ user_id     ┆ text       ┆ rating ┆ … ┆ average_ra ┆ price ┆ tokens     ┆ community │\n",
       "│ ---        ┆ ---         ┆ ---        ┆ ---    ┆   ┆ ting       ┆ ---   ┆ ---        ┆ ---       │\n",
       "│ str        ┆ str         ┆ str        ┆ f64    ┆   ┆ ---        ┆ f64   ┆ list[str]  ┆ i64       │\n",
       "│            ┆             ┆            ┆        ┆   ┆ f64        ┆       ┆            ┆           │\n",
       "╞════════════╪═════════════╪════════════╪════════╪═══╪════════════╪═══════╪════════════╪═══════════╡\n",
       "│ B0002J58ME ┆ AGXVBIUFLFG ┆ This DVD   ┆ 5.0    ┆ … ┆ 4.6        ┆ 8.77  ┆ [\"dvd\",    ┆ 10        │\n",
       "│            ┆ MVLATYXHJYL ┆ was GREAT! ┆        ┆   ┆            ┆       ┆ \"great\", … ┆           │\n",
       "│            ┆ 4A5Q7Q      ┆ I am a st… ┆        ┆   ┆            ┆       ┆ \"give\"]    ┆           │\n",
       "│ B001JNNDRY ┆ AEFKF6R2GUS ┆ I grew up  ┆ 5.0    ┆ … ┆ 4.7        ┆ 13.4  ┆ [\"grew\",   ┆ 12        │\n",
       "│            ┆ K2AWPSWRR4Z ┆ with this  ┆        ┆   ┆            ┆       ┆ \"one\", …   ┆           │\n",
       "│            ┆ O36JVQ      ┆ one.       ┆        ┆   ┆            ┆       ┆ \"collect\"] ┆           │\n",
       "│            ┆             ┆ could…     ┆        ┆   ┆            ┆       ┆            ┆           │\n",
       "│ B006OAXL92 ┆ AG35BKPUEUM ┆ Wife and   ┆ 4.0    ┆ … ┆ 4.7        ┆ 49.94 ┆ [\"wife\",   ┆ 8         │\n",
       "│            ┆ X7LV5YLOQ5Y ┆ daughter   ┆        ┆   ┆            ┆       ┆ \"daughter\" ┆           │\n",
       "│            ┆ CQ3GOA      ┆ loved the  ┆        ┆   ┆            ┆       ┆ , …        ┆           │\n",
       "│            ┆             ┆ st…        ┆        ┆   ┆            ┆       ┆ \"movi\"]    ┆           │\n",
       "│ B00JHH1ZN8 ┆ AHGAOIZVODN ┆ she        ┆ 5.0    ┆ … ┆ 4.9        ┆ 6.99  ┆ [\"receiv\", ┆ 38        │\n",
       "│            ┆ HYMNCBV4DEC ┆ received   ┆        ┆   ┆            ┆       ┆ \"yesterday ┆           │\n",
       "│            ┆ ZH42UQ      ┆ hers       ┆        ┆   ┆            ┆       ┆ \", … \"chi… ┆           │\n",
       "│            ┆             ┆ yesterday  ┆        ┆   ┆            ┆       ┆            ┆           │\n",
       "│            ┆             ┆ i …        ┆        ┆   ┆            ┆       ┆            ┆           │\n",
       "│ B0B6NHYWP9 ┆ AFZUK3MTBIB ┆ Subjective ┆ 3.0    ┆ … ┆ 4.1        ┆ 14.99 ┆ [\"subject\" ┆ 21        │\n",
       "│            ┆ EDQOPAK3OAT ┆ movie      ┆        ┆   ┆            ┆       ┆ , \"movi\",  ┆           │\n",
       "│            ┆ UOUKLA      ┆ review     ┆        ┆   ┆            ┆       ┆ …          ┆           │\n",
       "│            ┆             ┆ here..…    ┆        ┆   ┆            ┆       ┆ \"opinion…  ┆           │\n",
       "└────────────┴─────────────┴────────────┴────────┴───┴────────────┴───────┴────────────┴───────────┘"
      ]
     },
     "execution_count": 133,
     "metadata": {},
     "output_type": "execute_result"
    }
   ],
   "source": [
    "filtered_df.limit(5)"
   ]
  },
  {
   "cell_type": "code",
   "execution_count": 174,
   "id": "3bdf79c5",
   "metadata": {},
   "outputs": [
    {
     "ename": "ColumnNotFoundError",
     "evalue": "\"tokens\" not found",
     "output_type": "error",
     "traceback": [
      "\u001b[1;31m---------------------------------------------------------------------------\u001b[0m",
      "\u001b[1;31mColumnNotFoundError\u001b[0m                       Traceback (most recent call last)",
      "Cell \u001b[1;32mIn[174], line 2\u001b[0m\n\u001b[0;32m      1\u001b[0m filtered_df \u001b[38;5;241m=\u001b[39m filtered_df\u001b[38;5;241m.\u001b[39mwith_columns(\n\u001b[1;32m----> 2\u001b[0m     pl\u001b[38;5;241m.\u001b[39mSeries(\u001b[38;5;124m\"\u001b[39m\u001b[38;5;124mbigrams\u001b[39m\u001b[38;5;124m\"\u001b[39m, [\u001b[38;5;28mlist\u001b[39m(nltk_bigrams(tokens)) \u001b[38;5;28;01mfor\u001b[39;00m tokens \u001b[38;5;129;01min\u001b[39;00m \u001b[43mfiltered_df\u001b[49m\u001b[43m[\u001b[49m\u001b[38;5;124;43m\"\u001b[39;49m\u001b[38;5;124;43mtokens\u001b[39;49m\u001b[38;5;124;43m\"\u001b[39;49m\u001b[43m]\u001b[49m])\n\u001b[0;32m      3\u001b[0m )\n",
      "File \u001b[1;32mc:\\Python312\\Lib\\site-packages\\polars\\dataframe\\frame.py:1374\u001b[0m, in \u001b[0;36mDataFrame.__getitem__\u001b[1;34m(self, key)\u001b[0m\n\u001b[0;32m   1237\u001b[0m \u001b[38;5;28;01mdef\u001b[39;00m \u001b[38;5;21m__getitem__\u001b[39m(\n\u001b[0;32m   1238\u001b[0m     \u001b[38;5;28mself\u001b[39m,\n\u001b[0;32m   1239\u001b[0m     key: (\n\u001b[1;32m   (...)\u001b[0m\n\u001b[0;32m   1248\u001b[0m     ),\n\u001b[0;32m   1249\u001b[0m ) \u001b[38;5;241m-\u001b[39m\u001b[38;5;241m>\u001b[39m DataFrame \u001b[38;5;241m|\u001b[39m Series \u001b[38;5;241m|\u001b[39m Any:\n\u001b[0;32m   1250\u001b[0m \u001b[38;5;250m    \u001b[39m\u001b[38;5;124;03m\"\"\"\u001b[39;00m\n\u001b[0;32m   1251\u001b[0m \u001b[38;5;124;03m    Get part of the DataFrame as a new DataFrame, Series, or scalar.\u001b[39;00m\n\u001b[0;32m   1252\u001b[0m \n\u001b[1;32m   (...)\u001b[0m\n\u001b[0;32m   1372\u001b[0m \u001b[38;5;124;03m    └─────┴─────┴─────┘\u001b[39;00m\n\u001b[0;32m   1373\u001b[0m \u001b[38;5;124;03m    \"\"\"\u001b[39;00m\n\u001b[1;32m-> 1374\u001b[0m     \u001b[38;5;28;01mreturn\u001b[39;00m \u001b[43mget_df_item_by_key\u001b[49m\u001b[43m(\u001b[49m\u001b[38;5;28;43mself\u001b[39;49m\u001b[43m,\u001b[49m\u001b[43m \u001b[49m\u001b[43mkey\u001b[49m\u001b[43m)\u001b[49m\n",
      "File \u001b[1;32mc:\\Python312\\Lib\\site-packages\\polars\\_utils\\getitem.py:163\u001b[0m, in \u001b[0;36mget_df_item_by_key\u001b[1;34m(df, key)\u001b[0m\n\u001b[0;32m    159\u001b[0m \u001b[38;5;66;03m# Single string input, e.g. df[\"a\"]\u001b[39;00m\n\u001b[0;32m    160\u001b[0m \u001b[38;5;28;01mif\u001b[39;00m \u001b[38;5;28misinstance\u001b[39m(key, \u001b[38;5;28mstr\u001b[39m):\n\u001b[0;32m    161\u001b[0m     \u001b[38;5;66;03m# This case is required because empty strings are otherwise treated\u001b[39;00m\n\u001b[0;32m    162\u001b[0m     \u001b[38;5;66;03m# as an empty Sequence in `_select_rows`\u001b[39;00m\n\u001b[1;32m--> 163\u001b[0m     \u001b[38;5;28;01mreturn\u001b[39;00m \u001b[43mdf\u001b[49m\u001b[38;5;241;43m.\u001b[39;49m\u001b[43mget_column\u001b[49m\u001b[43m(\u001b[49m\u001b[43mkey\u001b[49m\u001b[43m)\u001b[49m\n\u001b[0;32m    165\u001b[0m \u001b[38;5;66;03m# Single input - df[1] - or multiple inputs - df[\"a\", \"b\", \"c\"]\u001b[39;00m\n\u001b[0;32m    166\u001b[0m \u001b[38;5;28;01mtry\u001b[39;00m:\n",
      "File \u001b[1;32mc:\\Python312\\Lib\\site-packages\\polars\\dataframe\\frame.py:8537\u001b[0m, in \u001b[0;36mDataFrame.get_column\u001b[1;34m(self, name, default)\u001b[0m\n\u001b[0;32m   8490\u001b[0m \u001b[38;5;250m\u001b[39m\u001b[38;5;124;03m\"\"\"\u001b[39;00m\n\u001b[0;32m   8491\u001b[0m \u001b[38;5;124;03mGet a single column by name.\u001b[39;00m\n\u001b[0;32m   8492\u001b[0m \n\u001b[1;32m   (...)\u001b[0m\n\u001b[0;32m   8534\u001b[0m \u001b[38;5;124;03mTrue\u001b[39;00m\n\u001b[0;32m   8535\u001b[0m \u001b[38;5;124;03m\"\"\"\u001b[39;00m\n\u001b[0;32m   8536\u001b[0m \u001b[38;5;28;01mtry\u001b[39;00m:\n\u001b[1;32m-> 8537\u001b[0m     \u001b[38;5;28;01mreturn\u001b[39;00m wrap_s(\u001b[38;5;28;43mself\u001b[39;49m\u001b[38;5;241;43m.\u001b[39;49m\u001b[43m_df\u001b[49m\u001b[38;5;241;43m.\u001b[39;49m\u001b[43mget_column\u001b[49m\u001b[43m(\u001b[49m\u001b[43mname\u001b[49m\u001b[43m)\u001b[49m)\n\u001b[0;32m   8538\u001b[0m \u001b[38;5;28;01mexcept\u001b[39;00m ColumnNotFoundError:\n\u001b[0;32m   8539\u001b[0m     \u001b[38;5;28;01mif\u001b[39;00m default \u001b[38;5;129;01mis\u001b[39;00m no_default:\n",
      "\u001b[1;31mColumnNotFoundError\u001b[0m: \"tokens\" not found"
     ]
    }
   ],
   "source": [
    "filtered_df = filtered_df.with_columns(\n",
    "    pl.Series(\"bigrams\", [list(nltk_bigrams(tokens)) for tokens in filtered_df[\"tokens\"]])\n",
    ")"
   ]
  },
  {
   "cell_type": "code",
   "execution_count": 148,
   "id": "2fd84164",
   "metadata": {},
   "outputs": [
    {
     "data": {
      "text/html": [
       "<div><style>\n",
       ".dataframe > thead > tr,\n",
       ".dataframe > tbody > tr {\n",
       "  text-align: right;\n",
       "  white-space: pre-wrap;\n",
       "}\n",
       "</style>\n",
       "<small>shape: (5, 11)</small><table border=\"1\" class=\"dataframe\"><thead><tr><th>asin</th><th>user_id</th><th>text</th><th>rating</th><th>timestamp</th><th>title</th><th>average_rating</th><th>price</th><th>tokens</th><th>community</th><th>bigrams</th></tr><tr><td>str</td><td>str</td><td>str</td><td>f64</td><td>i64</td><td>str</td><td>f64</td><td>f64</td><td>list[str]</td><td>i64</td><td>list[list[str]]</td></tr></thead><tbody><tr><td>&quot;B0002J58ME&quot;</td><td>&quot;AGXVBIUFLFGMVLATYXHJYL4A5Q7Q&quot;</td><td>&quot;This DVD was GREAT!&nbsp;&nbsp;I am a st…</td><td>5.0</td><td>1146713492000</td><td>&quot;10 Minute Solution: Pilates&quot;</td><td>4.6</td><td>8.77</td><td>[&quot;dvd&quot;, &quot;great&quot;, … &quot;give&quot;]</td><td>10</td><td>[[&quot;dvd&quot;, &quot;great&quot;], [&quot;great&quot;, &quot;stay&quot;], … [&quot;love&quot;, &quot;give&quot;]]</td></tr><tr><td>&quot;B001JNNDRY&quot;</td><td>&quot;AEFKF6R2GUSK2AWPSWRR4ZO36JVQ&quot;</td><td>&quot;I grew up with this one. could…</td><td>5.0</td><td>1364088518000</td><td>&quot;Columbo: Mystery Movie Collect…</td><td>4.7</td><td>13.4</td><td>[&quot;grew&quot;, &quot;one&quot;, … &quot;collect&quot;]</td><td>12</td><td>[[&quot;grew&quot;, &quot;one&quot;], [&quot;one&quot;, &quot;couldnt&quot;], … [&quot;collect&quot;, &quot;collect&quot;]]</td></tr><tr><td>&quot;B006OAXL92&quot;</td><td>&quot;AG35BKPUEUMX7LV5YLOQ5YCQ3GOA&quot;</td><td>&quot;Wife and daughter loved the st…</td><td>4.0</td><td>1361833916000</td><td>&quot;Hugo (Blu-ray 3D + Blu-ray + D…</td><td>4.7</td><td>49.94</td><td>[&quot;wife&quot;, &quot;daughter&quot;, … &quot;movi&quot;]</td><td>8</td><td>[[&quot;wife&quot;, &quot;daughter&quot;], [&quot;daughter&quot;, &quot;love&quot;], … [&quot;famili&quot;, &quot;movi&quot;]]</td></tr><tr><td>&quot;B00JHH1ZN8&quot;</td><td>&quot;AHGAOIZVODNHYMNCBV4DECZH42UQ&quot;</td><td>&quot;she received hers yesterday i …</td><td>5.0</td><td>1551222425031</td><td>&quot;Rodgers &amp; Hammerstein&#x27;s Cinder…</td><td>4.9</td><td>6.99</td><td>[&quot;receiv&quot;, &quot;yesterday&quot;, … &quot;childhood&quot;]</td><td>38</td><td>[[&quot;receiv&quot;, &quot;yesterday&quot;], [&quot;yesterday&quot;, &quot;chose&quot;], … [&quot;classic&quot;, &quot;childhood&quot;]]</td></tr><tr><td>&quot;B0B6NHYWP9&quot;</td><td>&quot;AFZUK3MTBIBEDQOPAK3OATUOUKLA&quot;</td><td>&quot;Subjective movie review here..…</td><td>3.0</td><td>1665686687505</td><td>&quot;Beast&quot;</td><td>4.1</td><td>14.99</td><td>[&quot;subject&quot;, &quot;movi&quot;, … &quot;opinion&quot;]</td><td>21</td><td>[[&quot;subject&quot;, &quot;movi&quot;], [&quot;movi&quot;, &quot;review&quot;], … [&quot;attack&quot;, &quot;opinion&quot;]]</td></tr></tbody></table></div>"
      ],
      "text/plain": [
       "shape: (5, 11)\n",
       "┌────────────┬─────────────┬────────────┬────────┬───┬───────┬────────────┬───────────┬────────────┐\n",
       "│ asin       ┆ user_id     ┆ text       ┆ rating ┆ … ┆ price ┆ tokens     ┆ community ┆ bigrams    │\n",
       "│ ---        ┆ ---         ┆ ---        ┆ ---    ┆   ┆ ---   ┆ ---        ┆ ---       ┆ ---        │\n",
       "│ str        ┆ str         ┆ str        ┆ f64    ┆   ┆ f64   ┆ list[str]  ┆ i64       ┆ list[list[ │\n",
       "│            ┆             ┆            ┆        ┆   ┆       ┆            ┆           ┆ str]]      │\n",
       "╞════════════╪═════════════╪════════════╪════════╪═══╪═══════╪════════════╪═══════════╪════════════╡\n",
       "│ B0002J58ME ┆ AGXVBIUFLFG ┆ This DVD   ┆ 5.0    ┆ … ┆ 8.77  ┆ [\"dvd\",    ┆ 10        ┆ [[\"dvd\",   │\n",
       "│            ┆ MVLATYXHJYL ┆ was GREAT! ┆        ┆   ┆       ┆ \"great\", … ┆           ┆ \"great\"],  │\n",
       "│            ┆ 4A5Q7Q      ┆ I am a st… ┆        ┆   ┆       ┆ \"give\"]    ┆           ┆ [\"great\",  │\n",
       "│            ┆             ┆            ┆        ┆   ┆       ┆            ┆           ┆ \"…         │\n",
       "│ B001JNNDRY ┆ AEFKF6R2GUS ┆ I grew up  ┆ 5.0    ┆ … ┆ 13.4  ┆ [\"grew\",   ┆ 12        ┆ [[\"grew\",  │\n",
       "│            ┆ K2AWPSWRR4Z ┆ with this  ┆        ┆   ┆       ┆ \"one\", …   ┆           ┆ \"one\"],    │\n",
       "│            ┆ O36JVQ      ┆ one.       ┆        ┆   ┆       ┆ \"collect\"] ┆           ┆ [\"one\",    │\n",
       "│            ┆             ┆ could…     ┆        ┆   ┆       ┆            ┆           ┆ \"cou…      │\n",
       "│ B006OAXL92 ┆ AG35BKPUEUM ┆ Wife and   ┆ 4.0    ┆ … ┆ 49.94 ┆ [\"wife\",   ┆ 8         ┆ [[\"wife\",  │\n",
       "│            ┆ X7LV5YLOQ5Y ┆ daughter   ┆        ┆   ┆       ┆ \"daughter\" ┆           ┆ \"daughter\" │\n",
       "│            ┆ CQ3GOA      ┆ loved the  ┆        ┆   ┆       ┆ , …        ┆           ┆ ],         │\n",
       "│            ┆             ┆ st…        ┆        ┆   ┆       ┆ \"movi\"]    ┆           ┆ [\"daugh…   │\n",
       "│ B00JHH1ZN8 ┆ AHGAOIZVODN ┆ she        ┆ 5.0    ┆ … ┆ 6.99  ┆ [\"receiv\", ┆ 38        ┆ [[\"receiv\" │\n",
       "│            ┆ HYMNCBV4DEC ┆ received   ┆        ┆   ┆       ┆ \"yesterday ┆           ┆ , \"yesterd │\n",
       "│            ┆ ZH42UQ      ┆ hers       ┆        ┆   ┆       ┆ \", … \"chi… ┆           ┆ ay\"],      │\n",
       "│            ┆             ┆ yesterday  ┆        ┆   ┆       ┆            ┆           ┆ [\"ye…      │\n",
       "│            ┆             ┆ i …        ┆        ┆   ┆       ┆            ┆           ┆            │\n",
       "│ B0B6NHYWP9 ┆ AFZUK3MTBIB ┆ Subjective ┆ 3.0    ┆ … ┆ 14.99 ┆ [\"subject\" ┆ 21        ┆ [[\"subject │\n",
       "│            ┆ EDQOPAK3OAT ┆ movie      ┆        ┆   ┆       ┆ , \"movi\",  ┆           ┆ \",         │\n",
       "│            ┆ UOUKLA      ┆ review     ┆        ┆   ┆       ┆ …          ┆           ┆ \"movi\"],   │\n",
       "│            ┆             ┆ here..…    ┆        ┆   ┆       ┆ \"opinion…  ┆           ┆ [\"movi\",…  │\n",
       "└────────────┴─────────────┴────────────┴────────┴───┴───────┴────────────┴───────────┴────────────┘"
      ]
     },
     "execution_count": 148,
     "metadata": {},
     "output_type": "execute_result"
    }
   ],
   "source": [
    "filtered_df.write_json(\"tokenizedReviews.json\")\n",
    "filtered_df.limit(5)"
   ]
  },
  {
   "cell_type": "code",
   "execution_count": 149,
   "metadata": {},
   "outputs": [],
   "source": [
    "bigrams = (\n",
    "    filtered_df\n",
    "    .select(pl.col(\"bigrams\"))\n",
    "    .drop_nulls()\n",
    "    .explode(\"bigrams\")\n",
    "    .get_column(\"bigrams\")\n",
    "    .to_list()\n",
    ")\n",
    "filtered_df = filtered_df.drop(\"bigrams\")"
   ]
  },
  {
   "cell_type": "code",
   "execution_count": null,
   "metadata": {},
   "outputs": [],
   "source": [
    "bigrams = (tuple(bg) for bg in bigrams if isinstance(bg, list) and len(bg) == 2)"
   ]
  },
  {
   "cell_type": "code",
   "execution_count": 151,
   "metadata": {},
   "outputs": [],
   "source": [
    "bigram_counts = Counter(bigrams)\n",
    "first_counts = Counter()\n",
    "second_counts = Counter()\n",
    "for (w1, w2), cnt in bigram_counts.items():\n",
    "    first_counts[w1] += cnt\n",
    "    second_counts[w2] += cnt\n",
    "\n",
    "N = len(bigrams)\n",
    "items = list(bigram_counts.items())\n",
    "bgs, nii = zip(*items)\n",
    "w1s, w2s = zip(*bgs)\n",
    "\n",
    "f = np.fromiter((first_counts[w] for w in w1s), float)\n",
    "s = np.fromiter((second_counts[w] for w in w2s), float)\n",
    "o = np.array(nii, float)\n",
    "\n",
    "nio = f - o\n",
    "noi = s - o\n",
    "noo = N - (o + nio + noi)\n",
    "\n",
    "Eii = f * s / N\n",
    "Eio = f * (N - s) / N\n",
    "Eoi = (N - f) * s / N\n",
    "Eoo = (N - f) * (N - s) / N\n",
    "\n",
    "chi2_vals = (o - Eii)**2/Eii + (nio - Eio)**2/Eio + (noi - Eoi)**2/Eoi + (noo - Eoo)**2/Eoo\n",
    "p_vals = chi2.sf(chi2_vals, 1)\n",
    "\n",
    "mask = (o > 50) & (p_vals < 0.001)\n",
    "collocs = {bgs[i]: int(o[i]) for i in np.nonzero(mask)[0]}"
   ]
  },
  {
   "cell_type": "code",
   "execution_count": 152,
   "metadata": {},
   "outputs": [],
   "source": [
    "tokenizer = MWETokenizer(list(collocs.keys()), separator=\"_\")\n",
    "filtered_df = filtered_df.with_columns(\n",
    "    pl.Series(\"tokens\", (tokenizer.tokenize(tokens) for tokens in filtered_df[\"tokens\"]))\n",
    ")"
   ]
  },
  {
   "cell_type": "code",
   "execution_count": 153,
   "metadata": {},
   "outputs": [
    {
     "data": {
      "text/html": [
       "<div><style>\n",
       ".dataframe > thead > tr,\n",
       ".dataframe > tbody > tr {\n",
       "  text-align: right;\n",
       "  white-space: pre-wrap;\n",
       "}\n",
       "</style>\n",
       "<small>shape: (5, 10)</small><table border=\"1\" class=\"dataframe\"><thead><tr><th>asin</th><th>user_id</th><th>text</th><th>rating</th><th>timestamp</th><th>title</th><th>average_rating</th><th>price</th><th>tokens</th><th>community</th></tr><tr><td>str</td><td>str</td><td>str</td><td>f64</td><td>i64</td><td>str</td><td>f64</td><td>f64</td><td>list[str]</td><td>i64</td></tr></thead><tbody><tr><td>&quot;B0002J58ME&quot;</td><td>&quot;AGXVBIUFLFGMVLATYXHJYL4A5Q7Q&quot;</td><td>&quot;This DVD was GREAT!&nbsp;&nbsp;I am a st…</td><td>5.0</td><td>1146713492000</td><td>&quot;10 Minute Solution: Pilates&quot;</td><td>4.6</td><td>8.77</td><td>[&quot;dvd_great&quot;, &quot;stay_home&quot;, … &quot;give&quot;]</td><td>10</td></tr><tr><td>&quot;B001JNNDRY&quot;</td><td>&quot;AEFKF6R2GUSK2AWPSWRR4ZO36JVQ&quot;</td><td>&quot;I grew up with this one. could…</td><td>5.0</td><td>1364088518000</td><td>&quot;Columbo: Mystery Movie Collect…</td><td>4.7</td><td>13.4</td><td>[&quot;grew&quot;, &quot;one&quot;, … &quot;collect&quot;]</td><td>12</td></tr><tr><td>&quot;B006OAXL92&quot;</td><td>&quot;AG35BKPUEUMX7LV5YLOQ5YCQ3GOA&quot;</td><td>&quot;Wife and daughter loved the st…</td><td>4.0</td><td>1361833916000</td><td>&quot;Hugo (Blu-ray 3D + Blu-ray + D…</td><td>4.7</td><td>49.94</td><td>[&quot;wife_daughter&quot;, &quot;love&quot;, … &quot;famili_movi&quot;]</td><td>8</td></tr><tr><td>&quot;B00JHH1ZN8&quot;</td><td>&quot;AHGAOIZVODNHYMNCBV4DECZH42UQ&quot;</td><td>&quot;she received hers yesterday i …</td><td>5.0</td><td>1551222425031</td><td>&quot;Rodgers &amp; Hammerstein&#x27;s Cinder…</td><td>4.9</td><td>6.99</td><td>[&quot;receiv&quot;, &quot;yesterday&quot;, … &quot;childhood&quot;]</td><td>38</td></tr><tr><td>&quot;B0B6NHYWP9&quot;</td><td>&quot;AFZUK3MTBIBEDQOPAK3OATUOUKLA&quot;</td><td>&quot;Subjective movie review here..…</td><td>3.0</td><td>1665686687505</td><td>&quot;Beast&quot;</td><td>4.1</td><td>14.99</td><td>[&quot;subject&quot;, &quot;movi&quot;, … &quot;opinion&quot;]</td><td>21</td></tr></tbody></table></div>"
      ],
      "text/plain": [
       "shape: (5, 10)\n",
       "┌────────────┬─────────────┬────────────┬────────┬───┬────────────┬───────┬────────────┬───────────┐\n",
       "│ asin       ┆ user_id     ┆ text       ┆ rating ┆ … ┆ average_ra ┆ price ┆ tokens     ┆ community │\n",
       "│ ---        ┆ ---         ┆ ---        ┆ ---    ┆   ┆ ting       ┆ ---   ┆ ---        ┆ ---       │\n",
       "│ str        ┆ str         ┆ str        ┆ f64    ┆   ┆ ---        ┆ f64   ┆ list[str]  ┆ i64       │\n",
       "│            ┆             ┆            ┆        ┆   ┆ f64        ┆       ┆            ┆           │\n",
       "╞════════════╪═════════════╪════════════╪════════╪═══╪════════════╪═══════╪════════════╪═══════════╡\n",
       "│ B0002J58ME ┆ AGXVBIUFLFG ┆ This DVD   ┆ 5.0    ┆ … ┆ 4.6        ┆ 8.77  ┆ [\"dvd_grea ┆ 10        │\n",
       "│            ┆ MVLATYXHJYL ┆ was GREAT! ┆        ┆   ┆            ┆       ┆ t\", \"stay_ ┆           │\n",
       "│            ┆ 4A5Q7Q      ┆ I am a st… ┆        ┆   ┆            ┆       ┆ home\", …   ┆           │\n",
       "│            ┆             ┆            ┆        ┆   ┆            ┆       ┆ \"…         ┆           │\n",
       "│ B001JNNDRY ┆ AEFKF6R2GUS ┆ I grew up  ┆ 5.0    ┆ … ┆ 4.7        ┆ 13.4  ┆ [\"grew\",   ┆ 12        │\n",
       "│            ┆ K2AWPSWRR4Z ┆ with this  ┆        ┆   ┆            ┆       ┆ \"one\", …   ┆           │\n",
       "│            ┆ O36JVQ      ┆ one.       ┆        ┆   ┆            ┆       ┆ \"collect\"] ┆           │\n",
       "│            ┆             ┆ could…     ┆        ┆   ┆            ┆       ┆            ┆           │\n",
       "│ B006OAXL92 ┆ AG35BKPUEUM ┆ Wife and   ┆ 4.0    ┆ … ┆ 4.7        ┆ 49.94 ┆ [\"wife_dau ┆ 8         │\n",
       "│            ┆ X7LV5YLOQ5Y ┆ daughter   ┆        ┆   ┆            ┆       ┆ ghter\",    ┆           │\n",
       "│            ┆ CQ3GOA      ┆ loved the  ┆        ┆   ┆            ┆       ┆ \"love\", …  ┆           │\n",
       "│            ┆             ┆ st…        ┆        ┆   ┆            ┆       ┆ \"f…        ┆           │\n",
       "│ B00JHH1ZN8 ┆ AHGAOIZVODN ┆ she        ┆ 5.0    ┆ … ┆ 4.9        ┆ 6.99  ┆ [\"receiv\", ┆ 38        │\n",
       "│            ┆ HYMNCBV4DEC ┆ received   ┆        ┆   ┆            ┆       ┆ \"yesterday ┆           │\n",
       "│            ┆ ZH42UQ      ┆ hers       ┆        ┆   ┆            ┆       ┆ \", … \"chi… ┆           │\n",
       "│            ┆             ┆ yesterday  ┆        ┆   ┆            ┆       ┆            ┆           │\n",
       "│            ┆             ┆ i …        ┆        ┆   ┆            ┆       ┆            ┆           │\n",
       "│ B0B6NHYWP9 ┆ AFZUK3MTBIB ┆ Subjective ┆ 3.0    ┆ … ┆ 4.1        ┆ 14.99 ┆ [\"subject\" ┆ 21        │\n",
       "│            ┆ EDQOPAK3OAT ┆ movie      ┆        ┆   ┆            ┆       ┆ , \"movi\",  ┆           │\n",
       "│            ┆ UOUKLA      ┆ review     ┆        ┆   ┆            ┆       ┆ …          ┆           │\n",
       "│            ┆             ┆ here..…    ┆        ┆   ┆            ┆       ┆ \"opinion…  ┆           │\n",
       "└────────────┴─────────────┴────────────┴────────┴───┴────────────┴───────┴────────────┴───────────┘"
      ]
     },
     "execution_count": 153,
     "metadata": {},
     "output_type": "execute_result"
    }
   ],
   "source": [
    "filtered_df.limit(5)"
   ]
  },
  {
   "cell_type": "code",
   "execution_count": 169,
   "metadata": {},
   "outputs": [
    {
     "ename": "ColumnNotFoundError",
     "evalue": "tokens\n\nResolved plan until failure:\n\n\t---> FAILED HERE RESOLVING 'sink' <---\nDF [\"user_id\", \"asin\", \"rating\", \"timestamp\", ...]; PROJECT */9 COLUMNS",
     "output_type": "error",
     "traceback": [
      "\u001b[1;31m---------------------------------------------------------------------------\u001b[0m",
      "\u001b[1;31mColumnNotFoundError\u001b[0m                       Traceback (most recent call last)",
      "Cell \u001b[1;32mIn[169], line 4\u001b[0m\n\u001b[0;32m      1\u001b[0m community_docs \u001b[38;5;241m=\u001b[39m (\n\u001b[0;32m      2\u001b[0m     \u001b[43mfiltered_df\u001b[49m\n\u001b[0;32m      3\u001b[0m \u001b[43m    \u001b[49m\u001b[38;5;241;43m.\u001b[39;49m\u001b[43mgroup_by\u001b[49m\u001b[43m(\u001b[49m\u001b[38;5;124;43m\"\u001b[39;49m\u001b[38;5;124;43mcommunity\u001b[39;49m\u001b[38;5;124;43m\"\u001b[39;49m\u001b[43m)\u001b[49m\n\u001b[1;32m----> 4\u001b[0m \u001b[43m    \u001b[49m\u001b[38;5;241;43m.\u001b[39;49m\u001b[43magg\u001b[49m\u001b[43m(\u001b[49m\n\u001b[0;32m      5\u001b[0m \u001b[43m        \u001b[49m\u001b[43mpl\u001b[49m\u001b[38;5;241;43m.\u001b[39;49m\u001b[43mconcat_list\u001b[49m\u001b[43m(\u001b[49m\u001b[38;5;124;43m\"\u001b[39;49m\u001b[38;5;124;43mtokens\u001b[39;49m\u001b[38;5;124;43m\"\u001b[39;49m\u001b[43m)\u001b[49m\u001b[38;5;241;43m.\u001b[39;49m\u001b[43mflatten\u001b[49m\u001b[43m(\u001b[49m\u001b[43m)\u001b[49m\u001b[38;5;241;43m.\u001b[39;49m\u001b[43malias\u001b[49m\u001b[43m(\u001b[49m\u001b[38;5;124;43m\"\u001b[39;49m\u001b[38;5;124;43mtokens\u001b[39;49m\u001b[38;5;124;43m\"\u001b[39;49m\u001b[43m)\u001b[49m\u001b[43m,\u001b[49m\u001b[43m \u001b[49m\n\u001b[0;32m      6\u001b[0m \u001b[43m        \u001b[49m\u001b[43mpl\u001b[49m\u001b[38;5;241;43m.\u001b[39;49m\u001b[43mlen\u001b[49m\u001b[43m(\u001b[49m\u001b[43m)\u001b[49m\u001b[38;5;241;43m.\u001b[39;49m\u001b[43malias\u001b[49m\u001b[43m(\u001b[49m\u001b[38;5;124;43m\"\u001b[39;49m\u001b[38;5;124;43mnum_reviews\u001b[39;49m\u001b[38;5;124;43m\"\u001b[39;49m\u001b[43m)\u001b[49m\n\u001b[0;32m      7\u001b[0m \u001b[43m    \u001b[49m\u001b[43m)\u001b[49m\u001b[38;5;241m.\u001b[39msort(\u001b[38;5;124m\"\u001b[39m\u001b[38;5;124mnum_reviews\u001b[39m\u001b[38;5;124m\"\u001b[39m, descending\u001b[38;5;241m=\u001b[39m\u001b[38;5;28;01mTrue\u001b[39;00m)\n\u001b[0;32m      8\u001b[0m )\n\u001b[0;32m      9\u001b[0m top5com \u001b[38;5;241m=\u001b[39m community_docs\u001b[38;5;241m.\u001b[39mlimit(\u001b[38;5;241m5\u001b[39m)\n\u001b[0;32m     10\u001b[0m top5com\n",
      "File \u001b[1;32mc:\\Python312\\Lib\\site-packages\\polars\\dataframe\\group_by.py:232\u001b[0m, in \u001b[0;36mGroupBy.agg\u001b[1;34m(self, *aggs, **named_aggs)\u001b[0m\n\u001b[0;32m    123\u001b[0m \u001b[38;5;28;01mdef\u001b[39;00m \u001b[38;5;21magg\u001b[39m(\n\u001b[0;32m    124\u001b[0m     \u001b[38;5;28mself\u001b[39m,\n\u001b[0;32m    125\u001b[0m     \u001b[38;5;241m*\u001b[39maggs: IntoExpr \u001b[38;5;241m|\u001b[39m Iterable[IntoExpr],\n\u001b[0;32m    126\u001b[0m     \u001b[38;5;241m*\u001b[39m\u001b[38;5;241m*\u001b[39mnamed_aggs: IntoExpr,\n\u001b[0;32m    127\u001b[0m ) \u001b[38;5;241m-\u001b[39m\u001b[38;5;241m>\u001b[39m DataFrame:\n\u001b[0;32m    128\u001b[0m \u001b[38;5;250m    \u001b[39m\u001b[38;5;124;03m\"\"\"\u001b[39;00m\n\u001b[0;32m    129\u001b[0m \u001b[38;5;124;03m    Compute aggregations for each group of a group by operation.\u001b[39;00m\n\u001b[0;32m    130\u001b[0m \n\u001b[1;32m   (...)\u001b[0m\n\u001b[0;32m    226\u001b[0m \u001b[38;5;124;03m    └─────┴───────┴────────────────┘\u001b[39;00m\n\u001b[0;32m    227\u001b[0m \u001b[38;5;124;03m    \"\"\"\u001b[39;00m\n\u001b[0;32m    228\u001b[0m     \u001b[38;5;28;01mreturn\u001b[39;00m (\n\u001b[0;32m    229\u001b[0m         \u001b[38;5;28;43mself\u001b[39;49m\u001b[38;5;241;43m.\u001b[39;49m\u001b[43mdf\u001b[49m\u001b[38;5;241;43m.\u001b[39;49m\u001b[43mlazy\u001b[49m\u001b[43m(\u001b[49m\u001b[43m)\u001b[49m\n\u001b[0;32m    230\u001b[0m \u001b[43m        \u001b[49m\u001b[38;5;241;43m.\u001b[39;49m\u001b[43mgroup_by\u001b[49m\u001b[43m(\u001b[49m\u001b[38;5;241;43m*\u001b[39;49m\u001b[38;5;28;43mself\u001b[39;49m\u001b[38;5;241;43m.\u001b[39;49m\u001b[43mby\u001b[49m\u001b[43m,\u001b[49m\u001b[43m \u001b[49m\u001b[38;5;241;43m*\u001b[39;49m\u001b[38;5;241;43m*\u001b[39;49m\u001b[38;5;28;43mself\u001b[39;49m\u001b[38;5;241;43m.\u001b[39;49m\u001b[43mnamed_by\u001b[49m\u001b[43m,\u001b[49m\u001b[43m \u001b[49m\u001b[43mmaintain_order\u001b[49m\u001b[38;5;241;43m=\u001b[39;49m\u001b[38;5;28;43mself\u001b[39;49m\u001b[38;5;241;43m.\u001b[39;49m\u001b[43mmaintain_order\u001b[49m\u001b[43m)\u001b[49m\n\u001b[0;32m    231\u001b[0m \u001b[43m        \u001b[49m\u001b[38;5;241;43m.\u001b[39;49m\u001b[43magg\u001b[49m\u001b[43m(\u001b[49m\u001b[38;5;241;43m*\u001b[39;49m\u001b[43maggs\u001b[49m\u001b[43m,\u001b[49m\u001b[43m \u001b[49m\u001b[38;5;241;43m*\u001b[39;49m\u001b[38;5;241;43m*\u001b[39;49m\u001b[43mnamed_aggs\u001b[49m\u001b[43m)\u001b[49m\n\u001b[1;32m--> 232\u001b[0m \u001b[43m        \u001b[49m\u001b[38;5;241;43m.\u001b[39;49m\u001b[43mcollect\u001b[49m\u001b[43m(\u001b[49m\u001b[43mno_optimization\u001b[49m\u001b[38;5;241;43m=\u001b[39;49m\u001b[38;5;28;43;01mTrue\u001b[39;49;00m\u001b[43m)\u001b[49m\n\u001b[0;32m    233\u001b[0m     )\n",
      "File \u001b[1;32mc:\\Python312\\Lib\\site-packages\\polars\\_utils\\deprecation.py:93\u001b[0m, in \u001b[0;36mdeprecate_streaming_parameter.<locals>.decorate.<locals>.wrapper\u001b[1;34m(*args, **kwargs)\u001b[0m\n\u001b[0;32m     89\u001b[0m         kwargs[\u001b[38;5;124m\"\u001b[39m\u001b[38;5;124mengine\u001b[39m\u001b[38;5;124m\"\u001b[39m] \u001b[38;5;241m=\u001b[39m \u001b[38;5;124m\"\u001b[39m\u001b[38;5;124min-memory\u001b[39m\u001b[38;5;124m\"\u001b[39m\n\u001b[0;32m     91\u001b[0m     \u001b[38;5;28;01mdel\u001b[39;00m kwargs[\u001b[38;5;124m\"\u001b[39m\u001b[38;5;124mstreaming\u001b[39m\u001b[38;5;124m\"\u001b[39m]\n\u001b[1;32m---> 93\u001b[0m \u001b[38;5;28;01mreturn\u001b[39;00m \u001b[43mfunction\u001b[49m\u001b[43m(\u001b[49m\u001b[38;5;241;43m*\u001b[39;49m\u001b[43margs\u001b[49m\u001b[43m,\u001b[49m\u001b[43m \u001b[49m\u001b[38;5;241;43m*\u001b[39;49m\u001b[38;5;241;43m*\u001b[39;49m\u001b[43mkwargs\u001b[49m\u001b[43m)\u001b[49m\n",
      "File \u001b[1;32mc:\\Python312\\Lib\\site-packages\\polars\\lazyframe\\frame.py:2207\u001b[0m, in \u001b[0;36mLazyFrame.collect\u001b[1;34m(self, type_coercion, _type_check, predicate_pushdown, projection_pushdown, simplify_expression, slice_pushdown, comm_subplan_elim, comm_subexpr_elim, cluster_with_columns, collapse_joins, no_optimization, engine, background, _check_order, _eager, **_kwargs)\u001b[0m\n\u001b[0;32m   2205\u001b[0m \u001b[38;5;66;03m# Only for testing purposes\u001b[39;00m\n\u001b[0;32m   2206\u001b[0m callback \u001b[38;5;241m=\u001b[39m _kwargs\u001b[38;5;241m.\u001b[39mget(\u001b[38;5;124m\"\u001b[39m\u001b[38;5;124mpost_opt_callback\u001b[39m\u001b[38;5;124m\"\u001b[39m, callback)\n\u001b[1;32m-> 2207\u001b[0m \u001b[38;5;28;01mreturn\u001b[39;00m wrap_df(\u001b[43mldf\u001b[49m\u001b[38;5;241;43m.\u001b[39;49m\u001b[43mcollect\u001b[49m\u001b[43m(\u001b[49m\u001b[43mengine\u001b[49m\u001b[43m,\u001b[49m\u001b[43m \u001b[49m\u001b[43mcallback\u001b[49m\u001b[43m)\u001b[49m)\n",
      "\u001b[1;31mColumnNotFoundError\u001b[0m: tokens\n\nResolved plan until failure:\n\n\t---> FAILED HERE RESOLVING 'sink' <---\nDF [\"user_id\", \"asin\", \"rating\", \"timestamp\", ...]; PROJECT */9 COLUMNS"
     ]
    }
   ],
   "source": [
    "community_docs = (\n",
    "    filtered_df\n",
    "    .group_by(\"community\")\n",
    "    .agg(\n",
    "        pl.concat_list(\"tokens\").flatten().alias(\"tokens\"), \n",
    "        pl.len().alias(\"num_reviews\")\n",
    "    ).sort(\"num_reviews\", descending=True)\n",
    ")\n",
    "top5com = community_docs.limit(5)\n",
    "top5com"
   ]
  },
  {
   "cell_type": "code",
   "execution_count": 155,
   "metadata": {},
   "outputs": [],
   "source": [
    "def calculate_tf(tokens):\n",
    "    total = len(tokens)\n",
    "    counts = Counter(tokens)\n",
    "    return {word: count / total for word, count in counts.items()}\n",
    "\n",
    "def calculate_idf(docs: pl.DataFrame) -> dict[str, float]:\n",
    "    N = docs.height\n",
    "    df = (\n",
    "        docs\n",
    "        .explode(\"tokens\")\n",
    "        .unique(subset=[\"community\", \"tokens\"])\n",
    "        .group_by(\"tokens\")\n",
    "        .agg(pl.len().alias(\"df\"))\n",
    "        .with_columns((pl.lit(N) / pl.col(\"df\")).log().alias(\"idf\"))\n",
    "        .sort(\"idf\", descending=False)\n",
    "    )\n",
    "    return dict(zip(df[\"tokens\"].to_list(), df[\"idf\"].to_list()))\n",
    "\n",
    "def calculate_tf_idf(tf, idf):\n",
    "    tf_idf = {}\n",
    "    for word, val in tf.items():\n",
    "        tf_idf[word] = val * idf[word]\n",
    "    return tf_idf"
   ]
  },
  {
   "cell_type": "code",
   "execution_count": 156,
   "metadata": {},
   "outputs": [],
   "source": [
    "idf = calculate_idf(community_docs)"
   ]
  },
  {
   "cell_type": "code",
   "execution_count": 173,
   "metadata": {},
   "outputs": [
    {
     "ename": "NameError",
     "evalue": "name 'idf' is not defined",
     "output_type": "error",
     "traceback": [
      "\u001b[1;31m---------------------------------------------------------------------------\u001b[0m",
      "\u001b[1;31mNameError\u001b[0m                                 Traceback (most recent call last)",
      "Cell \u001b[1;32mIn[173], line 1\u001b[0m\n\u001b[1;32m----> 1\u001b[0m \u001b[43midf\u001b[49m\n",
      "\u001b[1;31mNameError\u001b[0m: name 'idf' is not defined"
     ]
    }
   ],
   "source": [
    "top_5_tf_idf = {}\n",
    "\n",
    "for _, row in top5com.iterrows():\n",
    "    tf = calculate_tf(row[\"tokens\"])\n",
    "    tf_idf = calculate_tf_idf(tf, idf)\n",
    "    top_5_tf_idf[row[\"community\"]] = tf_idf"
   ]
  },
  {
   "cell_type": "markdown",
   "id": "a63ecf9c",
   "metadata": {},
   "source": [
    "### Word clouds"
   ]
  },
  {
   "cell_type": "code",
   "execution_count": null,
   "id": "0b59ce0f",
   "metadata": {},
   "outputs": [],
   "source": [
    "def plot_word_clouds_grid(word_freq, top_movies = None, ncols=3):\n",
    "    communities = list(word_freq.keys())\n",
    "    nrows = -(-len(communities) // ncols)\n",
    "    fig, axes = plt.subplots(nrows, ncols, figsize=(ncols * 5, nrows * 6))\n",
    "    axes = axes.flatten()\n",
    "\n",
    "    for ax, comm in zip(axes, communities):\n",
    "        cloud = WordCloud(background_color='white', height=500, width=500, colormap=\"viridis_r\", contour_color='black', contour_width=0.5)\n",
    "        cloud.generate_from_frequencies(word_freq[comm])\n",
    "        movies = \"\\n\".join(top_movies[comm]) if top_movies != None else str(comm)\n",
    "        ax.imshow(cloud, interpolation='bilinear')\n",
    "        ax.set_title(movies, fontsize=12)\n",
    "        ax.axis('off')\n",
    "\n",
    "    for ax in axes[len(communities):]:\n",
    "        ax.axis('off')\n",
    "\n",
    "    plt.tight_layout()\n",
    "    plt.show()\n",
    "\n",
    "plot_word_clouds_grid(top_5_tf_idf) # Plotting is based on tf-idf values and stemmed tokens"
   ]
  }
 ],
 "metadata": {
  "kernelspec": {
   "display_name": "Python 3",
   "language": "python",
   "name": "python3"
  },
  "language_info": {
   "codemirror_mode": {
    "name": "ipython",
    "version": 3
   },
   "file_extension": ".py",
   "mimetype": "text/x-python",
   "name": "python",
   "nbconvert_exporter": "python",
   "pygments_lexer": "ipython3",
   "version": "3.12.3"
  }
 },
 "nbformat": 4,
 "nbformat_minor": 5
}
