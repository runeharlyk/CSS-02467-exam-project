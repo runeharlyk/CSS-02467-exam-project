{
 "cells": [
  {
   "cell_type": "code",
   "execution_count": 3,
   "id": "8c0720ba",
   "metadata": {},
   "outputs": [],
   "source": [
    "import pandas as pd\n",
    "from itertools import combinations\n",
    "from collections import Counter, defaultdict\n",
    "import networkx as nx\n",
    "from tqdm import tqdm\n",
    "import numpy as np\n",
    "import matplotlib.pyplot as plt\n",
    "from community import community_louvain\n",
    "\n",
    "FILTER_RAW_DATASET = False"
   ]
  },
  {
   "cell_type": "markdown",
   "id": "b40e90b8",
   "metadata": {},
   "source": [
    "[Get dataset here](https://nijianmo.github.io/amazon/index.html)"
   ]
  },
  {
   "cell_type": "markdown",
   "id": "1401dd6e",
   "metadata": {},
   "source": [
    "### Filtering"
   ]
  },
  {
   "cell_type": "code",
   "execution_count": 4,
   "id": "99535484",
   "metadata": {},
   "outputs": [],
   "source": [
    "def load_and_filter_raw_dataset(raw_file, filtered_file):\n",
    "    df = pd.read_json(raw_file, lines=True)\n",
    "    df = df.loc[df['verified']]\n",
    "    df.drop(['reviewTime', 'image', 'vote', 'style', 'verified'], inplace=True, axis=1)\n",
    "    df.to_csv(filtered_file, index=False)\n",
    "    return df"
   ]
  },
  {
   "cell_type": "code",
   "execution_count": 5,
   "id": "9741d965",
   "metadata": {},
   "outputs": [
    {
     "data": {
      "text/html": [
       "<div>\n",
       "<style scoped>\n",
       "    .dataframe tbody tr th:only-of-type {\n",
       "        vertical-align: middle;\n",
       "    }\n",
       "\n",
       "    .dataframe tbody tr th {\n",
       "        vertical-align: top;\n",
       "    }\n",
       "\n",
       "    .dataframe thead th {\n",
       "        text-align: right;\n",
       "    }\n",
       "</style>\n",
       "<table border=\"1\" class=\"dataframe\">\n",
       "  <thead>\n",
       "    <tr style=\"text-align: right;\">\n",
       "      <th></th>\n",
       "      <th>overall</th>\n",
       "      <th>reviewerID</th>\n",
       "      <th>asin</th>\n",
       "      <th>reviewerName</th>\n",
       "      <th>reviewText</th>\n",
       "      <th>summary</th>\n",
       "      <th>unixReviewTime</th>\n",
       "    </tr>\n",
       "  </thead>\n",
       "  <tbody>\n",
       "    <tr>\n",
       "      <th>0</th>\n",
       "      <td>5</td>\n",
       "      <td>A2M1CU2IRZG0K9</td>\n",
       "      <td>0005089549</td>\n",
       "      <td>Terri</td>\n",
       "      <td>So sorry I didn't purchase this years ago when...</td>\n",
       "      <td>Amazing!</td>\n",
       "      <td>1352419200</td>\n",
       "    </tr>\n",
       "    <tr>\n",
       "      <th>1</th>\n",
       "      <td>5</td>\n",
       "      <td>AFTUJYISOFHY6</td>\n",
       "      <td>0005089549</td>\n",
       "      <td>Melissa D. Abercrombie</td>\n",
       "      <td>Believe me when I tell you that you will recei...</td>\n",
       "      <td>Great Gospel VHS of the Cathedrals!</td>\n",
       "      <td>1325203200</td>\n",
       "    </tr>\n",
       "    <tr>\n",
       "      <th>2</th>\n",
       "      <td>5</td>\n",
       "      <td>A3JVF9Y53BEOGC</td>\n",
       "      <td>000503860X</td>\n",
       "      <td>Anthony Thompson</td>\n",
       "      <td>I have seen X live many times, both in the ear...</td>\n",
       "      <td>A great document of a great band</td>\n",
       "      <td>1114041600</td>\n",
       "    </tr>\n",
       "    <tr>\n",
       "      <th>3</th>\n",
       "      <td>5</td>\n",
       "      <td>A12VPEOEZS1KTC</td>\n",
       "      <td>000503860X</td>\n",
       "      <td>JadeRain</td>\n",
       "      <td>I was so excited for this!  Finally, a live co...</td>\n",
       "      <td>YES!!  X LIVE!!</td>\n",
       "      <td>1112745600</td>\n",
       "    </tr>\n",
       "    <tr>\n",
       "      <th>4</th>\n",
       "      <td>5</td>\n",
       "      <td>ATLZNVLYKP9AZ</td>\n",
       "      <td>000503860X</td>\n",
       "      <td>T. Fisher</td>\n",
       "      <td>X is one of the best punk bands ever. I don't ...</td>\n",
       "      <td>X have still got it</td>\n",
       "      <td>1291334400</td>\n",
       "    </tr>\n",
       "  </tbody>\n",
       "</table>\n",
       "</div>"
      ],
      "text/plain": [
       "   overall      reviewerID        asin            reviewerName  \\\n",
       "0        5  A2M1CU2IRZG0K9  0005089549                   Terri   \n",
       "1        5   AFTUJYISOFHY6  0005089549  Melissa D. Abercrombie   \n",
       "2        5  A3JVF9Y53BEOGC  000503860X        Anthony Thompson   \n",
       "3        5  A12VPEOEZS1KTC  000503860X                JadeRain   \n",
       "4        5   ATLZNVLYKP9AZ  000503860X               T. Fisher   \n",
       "\n",
       "                                          reviewText  \\\n",
       "0  So sorry I didn't purchase this years ago when...   \n",
       "1  Believe me when I tell you that you will recei...   \n",
       "2  I have seen X live many times, both in the ear...   \n",
       "3  I was so excited for this!  Finally, a live co...   \n",
       "4  X is one of the best punk bands ever. I don't ...   \n",
       "\n",
       "                               summary  unixReviewTime  \n",
       "0                             Amazing!      1352419200  \n",
       "1  Great Gospel VHS of the Cathedrals!      1325203200  \n",
       "2     A great document of a great band      1114041600  \n",
       "3                      YES!!  X LIVE!!      1112745600  \n",
       "4                  X have still got it      1291334400  "
      ]
     },
     "execution_count": 5,
     "metadata": {},
     "output_type": "execute_result"
    }
   ],
   "source": [
    "RAW_DATA_FILE = 'Movies_and_TV_5.json'\n",
    "FILTERED_DATA_FILE = 'tv.csv'\n",
    "\n",
    "if FILTER_RAW_DATASET:\n",
    "    df = load_and_filter_raw_dataset(RAW_DATA_FILE, FILTERED_DATA_FILE)\n",
    "else:\n",
    "    df = pd.read_csv(FILTERED_DATA_FILE)\n",
    "\n",
    "df.head()"
   ]
  },
  {
   "cell_type": "markdown",
   "id": "cb37cdf2",
   "metadata": {},
   "source": [
    "### Network"
   ]
  },
  {
   "cell_type": "code",
   "execution_count": 6,
   "id": "d1f99cf6",
   "metadata": {},
   "outputs": [],
   "source": [
    "# grouped = df.groupby('asin')['reviewerID'].unique()\n",
    "# for movie_id, reviewers in grouped.items():\n",
    "#     if len(set(reviewers)) < 5:\n",
    "#         print(f\"Movie {movie_id} has only {len(set(reviewers))} unique reviewers.\")\n",
    "#         break"
   ]
  },
  {
   "cell_type": "code",
   "execution_count": 7,
   "id": "dc053c1a",
   "metadata": {},
   "outputs": [],
   "source": [
    "def filter_reviews(df, threshold=15):\n",
    "    prev_shape = (0, 0)\n",
    "    current_shape = df.shape\n",
    "\n",
    "    while current_shape != prev_shape:\n",
    "        prev_shape = current_shape\n",
    "\n",
    "        review_counts = df.groupby('asin')['reviewerID'].nunique()\n",
    "        valid_movies = review_counts[review_counts >= threshold].index\n",
    "        df = df[df['asin'].isin(valid_movies)]\n",
    "\n",
    "        reviewer_counts = df.groupby('reviewerID')['asin'].nunique()\n",
    "        valid_reviewers = reviewer_counts[reviewer_counts >= threshold].index\n",
    "        df = df[df['reviewerID'].isin(valid_reviewers)]\n",
    "\n",
    "        current_shape = df.shape\n",
    "\n",
    "    return df\n",
    "\n",
    "filtered_df = filter_reviews(df)"
   ]
  },
  {
   "cell_type": "code",
   "execution_count": 8,
   "id": "83e575eb",
   "metadata": {},
   "outputs": [
    {
     "data": {
      "text/plain": [
       "4"
      ]
     },
     "execution_count": 8,
     "metadata": {},
     "output_type": "execute_result"
    }
   ],
   "source": [
    "reviewer_counts = df.groupby('reviewerID')['asin'].nunique()\n",
    "len(reviewer_counts[reviewer_counts > 500])"
   ]
  },
  {
   "cell_type": "code",
   "execution_count": 9,
   "id": "b91cd6cb",
   "metadata": {},
   "outputs": [
    {
     "data": {
      "text/plain": [
       "9412"
      ]
     },
     "execution_count": 9,
     "metadata": {},
     "output_type": "execute_result"
    }
   ],
   "source": [
    "grouped = filtered_df.groupby('asin')['reviewerID'].unique()\n",
    "\n",
    "len(grouped)"
   ]
  },
  {
   "cell_type": "code",
   "execution_count": 10,
   "id": "5765827e",
   "metadata": {},
   "outputs": [
    {
     "data": {
      "text/plain": [
       "0"
      ]
     },
     "execution_count": 10,
     "metadata": {},
     "output_type": "execute_result"
    }
   ],
   "source": [
    "sum(len(set(reviewers)) < 5 for reviewers in grouped.values)"
   ]
  },
  {
   "cell_type": "code",
   "execution_count": 11,
   "id": "7cda13f0",
   "metadata": {},
   "outputs": [
    {
     "name": "stderr",
     "output_type": "stream",
     "text": [
      "Movies: 100%|██████████| 9412/9412 [00:33<00:00, 278.12it/s] \n"
     ]
    }
   ],
   "source": [
    "edges = Counter()\n",
    "for reviewers in tqdm(grouped.values, desc=\"Movies\"):\n",
    "    for pair in combinations(reviewers, 2):\n",
    "        edges[pair] += 1"
   ]
  },
  {
   "cell_type": "code",
   "execution_count": 12,
   "id": "554a078d",
   "metadata": {},
   "outputs": [
    {
     "data": {
      "text/plain": [
       "30263344"
      ]
     },
     "execution_count": 12,
     "metadata": {},
     "output_type": "execute_result"
    }
   ],
   "source": [
    "edgelist = [(a, b, count) for (a, b), count in edges.items()]\n",
    "len(edgelist)"
   ]
  },
  {
   "cell_type": "code",
   "execution_count": 13,
   "id": "34f1ca0e",
   "metadata": {},
   "outputs": [
    {
     "name": "stdout",
     "output_type": "stream",
     "text": [
      "Edges with weight > 4: 470620\n",
      "Edges with weight > 5: 222151\n",
      "Edges with weight > 7: 64401\n",
      "Edges with weight > 10: 15258\n",
      "Edges with weight > 15: 2498\n"
     ]
    }
   ],
   "source": [
    "thresholds = [4,5,7,10,15]\n",
    "for t in thresholds:\n",
    "    weighted_edges = [(a, b, w) for (a, b, w) in edgelist if w > t]\n",
    "    print(f\"Edges with weight > {t}: {len(weighted_edges)}\")"
   ]
  },
  {
   "cell_type": "markdown",
   "id": "78856904",
   "metadata": {},
   "source": [
    "### Graph"
   ]
  },
  {
   "cell_type": "code",
   "execution_count": 14,
   "id": "ca36f07d",
   "metadata": {},
   "outputs": [
    {
     "data": {
      "text/plain": [
       "222151"
      ]
     },
     "execution_count": 14,
     "metadata": {},
     "output_type": "execute_result"
    }
   ],
   "source": [
    "weighted_edges = [(a, b, w) for (a, b, w) in edgelist if w > 5]\n",
    "len(weighted_edges)"
   ]
  },
  {
   "cell_type": "code",
   "execution_count": 15,
   "id": "7690ceb7",
   "metadata": {},
   "outputs": [],
   "source": [
    "G = nx.Graph()\n",
    "G.add_weighted_edges_from(weighted_edges)"
   ]
  },
  {
   "cell_type": "code",
   "execution_count": 16,
   "id": "2d3870a5",
   "metadata": {},
   "outputs": [
    {
     "data": {
      "text/plain": [
       "(10663, 218400)"
      ]
     },
     "execution_count": 16,
     "metadata": {},
     "output_type": "execute_result"
    }
   ],
   "source": [
    "len(G.nodes()), len(G.edges())"
   ]
  },
  {
   "cell_type": "code",
   "execution_count": 17,
   "id": "753968ae",
   "metadata": {},
   "outputs": [],
   "source": [
    "degrees = [d for _, d in G.degree()]"
   ]
  },
  {
   "cell_type": "code",
   "execution_count": 18,
   "id": "90664973",
   "metadata": {},
   "outputs": [
    {
     "data": {
      "image/png": "[encoded data removed]",
      "text/plain": [
       "<Figure size 640x480 with 1 Axes>"
      ]
     },
     "metadata": {},
     "output_type": "display_data"
    }
   ],
   "source": [
    "plt.hist(degrees, bins=50, color='blue', alpha=0.8)\n",
    "plt.xlabel('Degree')\n",
    "plt.ylabel('Frequency')\n",
    "plt.title('Degree Distribution of the Graph')\n",
    "plt.show()"
   ]
  },
  {
   "cell_type": "markdown",
   "metadata": {},
   "source": [
    "### Community detection"
   ]
  },
  {
   "cell_type": "code",
   "execution_count": 19,
   "metadata": {},
   "outputs": [],
   "source": [
    "def louvain_partitions(G):\n",
    "    partition = community_louvain.best_partition(G)\n",
    "    groups = defaultdict(set)\n",
    "    for node, comm in partition.items():\n",
    "        groups[comm].add(node)\n",
    "    return list(groups.values())"
   ]
  },
  {
   "cell_type": "code",
   "execution_count": null,
   "metadata": {},
   "outputs": [],
   "source": [
    "communities = louvain_partitions(G)\n",
    "len(communities)"
   ]
  }
 ],
 "metadata": {
  "kernelspec": {
   "display_name": "Python 3",
   "language": "python",
   "name": "python3"
  },
  "language_info": {
   "codemirror_mode": {
    "name": "ipython",
    "version": 3
   },
   "file_extension": ".py",
   "mimetype": "text/x-python",
   "name": "python",
   "nbconvert_exporter": "python",
   "pygments_lexer": "ipython3",
   "version": "3.12.3"
  }
 },
 "nbformat": 4,
 "nbformat_minor": 5
}
